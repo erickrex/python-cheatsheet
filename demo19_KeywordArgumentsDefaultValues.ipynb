{
 "cells": [
  {
   "cell_type": "code",
   "execution_count": 5,
   "metadata": {},
   "outputs": [],
   "source": [
    "def car_parts(name=\"Mustang\", brand=\"Ford\", \n",
    "              hp=295, engine=5.0, \n",
    "              zero_to_sixty=8.0, \n",
    "              top_speed=200, price=35000):\n",
    "    \n",
    "    other_details = hp, engine, top_speed, price\n",
    "    \n",
    "    print(\"Name of the car :\", name)\n",
    "    print(\"Brand :\", brand,\"\\n0 to 60:\", zero_to_sixty)\n",
    "    print(\"Price:   \", price)\n",
    "    print(\"Remaining details (hp, engine, top_speed, price):\", other_details)"
   ]
  },
  {
   "cell_type": "code",
   "execution_count": 6,
   "metadata": {},
   "outputs": [
    {
     "output_type": "stream",
     "name": "stdout",
     "text": [
      "Name of the car : Mustang\nBrand : Ford \n0 to 60: 8.0\nPrice:    35000\nRemaining details (hp, engine, top_speed, price): (295, 5.0, 200, 35000)\n"
     ]
    }
   ],
   "source": [
    "car_parts()"
   ]
  },
  {
   "cell_type": "code",
   "execution_count": 38,
   "metadata": {},
   "outputs": [
    {
     "name": "stdout",
     "output_type": "stream",
     "text": [
      "Name of the car : Viper\n",
      "Brand : Dodge \n",
      "0 to 60: 8.0\n",
      "Price : 35000\n",
      "Remaining details (hp, engine, top_speed, price): (295, 5.0, 200, 35000)\n"
     ]
    }
   ],
   "source": [
    "car_parts(name=\"Viper\", brand=\"Dodge\")"
   ]
  },
  {
   "cell_type": "code",
   "execution_count": null,
   "metadata": {},
   "outputs": [],
   "source": []
  }
 ],
 "metadata": {
  "kernelspec": {
   "name": "python385jvsc74a57bd019ef3a6396c46c7428efca1f5cbb7ae9e01db714ef36b5b8c4522c5b6ecb4d4b",
   "display_name": "Python 3.8.5 64-bit ('base': conda)"
  },
  "language_info": {
   "codemirror_mode": {
    "name": "ipython",
    "version": 3
   },
   "file_extension": ".py",
   "mimetype": "text/x-python",
   "name": "python",
   "nbconvert_exporter": "python",
   "pygments_lexer": "ipython3",
   "version": "3.8.5"
  }
 },
 "nbformat": 4,
 "nbformat_minor": 2
}