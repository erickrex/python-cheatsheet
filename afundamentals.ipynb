{
 "metadata": {
  "language_info": {
   "codemirror_mode": {
    "name": "ipython",
    "version": 3
   },
   "file_extension": ".py",
   "mimetype": "text/x-python",
   "name": "python",
   "nbconvert_exporter": "python",
   "pygments_lexer": "ipython3",
   "version": "3.8.5"
  },
  "orig_nbformat": 2,
  "kernelspec": {
   "name": "python385jvsc74a57bd019ef3a6396c46c7428efca1f5cbb7ae9e01db714ef36b5b8c4522c5b6ecb4d4b",
   "display_name": "Python 3.8.5 64-bit ('base': conda)"
  }
 },
 "nbformat": 4,
 "nbformat_minor": 2,
 "cells": [
  {
   "cell_type": "code",
   "execution_count": 13,
   "metadata": {},
   "outputs": [
    {
     "output_type": "execute_result",
     "data": {
      "text/plain": [
       "numpy.ndarray"
      ]
     },
     "metadata": {},
     "execution_count": 13
    }
   ],
   "source": [
    "import numpy as np\n",
    "my_numpy_array = np.random.rand(3)\n",
    "\n",
    "type(my_numpy_array)"
   ]
  },
  {
   "cell_type": "code",
   "execution_count": 14,
   "metadata": {},
   "outputs": [
    {
     "output_type": "execute_result",
     "data": {
      "text/plain": [
       "0.4230449602704569"
      ]
     },
     "metadata": {},
     "execution_count": 14
    }
   ],
   "source": [
    "my_numpy_array[0]\n"
   ]
  },
  {
   "cell_type": "code",
   "execution_count": 15,
   "metadata": {},
   "outputs": [],
   "source": [
    "import pandas as pd\n",
    "my_series = pd.Series(my_numpy_array)"
   ]
  },
  {
   "cell_type": "code",
   "execution_count": 16,
   "metadata": {},
   "outputs": [
    {
     "output_type": "execute_result",
     "data": {
      "text/plain": [
       "0    0.423045\n",
       "1    0.323162\n",
       "2    0.508928\n",
       "dtype: float64"
      ]
     },
     "metadata": {},
     "execution_count": 16
    }
   ],
   "source": [
    "my_series"
   ]
  },
  {
   "cell_type": "code",
   "execution_count": 32,
   "metadata": {},
   "outputs": [
    {
     "output_type": "execute_result",
     "data": {
      "text/plain": [
       "First     0.423045\n",
       "Second    0.323162\n",
       "Third     0.508928\n",
       "dtype: float64"
      ]
     },
     "metadata": {},
     "execution_count": 32
    }
   ],
   "source": [
    "my_series = pd.Series(my_numpy_array, index=['First', 'Second', 'Third'])\n",
    "my_series"
   ]
  },
  {
   "cell_type": "code",
   "execution_count": 33,
   "metadata": {},
   "outputs": [
    {
     "output_type": "execute_result",
     "data": {
      "text/plain": [
       "Index(['First', 'Second', 'Third'], dtype='object')"
      ]
     },
     "metadata": {},
     "execution_count": 33
    }
   ],
   "source": [
    "my_series.index"
   ]
  },
  {
   "cell_type": "code",
   "execution_count": 36,
   "metadata": {},
   "outputs": [
    {
     "output_type": "execute_result",
     "data": {
      "text/plain": [
       "array([[0.0205148 , 0.86712602],\n",
       "       [0.85032292, 0.85217781],\n",
       "       [0.5793404 , 0.31959929]])"
      ]
     },
     "metadata": {},
     "execution_count": 36
    }
   ],
   "source": [
    "array_2d = np.random.rand(3,2)\n",
    "array_2d"
   ]
  },
  {
   "cell_type": "code",
   "execution_count": 37,
   "metadata": {},
   "outputs": [
    {
     "output_type": "execute_result",
     "data": {
      "text/plain": [
       "0.8671260192165019"
      ]
     },
     "metadata": {},
     "execution_count": 37
    }
   ],
   "source": [
    "array_2d[0,1]"
   ]
  },
  {
   "cell_type": "code",
   "execution_count": 38,
   "metadata": {},
   "outputs": [],
   "source": [
    "df = pd.DataFrame(array_2d)"
   ]
  },
  {
   "cell_type": "code",
   "execution_count": 43,
   "metadata": {},
   "outputs": [
    {
     "output_type": "execute_result",
     "data": {
      "text/plain": [
       "0.8671260192165019"
      ]
     },
     "metadata": {},
     "execution_count": 43
    }
   ],
   "source": [
    "df.loc[0,1]"
   ]
  },
  {
   "cell_type": "code",
   "execution_count": 47,
   "metadata": {},
   "outputs": [
    {
     "output_type": "execute_result",
     "data": {
      "text/plain": [
       "      First    Second\n",
       "0  0.020515  0.867126\n",
       "1  0.850323  0.852178\n",
       "2  0.579340  0.319599"
      ],
      "text/html": "<div>\n<style scoped>\n    .dataframe tbody tr th:only-of-type {\n        vertical-align: middle;\n    }\n\n    .dataframe tbody tr th {\n        vertical-align: top;\n    }\n\n    .dataframe thead th {\n        text-align: right;\n    }\n</style>\n<table border=\"1\" class=\"dataframe\">\n  <thead>\n    <tr style=\"text-align: right;\">\n      <th></th>\n      <th>First</th>\n      <th>Second</th>\n    </tr>\n  </thead>\n  <tbody>\n    <tr>\n      <th>0</th>\n      <td>0.020515</td>\n      <td>0.867126</td>\n    </tr>\n    <tr>\n      <th>1</th>\n      <td>0.850323</td>\n      <td>0.852178</td>\n    </tr>\n    <tr>\n      <th>2</th>\n      <td>0.579340</td>\n      <td>0.319599</td>\n    </tr>\n  </tbody>\n</table>\n</div>"
     },
     "metadata": {},
     "execution_count": 47
    }
   ],
   "source": [
    "df.columns = ['First','Second']\n",
    "df"
   ]
  },
  {
   "cell_type": "code",
   "execution_count": 49,
   "metadata": {},
   "outputs": [
    {
     "output_type": "execute_result",
     "data": {
      "text/plain": [
       "0.8671260192165019"
      ]
     },
     "metadata": {},
     "execution_count": 49
    }
   ],
   "source": [
    "df.iloc[0,1]"
   ]
  },
  {
   "cell_type": "code",
   "execution_count": 50,
   "metadata": {},
   "outputs": [
    {
     "output_type": "execute_result",
     "data": {
      "text/plain": [
       "0    0.867126\n",
       "1    0.852178\n",
       "2    0.319599\n",
       "Name: Second, dtype: float64"
      ]
     },
     "metadata": {},
     "execution_count": 50
    }
   ],
   "source": [
    "df['Second']"
   ]
  },
  {
   "cell_type": "code",
   "execution_count": 18,
   "metadata": {},
   "outputs": [],
   "source": [
    "CSV_PATH = os.path.join('./pandas/artwork_data.csv')\n"
   ]
  },
  {
   "cell_type": "code",
   "execution_count": 19,
   "metadata": {},
   "outputs": [],
   "source": [
    "#avoid reading thousands of lines or many useless columns in memory, check first what you need\n",
    "df = pd.read_csv(CSV_PATH, nrows=5)"
   ]
  },
  {
   "cell_type": "code",
   "execution_count": 51,
   "metadata": {},
   "outputs": [
    {
     "output_type": "execute_result",
     "data": {
      "text/plain": [
       "              artist\n",
       "id                  \n",
       "1035   Blake, Robert\n",
       "1036   Blake, Robert\n",
       "1037   Blake, Robert\n",
       "1038   Blake, Robert\n",
       "1039  Blake, William"
      ],
      "text/html": "<div>\n<style scoped>\n    .dataframe tbody tr th:only-of-type {\n        vertical-align: middle;\n    }\n\n    .dataframe tbody tr th {\n        vertical-align: top;\n    }\n\n    .dataframe thead th {\n        text-align: right;\n    }\n</style>\n<table border=\"1\" class=\"dataframe\">\n  <thead>\n    <tr style=\"text-align: right;\">\n      <th></th>\n      <th>artist</th>\n    </tr>\n    <tr>\n      <th>id</th>\n      <th></th>\n    </tr>\n  </thead>\n  <tbody>\n    <tr>\n      <th>1035</th>\n      <td>Blake, Robert</td>\n    </tr>\n    <tr>\n      <th>1036</th>\n      <td>Blake, Robert</td>\n    </tr>\n    <tr>\n      <th>1037</th>\n      <td>Blake, Robert</td>\n    </tr>\n    <tr>\n      <th>1038</th>\n      <td>Blake, Robert</td>\n    </tr>\n    <tr>\n      <th>1039</th>\n      <td>Blake, William</td>\n    </tr>\n  </tbody>\n</table>\n</div>"
     },
     "metadata": {},
     "execution_count": 51
    }
   ],
   "source": [
    "df = pd.read_csv(CSV_PATH, nrows=5, index_col='id', usecols=['id', 'artist'])\n",
    "df"
   ]
  },
  {
   "cell_type": "code",
   "execution_count": 21,
   "metadata": {},
   "outputs": [],
   "source": [
    "COLS_TO_USE = ['id', 'artist', 'title', 'medium', 'year', 'acquisitionYear', 'height', 'width', 'units']\n"
   ]
  },
  {
   "cell_type": "code",
   "execution_count": 22,
   "metadata": {},
   "outputs": [
    {
     "output_type": "stream",
     "name": "stderr",
     "text": [
      "/home/rexbox/anaconda3/lib/python3.8/site-packages/IPython/core/interactiveshell.py:3146: DtypeWarning: Columns (9,13) have mixed types.Specify dtype option on import or set low_memory=False.\n  has_raised = await self.run_ast_nodes(code_ast.body, cell_name,\n"
     ]
    }
   ],
   "source": [
    "df = pd.read_csv(CSV_PATH, usecols=COLS_TO_USE, index_col='id')"
   ]
  },
  {
   "cell_type": "code",
   "execution_count": 23,
   "metadata": {},
   "outputs": [
    {
     "output_type": "execute_result",
     "data": {
      "text/plain": [
       "                    artist                                              title  \\\n",
       "id                                                                              \n",
       "1035         Blake, Robert  A Figure Bowing before a Seated Old Man with h...   \n",
       "1036         Blake, Robert  Two Drawings of Frightened Figures, Probably f...   \n",
       "1037         Blake, Robert  The Preaching of Warning. Verso: An Old Man En...   \n",
       "1038         Blake, Robert     Six Drawings of Figures with Outstretched Arms   \n",
       "1039        Blake, William  The Circle of the Lustful: Francesca da Rimini...   \n",
       "...                    ...                                                ...   \n",
       "122960  P-Orridge, Genesis                        Larvae (from Tampax Romana)   \n",
       "122961  P-Orridge, Genesis                   Living Womb (from Tampax Romana)   \n",
       "121181        Hatoum, Mona                                      Present Tense   \n",
       "112306       Creed, Martin          Work No. 227: The lights going on and off   \n",
       "127035   Brunias, Agostino                   Dancing Scene in the West Indies   \n",
       "\n",
       "                                                   medium  year  \\\n",
       "id                                                                \n",
       "1035    Watercolour, ink, chalk and graphite on paper....   NaN   \n",
       "1036                                    Graphite on paper   NaN   \n",
       "1037          Graphite on paper. Verso: graphite on paper  1785   \n",
       "1038                                    Graphite on paper   NaN   \n",
       "1039                              Line engraving on paper  1826   \n",
       "...                                                   ...   ...   \n",
       "122960   Perspex, Wood, hairpiece, tampon and human blood  1975   \n",
       "122961  Wood, Perspex, plastic, photograph on paper, t...  1976   \n",
       "121181                               Soap and glass beads  1996   \n",
       "112306                                   Gallery lighting  2000   \n",
       "127035                                Oil paint on canvas  1764   \n",
       "\n",
       "        acquisitionYear width height units  \n",
       "id                                          \n",
       "1035             1922.0   394    419    mm  \n",
       "1036             1922.0   311    213    mm  \n",
       "1037             1922.0   343    467    mm  \n",
       "1038             1922.0   318    394    mm  \n",
       "1039             1919.0   243    335    mm  \n",
       "...                 ...   ...    ...   ...  \n",
       "122960           2013.0   305    305    mm  \n",
       "122961           2013.0   305    305    mm  \n",
       "121181           2013.0    45   2410    mm  \n",
       "112306           2013.0   NaN    NaN   NaN  \n",
       "127035           2013.0   508    660    mm  \n",
       "\n",
       "[69201 rows x 8 columns]"
      ],
      "text/html": "<div>\n<style scoped>\n    .dataframe tbody tr th:only-of-type {\n        vertical-align: middle;\n    }\n\n    .dataframe tbody tr th {\n        vertical-align: top;\n    }\n\n    .dataframe thead th {\n        text-align: right;\n    }\n</style>\n<table border=\"1\" class=\"dataframe\">\n  <thead>\n    <tr style=\"text-align: right;\">\n      <th></th>\n      <th>artist</th>\n      <th>title</th>\n      <th>medium</th>\n      <th>year</th>\n      <th>acquisitionYear</th>\n      <th>width</th>\n      <th>height</th>\n      <th>units</th>\n    </tr>\n    <tr>\n      <th>id</th>\n      <th></th>\n      <th></th>\n      <th></th>\n      <th></th>\n      <th></th>\n      <th></th>\n      <th></th>\n      <th></th>\n    </tr>\n  </thead>\n  <tbody>\n    <tr>\n      <th>1035</th>\n      <td>Blake, Robert</td>\n      <td>A Figure Bowing before a Seated Old Man with h...</td>\n      <td>Watercolour, ink, chalk and graphite on paper....</td>\n      <td>NaN</td>\n      <td>1922.0</td>\n      <td>394</td>\n      <td>419</td>\n      <td>mm</td>\n    </tr>\n    <tr>\n      <th>1036</th>\n      <td>Blake, Robert</td>\n      <td>Two Drawings of Frightened Figures, Probably f...</td>\n      <td>Graphite on paper</td>\n      <td>NaN</td>\n      <td>1922.0</td>\n      <td>311</td>\n      <td>213</td>\n      <td>mm</td>\n    </tr>\n    <tr>\n      <th>1037</th>\n      <td>Blake, Robert</td>\n      <td>The Preaching of Warning. Verso: An Old Man En...</td>\n      <td>Graphite on paper. Verso: graphite on paper</td>\n      <td>1785</td>\n      <td>1922.0</td>\n      <td>343</td>\n      <td>467</td>\n      <td>mm</td>\n    </tr>\n    <tr>\n      <th>1038</th>\n      <td>Blake, Robert</td>\n      <td>Six Drawings of Figures with Outstretched Arms</td>\n      <td>Graphite on paper</td>\n      <td>NaN</td>\n      <td>1922.0</td>\n      <td>318</td>\n      <td>394</td>\n      <td>mm</td>\n    </tr>\n    <tr>\n      <th>1039</th>\n      <td>Blake, William</td>\n      <td>The Circle of the Lustful: Francesca da Rimini...</td>\n      <td>Line engraving on paper</td>\n      <td>1826</td>\n      <td>1919.0</td>\n      <td>243</td>\n      <td>335</td>\n      <td>mm</td>\n    </tr>\n    <tr>\n      <th>...</th>\n      <td>...</td>\n      <td>...</td>\n      <td>...</td>\n      <td>...</td>\n      <td>...</td>\n      <td>...</td>\n      <td>...</td>\n      <td>...</td>\n    </tr>\n    <tr>\n      <th>122960</th>\n      <td>P-Orridge, Genesis</td>\n      <td>Larvae (from Tampax Romana)</td>\n      <td>Perspex, Wood, hairpiece, tampon and human blood</td>\n      <td>1975</td>\n      <td>2013.0</td>\n      <td>305</td>\n      <td>305</td>\n      <td>mm</td>\n    </tr>\n    <tr>\n      <th>122961</th>\n      <td>P-Orridge, Genesis</td>\n      <td>Living Womb (from Tampax Romana)</td>\n      <td>Wood, Perspex, plastic, photograph on paper, t...</td>\n      <td>1976</td>\n      <td>2013.0</td>\n      <td>305</td>\n      <td>305</td>\n      <td>mm</td>\n    </tr>\n    <tr>\n      <th>121181</th>\n      <td>Hatoum, Mona</td>\n      <td>Present Tense</td>\n      <td>Soap and glass beads</td>\n      <td>1996</td>\n      <td>2013.0</td>\n      <td>45</td>\n      <td>2410</td>\n      <td>mm</td>\n    </tr>\n    <tr>\n      <th>112306</th>\n      <td>Creed, Martin</td>\n      <td>Work No. 227: The lights going on and off</td>\n      <td>Gallery lighting</td>\n      <td>2000</td>\n      <td>2013.0</td>\n      <td>NaN</td>\n      <td>NaN</td>\n      <td>NaN</td>\n    </tr>\n    <tr>\n      <th>127035</th>\n      <td>Brunias, Agostino</td>\n      <td>Dancing Scene in the West Indies</td>\n      <td>Oil paint on canvas</td>\n      <td>1764</td>\n      <td>2013.0</td>\n      <td>508</td>\n      <td>660</td>\n      <td>mm</td>\n    </tr>\n  </tbody>\n</table>\n<p>69201 rows × 8 columns</p>\n</div>"
     },
     "metadata": {},
     "execution_count": 23
    }
   ],
   "source": [
    "df"
   ]
  },
  {
   "cell_type": "code",
   "execution_count": 24,
   "metadata": {},
   "outputs": [],
   "source": [
    "#to reuse it later, serialize with pickle\n",
    "df.to_pickle(os.path.join('..', 'data_frame.pickle'))\n"
   ]
  },
  {
   "cell_type": "code",
   "execution_count": 25,
   "metadata": {},
   "outputs": [],
   "source": [
    "import pandas as pd\n",
    "import os\n",
    "import json"
   ]
  },
  {
   "cell_type": "code",
   "execution_count": 26,
   "metadata": {},
   "outputs": [],
   "source": [
    "records = [(\"Espresso\", \"5$\"),\n",
    "           (\"Flat White\", \"10$\")]"
   ]
  },
  {
   "cell_type": "code",
   "execution_count": 27,
   "metadata": {},
   "outputs": [
    {
     "output_type": "execute_result",
     "data": {
      "text/plain": [
       "       Coffee Price\n",
       "0    Espresso    5$\n",
       "1  Flat White   10$"
      ],
      "text/html": "<div>\n<style scoped>\n    .dataframe tbody tr th:only-of-type {\n        vertical-align: middle;\n    }\n\n    .dataframe tbody tr th {\n        vertical-align: top;\n    }\n\n    .dataframe thead th {\n        text-align: right;\n    }\n</style>\n<table border=\"1\" class=\"dataframe\">\n  <thead>\n    <tr style=\"text-align: right;\">\n      <th></th>\n      <th>Coffee</th>\n      <th>Price</th>\n    </tr>\n  </thead>\n  <tbody>\n    <tr>\n      <th>0</th>\n      <td>Espresso</td>\n      <td>5$</td>\n    </tr>\n    <tr>\n      <th>1</th>\n      <td>Flat White</td>\n      <td>10$</td>\n    </tr>\n  </tbody>\n</table>\n</div>"
     },
     "metadata": {},
     "execution_count": 27
    }
   ],
   "source": [
    "pd.DataFrame.from_records(records)\n",
    "\n",
    "pd.DataFrame.from_records(records,\n",
    "                          columns=[\"Coffee\", \"Price\"])"
   ]
  },
  {
   "cell_type": "code",
   "execution_count": 28,
   "metadata": {},
   "outputs": [],
   "source": [
    "KEYS_TO_USE = ['id', 'all_artists', 'title', 'medium', 'dateText',\n",
    "               'acquisitionYear', 'height', 'width', 'units']"
   ]
  },
  {
   "cell_type": "code",
   "execution_count": 29,
   "metadata": {},
   "outputs": [],
   "source": [
    "def get_record_from_file(file_path, keys_to_use):\n",
    "    \"\"\" Process single json file and return a tuple\n",
    "    containing specific fields.\"\"\"\n",
    "\n",
    "    with open(file_path) as artwork_file:\n",
    "        content = json.load(artwork_file)\n",
    "            \n",
    "    record = []    \n",
    "    for field in keys_to_use:\n",
    "        record.append(content[field])\n",
    "        \n",
    "    return tuple(record)"
   ]
  },
  {
   "cell_type": "code",
   "execution_count": 52,
   "metadata": {},
   "outputs": [
    {
     "output_type": "execute_result",
     "data": {
      "text/plain": [
       "(1035,\n",
       " 'Robert Blake',\n",
       " 'A Figure Bowing before a Seated Old Man with his Arm Outstretched in Benediction. Verso: Indecipherable Sketch',\n",
       " 'Watercolour, ink, chalk and graphite on paper. Verso: graphite on paper',\n",
       " 'date not known',\n",
       " 1922,\n",
       " '419',\n",
       " '394',\n",
       " 'mm')"
      ]
     },
     "metadata": {},
     "execution_count": 52
    }
   ],
   "source": [
    "SAMPLE_JSON = os.path.join('./fundamentals/a00001-1035.json')\n",
    "     \n",
    "sample_record = get_record_from_file(SAMPLE_JSON,\n",
    "                                     KEYS_TO_USE)\n",
    "sample_record "
   ]
  },
  {
   "cell_type": "code",
   "execution_count": 54,
   "metadata": {},
   "outputs": [],
   "source": [
    "def read_artworks_from_json(keys_to_use):\n",
    "    \"\"\" Traverse the directories with JSON files.\n",
    "    For the first file in each directory call function\n",
    "    for processing single file and go to the next\n",
    "    directory\n",
    "    \"\"\"\n",
    "    JSON_ROOT = os.path.join('./fundamentals/artworks')\n",
    "    artworks = []\n",
    "    for root, _, files in os.walk(JSON_ROOT):\n",
    "        for f in files:\n",
    "            if f.endswith('json'):\n",
    "                record = get_record_from_file(\n",
    "                            os.path.join(root, f),\n",
    "                            keys_to_use)\n",
    "                artworks.append(record)\n",
    "            break\n",
    "        \n",
    "    df = pd.DataFrame.from_records(artworks,\n",
    "                                   columns=keys_to_use,\n",
    "                                   index=\"id\")\n",
    "    return df\n",
    "\n",
    "df = read_artworks_from_json(KEYS_TO_USE)"
   ]
  },
  {
   "cell_type": "code",
   "execution_count": 55,
   "metadata": {},
   "outputs": [
    {
     "output_type": "execute_result",
     "data": {
      "text/plain": [
       "                            all_artists  \\\n",
       "id                                        \n",
       "1035                       Robert Blake   \n",
       "20230  Sir Edward Coley Burne-Jones, Bt   \n",
       "6725               Arthur Boyd Houghton   \n",
       "7330                       George Jones   \n",
       "7430                       George Jones   \n",
       "7530                       George Jones   \n",
       "7630                       George Jones   \n",
       "7730                       George Jones   \n",
       "9492       Sir John Everett Millais, Bt   \n",
       "14407                    Reuben Townroe   \n",
       "14700     Joseph Mallord William Turner   \n",
       "12191              Helen Beatrix Potter   \n",
       "69330                      George Jones   \n",
       "69430                      George Jones   \n",
       "69530                      George Jones   \n",
       "69630                      George Jones   \n",
       "69730                      George Jones   \n",
       "69830                      George Jones   \n",
       "98171                         Alex Katz   \n",
       "98537                      Joseph Beuys   \n",
       "97256               Robert Mapplethorpe   \n",
       "97551                       Andy Warhol   \n",
       "99037                       Andy Warhol   \n",
       "\n",
       "                                                   title  \\\n",
       "id                                                         \n",
       "1035   A Figure Bowing before a Seated Old Man with h...   \n",
       "20230                         Study of Heads for a Pietà   \n",
       "6725                                   [title not known]   \n",
       "7330                                   [title not known]   \n",
       "7430                                   [title not known]   \n",
       "7530                                   [title not known]   \n",
       "7630                                   [title not known]   \n",
       "7730                                   [title not known]   \n",
       "9492                                           The Sower   \n",
       "14407                                  [title not known]   \n",
       "14700                                 Peat Bog, Scotland   \n",
       "12191             The Mice at Work: Threading the Needle   \n",
       "69330                                  [title not known]   \n",
       "69430                                  [title not known]   \n",
       "69530                                  [title not known]   \n",
       "69630                                  [title not known]   \n",
       "69730                                  [title not known]   \n",
       "69830                                  [title not known]   \n",
       "98171                                            Pansies   \n",
       "98537                                       Weird Sister   \n",
       "97256                                     Cock and Devil   \n",
       "97551                                          Male Nude   \n",
       "99037                                 H.C. Andersen 1987   \n",
       "\n",
       "                                                  medium            dateText  \\\n",
       "id                                                                             \n",
       "1035   Watercolour, ink, chalk and graphite on paper....      date not known   \n",
       "20230                        Graphite and chalk on paper      date not known   \n",
       "6725                                   Graphite on paper      date not known   \n",
       "7330                                        Ink on paper      date not known   \n",
       "7430                                        Ink on paper      date not known   \n",
       "7530                                        Ink on paper      date not known   \n",
       "7630                                Watercolour on paper      date not known   \n",
       "7730                           Ink and graphite on paper      date not known   \n",
       "9492                             Wood engraving on paper      published 1864   \n",
       "14407                               Watercolour on paper              c.1858   \n",
       "14700                     Etching and engraving on paper                1812   \n",
       "12191              Ink, watercolour and gouache on paper              c.1902   \n",
       "69330                               Watercolour on paper      date not known   \n",
       "69430                                       Ink on paper      date not known   \n",
       "69530             Watercolour, ink and graphite on paper      date not known   \n",
       "69630                          Ink and graphite on paper      date not known   \n",
       "69730                  Watercolour and graphite on paper      date not known   \n",
       "69830                  Watercolour and graphite on paper      date not known   \n",
       "98171                             Oil paint on hardboard                1967   \n",
       "98537                  Graphite and oil paint on acetate             1953–62   \n",
       "97256         Photograph, gelatine silver print on paper  1982, printed 1990   \n",
       "97551  4 photographs, gelatine silver print on paper ...                1987   \n",
       "99037                               Screenprint on paper      date not known   \n",
       "\n",
       "       acquisitionYear height width units  \n",
       "id                                         \n",
       "1035              1922    419   394    mm  \n",
       "20230             1927    154   136    mm  \n",
       "6725              1922                     \n",
       "7330              1888                     \n",
       "7430              1888                     \n",
       "7530              1888                     \n",
       "7630              1888                     \n",
       "7730              1888                     \n",
       "9492              1924    108   140    mm  \n",
       "14407             1905                     \n",
       "14700             1925    258   178    mm  \n",
       "12191             1946     92   111    mm  \n",
       "69330             1888                     \n",
       "69430             1888                     \n",
       "69530             1888                     \n",
       "69630             1888                     \n",
       "69730             1888                     \n",
       "69830             1888                     \n",
       "98171             2008    404   309    mm  \n",
       "98537             2008    474   391    mm  \n",
       "97256             2009    472   371    mm  \n",
       "97551             2009    540   695    mm  \n",
       "99037             2009    599   820    mm  "
      ],
      "text/html": "<div>\n<style scoped>\n    .dataframe tbody tr th:only-of-type {\n        vertical-align: middle;\n    }\n\n    .dataframe tbody tr th {\n        vertical-align: top;\n    }\n\n    .dataframe thead th {\n        text-align: right;\n    }\n</style>\n<table border=\"1\" class=\"dataframe\">\n  <thead>\n    <tr style=\"text-align: right;\">\n      <th></th>\n      <th>all_artists</th>\n      <th>title</th>\n      <th>medium</th>\n      <th>dateText</th>\n      <th>acquisitionYear</th>\n      <th>height</th>\n      <th>width</th>\n      <th>units</th>\n    </tr>\n    <tr>\n      <th>id</th>\n      <th></th>\n      <th></th>\n      <th></th>\n      <th></th>\n      <th></th>\n      <th></th>\n      <th></th>\n      <th></th>\n    </tr>\n  </thead>\n  <tbody>\n    <tr>\n      <th>1035</th>\n      <td>Robert Blake</td>\n      <td>A Figure Bowing before a Seated Old Man with h...</td>\n      <td>Watercolour, ink, chalk and graphite on paper....</td>\n      <td>date not known</td>\n      <td>1922</td>\n      <td>419</td>\n      <td>394</td>\n      <td>mm</td>\n    </tr>\n    <tr>\n      <th>20230</th>\n      <td>Sir Edward Coley Burne-Jones, Bt</td>\n      <td>Study of Heads for a Pietà</td>\n      <td>Graphite and chalk on paper</td>\n      <td>date not known</td>\n      <td>1927</td>\n      <td>154</td>\n      <td>136</td>\n      <td>mm</td>\n    </tr>\n    <tr>\n      <th>6725</th>\n      <td>Arthur Boyd Houghton</td>\n      <td>[title not known]</td>\n      <td>Graphite on paper</td>\n      <td>date not known</td>\n      <td>1922</td>\n      <td></td>\n      <td></td>\n      <td></td>\n    </tr>\n    <tr>\n      <th>7330</th>\n      <td>George Jones</td>\n      <td>[title not known]</td>\n      <td>Ink on paper</td>\n      <td>date not known</td>\n      <td>1888</td>\n      <td></td>\n      <td></td>\n      <td></td>\n    </tr>\n    <tr>\n      <th>7430</th>\n      <td>George Jones</td>\n      <td>[title not known]</td>\n      <td>Ink on paper</td>\n      <td>date not known</td>\n      <td>1888</td>\n      <td></td>\n      <td></td>\n      <td></td>\n    </tr>\n    <tr>\n      <th>7530</th>\n      <td>George Jones</td>\n      <td>[title not known]</td>\n      <td>Ink on paper</td>\n      <td>date not known</td>\n      <td>1888</td>\n      <td></td>\n      <td></td>\n      <td></td>\n    </tr>\n    <tr>\n      <th>7630</th>\n      <td>George Jones</td>\n      <td>[title not known]</td>\n      <td>Watercolour on paper</td>\n      <td>date not known</td>\n      <td>1888</td>\n      <td></td>\n      <td></td>\n      <td></td>\n    </tr>\n    <tr>\n      <th>7730</th>\n      <td>George Jones</td>\n      <td>[title not known]</td>\n      <td>Ink and graphite on paper</td>\n      <td>date not known</td>\n      <td>1888</td>\n      <td></td>\n      <td></td>\n      <td></td>\n    </tr>\n    <tr>\n      <th>9492</th>\n      <td>Sir John Everett Millais, Bt</td>\n      <td>The Sower</td>\n      <td>Wood engraving on paper</td>\n      <td>published 1864</td>\n      <td>1924</td>\n      <td>108</td>\n      <td>140</td>\n      <td>mm</td>\n    </tr>\n    <tr>\n      <th>14407</th>\n      <td>Reuben Townroe</td>\n      <td>[title not known]</td>\n      <td>Watercolour on paper</td>\n      <td>c.1858</td>\n      <td>1905</td>\n      <td></td>\n      <td></td>\n      <td></td>\n    </tr>\n    <tr>\n      <th>14700</th>\n      <td>Joseph Mallord William Turner</td>\n      <td>Peat Bog, Scotland</td>\n      <td>Etching and engraving on paper</td>\n      <td>1812</td>\n      <td>1925</td>\n      <td>258</td>\n      <td>178</td>\n      <td>mm</td>\n    </tr>\n    <tr>\n      <th>12191</th>\n      <td>Helen Beatrix Potter</td>\n      <td>The Mice at Work: Threading the Needle</td>\n      <td>Ink, watercolour and gouache on paper</td>\n      <td>c.1902</td>\n      <td>1946</td>\n      <td>92</td>\n      <td>111</td>\n      <td>mm</td>\n    </tr>\n    <tr>\n      <th>69330</th>\n      <td>George Jones</td>\n      <td>[title not known]</td>\n      <td>Watercolour on paper</td>\n      <td>date not known</td>\n      <td>1888</td>\n      <td></td>\n      <td></td>\n      <td></td>\n    </tr>\n    <tr>\n      <th>69430</th>\n      <td>George Jones</td>\n      <td>[title not known]</td>\n      <td>Ink on paper</td>\n      <td>date not known</td>\n      <td>1888</td>\n      <td></td>\n      <td></td>\n      <td></td>\n    </tr>\n    <tr>\n      <th>69530</th>\n      <td>George Jones</td>\n      <td>[title not known]</td>\n      <td>Watercolour, ink and graphite on paper</td>\n      <td>date not known</td>\n      <td>1888</td>\n      <td></td>\n      <td></td>\n      <td></td>\n    </tr>\n    <tr>\n      <th>69630</th>\n      <td>George Jones</td>\n      <td>[title not known]</td>\n      <td>Ink and graphite on paper</td>\n      <td>date not known</td>\n      <td>1888</td>\n      <td></td>\n      <td></td>\n      <td></td>\n    </tr>\n    <tr>\n      <th>69730</th>\n      <td>George Jones</td>\n      <td>[title not known]</td>\n      <td>Watercolour and graphite on paper</td>\n      <td>date not known</td>\n      <td>1888</td>\n      <td></td>\n      <td></td>\n      <td></td>\n    </tr>\n    <tr>\n      <th>69830</th>\n      <td>George Jones</td>\n      <td>[title not known]</td>\n      <td>Watercolour and graphite on paper</td>\n      <td>date not known</td>\n      <td>1888</td>\n      <td></td>\n      <td></td>\n      <td></td>\n    </tr>\n    <tr>\n      <th>98171</th>\n      <td>Alex Katz</td>\n      <td>Pansies</td>\n      <td>Oil paint on hardboard</td>\n      <td>1967</td>\n      <td>2008</td>\n      <td>404</td>\n      <td>309</td>\n      <td>mm</td>\n    </tr>\n    <tr>\n      <th>98537</th>\n      <td>Joseph Beuys</td>\n      <td>Weird Sister</td>\n      <td>Graphite and oil paint on acetate</td>\n      <td>1953–62</td>\n      <td>2008</td>\n      <td>474</td>\n      <td>391</td>\n      <td>mm</td>\n    </tr>\n    <tr>\n      <th>97256</th>\n      <td>Robert Mapplethorpe</td>\n      <td>Cock and Devil</td>\n      <td>Photograph, gelatine silver print on paper</td>\n      <td>1982, printed 1990</td>\n      <td>2009</td>\n      <td>472</td>\n      <td>371</td>\n      <td>mm</td>\n    </tr>\n    <tr>\n      <th>97551</th>\n      <td>Andy Warhol</td>\n      <td>Male Nude</td>\n      <td>4 photographs, gelatine silver print on paper ...</td>\n      <td>1987</td>\n      <td>2009</td>\n      <td>540</td>\n      <td>695</td>\n      <td>mm</td>\n    </tr>\n    <tr>\n      <th>99037</th>\n      <td>Andy Warhol</td>\n      <td>H.C. Andersen 1987</td>\n      <td>Screenprint on paper</td>\n      <td>date not known</td>\n      <td>2009</td>\n      <td>599</td>\n      <td>820</td>\n      <td>mm</td>\n    </tr>\n  </tbody>\n</table>\n</div>"
     },
     "metadata": {},
     "execution_count": 55
    }
   ],
   "source": [
    "df"
   ]
  },
  {
   "cell_type": "code",
   "execution_count": null,
   "metadata": {},
   "outputs": [],
   "source": []
  }
 ]
}