{
 "metadata": {
  "language_info": {
   "codemirror_mode": {
    "name": "ipython",
    "version": 3
   },
   "file_extension": ".py",
   "mimetype": "text/x-python",
   "name": "python",
   "nbconvert_exporter": "python",
   "pygments_lexer": "ipython3",
   "version": "3.8.5"
  },
  "orig_nbformat": 2,
  "kernelspec": {
   "name": "python385jvsc74a57bd019ef3a6396c46c7428efca1f5cbb7ae9e01db714ef36b5b8c4522c5b6ecb4d4b",
   "display_name": "Python 3.8.5 64-bit ('base': conda)"
  }
 },
 "nbformat": 4,
 "nbformat_minor": 2,
 "cells": [
  {
   "cell_type": "code",
   "execution_count": 1,
   "metadata": {},
   "outputs": [],
   "source": [
    "import pandas as pd\n",
    "import numpy as np\n",
    "import os\n",
    "\n",
    "df = pd.read_pickle(os.path.join('..', 'data_frame.pickle'))"
   ]
  },
  {
   "cell_type": "code",
   "execution_count": 3,
   "metadata": {},
   "outputs": [
    {
     "output_type": "execute_result",
     "data": {
      "text/plain": [
       "pandas.core.groupby.generic.DataFrameGroupBy"
      ]
     },
     "metadata": {},
     "execution_count": 3
    }
   ],
   "source": [
    "# ITERATION\n",
    "small_df = df.iloc[49980:50019, :].copy()\n",
    "grouped = small_df.groupby('artist')\n",
    "type(grouped)\n"
   ]
  },
  {
   "cell_type": "code",
   "execution_count": 4,
   "metadata": {},
   "outputs": [
    {
     "output_type": "stream",
     "name": "stdout",
     "text": [
      "Frost, Sir Terry\n                artist            title               medium  year  \\\nid                                                                   \n4704  Frost, Sir Terry        Blue Moon  Lithograph on paper  1952   \n4705  Frost, Sir Terry      Boat Shapes     Linocut on paper  1952   \n4706  Frost, Sir Terry      Boat Shapes     Linocut on paper  1954   \n4707  Frost, Sir Terry      Boat Shapes     Linocut on paper  1954   \n4708  Frost, Sir Terry            Leeds    Drypoint on paper  1956   \n4709  Frost, Sir Terry  Camping, Anduze     Etching on paper  1979   \n4710  Frost, Sir Terry     Umea, Sweden     Etching on paper  1979   \n4711  Frost, Sir Terry    Self-Portrait     Etching on paper  1980   \n\n      acquisitionYear width height units  \nid                                        \n4704           1983.0   355    273    mm  \n4705           1983.0   132    143    mm  \n4706           1983.0   131    155    mm  \n4707           1983.0   193    267    mm  \n4708           1983.0   125    167    mm  \n4709           1983.0   257    209    mm  \n4710           1983.0   NaN    NaN   NaN  \n4711           1983.0   277    200    mm  \n"
     ]
    }
   ],
   "source": [
    "\n",
    "for name, group_df in grouped:\n",
    "    print(name)\n",
    "    print(group_df)\n",
    "    break"
   ]
  },
  {
   "cell_type": "code",
   "execution_count": 5,
   "metadata": {},
   "outputs": [
    {
     "output_type": "stream",
     "name": "stdout",
     "text": [
      "Frost, Sir Terry: 1983.0\nPhillips, Esq Tom: 1983.0\nWols: 1983.0\n"
     ]
    }
   ],
   "source": [
    "# When was the first piece for an artist acquired\n",
    "# Aggregate\n",
    "# Mins\n",
    "for name, group_df in small_df.groupby('artist'): \n",
    "    min_year = group_df['acquisitionYear'].min()\n",
    "    print(\"{}: {}\".format(name, min_year))\n"
   ]
  },
  {
   "cell_type": "code",
   "execution_count": 6,
   "metadata": {},
   "outputs": [
    {
     "output_type": "execute_result",
     "data": {
      "text/plain": [
       "False"
      ]
     },
     "metadata": {},
     "execution_count": 6
    }
   ],
   "source": [
    "# This df is already clean so we have to add some nan values to demonstrate how to fill them out, if you are in spyder IDE you can simply change them manually\n",
    "small_df['medium'].isnull().values.any()"
   ]
  },
  {
   "cell_type": "code",
   "execution_count": 31,
   "metadata": {},
   "outputs": [],
   "source": [
    "small_df.at[16441, \"medium\"] = 'nan' "
   ]
  },
  {
   "cell_type": "code",
   "execution_count": 34,
   "metadata": {},
   "outputs": [],
   "source": [
    "#this artist has a single row\n",
    "small_df.at[11838, \"medium\"] = 'nan'"
   ]
  },
  {
   "cell_type": "code",
   "execution_count": 35,
   "metadata": {},
   "outputs": [
    {
     "output_type": "execute_result",
     "data": {
      "text/plain": [
       "'nan'"
      ]
     },
     "metadata": {},
     "execution_count": 35
    }
   ],
   "source": [
    "small_df.at[11838, \"medium\"]"
   ]
  },
  {
   "cell_type": "code",
   "execution_count": 36,
   "metadata": {},
   "outputs": [],
   "source": [
    "small_df.at[16441, \"medium\"] = 'nan'"
   ]
  },
  {
   "cell_type": "code",
   "execution_count": 37,
   "metadata": {},
   "outputs": [
    {
     "output_type": "execute_result",
     "data": {
      "text/plain": [
       "'nan'"
      ]
     },
     "metadata": {},
     "execution_count": 37
    }
   ],
   "source": [
    "small_df.at[16441, \"medium\"]"
   ]
  },
  {
   "cell_type": "code",
   "execution_count": 38,
   "metadata": {},
   "outputs": [],
   "source": [
    "def fill_values(series):\n",
    "    #get the median with the counts function\n",
    "    values_counted = series.value_counts()\n",
    "    #make sure not all the values are nan\n",
    "    if values_counted.empty:\n",
    "        return series\n",
    "    most_frequent = values_counted.index[0]\n",
    "    new_medium = series.fillna(most_frequent)\n",
    "    return new_medium"
   ]
  },
  {
   "cell_type": "code",
   "execution_count": 39,
   "metadata": {},
   "outputs": [],
   "source": [
    "#iterate over artist groups\n",
    "def transform_df(source_df):\n",
    "    group_dfs = []  \n",
    "    for name, group_df in source_df.groupby('artist'):\n",
    "        filled_df = group_df.copy()\n",
    "        filled_df.loc[:, 'medium'] = fill_values(group_df['medium'])\n",
    "        group_dfs.append(filled_df)\n",
    "    \n",
    "    new_df = pd.concat(group_dfs)\n",
    "    return new_df"
   ]
  },
  {
   "cell_type": "code",
   "execution_count": 40,
   "metadata": {},
   "outputs": [],
   "source": [
    "#very primitive way to work with pandas\n",
    "filled_df = transform_df(small_df)"
   ]
  },
  {
   "cell_type": "code",
   "execution_count": 41,
   "metadata": {},
   "outputs": [
    {
     "output_type": "execute_result",
     "data": {
      "text/plain": [
       "                  artist            title                         medium  \\\n",
       "id                                                                         \n",
       "4704    Frost, Sir Terry        Blue Moon            Lithograph on paper   \n",
       "4705    Frost, Sir Terry      Boat Shapes               Linocut on paper   \n",
       "4706    Frost, Sir Terry      Boat Shapes               Linocut on paper   \n",
       "4707    Frost, Sir Terry      Boat Shapes               Linocut on paper   \n",
       "4708    Frost, Sir Terry            Leeds              Drypoint on paper   \n",
       "4709    Frost, Sir Terry  Camping, Anduze               Etching on paper   \n",
       "4710    Frost, Sir Terry     Umea, Sweden               Etching on paper   \n",
       "4711    Frost, Sir Terry    Self-Portrait               Etching on paper   \n",
       "11838  Phillips, Esq Tom       [colophon]                            nan   \n",
       "16412               Wols       [no title]               Etching on paper   \n",
       "16413               Wols       [no title]  Etching and drypoint on paper   \n",
       "16414               Wols       [no title]  Etching and drypoint on paper   \n",
       "16415               Wols       [no title]  Etching and drypoint on paper   \n",
       "16416               Wols       [no title]  Etching and drypoint on paper   \n",
       "16417               Wols       [no title]               Etching on paper   \n",
       "16418               Wols       [no title]  Etching and drypoint on paper   \n",
       "16419               Wols       [no title]  Etching and drypoint on paper   \n",
       "16420               Wols       [no title]  Etching and drypoint on paper   \n",
       "16421               Wols       [no title]  Etching and drypoint on paper   \n",
       "16422               Wols       [no title]  Etching and drypoint on paper   \n",
       "16423               Wols       [no title]               Etching on paper   \n",
       "16424               Wols       [no title]  Etching and drypoint on paper   \n",
       "16425               Wols       [no title]               Etching on paper   \n",
       "16426               Wols       [no title]  Etching and drypoint on paper   \n",
       "16427               Wols       [no title]  Etching and drypoint on paper   \n",
       "16428               Wols       [no title]  Etching and drypoint on paper   \n",
       "16429               Wols       [no title]  Etching and drypoint on paper   \n",
       "16430               Wols       [no title]  Etching and drypoint on paper   \n",
       "16431               Wols       [no title]  Etching and drypoint on paper   \n",
       "16432               Wols       [no title]  Etching and drypoint on paper   \n",
       "16433               Wols       [no title]  Etching and drypoint on paper   \n",
       "16434               Wols       [no title]  Etching and drypoint on paper   \n",
       "16435               Wols       [no title]  Etching and drypoint on paper   \n",
       "16436               Wols       [no title]  Etching and drypoint on paper   \n",
       "16437               Wols       [no title]  Etching and drypoint on paper   \n",
       "16438               Wols       [no title]  Etching and drypoint on paper   \n",
       "16439               Wols       [no title]  Etching and drypoint on paper   \n",
       "16440               Wols       [no title]  Etching and drypoint on paper   \n",
       "16441               Wols       [no title]                            nan   \n",
       "\n",
       "       year  acquisitionYear width height units  \n",
       "id                                               \n",
       "4704   1952           1983.0   355    273    mm  \n",
       "4705   1952           1983.0   132    143    mm  \n",
       "4706   1954           1983.0   131    155    mm  \n",
       "4707   1954           1983.0   193    267    mm  \n",
       "4708   1956           1983.0   125    167    mm  \n",
       "4709   1979           1983.0   257    209    mm  \n",
       "4710   1979           1983.0   NaN    NaN   NaN  \n",
       "4711   1980           1983.0   277    200    mm  \n",
       "11838  1979           1983.0   292    204    mm  \n",
       "16412  1937           1983.0   130     80    mm  \n",
       "16413  1937           1983.0   187    102    mm  \n",
       "16414  1937           1983.0   248    168    mm  \n",
       "16415  1937           1983.0   149    102    mm  \n",
       "16416  1937           1983.0   203    120    mm  \n",
       "16417  1937           1983.0   130     79    mm  \n",
       "16418  1937           1983.0   124     98    mm  \n",
       "16419  1937           1983.0   140     89    mm  \n",
       "16420  1937           1983.0   140     86    mm  \n",
       "16421  1937           1983.0    83     79    mm  \n",
       "16422  1937           1983.0   200    146    mm  \n",
       "16423  1937           1983.0    60     98    mm  \n",
       "16424  1937           1983.0   124     98    mm  \n",
       "16425  1937           1983.0   124     98    mm  \n",
       "16426  1937           1983.0   204    118    mm  \n",
       "16427  1937           1983.0   105     98    mm  \n",
       "16428  1937           1983.0   197    149    mm  \n",
       "16429  1937           1983.0   102    120    mm  \n",
       "16430  1937           1983.0   118     95    mm  \n",
       "16431  1937           1983.0   140     79    mm  \n",
       "16432  1937           1983.0   124     95    mm  \n",
       "16433  1937           1983.0   105     73    mm  \n",
       "16434  1937           1983.0   121    102    mm  \n",
       "16435  1937           1983.0   121     92    mm  \n",
       "16436  1937           1983.0   124     98    mm  \n",
       "16437  1937           1983.0   124     98    mm  \n",
       "16438  1937           1983.0   124     98    mm  \n",
       "16439  1937           1983.0   102     70    mm  \n",
       "16440  1937           1983.0   105     70    mm  \n",
       "16441  1937           1983.0   324    248    mm  "
      ],
      "text/html": "<div>\n<style scoped>\n    .dataframe tbody tr th:only-of-type {\n        vertical-align: middle;\n    }\n\n    .dataframe tbody tr th {\n        vertical-align: top;\n    }\n\n    .dataframe thead th {\n        text-align: right;\n    }\n</style>\n<table border=\"1\" class=\"dataframe\">\n  <thead>\n    <tr style=\"text-align: right;\">\n      <th></th>\n      <th>artist</th>\n      <th>title</th>\n      <th>medium</th>\n      <th>year</th>\n      <th>acquisitionYear</th>\n      <th>width</th>\n      <th>height</th>\n      <th>units</th>\n    </tr>\n    <tr>\n      <th>id</th>\n      <th></th>\n      <th></th>\n      <th></th>\n      <th></th>\n      <th></th>\n      <th></th>\n      <th></th>\n      <th></th>\n    </tr>\n  </thead>\n  <tbody>\n    <tr>\n      <th>4704</th>\n      <td>Frost, Sir Terry</td>\n      <td>Blue Moon</td>\n      <td>Lithograph on paper</td>\n      <td>1952</td>\n      <td>1983.0</td>\n      <td>355</td>\n      <td>273</td>\n      <td>mm</td>\n    </tr>\n    <tr>\n      <th>4705</th>\n      <td>Frost, Sir Terry</td>\n      <td>Boat Shapes</td>\n      <td>Linocut on paper</td>\n      <td>1952</td>\n      <td>1983.0</td>\n      <td>132</td>\n      <td>143</td>\n      <td>mm</td>\n    </tr>\n    <tr>\n      <th>4706</th>\n      <td>Frost, Sir Terry</td>\n      <td>Boat Shapes</td>\n      <td>Linocut on paper</td>\n      <td>1954</td>\n      <td>1983.0</td>\n      <td>131</td>\n      <td>155</td>\n      <td>mm</td>\n    </tr>\n    <tr>\n      <th>4707</th>\n      <td>Frost, Sir Terry</td>\n      <td>Boat Shapes</td>\n      <td>Linocut on paper</td>\n      <td>1954</td>\n      <td>1983.0</td>\n      <td>193</td>\n      <td>267</td>\n      <td>mm</td>\n    </tr>\n    <tr>\n      <th>4708</th>\n      <td>Frost, Sir Terry</td>\n      <td>Leeds</td>\n      <td>Drypoint on paper</td>\n      <td>1956</td>\n      <td>1983.0</td>\n      <td>125</td>\n      <td>167</td>\n      <td>mm</td>\n    </tr>\n    <tr>\n      <th>4709</th>\n      <td>Frost, Sir Terry</td>\n      <td>Camping, Anduze</td>\n      <td>Etching on paper</td>\n      <td>1979</td>\n      <td>1983.0</td>\n      <td>257</td>\n      <td>209</td>\n      <td>mm</td>\n    </tr>\n    <tr>\n      <th>4710</th>\n      <td>Frost, Sir Terry</td>\n      <td>Umea, Sweden</td>\n      <td>Etching on paper</td>\n      <td>1979</td>\n      <td>1983.0</td>\n      <td>NaN</td>\n      <td>NaN</td>\n      <td>NaN</td>\n    </tr>\n    <tr>\n      <th>4711</th>\n      <td>Frost, Sir Terry</td>\n      <td>Self-Portrait</td>\n      <td>Etching on paper</td>\n      <td>1980</td>\n      <td>1983.0</td>\n      <td>277</td>\n      <td>200</td>\n      <td>mm</td>\n    </tr>\n    <tr>\n      <th>11838</th>\n      <td>Phillips, Esq Tom</td>\n      <td>[colophon]</td>\n      <td>nan</td>\n      <td>1979</td>\n      <td>1983.0</td>\n      <td>292</td>\n      <td>204</td>\n      <td>mm</td>\n    </tr>\n    <tr>\n      <th>16412</th>\n      <td>Wols</td>\n      <td>[no title]</td>\n      <td>Etching on paper</td>\n      <td>1937</td>\n      <td>1983.0</td>\n      <td>130</td>\n      <td>80</td>\n      <td>mm</td>\n    </tr>\n    <tr>\n      <th>16413</th>\n      <td>Wols</td>\n      <td>[no title]</td>\n      <td>Etching and drypoint on paper</td>\n      <td>1937</td>\n      <td>1983.0</td>\n      <td>187</td>\n      <td>102</td>\n      <td>mm</td>\n    </tr>\n    <tr>\n      <th>16414</th>\n      <td>Wols</td>\n      <td>[no title]</td>\n      <td>Etching and drypoint on paper</td>\n      <td>1937</td>\n      <td>1983.0</td>\n      <td>248</td>\n      <td>168</td>\n      <td>mm</td>\n    </tr>\n    <tr>\n      <th>16415</th>\n      <td>Wols</td>\n      <td>[no title]</td>\n      <td>Etching and drypoint on paper</td>\n      <td>1937</td>\n      <td>1983.0</td>\n      <td>149</td>\n      <td>102</td>\n      <td>mm</td>\n    </tr>\n    <tr>\n      <th>16416</th>\n      <td>Wols</td>\n      <td>[no title]</td>\n      <td>Etching and drypoint on paper</td>\n      <td>1937</td>\n      <td>1983.0</td>\n      <td>203</td>\n      <td>120</td>\n      <td>mm</td>\n    </tr>\n    <tr>\n      <th>16417</th>\n      <td>Wols</td>\n      <td>[no title]</td>\n      <td>Etching on paper</td>\n      <td>1937</td>\n      <td>1983.0</td>\n      <td>130</td>\n      <td>79</td>\n      <td>mm</td>\n    </tr>\n    <tr>\n      <th>16418</th>\n      <td>Wols</td>\n      <td>[no title]</td>\n      <td>Etching and drypoint on paper</td>\n      <td>1937</td>\n      <td>1983.0</td>\n      <td>124</td>\n      <td>98</td>\n      <td>mm</td>\n    </tr>\n    <tr>\n      <th>16419</th>\n      <td>Wols</td>\n      <td>[no title]</td>\n      <td>Etching and drypoint on paper</td>\n      <td>1937</td>\n      <td>1983.0</td>\n      <td>140</td>\n      <td>89</td>\n      <td>mm</td>\n    </tr>\n    <tr>\n      <th>16420</th>\n      <td>Wols</td>\n      <td>[no title]</td>\n      <td>Etching and drypoint on paper</td>\n      <td>1937</td>\n      <td>1983.0</td>\n      <td>140</td>\n      <td>86</td>\n      <td>mm</td>\n    </tr>\n    <tr>\n      <th>16421</th>\n      <td>Wols</td>\n      <td>[no title]</td>\n      <td>Etching and drypoint on paper</td>\n      <td>1937</td>\n      <td>1983.0</td>\n      <td>83</td>\n      <td>79</td>\n      <td>mm</td>\n    </tr>\n    <tr>\n      <th>16422</th>\n      <td>Wols</td>\n      <td>[no title]</td>\n      <td>Etching and drypoint on paper</td>\n      <td>1937</td>\n      <td>1983.0</td>\n      <td>200</td>\n      <td>146</td>\n      <td>mm</td>\n    </tr>\n    <tr>\n      <th>16423</th>\n      <td>Wols</td>\n      <td>[no title]</td>\n      <td>Etching on paper</td>\n      <td>1937</td>\n      <td>1983.0</td>\n      <td>60</td>\n      <td>98</td>\n      <td>mm</td>\n    </tr>\n    <tr>\n      <th>16424</th>\n      <td>Wols</td>\n      <td>[no title]</td>\n      <td>Etching and drypoint on paper</td>\n      <td>1937</td>\n      <td>1983.0</td>\n      <td>124</td>\n      <td>98</td>\n      <td>mm</td>\n    </tr>\n    <tr>\n      <th>16425</th>\n      <td>Wols</td>\n      <td>[no title]</td>\n      <td>Etching on paper</td>\n      <td>1937</td>\n      <td>1983.0</td>\n      <td>124</td>\n      <td>98</td>\n      <td>mm</td>\n    </tr>\n    <tr>\n      <th>16426</th>\n      <td>Wols</td>\n      <td>[no title]</td>\n      <td>Etching and drypoint on paper</td>\n      <td>1937</td>\n      <td>1983.0</td>\n      <td>204</td>\n      <td>118</td>\n      <td>mm</td>\n    </tr>\n    <tr>\n      <th>16427</th>\n      <td>Wols</td>\n      <td>[no title]</td>\n      <td>Etching and drypoint on paper</td>\n      <td>1937</td>\n      <td>1983.0</td>\n      <td>105</td>\n      <td>98</td>\n      <td>mm</td>\n    </tr>\n    <tr>\n      <th>16428</th>\n      <td>Wols</td>\n      <td>[no title]</td>\n      <td>Etching and drypoint on paper</td>\n      <td>1937</td>\n      <td>1983.0</td>\n      <td>197</td>\n      <td>149</td>\n      <td>mm</td>\n    </tr>\n    <tr>\n      <th>16429</th>\n      <td>Wols</td>\n      <td>[no title]</td>\n      <td>Etching and drypoint on paper</td>\n      <td>1937</td>\n      <td>1983.0</td>\n      <td>102</td>\n      <td>120</td>\n      <td>mm</td>\n    </tr>\n    <tr>\n      <th>16430</th>\n      <td>Wols</td>\n      <td>[no title]</td>\n      <td>Etching and drypoint on paper</td>\n      <td>1937</td>\n      <td>1983.0</td>\n      <td>118</td>\n      <td>95</td>\n      <td>mm</td>\n    </tr>\n    <tr>\n      <th>16431</th>\n      <td>Wols</td>\n      <td>[no title]</td>\n      <td>Etching and drypoint on paper</td>\n      <td>1937</td>\n      <td>1983.0</td>\n      <td>140</td>\n      <td>79</td>\n      <td>mm</td>\n    </tr>\n    <tr>\n      <th>16432</th>\n      <td>Wols</td>\n      <td>[no title]</td>\n      <td>Etching and drypoint on paper</td>\n      <td>1937</td>\n      <td>1983.0</td>\n      <td>124</td>\n      <td>95</td>\n      <td>mm</td>\n    </tr>\n    <tr>\n      <th>16433</th>\n      <td>Wols</td>\n      <td>[no title]</td>\n      <td>Etching and drypoint on paper</td>\n      <td>1937</td>\n      <td>1983.0</td>\n      <td>105</td>\n      <td>73</td>\n      <td>mm</td>\n    </tr>\n    <tr>\n      <th>16434</th>\n      <td>Wols</td>\n      <td>[no title]</td>\n      <td>Etching and drypoint on paper</td>\n      <td>1937</td>\n      <td>1983.0</td>\n      <td>121</td>\n      <td>102</td>\n      <td>mm</td>\n    </tr>\n    <tr>\n      <th>16435</th>\n      <td>Wols</td>\n      <td>[no title]</td>\n      <td>Etching and drypoint on paper</td>\n      <td>1937</td>\n      <td>1983.0</td>\n      <td>121</td>\n      <td>92</td>\n      <td>mm</td>\n    </tr>\n    <tr>\n      <th>16436</th>\n      <td>Wols</td>\n      <td>[no title]</td>\n      <td>Etching and drypoint on paper</td>\n      <td>1937</td>\n      <td>1983.0</td>\n      <td>124</td>\n      <td>98</td>\n      <td>mm</td>\n    </tr>\n    <tr>\n      <th>16437</th>\n      <td>Wols</td>\n      <td>[no title]</td>\n      <td>Etching and drypoint on paper</td>\n      <td>1937</td>\n      <td>1983.0</td>\n      <td>124</td>\n      <td>98</td>\n      <td>mm</td>\n    </tr>\n    <tr>\n      <th>16438</th>\n      <td>Wols</td>\n      <td>[no title]</td>\n      <td>Etching and drypoint on paper</td>\n      <td>1937</td>\n      <td>1983.0</td>\n      <td>124</td>\n      <td>98</td>\n      <td>mm</td>\n    </tr>\n    <tr>\n      <th>16439</th>\n      <td>Wols</td>\n      <td>[no title]</td>\n      <td>Etching and drypoint on paper</td>\n      <td>1937</td>\n      <td>1983.0</td>\n      <td>102</td>\n      <td>70</td>\n      <td>mm</td>\n    </tr>\n    <tr>\n      <th>16440</th>\n      <td>Wols</td>\n      <td>[no title]</td>\n      <td>Etching and drypoint on paper</td>\n      <td>1937</td>\n      <td>1983.0</td>\n      <td>105</td>\n      <td>70</td>\n      <td>mm</td>\n    </tr>\n    <tr>\n      <th>16441</th>\n      <td>Wols</td>\n      <td>[no title]</td>\n      <td>nan</td>\n      <td>1937</td>\n      <td>1983.0</td>\n      <td>324</td>\n      <td>248</td>\n      <td>mm</td>\n    </tr>\n  </tbody>\n</table>\n</div>"
     },
     "metadata": {},
     "execution_count": 41
    }
   ],
   "source": [
    "filled_df"
   ]
  },
  {
   "cell_type": "code",
   "execution_count": null,
   "metadata": {},
   "outputs": [],
   "source": []
  },
  {
   "cell_type": "code",
   "execution_count": null,
   "metadata": {},
   "outputs": [],
   "source": []
  }
 ]
}