{
 "metadata": {
  "language_info": {
   "codemirror_mode": {
    "name": "ipython",
    "version": 3
   },
   "file_extension": ".py",
   "mimetype": "text/x-python",
   "name": "python",
   "nbconvert_exporter": "python",
   "pygments_lexer": "ipython3",
   "version": "3.8.5"
  },
  "orig_nbformat": 2,
  "kernelspec": {
   "name": "python385jvsc74a57bd019ef3a6396c46c7428efca1f5cbb7ae9e01db714ef36b5b8c4522c5b6ecb4d4b",
   "display_name": "Python 3.8.5 64-bit ('base': conda)"
  }
 },
 "nbformat": 4,
 "nbformat_minor": 2,
 "cells": [
  {
   "cell_type": "code",
   "execution_count": 2,
   "metadata": {},
   "outputs": [],
   "source": [
    "import pandas as pd\n",
    "import numpy as np\n",
    "import os\n",
    "\n",
    "df = pd.read_pickle(os.path.join('..', 'data_frame.pickle'))"
   ]
  },
  {
   "cell_type": "code",
   "execution_count": 9,
   "metadata": {},
   "outputs": [
    {
     "output_type": "execute_result",
     "data": {
      "text/plain": [
       "pandas.core.groupby.generic.DataFrameGroupBy"
      ]
     },
     "metadata": {},
     "execution_count": 9
    }
   ],
   "source": [
    "# ITERATION\n",
    "small_df = df.iloc[49980:50019, :].copy()\n",
    "grouped = small_df.groupby('artist')\n",
    "type(grouped)\n"
   ]
  },
  {
   "cell_type": "code",
   "execution_count": 4,
   "metadata": {},
   "outputs": [
    {
     "output_type": "stream",
     "name": "stdout",
     "text": [
      "Frost, Sir Terry\n                artist            title               medium  year  \\\nid                                                                   \n4704  Frost, Sir Terry        Blue Moon  Lithograph on paper  1952   \n4705  Frost, Sir Terry      Boat Shapes     Linocut on paper  1952   \n4706  Frost, Sir Terry      Boat Shapes     Linocut on paper  1954   \n4707  Frost, Sir Terry      Boat Shapes     Linocut on paper  1954   \n4708  Frost, Sir Terry            Leeds    Drypoint on paper  1956   \n4709  Frost, Sir Terry  Camping, Anduze     Etching on paper  1979   \n4710  Frost, Sir Terry     Umea, Sweden     Etching on paper  1979   \n4711  Frost, Sir Terry    Self-Portrait     Etching on paper  1980   \n\n      acquisitionYear width height units  \nid                                        \n4704           1983.0   355    273    mm  \n4705           1983.0   132    143    mm  \n4706           1983.0   131    155    mm  \n4707           1983.0   193    267    mm  \n4708           1983.0   125    167    mm  \n4709           1983.0   257    209    mm  \n4710           1983.0   NaN    NaN   NaN  \n4711           1983.0   277    200    mm  \n"
     ]
    }
   ],
   "source": [
    "\n",
    "for name, group_df in grouped:\n",
    "    print(name)\n",
    "    print(group_df)\n",
    "    break"
   ]
  },
  {
   "cell_type": "code",
   "execution_count": 5,
   "metadata": {},
   "outputs": [
    {
     "output_type": "stream",
     "name": "stdout",
     "text": [
      "Frost, Sir Terry: 1983.0\nPhillips, Esq Tom: 1983.0\nWols: 1983.0\n"
     ]
    }
   ],
   "source": [
    "# When was the first piece for an artist acquired\n",
    "# Aggregate\n",
    "# Mins\n",
    "for name, group_df in small_df.groupby('artist'): \n",
    "    min_year = group_df['acquisitionYear'].min()\n",
    "    print(\"{}: {}\".format(name, min_year))\n"
   ]
  },
  {
   "cell_type": "code",
   "execution_count": 6,
   "metadata": {},
   "outputs": [
    {
     "output_type": "execute_result",
     "data": {
      "text/plain": [
       "False"
      ]
     },
     "metadata": {},
     "execution_count": 6
    }
   ],
   "source": [
    "# This df is already clean so we have to add some nan values to demonstrate how to fill them out, if you are in spyder IDE you can simply change them manually\n",
    "small_df['medium'].isnull().values.any()"
   ]
  },
  {
   "cell_type": "code",
   "execution_count": 31,
   "metadata": {},
   "outputs": [],
   "source": [
    "small_df.at[16441, \"medium\"] = 'nan' "
   ]
  },
  {
   "cell_type": "code",
   "execution_count": 34,
   "metadata": {},
   "outputs": [],
   "source": [
    "#this artist has a single row\n",
    "small_df.at[11838, \"medium\"] = 'nan'"
   ]
  },
  {
   "cell_type": "code",
   "execution_count": 35,
   "metadata": {},
   "outputs": [
    {
     "output_type": "execute_result",
     "data": {
      "text/plain": [
       "'nan'"
      ]
     },
     "metadata": {},
     "execution_count": 35
    }
   ],
   "source": [
    "small_df.at[11838, \"medium\"]"
   ]
  },
  {
   "cell_type": "code",
   "execution_count": 36,
   "metadata": {},
   "outputs": [],
   "source": [
    "small_df.at[16441, \"medium\"] = 'nan'"
   ]
  },
  {
   "cell_type": "code",
   "execution_count": 37,
   "metadata": {},
   "outputs": [
    {
     "output_type": "execute_result",
     "data": {
      "text/plain": [
       "'nan'"
      ]
     },
     "metadata": {},
     "execution_count": 37
    }
   ],
   "source": [
    "small_df.at[16441, \"medium\"]"
   ]
  },
  {
   "cell_type": "code",
   "execution_count": 13,
   "metadata": {},
   "outputs": [],
   "source": [
    "def fill_values(series):\n",
    "    #get the median with the counts function\n",
    "    values_counted = series.value_counts()\n",
    "    #make sure not all the values are nan\n",
    "    if values_counted.empty:\n",
    "        return series\n",
    "    most_frequent = values_counted.index[0]\n",
    "    new_medium = series.fillna(most_frequent)\n",
    "    return new_medium"
   ]
  },
  {
   "cell_type": "code",
   "execution_count": 39,
   "metadata": {},
   "outputs": [],
   "source": [
    "#iterate over artist groups\n",
    "def transform_df(source_df):\n",
    "    group_dfs = []  \n",
    "    for name, group_df in source_df.groupby('artist'):\n",
    "        filled_df = group_df.copy()\n",
    "        filled_df.loc[:, 'medium'] = fill_values(group_df['medium'])\n",
    "        group_dfs.append(filled_df)\n",
    "    \n",
    "    new_df = pd.concat(group_dfs)\n",
    "    return new_df"
   ]
  },
  {
   "cell_type": "code",
   "execution_count": 40,
   "metadata": {},
   "outputs": [],
   "source": [
    "#very primitive way to work with pandas\n",
    "filled_df = transform_df(small_df)"
   ]
  },
  {
   "cell_type": "code",
   "execution_count": 41,
   "metadata": {},
   "outputs": [
    {
     "output_type": "execute_result",
     "data": {
      "text/plain": [
       "                  artist            title                         medium  \\\n",
       "id                                                                         \n",
       "4704    Frost, Sir Terry        Blue Moon            Lithograph on paper   \n",
       "4705    Frost, Sir Terry      Boat Shapes               Linocut on paper   \n",
       "4706    Frost, Sir Terry      Boat Shapes               Linocut on paper   \n",
       "4707    Frost, Sir Terry      Boat Shapes               Linocut on paper   \n",
       "4708    Frost, Sir Terry            Leeds              Drypoint on paper   \n",
       "4709    Frost, Sir Terry  Camping, Anduze               Etching on paper   \n",
       "4710    Frost, Sir Terry     Umea, Sweden               Etching on paper   \n",
       "4711    Frost, Sir Terry    Self-Portrait               Etching on paper   \n",
       "11838  Phillips, Esq Tom       [colophon]                            nan   \n",
       "16412               Wols       [no title]               Etching on paper   \n",
       "16413               Wols       [no title]  Etching and drypoint on paper   \n",
       "16414               Wols       [no title]  Etching and drypoint on paper   \n",
       "16415               Wols       [no title]  Etching and drypoint on paper   \n",
       "16416               Wols       [no title]  Etching and drypoint on paper   \n",
       "16417               Wols       [no title]               Etching on paper   \n",
       "16418               Wols       [no title]  Etching and drypoint on paper   \n",
       "16419               Wols       [no title]  Etching and drypoint on paper   \n",
       "16420               Wols       [no title]  Etching and drypoint on paper   \n",
       "16421               Wols       [no title]  Etching and drypoint on paper   \n",
       "16422               Wols       [no title]  Etching and drypoint on paper   \n",
       "16423               Wols       [no title]               Etching on paper   \n",
       "16424               Wols       [no title]  Etching and drypoint on paper   \n",
       "16425               Wols       [no title]               Etching on paper   \n",
       "16426               Wols       [no title]  Etching and drypoint on paper   \n",
       "16427               Wols       [no title]  Etching and drypoint on paper   \n",
       "16428               Wols       [no title]  Etching and drypoint on paper   \n",
       "16429               Wols       [no title]  Etching and drypoint on paper   \n",
       "16430               Wols       [no title]  Etching and drypoint on paper   \n",
       "16431               Wols       [no title]  Etching and drypoint on paper   \n",
       "16432               Wols       [no title]  Etching and drypoint on paper   \n",
       "16433               Wols       [no title]  Etching and drypoint on paper   \n",
       "16434               Wols       [no title]  Etching and drypoint on paper   \n",
       "16435               Wols       [no title]  Etching and drypoint on paper   \n",
       "16436               Wols       [no title]  Etching and drypoint on paper   \n",
       "16437               Wols       [no title]  Etching and drypoint on paper   \n",
       "16438               Wols       [no title]  Etching and drypoint on paper   \n",
       "16439               Wols       [no title]  Etching and drypoint on paper   \n",
       "16440               Wols       [no title]  Etching and drypoint on paper   \n",
       "16441               Wols       [no title]                            nan   \n",
       "\n",
       "       year  acquisitionYear width height units  \n",
       "id                                               \n",
       "4704   1952           1983.0   355    273    mm  \n",
       "4705   1952           1983.0   132    143    mm  \n",
       "4706   1954           1983.0   131    155    mm  \n",
       "4707   1954           1983.0   193    267    mm  \n",
       "4708   1956           1983.0   125    167    mm  \n",
       "4709   1979           1983.0   257    209    mm  \n",
       "4710   1979           1983.0   NaN    NaN   NaN  \n",
       "4711   1980           1983.0   277    200    mm  \n",
       "11838  1979           1983.0   292    204    mm  \n",
       "16412  1937           1983.0   130     80    mm  \n",
       "16413  1937           1983.0   187    102    mm  \n",
       "16414  1937           1983.0   248    168    mm  \n",
       "16415  1937           1983.0   149    102    mm  \n",
       "16416  1937           1983.0   203    120    mm  \n",
       "16417  1937           1983.0   130     79    mm  \n",
       "16418  1937           1983.0   124     98    mm  \n",
       "16419  1937           1983.0   140     89    mm  \n",
       "16420  1937           1983.0   140     86    mm  \n",
       "16421  1937           1983.0    83     79    mm  \n",
       "16422  1937           1983.0   200    146    mm  \n",
       "16423  1937           1983.0    60     98    mm  \n",
       "16424  1937           1983.0   124     98    mm  \n",
       "16425  1937           1983.0   124     98    mm  \n",
       "16426  1937           1983.0   204    118    mm  \n",
       "16427  1937           1983.0   105     98    mm  \n",
       "16428  1937           1983.0   197    149    mm  \n",
       "16429  1937           1983.0   102    120    mm  \n",
       "16430  1937           1983.0   118     95    mm  \n",
       "16431  1937           1983.0   140     79    mm  \n",
       "16432  1937           1983.0   124     95    mm  \n",
       "16433  1937           1983.0   105     73    mm  \n",
       "16434  1937           1983.0   121    102    mm  \n",
       "16435  1937           1983.0   121     92    mm  \n",
       "16436  1937           1983.0   124     98    mm  \n",
       "16437  1937           1983.0   124     98    mm  \n",
       "16438  1937           1983.0   124     98    mm  \n",
       "16439  1937           1983.0   102     70    mm  \n",
       "16440  1937           1983.0   105     70    mm  \n",
       "16441  1937           1983.0   324    248    mm  "
      ],
      "text/html": "<div>\n<style scoped>\n    .dataframe tbody tr th:only-of-type {\n        vertical-align: middle;\n    }\n\n    .dataframe tbody tr th {\n        vertical-align: top;\n    }\n\n    .dataframe thead th {\n        text-align: right;\n    }\n</style>\n<table border=\"1\" class=\"dataframe\">\n  <thead>\n    <tr style=\"text-align: right;\">\n      <th></th>\n      <th>artist</th>\n      <th>title</th>\n      <th>medium</th>\n      <th>year</th>\n      <th>acquisitionYear</th>\n      <th>width</th>\n      <th>height</th>\n      <th>units</th>\n    </tr>\n    <tr>\n      <th>id</th>\n      <th></th>\n      <th></th>\n      <th></th>\n      <th></th>\n      <th></th>\n      <th></th>\n      <th></th>\n      <th></th>\n    </tr>\n  </thead>\n  <tbody>\n    <tr>\n      <th>4704</th>\n      <td>Frost, Sir Terry</td>\n      <td>Blue Moon</td>\n      <td>Lithograph on paper</td>\n      <td>1952</td>\n      <td>1983.0</td>\n      <td>355</td>\n      <td>273</td>\n      <td>mm</td>\n    </tr>\n    <tr>\n      <th>4705</th>\n      <td>Frost, Sir Terry</td>\n      <td>Boat Shapes</td>\n      <td>Linocut on paper</td>\n      <td>1952</td>\n      <td>1983.0</td>\n      <td>132</td>\n      <td>143</td>\n      <td>mm</td>\n    </tr>\n    <tr>\n      <th>4706</th>\n      <td>Frost, Sir Terry</td>\n      <td>Boat Shapes</td>\n      <td>Linocut on paper</td>\n      <td>1954</td>\n      <td>1983.0</td>\n      <td>131</td>\n      <td>155</td>\n      <td>mm</td>\n    </tr>\n    <tr>\n      <th>4707</th>\n      <td>Frost, Sir Terry</td>\n      <td>Boat Shapes</td>\n      <td>Linocut on paper</td>\n      <td>1954</td>\n      <td>1983.0</td>\n      <td>193</td>\n      <td>267</td>\n      <td>mm</td>\n    </tr>\n    <tr>\n      <th>4708</th>\n      <td>Frost, Sir Terry</td>\n      <td>Leeds</td>\n      <td>Drypoint on paper</td>\n      <td>1956</td>\n      <td>1983.0</td>\n      <td>125</td>\n      <td>167</td>\n      <td>mm</td>\n    </tr>\n    <tr>\n      <th>4709</th>\n      <td>Frost, Sir Terry</td>\n      <td>Camping, Anduze</td>\n      <td>Etching on paper</td>\n      <td>1979</td>\n      <td>1983.0</td>\n      <td>257</td>\n      <td>209</td>\n      <td>mm</td>\n    </tr>\n    <tr>\n      <th>4710</th>\n      <td>Frost, Sir Terry</td>\n      <td>Umea, Sweden</td>\n      <td>Etching on paper</td>\n      <td>1979</td>\n      <td>1983.0</td>\n      <td>NaN</td>\n      <td>NaN</td>\n      <td>NaN</td>\n    </tr>\n    <tr>\n      <th>4711</th>\n      <td>Frost, Sir Terry</td>\n      <td>Self-Portrait</td>\n      <td>Etching on paper</td>\n      <td>1980</td>\n      <td>1983.0</td>\n      <td>277</td>\n      <td>200</td>\n      <td>mm</td>\n    </tr>\n    <tr>\n      <th>11838</th>\n      <td>Phillips, Esq Tom</td>\n      <td>[colophon]</td>\n      <td>nan</td>\n      <td>1979</td>\n      <td>1983.0</td>\n      <td>292</td>\n      <td>204</td>\n      <td>mm</td>\n    </tr>\n    <tr>\n      <th>16412</th>\n      <td>Wols</td>\n      <td>[no title]</td>\n      <td>Etching on paper</td>\n      <td>1937</td>\n      <td>1983.0</td>\n      <td>130</td>\n      <td>80</td>\n      <td>mm</td>\n    </tr>\n    <tr>\n      <th>16413</th>\n      <td>Wols</td>\n      <td>[no title]</td>\n      <td>Etching and drypoint on paper</td>\n      <td>1937</td>\n      <td>1983.0</td>\n      <td>187</td>\n      <td>102</td>\n      <td>mm</td>\n    </tr>\n    <tr>\n      <th>16414</th>\n      <td>Wols</td>\n      <td>[no title]</td>\n      <td>Etching and drypoint on paper</td>\n      <td>1937</td>\n      <td>1983.0</td>\n      <td>248</td>\n      <td>168</td>\n      <td>mm</td>\n    </tr>\n    <tr>\n      <th>16415</th>\n      <td>Wols</td>\n      <td>[no title]</td>\n      <td>Etching and drypoint on paper</td>\n      <td>1937</td>\n      <td>1983.0</td>\n      <td>149</td>\n      <td>102</td>\n      <td>mm</td>\n    </tr>\n    <tr>\n      <th>16416</th>\n      <td>Wols</td>\n      <td>[no title]</td>\n      <td>Etching and drypoint on paper</td>\n      <td>1937</td>\n      <td>1983.0</td>\n      <td>203</td>\n      <td>120</td>\n      <td>mm</td>\n    </tr>\n    <tr>\n      <th>16417</th>\n      <td>Wols</td>\n      <td>[no title]</td>\n      <td>Etching on paper</td>\n      <td>1937</td>\n      <td>1983.0</td>\n      <td>130</td>\n      <td>79</td>\n      <td>mm</td>\n    </tr>\n    <tr>\n      <th>16418</th>\n      <td>Wols</td>\n      <td>[no title]</td>\n      <td>Etching and drypoint on paper</td>\n      <td>1937</td>\n      <td>1983.0</td>\n      <td>124</td>\n      <td>98</td>\n      <td>mm</td>\n    </tr>\n    <tr>\n      <th>16419</th>\n      <td>Wols</td>\n      <td>[no title]</td>\n      <td>Etching and drypoint on paper</td>\n      <td>1937</td>\n      <td>1983.0</td>\n      <td>140</td>\n      <td>89</td>\n      <td>mm</td>\n    </tr>\n    <tr>\n      <th>16420</th>\n      <td>Wols</td>\n      <td>[no title]</td>\n      <td>Etching and drypoint on paper</td>\n      <td>1937</td>\n      <td>1983.0</td>\n      <td>140</td>\n      <td>86</td>\n      <td>mm</td>\n    </tr>\n    <tr>\n      <th>16421</th>\n      <td>Wols</td>\n      <td>[no title]</td>\n      <td>Etching and drypoint on paper</td>\n      <td>1937</td>\n      <td>1983.0</td>\n      <td>83</td>\n      <td>79</td>\n      <td>mm</td>\n    </tr>\n    <tr>\n      <th>16422</th>\n      <td>Wols</td>\n      <td>[no title]</td>\n      <td>Etching and drypoint on paper</td>\n      <td>1937</td>\n      <td>1983.0</td>\n      <td>200</td>\n      <td>146</td>\n      <td>mm</td>\n    </tr>\n    <tr>\n      <th>16423</th>\n      <td>Wols</td>\n      <td>[no title]</td>\n      <td>Etching on paper</td>\n      <td>1937</td>\n      <td>1983.0</td>\n      <td>60</td>\n      <td>98</td>\n      <td>mm</td>\n    </tr>\n    <tr>\n      <th>16424</th>\n      <td>Wols</td>\n      <td>[no title]</td>\n      <td>Etching and drypoint on paper</td>\n      <td>1937</td>\n      <td>1983.0</td>\n      <td>124</td>\n      <td>98</td>\n      <td>mm</td>\n    </tr>\n    <tr>\n      <th>16425</th>\n      <td>Wols</td>\n      <td>[no title]</td>\n      <td>Etching on paper</td>\n      <td>1937</td>\n      <td>1983.0</td>\n      <td>124</td>\n      <td>98</td>\n      <td>mm</td>\n    </tr>\n    <tr>\n      <th>16426</th>\n      <td>Wols</td>\n      <td>[no title]</td>\n      <td>Etching and drypoint on paper</td>\n      <td>1937</td>\n      <td>1983.0</td>\n      <td>204</td>\n      <td>118</td>\n      <td>mm</td>\n    </tr>\n    <tr>\n      <th>16427</th>\n      <td>Wols</td>\n      <td>[no title]</td>\n      <td>Etching and drypoint on paper</td>\n      <td>1937</td>\n      <td>1983.0</td>\n      <td>105</td>\n      <td>98</td>\n      <td>mm</td>\n    </tr>\n    <tr>\n      <th>16428</th>\n      <td>Wols</td>\n      <td>[no title]</td>\n      <td>Etching and drypoint on paper</td>\n      <td>1937</td>\n      <td>1983.0</td>\n      <td>197</td>\n      <td>149</td>\n      <td>mm</td>\n    </tr>\n    <tr>\n      <th>16429</th>\n      <td>Wols</td>\n      <td>[no title]</td>\n      <td>Etching and drypoint on paper</td>\n      <td>1937</td>\n      <td>1983.0</td>\n      <td>102</td>\n      <td>120</td>\n      <td>mm</td>\n    </tr>\n    <tr>\n      <th>16430</th>\n      <td>Wols</td>\n      <td>[no title]</td>\n      <td>Etching and drypoint on paper</td>\n      <td>1937</td>\n      <td>1983.0</td>\n      <td>118</td>\n      <td>95</td>\n      <td>mm</td>\n    </tr>\n    <tr>\n      <th>16431</th>\n      <td>Wols</td>\n      <td>[no title]</td>\n      <td>Etching and drypoint on paper</td>\n      <td>1937</td>\n      <td>1983.0</td>\n      <td>140</td>\n      <td>79</td>\n      <td>mm</td>\n    </tr>\n    <tr>\n      <th>16432</th>\n      <td>Wols</td>\n      <td>[no title]</td>\n      <td>Etching and drypoint on paper</td>\n      <td>1937</td>\n      <td>1983.0</td>\n      <td>124</td>\n      <td>95</td>\n      <td>mm</td>\n    </tr>\n    <tr>\n      <th>16433</th>\n      <td>Wols</td>\n      <td>[no title]</td>\n      <td>Etching and drypoint on paper</td>\n      <td>1937</td>\n      <td>1983.0</td>\n      <td>105</td>\n      <td>73</td>\n      <td>mm</td>\n    </tr>\n    <tr>\n      <th>16434</th>\n      <td>Wols</td>\n      <td>[no title]</td>\n      <td>Etching and drypoint on paper</td>\n      <td>1937</td>\n      <td>1983.0</td>\n      <td>121</td>\n      <td>102</td>\n      <td>mm</td>\n    </tr>\n    <tr>\n      <th>16435</th>\n      <td>Wols</td>\n      <td>[no title]</td>\n      <td>Etching and drypoint on paper</td>\n      <td>1937</td>\n      <td>1983.0</td>\n      <td>121</td>\n      <td>92</td>\n      <td>mm</td>\n    </tr>\n    <tr>\n      <th>16436</th>\n      <td>Wols</td>\n      <td>[no title]</td>\n      <td>Etching and drypoint on paper</td>\n      <td>1937</td>\n      <td>1983.0</td>\n      <td>124</td>\n      <td>98</td>\n      <td>mm</td>\n    </tr>\n    <tr>\n      <th>16437</th>\n      <td>Wols</td>\n      <td>[no title]</td>\n      <td>Etching and drypoint on paper</td>\n      <td>1937</td>\n      <td>1983.0</td>\n      <td>124</td>\n      <td>98</td>\n      <td>mm</td>\n    </tr>\n    <tr>\n      <th>16438</th>\n      <td>Wols</td>\n      <td>[no title]</td>\n      <td>Etching and drypoint on paper</td>\n      <td>1937</td>\n      <td>1983.0</td>\n      <td>124</td>\n      <td>98</td>\n      <td>mm</td>\n    </tr>\n    <tr>\n      <th>16439</th>\n      <td>Wols</td>\n      <td>[no title]</td>\n      <td>Etching and drypoint on paper</td>\n      <td>1937</td>\n      <td>1983.0</td>\n      <td>102</td>\n      <td>70</td>\n      <td>mm</td>\n    </tr>\n    <tr>\n      <th>16440</th>\n      <td>Wols</td>\n      <td>[no title]</td>\n      <td>Etching and drypoint on paper</td>\n      <td>1937</td>\n      <td>1983.0</td>\n      <td>105</td>\n      <td>70</td>\n      <td>mm</td>\n    </tr>\n    <tr>\n      <th>16441</th>\n      <td>Wols</td>\n      <td>[no title]</td>\n      <td>nan</td>\n      <td>1937</td>\n      <td>1983.0</td>\n      <td>324</td>\n      <td>248</td>\n      <td>mm</td>\n    </tr>\n  </tbody>\n</table>\n</div>"
     },
     "metadata": {},
     "execution_count": 41
    }
   ],
   "source": [
    "filled_df"
   ]
  },
  {
   "cell_type": "code",
   "execution_count": 50,
   "metadata": {},
   "outputs": [],
   "source": [
    "#transformation methods built in\n",
    "grouped_mediums = small_df.groupby('artist')['medium']"
   ]
  },
  {
   "cell_type": "code",
   "execution_count": 52,
   "metadata": {},
   "outputs": [
    {
     "output_type": "execute_result",
     "data": {
      "text/plain": [
       "                  artist            title                         medium  \\\n",
       "id                                                                         \n",
       "16412               Wols       [no title]               Etching on paper   \n",
       "16413               Wols       [no title]  Etching and drypoint on paper   \n",
       "16414               Wols       [no title]  Etching and drypoint on paper   \n",
       "16415               Wols       [no title]  Etching and drypoint on paper   \n",
       "16416               Wols       [no title]  Etching and drypoint on paper   \n",
       "16417               Wols       [no title]               Etching on paper   \n",
       "16418               Wols       [no title]  Etching and drypoint on paper   \n",
       "16419               Wols       [no title]  Etching and drypoint on paper   \n",
       "16420               Wols       [no title]  Etching and drypoint on paper   \n",
       "16421               Wols       [no title]  Etching and drypoint on paper   \n",
       "16422               Wols       [no title]  Etching and drypoint on paper   \n",
       "16423               Wols       [no title]               Etching on paper   \n",
       "16424               Wols       [no title]  Etching and drypoint on paper   \n",
       "16425               Wols       [no title]               Etching on paper   \n",
       "16426               Wols       [no title]  Etching and drypoint on paper   \n",
       "16427               Wols       [no title]  Etching and drypoint on paper   \n",
       "16428               Wols       [no title]  Etching and drypoint on paper   \n",
       "16429               Wols       [no title]  Etching and drypoint on paper   \n",
       "16430               Wols       [no title]  Etching and drypoint on paper   \n",
       "16431               Wols       [no title]  Etching and drypoint on paper   \n",
       "16432               Wols       [no title]  Etching and drypoint on paper   \n",
       "16433               Wols       [no title]  Etching and drypoint on paper   \n",
       "16434               Wols       [no title]  Etching and drypoint on paper   \n",
       "16435               Wols       [no title]  Etching and drypoint on paper   \n",
       "16436               Wols       [no title]  Etching and drypoint on paper   \n",
       "16437               Wols       [no title]  Etching and drypoint on paper   \n",
       "16438               Wols       [no title]  Etching and drypoint on paper   \n",
       "16439               Wols       [no title]  Etching and drypoint on paper   \n",
       "16440               Wols       [no title]  Etching and drypoint on paper   \n",
       "16441               Wols       [no title]                            nan   \n",
       "4704    Frost, Sir Terry        Blue Moon            Lithograph on paper   \n",
       "4705    Frost, Sir Terry      Boat Shapes               Linocut on paper   \n",
       "4706    Frost, Sir Terry      Boat Shapes               Linocut on paper   \n",
       "4707    Frost, Sir Terry      Boat Shapes               Linocut on paper   \n",
       "4708    Frost, Sir Terry            Leeds              Drypoint on paper   \n",
       "4709    Frost, Sir Terry  Camping, Anduze               Etching on paper   \n",
       "4710    Frost, Sir Terry     Umea, Sweden               Etching on paper   \n",
       "4711    Frost, Sir Terry    Self-Portrait               Etching on paper   \n",
       "11838  Phillips, Esq Tom       [colophon]                            nan   \n",
       "\n",
       "       year  acquisitionYear width height units  \n",
       "id                                               \n",
       "16412  1937           1983.0   130     80    mm  \n",
       "16413  1937           1983.0   187    102    mm  \n",
       "16414  1937           1983.0   248    168    mm  \n",
       "16415  1937           1983.0   149    102    mm  \n",
       "16416  1937           1983.0   203    120    mm  \n",
       "16417  1937           1983.0   130     79    mm  \n",
       "16418  1937           1983.0   124     98    mm  \n",
       "16419  1937           1983.0   140     89    mm  \n",
       "16420  1937           1983.0   140     86    mm  \n",
       "16421  1937           1983.0    83     79    mm  \n",
       "16422  1937           1983.0   200    146    mm  \n",
       "16423  1937           1983.0    60     98    mm  \n",
       "16424  1937           1983.0   124     98    mm  \n",
       "16425  1937           1983.0   124     98    mm  \n",
       "16426  1937           1983.0   204    118    mm  \n",
       "16427  1937           1983.0   105     98    mm  \n",
       "16428  1937           1983.0   197    149    mm  \n",
       "16429  1937           1983.0   102    120    mm  \n",
       "16430  1937           1983.0   118     95    mm  \n",
       "16431  1937           1983.0   140     79    mm  \n",
       "16432  1937           1983.0   124     95    mm  \n",
       "16433  1937           1983.0   105     73    mm  \n",
       "16434  1937           1983.0   121    102    mm  \n",
       "16435  1937           1983.0   121     92    mm  \n",
       "16436  1937           1983.0   124     98    mm  \n",
       "16437  1937           1983.0   124     98    mm  \n",
       "16438  1937           1983.0   124     98    mm  \n",
       "16439  1937           1983.0   102     70    mm  \n",
       "16440  1937           1983.0   105     70    mm  \n",
       "16441  1937           1983.0   324    248    mm  \n",
       "4704   1952           1983.0   355    273    mm  \n",
       "4705   1952           1983.0   132    143    mm  \n",
       "4706   1954           1983.0   131    155    mm  \n",
       "4707   1954           1983.0   193    267    mm  \n",
       "4708   1956           1983.0   125    167    mm  \n",
       "4709   1979           1983.0   257    209    mm  \n",
       "4710   1979           1983.0   NaN    NaN   NaN  \n",
       "4711   1980           1983.0   277    200    mm  \n",
       "11838  1979           1983.0   292    204    mm  "
      ],
      "text/html": "<div>\n<style scoped>\n    .dataframe tbody tr th:only-of-type {\n        vertical-align: middle;\n    }\n\n    .dataframe tbody tr th {\n        vertical-align: top;\n    }\n\n    .dataframe thead th {\n        text-align: right;\n    }\n</style>\n<table border=\"1\" class=\"dataframe\">\n  <thead>\n    <tr style=\"text-align: right;\">\n      <th></th>\n      <th>artist</th>\n      <th>title</th>\n      <th>medium</th>\n      <th>year</th>\n      <th>acquisitionYear</th>\n      <th>width</th>\n      <th>height</th>\n      <th>units</th>\n    </tr>\n    <tr>\n      <th>id</th>\n      <th></th>\n      <th></th>\n      <th></th>\n      <th></th>\n      <th></th>\n      <th></th>\n      <th></th>\n      <th></th>\n    </tr>\n  </thead>\n  <tbody>\n    <tr>\n      <th>16412</th>\n      <td>Wols</td>\n      <td>[no title]</td>\n      <td>Etching on paper</td>\n      <td>1937</td>\n      <td>1983.0</td>\n      <td>130</td>\n      <td>80</td>\n      <td>mm</td>\n    </tr>\n    <tr>\n      <th>16413</th>\n      <td>Wols</td>\n      <td>[no title]</td>\n      <td>Etching and drypoint on paper</td>\n      <td>1937</td>\n      <td>1983.0</td>\n      <td>187</td>\n      <td>102</td>\n      <td>mm</td>\n    </tr>\n    <tr>\n      <th>16414</th>\n      <td>Wols</td>\n      <td>[no title]</td>\n      <td>Etching and drypoint on paper</td>\n      <td>1937</td>\n      <td>1983.0</td>\n      <td>248</td>\n      <td>168</td>\n      <td>mm</td>\n    </tr>\n    <tr>\n      <th>16415</th>\n      <td>Wols</td>\n      <td>[no title]</td>\n      <td>Etching and drypoint on paper</td>\n      <td>1937</td>\n      <td>1983.0</td>\n      <td>149</td>\n      <td>102</td>\n      <td>mm</td>\n    </tr>\n    <tr>\n      <th>16416</th>\n      <td>Wols</td>\n      <td>[no title]</td>\n      <td>Etching and drypoint on paper</td>\n      <td>1937</td>\n      <td>1983.0</td>\n      <td>203</td>\n      <td>120</td>\n      <td>mm</td>\n    </tr>\n    <tr>\n      <th>16417</th>\n      <td>Wols</td>\n      <td>[no title]</td>\n      <td>Etching on paper</td>\n      <td>1937</td>\n      <td>1983.0</td>\n      <td>130</td>\n      <td>79</td>\n      <td>mm</td>\n    </tr>\n    <tr>\n      <th>16418</th>\n      <td>Wols</td>\n      <td>[no title]</td>\n      <td>Etching and drypoint on paper</td>\n      <td>1937</td>\n      <td>1983.0</td>\n      <td>124</td>\n      <td>98</td>\n      <td>mm</td>\n    </tr>\n    <tr>\n      <th>16419</th>\n      <td>Wols</td>\n      <td>[no title]</td>\n      <td>Etching and drypoint on paper</td>\n      <td>1937</td>\n      <td>1983.0</td>\n      <td>140</td>\n      <td>89</td>\n      <td>mm</td>\n    </tr>\n    <tr>\n      <th>16420</th>\n      <td>Wols</td>\n      <td>[no title]</td>\n      <td>Etching and drypoint on paper</td>\n      <td>1937</td>\n      <td>1983.0</td>\n      <td>140</td>\n      <td>86</td>\n      <td>mm</td>\n    </tr>\n    <tr>\n      <th>16421</th>\n      <td>Wols</td>\n      <td>[no title]</td>\n      <td>Etching and drypoint on paper</td>\n      <td>1937</td>\n      <td>1983.0</td>\n      <td>83</td>\n      <td>79</td>\n      <td>mm</td>\n    </tr>\n    <tr>\n      <th>16422</th>\n      <td>Wols</td>\n      <td>[no title]</td>\n      <td>Etching and drypoint on paper</td>\n      <td>1937</td>\n      <td>1983.0</td>\n      <td>200</td>\n      <td>146</td>\n      <td>mm</td>\n    </tr>\n    <tr>\n      <th>16423</th>\n      <td>Wols</td>\n      <td>[no title]</td>\n      <td>Etching on paper</td>\n      <td>1937</td>\n      <td>1983.0</td>\n      <td>60</td>\n      <td>98</td>\n      <td>mm</td>\n    </tr>\n    <tr>\n      <th>16424</th>\n      <td>Wols</td>\n      <td>[no title]</td>\n      <td>Etching and drypoint on paper</td>\n      <td>1937</td>\n      <td>1983.0</td>\n      <td>124</td>\n      <td>98</td>\n      <td>mm</td>\n    </tr>\n    <tr>\n      <th>16425</th>\n      <td>Wols</td>\n      <td>[no title]</td>\n      <td>Etching on paper</td>\n      <td>1937</td>\n      <td>1983.0</td>\n      <td>124</td>\n      <td>98</td>\n      <td>mm</td>\n    </tr>\n    <tr>\n      <th>16426</th>\n      <td>Wols</td>\n      <td>[no title]</td>\n      <td>Etching and drypoint on paper</td>\n      <td>1937</td>\n      <td>1983.0</td>\n      <td>204</td>\n      <td>118</td>\n      <td>mm</td>\n    </tr>\n    <tr>\n      <th>16427</th>\n      <td>Wols</td>\n      <td>[no title]</td>\n      <td>Etching and drypoint on paper</td>\n      <td>1937</td>\n      <td>1983.0</td>\n      <td>105</td>\n      <td>98</td>\n      <td>mm</td>\n    </tr>\n    <tr>\n      <th>16428</th>\n      <td>Wols</td>\n      <td>[no title]</td>\n      <td>Etching and drypoint on paper</td>\n      <td>1937</td>\n      <td>1983.0</td>\n      <td>197</td>\n      <td>149</td>\n      <td>mm</td>\n    </tr>\n    <tr>\n      <th>16429</th>\n      <td>Wols</td>\n      <td>[no title]</td>\n      <td>Etching and drypoint on paper</td>\n      <td>1937</td>\n      <td>1983.0</td>\n      <td>102</td>\n      <td>120</td>\n      <td>mm</td>\n    </tr>\n    <tr>\n      <th>16430</th>\n      <td>Wols</td>\n      <td>[no title]</td>\n      <td>Etching and drypoint on paper</td>\n      <td>1937</td>\n      <td>1983.0</td>\n      <td>118</td>\n      <td>95</td>\n      <td>mm</td>\n    </tr>\n    <tr>\n      <th>16431</th>\n      <td>Wols</td>\n      <td>[no title]</td>\n      <td>Etching and drypoint on paper</td>\n      <td>1937</td>\n      <td>1983.0</td>\n      <td>140</td>\n      <td>79</td>\n      <td>mm</td>\n    </tr>\n    <tr>\n      <th>16432</th>\n      <td>Wols</td>\n      <td>[no title]</td>\n      <td>Etching and drypoint on paper</td>\n      <td>1937</td>\n      <td>1983.0</td>\n      <td>124</td>\n      <td>95</td>\n      <td>mm</td>\n    </tr>\n    <tr>\n      <th>16433</th>\n      <td>Wols</td>\n      <td>[no title]</td>\n      <td>Etching and drypoint on paper</td>\n      <td>1937</td>\n      <td>1983.0</td>\n      <td>105</td>\n      <td>73</td>\n      <td>mm</td>\n    </tr>\n    <tr>\n      <th>16434</th>\n      <td>Wols</td>\n      <td>[no title]</td>\n      <td>Etching and drypoint on paper</td>\n      <td>1937</td>\n      <td>1983.0</td>\n      <td>121</td>\n      <td>102</td>\n      <td>mm</td>\n    </tr>\n    <tr>\n      <th>16435</th>\n      <td>Wols</td>\n      <td>[no title]</td>\n      <td>Etching and drypoint on paper</td>\n      <td>1937</td>\n      <td>1983.0</td>\n      <td>121</td>\n      <td>92</td>\n      <td>mm</td>\n    </tr>\n    <tr>\n      <th>16436</th>\n      <td>Wols</td>\n      <td>[no title]</td>\n      <td>Etching and drypoint on paper</td>\n      <td>1937</td>\n      <td>1983.0</td>\n      <td>124</td>\n      <td>98</td>\n      <td>mm</td>\n    </tr>\n    <tr>\n      <th>16437</th>\n      <td>Wols</td>\n      <td>[no title]</td>\n      <td>Etching and drypoint on paper</td>\n      <td>1937</td>\n      <td>1983.0</td>\n      <td>124</td>\n      <td>98</td>\n      <td>mm</td>\n    </tr>\n    <tr>\n      <th>16438</th>\n      <td>Wols</td>\n      <td>[no title]</td>\n      <td>Etching and drypoint on paper</td>\n      <td>1937</td>\n      <td>1983.0</td>\n      <td>124</td>\n      <td>98</td>\n      <td>mm</td>\n    </tr>\n    <tr>\n      <th>16439</th>\n      <td>Wols</td>\n      <td>[no title]</td>\n      <td>Etching and drypoint on paper</td>\n      <td>1937</td>\n      <td>1983.0</td>\n      <td>102</td>\n      <td>70</td>\n      <td>mm</td>\n    </tr>\n    <tr>\n      <th>16440</th>\n      <td>Wols</td>\n      <td>[no title]</td>\n      <td>Etching and drypoint on paper</td>\n      <td>1937</td>\n      <td>1983.0</td>\n      <td>105</td>\n      <td>70</td>\n      <td>mm</td>\n    </tr>\n    <tr>\n      <th>16441</th>\n      <td>Wols</td>\n      <td>[no title]</td>\n      <td>nan</td>\n      <td>1937</td>\n      <td>1983.0</td>\n      <td>324</td>\n      <td>248</td>\n      <td>mm</td>\n    </tr>\n    <tr>\n      <th>4704</th>\n      <td>Frost, Sir Terry</td>\n      <td>Blue Moon</td>\n      <td>Lithograph on paper</td>\n      <td>1952</td>\n      <td>1983.0</td>\n      <td>355</td>\n      <td>273</td>\n      <td>mm</td>\n    </tr>\n    <tr>\n      <th>4705</th>\n      <td>Frost, Sir Terry</td>\n      <td>Boat Shapes</td>\n      <td>Linocut on paper</td>\n      <td>1952</td>\n      <td>1983.0</td>\n      <td>132</td>\n      <td>143</td>\n      <td>mm</td>\n    </tr>\n    <tr>\n      <th>4706</th>\n      <td>Frost, Sir Terry</td>\n      <td>Boat Shapes</td>\n      <td>Linocut on paper</td>\n      <td>1954</td>\n      <td>1983.0</td>\n      <td>131</td>\n      <td>155</td>\n      <td>mm</td>\n    </tr>\n    <tr>\n      <th>4707</th>\n      <td>Frost, Sir Terry</td>\n      <td>Boat Shapes</td>\n      <td>Linocut on paper</td>\n      <td>1954</td>\n      <td>1983.0</td>\n      <td>193</td>\n      <td>267</td>\n      <td>mm</td>\n    </tr>\n    <tr>\n      <th>4708</th>\n      <td>Frost, Sir Terry</td>\n      <td>Leeds</td>\n      <td>Drypoint on paper</td>\n      <td>1956</td>\n      <td>1983.0</td>\n      <td>125</td>\n      <td>167</td>\n      <td>mm</td>\n    </tr>\n    <tr>\n      <th>4709</th>\n      <td>Frost, Sir Terry</td>\n      <td>Camping, Anduze</td>\n      <td>Etching on paper</td>\n      <td>1979</td>\n      <td>1983.0</td>\n      <td>257</td>\n      <td>209</td>\n      <td>mm</td>\n    </tr>\n    <tr>\n      <th>4710</th>\n      <td>Frost, Sir Terry</td>\n      <td>Umea, Sweden</td>\n      <td>Etching on paper</td>\n      <td>1979</td>\n      <td>1983.0</td>\n      <td>NaN</td>\n      <td>NaN</td>\n      <td>NaN</td>\n    </tr>\n    <tr>\n      <th>4711</th>\n      <td>Frost, Sir Terry</td>\n      <td>Self-Portrait</td>\n      <td>Etching on paper</td>\n      <td>1980</td>\n      <td>1983.0</td>\n      <td>277</td>\n      <td>200</td>\n      <td>mm</td>\n    </tr>\n    <tr>\n      <th>11838</th>\n      <td>Phillips, Esq Tom</td>\n      <td>[colophon]</td>\n      <td>nan</td>\n      <td>1979</td>\n      <td>1983.0</td>\n      <td>292</td>\n      <td>204</td>\n      <td>mm</td>\n    </tr>\n  </tbody>\n</table>\n</div>"
     },
     "metadata": {},
     "execution_count": 52
    }
   ],
   "source": [
    "small_df.loc[:, 'medium'] = grouped_mediums.transform(fill_values)\n",
    "small_df"
   ]
  },
  {
   "cell_type": "code",
   "execution_count": 55,
   "metadata": {},
   "outputs": [
    {
     "output_type": "error",
     "ename": "ValueError",
     "evalue": "Wrong number of items passed 1, placement implies 6",
     "traceback": [
      "\u001b[0;31m---------------------------------------------------------------------------\u001b[0m",
      "\u001b[0;31mValueError\u001b[0m                                Traceback (most recent call last)",
      "\u001b[0;32m<ipython-input-55-d8b3ed587dde>\u001b[0m in \u001b[0;36m<module>\u001b[0;34m\u001b[0m\n\u001b[0;32m----> 1\u001b[0;31m \u001b[0mdf\u001b[0m\u001b[0;34m.\u001b[0m\u001b[0mgroupby\u001b[0m\u001b[0;34m(\u001b[0m\u001b[0;34m'artist'\u001b[0m\u001b[0;34m)\u001b[0m\u001b[0;34m.\u001b[0m\u001b[0magg\u001b[0m\u001b[0;34m(\u001b[0m\u001b[0mnp\u001b[0m\u001b[0;34m.\u001b[0m\u001b[0mmin\u001b[0m\u001b[0;34m)\u001b[0m\u001b[0;34m\u001b[0m\u001b[0;34m\u001b[0m\u001b[0m\n\u001b[0m",
      "\u001b[0;32m~/anaconda3/lib/python3.8/site-packages/pandas/core/groupby/generic.py\u001b[0m in \u001b[0;36maggregate\u001b[0;34m(self, func, engine, engine_kwargs, *args, **kwargs)\u001b[0m\n\u001b[1;32m    949\u001b[0m         \u001b[0mfunc\u001b[0m \u001b[0;34m=\u001b[0m \u001b[0mmaybe_mangle_lambdas\u001b[0m\u001b[0;34m(\u001b[0m\u001b[0mfunc\u001b[0m\u001b[0;34m)\u001b[0m\u001b[0;34m\u001b[0m\u001b[0;34m\u001b[0m\u001b[0m\n\u001b[1;32m    950\u001b[0m \u001b[0;34m\u001b[0m\u001b[0m\n\u001b[0;32m--> 951\u001b[0;31m         \u001b[0mresult\u001b[0m\u001b[0;34m,\u001b[0m \u001b[0mhow\u001b[0m \u001b[0;34m=\u001b[0m \u001b[0mself\u001b[0m\u001b[0;34m.\u001b[0m\u001b[0m_aggregate\u001b[0m\u001b[0;34m(\u001b[0m\u001b[0mfunc\u001b[0m\u001b[0;34m,\u001b[0m \u001b[0;34m*\u001b[0m\u001b[0margs\u001b[0m\u001b[0;34m,\u001b[0m \u001b[0;34m**\u001b[0m\u001b[0mkwargs\u001b[0m\u001b[0;34m)\u001b[0m\u001b[0;34m\u001b[0m\u001b[0;34m\u001b[0m\u001b[0m\n\u001b[0m\u001b[1;32m    952\u001b[0m         \u001b[0;32mif\u001b[0m \u001b[0mhow\u001b[0m \u001b[0;32mis\u001b[0m \u001b[0;32mNone\u001b[0m\u001b[0;34m:\u001b[0m\u001b[0;34m\u001b[0m\u001b[0;34m\u001b[0m\u001b[0m\n\u001b[1;32m    953\u001b[0m             \u001b[0;32mreturn\u001b[0m \u001b[0mresult\u001b[0m\u001b[0;34m\u001b[0m\u001b[0;34m\u001b[0m\u001b[0m\n",
      "\u001b[0;32m~/anaconda3/lib/python3.8/site-packages/pandas/core/base.py\u001b[0m in \u001b[0;36m_aggregate\u001b[0;34m(self, arg, *args, **kwargs)\u001b[0m\n\u001b[1;32m    484\u001b[0m         \u001b[0mf\u001b[0m \u001b[0;34m=\u001b[0m \u001b[0mself\u001b[0m\u001b[0;34m.\u001b[0m\u001b[0m_get_cython_func\u001b[0m\u001b[0;34m(\u001b[0m\u001b[0marg\u001b[0m\u001b[0;34m)\u001b[0m\u001b[0;34m\u001b[0m\u001b[0;34m\u001b[0m\u001b[0m\n\u001b[1;32m    485\u001b[0m         \u001b[0;32mif\u001b[0m \u001b[0mf\u001b[0m \u001b[0;32mand\u001b[0m \u001b[0;32mnot\u001b[0m \u001b[0margs\u001b[0m \u001b[0;32mand\u001b[0m \u001b[0;32mnot\u001b[0m \u001b[0mkwargs\u001b[0m\u001b[0;34m:\u001b[0m\u001b[0;34m\u001b[0m\u001b[0;34m\u001b[0m\u001b[0m\n\u001b[0;32m--> 486\u001b[0;31m             \u001b[0;32mreturn\u001b[0m \u001b[0mgetattr\u001b[0m\u001b[0;34m(\u001b[0m\u001b[0mself\u001b[0m\u001b[0;34m,\u001b[0m \u001b[0mf\u001b[0m\u001b[0;34m)\u001b[0m\u001b[0;34m(\u001b[0m\u001b[0;34m)\u001b[0m\u001b[0;34m,\u001b[0m \u001b[0;32mNone\u001b[0m\u001b[0;34m\u001b[0m\u001b[0;34m\u001b[0m\u001b[0m\n\u001b[0m\u001b[1;32m    487\u001b[0m \u001b[0;34m\u001b[0m\u001b[0m\n\u001b[1;32m    488\u001b[0m         \u001b[0;31m# caller can react\u001b[0m\u001b[0;34m\u001b[0m\u001b[0;34m\u001b[0m\u001b[0;34m\u001b[0m\u001b[0m\n",
      "\u001b[0;32m~/anaconda3/lib/python3.8/site-packages/pandas/core/groupby/groupby.py\u001b[0m in \u001b[0;36mmin\u001b[0;34m(self, numeric_only, min_count)\u001b[0m\n\u001b[1;32m   1549\u001b[0m     \u001b[0;34m@\u001b[0m\u001b[0mdoc\u001b[0m\u001b[0;34m(\u001b[0m\u001b[0m_groupby_agg_method_template\u001b[0m\u001b[0;34m,\u001b[0m \u001b[0mfname\u001b[0m\u001b[0;34m=\u001b[0m\u001b[0;34m\"min\"\u001b[0m\u001b[0;34m,\u001b[0m \u001b[0mno\u001b[0m\u001b[0;34m=\u001b[0m\u001b[0;32mFalse\u001b[0m\u001b[0;34m,\u001b[0m \u001b[0mmc\u001b[0m\u001b[0;34m=\u001b[0m\u001b[0;34m-\u001b[0m\u001b[0;36m1\u001b[0m\u001b[0;34m)\u001b[0m\u001b[0;34m\u001b[0m\u001b[0;34m\u001b[0m\u001b[0m\n\u001b[1;32m   1550\u001b[0m     \u001b[0;32mdef\u001b[0m \u001b[0mmin\u001b[0m\u001b[0;34m(\u001b[0m\u001b[0mself\u001b[0m\u001b[0;34m,\u001b[0m \u001b[0mnumeric_only\u001b[0m\u001b[0;34m:\u001b[0m \u001b[0mbool\u001b[0m \u001b[0;34m=\u001b[0m \u001b[0;32mFalse\u001b[0m\u001b[0;34m,\u001b[0m \u001b[0mmin_count\u001b[0m\u001b[0;34m:\u001b[0m \u001b[0mint\u001b[0m \u001b[0;34m=\u001b[0m \u001b[0;34m-\u001b[0m\u001b[0;36m1\u001b[0m\u001b[0;34m)\u001b[0m\u001b[0;34m:\u001b[0m\u001b[0;34m\u001b[0m\u001b[0;34m\u001b[0m\u001b[0m\n\u001b[0;32m-> 1551\u001b[0;31m         return self._agg_general(\n\u001b[0m\u001b[1;32m   1552\u001b[0m             \u001b[0mnumeric_only\u001b[0m\u001b[0;34m=\u001b[0m\u001b[0mnumeric_only\u001b[0m\u001b[0;34m,\u001b[0m \u001b[0mmin_count\u001b[0m\u001b[0;34m=\u001b[0m\u001b[0mmin_count\u001b[0m\u001b[0;34m,\u001b[0m \u001b[0malias\u001b[0m\u001b[0;34m=\u001b[0m\u001b[0;34m\"min\"\u001b[0m\u001b[0;34m,\u001b[0m \u001b[0mnpfunc\u001b[0m\u001b[0;34m=\u001b[0m\u001b[0mnp\u001b[0m\u001b[0;34m.\u001b[0m\u001b[0mmin\u001b[0m\u001b[0;34m\u001b[0m\u001b[0;34m\u001b[0m\u001b[0m\n\u001b[1;32m   1553\u001b[0m         )\n",
      "\u001b[0;32m~/anaconda3/lib/python3.8/site-packages/pandas/core/groupby/groupby.py\u001b[0m in \u001b[0;36m_agg_general\u001b[0;34m(self, numeric_only, min_count, alias, npfunc)\u001b[0m\n\u001b[1;32m    997\u001b[0m         \u001b[0;31m# try a cython aggregation if we can\u001b[0m\u001b[0;34m\u001b[0m\u001b[0;34m\u001b[0m\u001b[0;34m\u001b[0m\u001b[0m\n\u001b[1;32m    998\u001b[0m         \u001b[0;32mtry\u001b[0m\u001b[0;34m:\u001b[0m\u001b[0;34m\u001b[0m\u001b[0;34m\u001b[0m\u001b[0m\n\u001b[0;32m--> 999\u001b[0;31m             return self._cython_agg_general(\n\u001b[0m\u001b[1;32m   1000\u001b[0m                 \u001b[0mhow\u001b[0m\u001b[0;34m=\u001b[0m\u001b[0malias\u001b[0m\u001b[0;34m,\u001b[0m \u001b[0malt\u001b[0m\u001b[0;34m=\u001b[0m\u001b[0mnpfunc\u001b[0m\u001b[0;34m,\u001b[0m \u001b[0mnumeric_only\u001b[0m\u001b[0;34m=\u001b[0m\u001b[0mnumeric_only\u001b[0m\u001b[0;34m,\u001b[0m \u001b[0mmin_count\u001b[0m\u001b[0;34m=\u001b[0m\u001b[0mmin_count\u001b[0m\u001b[0;34m,\u001b[0m\u001b[0;34m\u001b[0m\u001b[0;34m\u001b[0m\u001b[0m\n\u001b[1;32m   1001\u001b[0m             )\n",
      "\u001b[0;32m~/anaconda3/lib/python3.8/site-packages/pandas/core/groupby/generic.py\u001b[0m in \u001b[0;36m_cython_agg_general\u001b[0;34m(self, how, alt, numeric_only, min_count)\u001b[0m\n\u001b[1;32m   1019\u001b[0m         \u001b[0mself\u001b[0m\u001b[0;34m,\u001b[0m \u001b[0mhow\u001b[0m\u001b[0;34m:\u001b[0m \u001b[0mstr\u001b[0m\u001b[0;34m,\u001b[0m \u001b[0malt\u001b[0m\u001b[0;34m=\u001b[0m\u001b[0;32mNone\u001b[0m\u001b[0;34m,\u001b[0m \u001b[0mnumeric_only\u001b[0m\u001b[0;34m:\u001b[0m \u001b[0mbool\u001b[0m \u001b[0;34m=\u001b[0m \u001b[0;32mTrue\u001b[0m\u001b[0;34m,\u001b[0m \u001b[0mmin_count\u001b[0m\u001b[0;34m:\u001b[0m \u001b[0mint\u001b[0m \u001b[0;34m=\u001b[0m \u001b[0;34m-\u001b[0m\u001b[0;36m1\u001b[0m\u001b[0;34m\u001b[0m\u001b[0;34m\u001b[0m\u001b[0m\n\u001b[1;32m   1020\u001b[0m     ) -> DataFrame:\n\u001b[0;32m-> 1021\u001b[0;31m         agg_blocks, agg_items = self._cython_agg_blocks(\n\u001b[0m\u001b[1;32m   1022\u001b[0m             \u001b[0mhow\u001b[0m\u001b[0;34m,\u001b[0m \u001b[0malt\u001b[0m\u001b[0;34m=\u001b[0m\u001b[0malt\u001b[0m\u001b[0;34m,\u001b[0m \u001b[0mnumeric_only\u001b[0m\u001b[0;34m=\u001b[0m\u001b[0mnumeric_only\u001b[0m\u001b[0;34m,\u001b[0m \u001b[0mmin_count\u001b[0m\u001b[0;34m=\u001b[0m\u001b[0mmin_count\u001b[0m\u001b[0;34m\u001b[0m\u001b[0;34m\u001b[0m\u001b[0m\n\u001b[1;32m   1023\u001b[0m         )\n",
      "\u001b[0;32m~/anaconda3/lib/python3.8/site-packages/pandas/core/groupby/generic.py\u001b[0m in \u001b[0;36m_cython_agg_blocks\u001b[0;34m(self, how, alt, numeric_only, min_count)\u001b[0m\n\u001b[1;32m   1122\u001b[0m                         \u001b[0mresult\u001b[0m \u001b[0;34m=\u001b[0m \u001b[0mresult\u001b[0m\u001b[0;34m.\u001b[0m\u001b[0mreshape\u001b[0m\u001b[0;34m(\u001b[0m\u001b[0;36m1\u001b[0m\u001b[0;34m,\u001b[0m \u001b[0;34m-\u001b[0m\u001b[0;36m1\u001b[0m\u001b[0;34m)\u001b[0m\u001b[0;34m\u001b[0m\u001b[0;34m\u001b[0m\u001b[0m\n\u001b[1;32m   1123\u001b[0m \u001b[0;34m\u001b[0m\u001b[0m\n\u001b[0;32m-> 1124\u001b[0;31m                 \u001b[0magg_block\u001b[0m\u001b[0;34m:\u001b[0m \u001b[0mBlock\u001b[0m \u001b[0;34m=\u001b[0m \u001b[0mblock\u001b[0m\u001b[0;34m.\u001b[0m\u001b[0mmake_block\u001b[0m\u001b[0;34m(\u001b[0m\u001b[0mresult\u001b[0m\u001b[0;34m)\u001b[0m\u001b[0;34m\u001b[0m\u001b[0;34m\u001b[0m\u001b[0m\n\u001b[0m\u001b[1;32m   1125\u001b[0m \u001b[0;34m\u001b[0m\u001b[0m\n\u001b[1;32m   1126\u001b[0m             \u001b[0mnew_items\u001b[0m\u001b[0;34m.\u001b[0m\u001b[0mappend\u001b[0m\u001b[0;34m(\u001b[0m\u001b[0mlocs\u001b[0m\u001b[0;34m)\u001b[0m\u001b[0;34m\u001b[0m\u001b[0;34m\u001b[0m\u001b[0m\n",
      "\u001b[0;32m~/anaconda3/lib/python3.8/site-packages/pandas/core/internals/blocks.py\u001b[0m in \u001b[0;36mmake_block\u001b[0;34m(self, values, placement)\u001b[0m\n\u001b[1;32m    252\u001b[0m             \u001b[0mvalues\u001b[0m \u001b[0;34m=\u001b[0m \u001b[0m_block_shape\u001b[0m\u001b[0;34m(\u001b[0m\u001b[0mvalues\u001b[0m\u001b[0;34m,\u001b[0m \u001b[0mndim\u001b[0m\u001b[0;34m=\u001b[0m\u001b[0mself\u001b[0m\u001b[0;34m.\u001b[0m\u001b[0mndim\u001b[0m\u001b[0;34m)\u001b[0m\u001b[0;34m\u001b[0m\u001b[0;34m\u001b[0m\u001b[0m\n\u001b[1;32m    253\u001b[0m \u001b[0;34m\u001b[0m\u001b[0m\n\u001b[0;32m--> 254\u001b[0;31m         \u001b[0;32mreturn\u001b[0m \u001b[0mmake_block\u001b[0m\u001b[0;34m(\u001b[0m\u001b[0mvalues\u001b[0m\u001b[0;34m,\u001b[0m \u001b[0mplacement\u001b[0m\u001b[0;34m=\u001b[0m\u001b[0mplacement\u001b[0m\u001b[0;34m,\u001b[0m \u001b[0mndim\u001b[0m\u001b[0;34m=\u001b[0m\u001b[0mself\u001b[0m\u001b[0;34m.\u001b[0m\u001b[0mndim\u001b[0m\u001b[0;34m)\u001b[0m\u001b[0;34m\u001b[0m\u001b[0;34m\u001b[0m\u001b[0m\n\u001b[0m\u001b[1;32m    255\u001b[0m \u001b[0;34m\u001b[0m\u001b[0m\n\u001b[1;32m    256\u001b[0m     \u001b[0;32mdef\u001b[0m \u001b[0mmake_block_same_class\u001b[0m\u001b[0;34m(\u001b[0m\u001b[0mself\u001b[0m\u001b[0;34m,\u001b[0m \u001b[0mvalues\u001b[0m\u001b[0;34m,\u001b[0m \u001b[0mplacement\u001b[0m\u001b[0;34m=\u001b[0m\u001b[0;32mNone\u001b[0m\u001b[0;34m,\u001b[0m \u001b[0mndim\u001b[0m\u001b[0;34m=\u001b[0m\u001b[0;32mNone\u001b[0m\u001b[0;34m)\u001b[0m\u001b[0;34m:\u001b[0m\u001b[0;34m\u001b[0m\u001b[0;34m\u001b[0m\u001b[0m\n",
      "\u001b[0;32m~/anaconda3/lib/python3.8/site-packages/pandas/core/internals/blocks.py\u001b[0m in \u001b[0;36mmake_block\u001b[0;34m(values, placement, klass, ndim, dtype)\u001b[0m\n\u001b[1;32m   2720\u001b[0m         \u001b[0mvalues\u001b[0m \u001b[0;34m=\u001b[0m \u001b[0mDatetimeArray\u001b[0m\u001b[0;34m.\u001b[0m\u001b[0m_simple_new\u001b[0m\u001b[0;34m(\u001b[0m\u001b[0mvalues\u001b[0m\u001b[0;34m,\u001b[0m \u001b[0mdtype\u001b[0m\u001b[0;34m=\u001b[0m\u001b[0mdtype\u001b[0m\u001b[0;34m)\u001b[0m\u001b[0;34m\u001b[0m\u001b[0;34m\u001b[0m\u001b[0m\n\u001b[1;32m   2721\u001b[0m \u001b[0;34m\u001b[0m\u001b[0m\n\u001b[0;32m-> 2722\u001b[0;31m     \u001b[0;32mreturn\u001b[0m \u001b[0mklass\u001b[0m\u001b[0;34m(\u001b[0m\u001b[0mvalues\u001b[0m\u001b[0;34m,\u001b[0m \u001b[0mndim\u001b[0m\u001b[0;34m=\u001b[0m\u001b[0mndim\u001b[0m\u001b[0;34m,\u001b[0m \u001b[0mplacement\u001b[0m\u001b[0;34m=\u001b[0m\u001b[0mplacement\u001b[0m\u001b[0;34m)\u001b[0m\u001b[0;34m\u001b[0m\u001b[0;34m\u001b[0m\u001b[0m\n\u001b[0m\u001b[1;32m   2723\u001b[0m \u001b[0;34m\u001b[0m\u001b[0m\n\u001b[1;32m   2724\u001b[0m \u001b[0;34m\u001b[0m\u001b[0m\n",
      "\u001b[0;32m~/anaconda3/lib/python3.8/site-packages/pandas/core/internals/blocks.py\u001b[0m in \u001b[0;36m__init__\u001b[0;34m(self, values, placement, ndim)\u001b[0m\n\u001b[1;32m   2376\u001b[0m             \u001b[0mvalues\u001b[0m \u001b[0;34m=\u001b[0m \u001b[0mnp\u001b[0m\u001b[0;34m.\u001b[0m\u001b[0marray\u001b[0m\u001b[0;34m(\u001b[0m\u001b[0mvalues\u001b[0m\u001b[0;34m,\u001b[0m \u001b[0mdtype\u001b[0m\u001b[0;34m=\u001b[0m\u001b[0mobject\u001b[0m\u001b[0;34m)\u001b[0m\u001b[0;34m\u001b[0m\u001b[0;34m\u001b[0m\u001b[0m\n\u001b[1;32m   2377\u001b[0m \u001b[0;34m\u001b[0m\u001b[0m\n\u001b[0;32m-> 2378\u001b[0;31m         \u001b[0msuper\u001b[0m\u001b[0;34m(\u001b[0m\u001b[0;34m)\u001b[0m\u001b[0;34m.\u001b[0m\u001b[0m__init__\u001b[0m\u001b[0;34m(\u001b[0m\u001b[0mvalues\u001b[0m\u001b[0;34m,\u001b[0m \u001b[0mndim\u001b[0m\u001b[0;34m=\u001b[0m\u001b[0mndim\u001b[0m\u001b[0;34m,\u001b[0m \u001b[0mplacement\u001b[0m\u001b[0;34m=\u001b[0m\u001b[0mplacement\u001b[0m\u001b[0;34m)\u001b[0m\u001b[0;34m\u001b[0m\u001b[0;34m\u001b[0m\u001b[0m\n\u001b[0m\u001b[1;32m   2379\u001b[0m \u001b[0;34m\u001b[0m\u001b[0m\n\u001b[1;32m   2380\u001b[0m     \u001b[0;34m@\u001b[0m\u001b[0mproperty\u001b[0m\u001b[0;34m\u001b[0m\u001b[0;34m\u001b[0m\u001b[0m\n",
      "\u001b[0;32m~/anaconda3/lib/python3.8/site-packages/pandas/core/internals/blocks.py\u001b[0m in \u001b[0;36m__init__\u001b[0;34m(self, values, placement, ndim)\u001b[0m\n\u001b[1;32m    128\u001b[0m \u001b[0;34m\u001b[0m\u001b[0m\n\u001b[1;32m    129\u001b[0m         \u001b[0;32mif\u001b[0m \u001b[0mself\u001b[0m\u001b[0;34m.\u001b[0m\u001b[0m_validate_ndim\u001b[0m \u001b[0;32mand\u001b[0m \u001b[0mself\u001b[0m\u001b[0;34m.\u001b[0m\u001b[0mndim\u001b[0m \u001b[0;32mand\u001b[0m \u001b[0mlen\u001b[0m\u001b[0;34m(\u001b[0m\u001b[0mself\u001b[0m\u001b[0;34m.\u001b[0m\u001b[0mmgr_locs\u001b[0m\u001b[0;34m)\u001b[0m \u001b[0;34m!=\u001b[0m \u001b[0mlen\u001b[0m\u001b[0;34m(\u001b[0m\u001b[0mself\u001b[0m\u001b[0;34m.\u001b[0m\u001b[0mvalues\u001b[0m\u001b[0;34m)\u001b[0m\u001b[0;34m:\u001b[0m\u001b[0;34m\u001b[0m\u001b[0;34m\u001b[0m\u001b[0m\n\u001b[0;32m--> 130\u001b[0;31m             raise ValueError(\n\u001b[0m\u001b[1;32m    131\u001b[0m                 \u001b[0;34mf\"Wrong number of items passed {len(self.values)}, \"\u001b[0m\u001b[0;34m\u001b[0m\u001b[0;34m\u001b[0m\u001b[0m\n\u001b[1;32m    132\u001b[0m                 \u001b[0;34mf\"placement implies {len(self.mgr_locs)}\"\u001b[0m\u001b[0;34m\u001b[0m\u001b[0;34m\u001b[0m\u001b[0m\n",
      "\u001b[0;31mValueError\u001b[0m: Wrong number of items passed 1, placement implies 6"
     ]
    }
   ],
   "source": [
    "df.groupby('artist').agg(np.min)\n"
   ]
  },
  {
   "cell_type": "code",
   "execution_count": 56,
   "metadata": {},
   "outputs": [
    {
     "output_type": "error",
     "ename": "ValueError",
     "evalue": "Wrong number of items passed 1, placement implies 6",
     "traceback": [
      "\u001b[0;31m---------------------------------------------------------------------------\u001b[0m",
      "\u001b[0;31mValueError\u001b[0m                                Traceback (most recent call last)",
      "\u001b[0;32m<ipython-input-56-0f16112ddb82>\u001b[0m in \u001b[0;36m<module>\u001b[0;34m\u001b[0m\n\u001b[0;32m----> 1\u001b[0;31m \u001b[0mdf\u001b[0m\u001b[0;34m.\u001b[0m\u001b[0mgroupby\u001b[0m\u001b[0;34m(\u001b[0m\u001b[0;34m'artist'\u001b[0m\u001b[0;34m)\u001b[0m\u001b[0;34m.\u001b[0m\u001b[0mmin\u001b[0m\u001b[0;34m(\u001b[0m\u001b[0;34m)\u001b[0m\u001b[0;34m\u001b[0m\u001b[0;34m\u001b[0m\u001b[0m\n\u001b[0m",
      "\u001b[0;32m~/anaconda3/lib/python3.8/site-packages/pandas/core/groupby/groupby.py\u001b[0m in \u001b[0;36mmin\u001b[0;34m(self, numeric_only, min_count)\u001b[0m\n\u001b[1;32m   1549\u001b[0m     \u001b[0;34m@\u001b[0m\u001b[0mdoc\u001b[0m\u001b[0;34m(\u001b[0m\u001b[0m_groupby_agg_method_template\u001b[0m\u001b[0;34m,\u001b[0m \u001b[0mfname\u001b[0m\u001b[0;34m=\u001b[0m\u001b[0;34m\"min\"\u001b[0m\u001b[0;34m,\u001b[0m \u001b[0mno\u001b[0m\u001b[0;34m=\u001b[0m\u001b[0;32mFalse\u001b[0m\u001b[0;34m,\u001b[0m \u001b[0mmc\u001b[0m\u001b[0;34m=\u001b[0m\u001b[0;34m-\u001b[0m\u001b[0;36m1\u001b[0m\u001b[0;34m)\u001b[0m\u001b[0;34m\u001b[0m\u001b[0;34m\u001b[0m\u001b[0m\n\u001b[1;32m   1550\u001b[0m     \u001b[0;32mdef\u001b[0m \u001b[0mmin\u001b[0m\u001b[0;34m(\u001b[0m\u001b[0mself\u001b[0m\u001b[0;34m,\u001b[0m \u001b[0mnumeric_only\u001b[0m\u001b[0;34m:\u001b[0m \u001b[0mbool\u001b[0m \u001b[0;34m=\u001b[0m \u001b[0;32mFalse\u001b[0m\u001b[0;34m,\u001b[0m \u001b[0mmin_count\u001b[0m\u001b[0;34m:\u001b[0m \u001b[0mint\u001b[0m \u001b[0;34m=\u001b[0m \u001b[0;34m-\u001b[0m\u001b[0;36m1\u001b[0m\u001b[0;34m)\u001b[0m\u001b[0;34m:\u001b[0m\u001b[0;34m\u001b[0m\u001b[0;34m\u001b[0m\u001b[0m\n\u001b[0;32m-> 1551\u001b[0;31m         return self._agg_general(\n\u001b[0m\u001b[1;32m   1552\u001b[0m             \u001b[0mnumeric_only\u001b[0m\u001b[0;34m=\u001b[0m\u001b[0mnumeric_only\u001b[0m\u001b[0;34m,\u001b[0m \u001b[0mmin_count\u001b[0m\u001b[0;34m=\u001b[0m\u001b[0mmin_count\u001b[0m\u001b[0;34m,\u001b[0m \u001b[0malias\u001b[0m\u001b[0;34m=\u001b[0m\u001b[0;34m\"min\"\u001b[0m\u001b[0;34m,\u001b[0m \u001b[0mnpfunc\u001b[0m\u001b[0;34m=\u001b[0m\u001b[0mnp\u001b[0m\u001b[0;34m.\u001b[0m\u001b[0mmin\u001b[0m\u001b[0;34m\u001b[0m\u001b[0;34m\u001b[0m\u001b[0m\n\u001b[1;32m   1553\u001b[0m         )\n",
      "\u001b[0;32m~/anaconda3/lib/python3.8/site-packages/pandas/core/groupby/groupby.py\u001b[0m in \u001b[0;36m_agg_general\u001b[0;34m(self, numeric_only, min_count, alias, npfunc)\u001b[0m\n\u001b[1;32m    997\u001b[0m         \u001b[0;31m# try a cython aggregation if we can\u001b[0m\u001b[0;34m\u001b[0m\u001b[0;34m\u001b[0m\u001b[0;34m\u001b[0m\u001b[0m\n\u001b[1;32m    998\u001b[0m         \u001b[0;32mtry\u001b[0m\u001b[0;34m:\u001b[0m\u001b[0;34m\u001b[0m\u001b[0;34m\u001b[0m\u001b[0m\n\u001b[0;32m--> 999\u001b[0;31m             return self._cython_agg_general(\n\u001b[0m\u001b[1;32m   1000\u001b[0m                 \u001b[0mhow\u001b[0m\u001b[0;34m=\u001b[0m\u001b[0malias\u001b[0m\u001b[0;34m,\u001b[0m \u001b[0malt\u001b[0m\u001b[0;34m=\u001b[0m\u001b[0mnpfunc\u001b[0m\u001b[0;34m,\u001b[0m \u001b[0mnumeric_only\u001b[0m\u001b[0;34m=\u001b[0m\u001b[0mnumeric_only\u001b[0m\u001b[0;34m,\u001b[0m \u001b[0mmin_count\u001b[0m\u001b[0;34m=\u001b[0m\u001b[0mmin_count\u001b[0m\u001b[0;34m,\u001b[0m\u001b[0;34m\u001b[0m\u001b[0;34m\u001b[0m\u001b[0m\n\u001b[1;32m   1001\u001b[0m             )\n",
      "\u001b[0;32m~/anaconda3/lib/python3.8/site-packages/pandas/core/groupby/generic.py\u001b[0m in \u001b[0;36m_cython_agg_general\u001b[0;34m(self, how, alt, numeric_only, min_count)\u001b[0m\n\u001b[1;32m   1019\u001b[0m         \u001b[0mself\u001b[0m\u001b[0;34m,\u001b[0m \u001b[0mhow\u001b[0m\u001b[0;34m:\u001b[0m \u001b[0mstr\u001b[0m\u001b[0;34m,\u001b[0m \u001b[0malt\u001b[0m\u001b[0;34m=\u001b[0m\u001b[0;32mNone\u001b[0m\u001b[0;34m,\u001b[0m \u001b[0mnumeric_only\u001b[0m\u001b[0;34m:\u001b[0m \u001b[0mbool\u001b[0m \u001b[0;34m=\u001b[0m \u001b[0;32mTrue\u001b[0m\u001b[0;34m,\u001b[0m \u001b[0mmin_count\u001b[0m\u001b[0;34m:\u001b[0m \u001b[0mint\u001b[0m \u001b[0;34m=\u001b[0m \u001b[0;34m-\u001b[0m\u001b[0;36m1\u001b[0m\u001b[0;34m\u001b[0m\u001b[0;34m\u001b[0m\u001b[0m\n\u001b[1;32m   1020\u001b[0m     ) -> DataFrame:\n\u001b[0;32m-> 1021\u001b[0;31m         agg_blocks, agg_items = self._cython_agg_blocks(\n\u001b[0m\u001b[1;32m   1022\u001b[0m             \u001b[0mhow\u001b[0m\u001b[0;34m,\u001b[0m \u001b[0malt\u001b[0m\u001b[0;34m=\u001b[0m\u001b[0malt\u001b[0m\u001b[0;34m,\u001b[0m \u001b[0mnumeric_only\u001b[0m\u001b[0;34m=\u001b[0m\u001b[0mnumeric_only\u001b[0m\u001b[0;34m,\u001b[0m \u001b[0mmin_count\u001b[0m\u001b[0;34m=\u001b[0m\u001b[0mmin_count\u001b[0m\u001b[0;34m\u001b[0m\u001b[0;34m\u001b[0m\u001b[0m\n\u001b[1;32m   1023\u001b[0m         )\n",
      "\u001b[0;32m~/anaconda3/lib/python3.8/site-packages/pandas/core/groupby/generic.py\u001b[0m in \u001b[0;36m_cython_agg_blocks\u001b[0;34m(self, how, alt, numeric_only, min_count)\u001b[0m\n\u001b[1;32m   1122\u001b[0m                         \u001b[0mresult\u001b[0m \u001b[0;34m=\u001b[0m \u001b[0mresult\u001b[0m\u001b[0;34m.\u001b[0m\u001b[0mreshape\u001b[0m\u001b[0;34m(\u001b[0m\u001b[0;36m1\u001b[0m\u001b[0;34m,\u001b[0m \u001b[0;34m-\u001b[0m\u001b[0;36m1\u001b[0m\u001b[0;34m)\u001b[0m\u001b[0;34m\u001b[0m\u001b[0;34m\u001b[0m\u001b[0m\n\u001b[1;32m   1123\u001b[0m \u001b[0;34m\u001b[0m\u001b[0m\n\u001b[0;32m-> 1124\u001b[0;31m                 \u001b[0magg_block\u001b[0m\u001b[0;34m:\u001b[0m \u001b[0mBlock\u001b[0m \u001b[0;34m=\u001b[0m \u001b[0mblock\u001b[0m\u001b[0;34m.\u001b[0m\u001b[0mmake_block\u001b[0m\u001b[0;34m(\u001b[0m\u001b[0mresult\u001b[0m\u001b[0;34m)\u001b[0m\u001b[0;34m\u001b[0m\u001b[0;34m\u001b[0m\u001b[0m\n\u001b[0m\u001b[1;32m   1125\u001b[0m \u001b[0;34m\u001b[0m\u001b[0m\n\u001b[1;32m   1126\u001b[0m             \u001b[0mnew_items\u001b[0m\u001b[0;34m.\u001b[0m\u001b[0mappend\u001b[0m\u001b[0;34m(\u001b[0m\u001b[0mlocs\u001b[0m\u001b[0;34m)\u001b[0m\u001b[0;34m\u001b[0m\u001b[0;34m\u001b[0m\u001b[0m\n",
      "\u001b[0;32m~/anaconda3/lib/python3.8/site-packages/pandas/core/internals/blocks.py\u001b[0m in \u001b[0;36mmake_block\u001b[0;34m(self, values, placement)\u001b[0m\n\u001b[1;32m    252\u001b[0m             \u001b[0mvalues\u001b[0m \u001b[0;34m=\u001b[0m \u001b[0m_block_shape\u001b[0m\u001b[0;34m(\u001b[0m\u001b[0mvalues\u001b[0m\u001b[0;34m,\u001b[0m \u001b[0mndim\u001b[0m\u001b[0;34m=\u001b[0m\u001b[0mself\u001b[0m\u001b[0;34m.\u001b[0m\u001b[0mndim\u001b[0m\u001b[0;34m)\u001b[0m\u001b[0;34m\u001b[0m\u001b[0;34m\u001b[0m\u001b[0m\n\u001b[1;32m    253\u001b[0m \u001b[0;34m\u001b[0m\u001b[0m\n\u001b[0;32m--> 254\u001b[0;31m         \u001b[0;32mreturn\u001b[0m \u001b[0mmake_block\u001b[0m\u001b[0;34m(\u001b[0m\u001b[0mvalues\u001b[0m\u001b[0;34m,\u001b[0m \u001b[0mplacement\u001b[0m\u001b[0;34m=\u001b[0m\u001b[0mplacement\u001b[0m\u001b[0;34m,\u001b[0m \u001b[0mndim\u001b[0m\u001b[0;34m=\u001b[0m\u001b[0mself\u001b[0m\u001b[0;34m.\u001b[0m\u001b[0mndim\u001b[0m\u001b[0;34m)\u001b[0m\u001b[0;34m\u001b[0m\u001b[0;34m\u001b[0m\u001b[0m\n\u001b[0m\u001b[1;32m    255\u001b[0m \u001b[0;34m\u001b[0m\u001b[0m\n\u001b[1;32m    256\u001b[0m     \u001b[0;32mdef\u001b[0m \u001b[0mmake_block_same_class\u001b[0m\u001b[0;34m(\u001b[0m\u001b[0mself\u001b[0m\u001b[0;34m,\u001b[0m \u001b[0mvalues\u001b[0m\u001b[0;34m,\u001b[0m \u001b[0mplacement\u001b[0m\u001b[0;34m=\u001b[0m\u001b[0;32mNone\u001b[0m\u001b[0;34m,\u001b[0m \u001b[0mndim\u001b[0m\u001b[0;34m=\u001b[0m\u001b[0;32mNone\u001b[0m\u001b[0;34m)\u001b[0m\u001b[0;34m:\u001b[0m\u001b[0;34m\u001b[0m\u001b[0;34m\u001b[0m\u001b[0m\n",
      "\u001b[0;32m~/anaconda3/lib/python3.8/site-packages/pandas/core/internals/blocks.py\u001b[0m in \u001b[0;36mmake_block\u001b[0;34m(values, placement, klass, ndim, dtype)\u001b[0m\n\u001b[1;32m   2720\u001b[0m         \u001b[0mvalues\u001b[0m \u001b[0;34m=\u001b[0m \u001b[0mDatetimeArray\u001b[0m\u001b[0;34m.\u001b[0m\u001b[0m_simple_new\u001b[0m\u001b[0;34m(\u001b[0m\u001b[0mvalues\u001b[0m\u001b[0;34m,\u001b[0m \u001b[0mdtype\u001b[0m\u001b[0;34m=\u001b[0m\u001b[0mdtype\u001b[0m\u001b[0;34m)\u001b[0m\u001b[0;34m\u001b[0m\u001b[0;34m\u001b[0m\u001b[0m\n\u001b[1;32m   2721\u001b[0m \u001b[0;34m\u001b[0m\u001b[0m\n\u001b[0;32m-> 2722\u001b[0;31m     \u001b[0;32mreturn\u001b[0m \u001b[0mklass\u001b[0m\u001b[0;34m(\u001b[0m\u001b[0mvalues\u001b[0m\u001b[0;34m,\u001b[0m \u001b[0mndim\u001b[0m\u001b[0;34m=\u001b[0m\u001b[0mndim\u001b[0m\u001b[0;34m,\u001b[0m \u001b[0mplacement\u001b[0m\u001b[0;34m=\u001b[0m\u001b[0mplacement\u001b[0m\u001b[0;34m)\u001b[0m\u001b[0;34m\u001b[0m\u001b[0;34m\u001b[0m\u001b[0m\n\u001b[0m\u001b[1;32m   2723\u001b[0m \u001b[0;34m\u001b[0m\u001b[0m\n\u001b[1;32m   2724\u001b[0m \u001b[0;34m\u001b[0m\u001b[0m\n",
      "\u001b[0;32m~/anaconda3/lib/python3.8/site-packages/pandas/core/internals/blocks.py\u001b[0m in \u001b[0;36m__init__\u001b[0;34m(self, values, placement, ndim)\u001b[0m\n\u001b[1;32m   2376\u001b[0m             \u001b[0mvalues\u001b[0m \u001b[0;34m=\u001b[0m \u001b[0mnp\u001b[0m\u001b[0;34m.\u001b[0m\u001b[0marray\u001b[0m\u001b[0;34m(\u001b[0m\u001b[0mvalues\u001b[0m\u001b[0;34m,\u001b[0m \u001b[0mdtype\u001b[0m\u001b[0;34m=\u001b[0m\u001b[0mobject\u001b[0m\u001b[0;34m)\u001b[0m\u001b[0;34m\u001b[0m\u001b[0;34m\u001b[0m\u001b[0m\n\u001b[1;32m   2377\u001b[0m \u001b[0;34m\u001b[0m\u001b[0m\n\u001b[0;32m-> 2378\u001b[0;31m         \u001b[0msuper\u001b[0m\u001b[0;34m(\u001b[0m\u001b[0;34m)\u001b[0m\u001b[0;34m.\u001b[0m\u001b[0m__init__\u001b[0m\u001b[0;34m(\u001b[0m\u001b[0mvalues\u001b[0m\u001b[0;34m,\u001b[0m \u001b[0mndim\u001b[0m\u001b[0;34m=\u001b[0m\u001b[0mndim\u001b[0m\u001b[0;34m,\u001b[0m \u001b[0mplacement\u001b[0m\u001b[0;34m=\u001b[0m\u001b[0mplacement\u001b[0m\u001b[0;34m)\u001b[0m\u001b[0;34m\u001b[0m\u001b[0;34m\u001b[0m\u001b[0m\n\u001b[0m\u001b[1;32m   2379\u001b[0m \u001b[0;34m\u001b[0m\u001b[0m\n\u001b[1;32m   2380\u001b[0m     \u001b[0;34m@\u001b[0m\u001b[0mproperty\u001b[0m\u001b[0;34m\u001b[0m\u001b[0;34m\u001b[0m\u001b[0m\n",
      "\u001b[0;32m~/anaconda3/lib/python3.8/site-packages/pandas/core/internals/blocks.py\u001b[0m in \u001b[0;36m__init__\u001b[0;34m(self, values, placement, ndim)\u001b[0m\n\u001b[1;32m    128\u001b[0m \u001b[0;34m\u001b[0m\u001b[0m\n\u001b[1;32m    129\u001b[0m         \u001b[0;32mif\u001b[0m \u001b[0mself\u001b[0m\u001b[0;34m.\u001b[0m\u001b[0m_validate_ndim\u001b[0m \u001b[0;32mand\u001b[0m \u001b[0mself\u001b[0m\u001b[0;34m.\u001b[0m\u001b[0mndim\u001b[0m \u001b[0;32mand\u001b[0m \u001b[0mlen\u001b[0m\u001b[0;34m(\u001b[0m\u001b[0mself\u001b[0m\u001b[0;34m.\u001b[0m\u001b[0mmgr_locs\u001b[0m\u001b[0;34m)\u001b[0m \u001b[0;34m!=\u001b[0m \u001b[0mlen\u001b[0m\u001b[0;34m(\u001b[0m\u001b[0mself\u001b[0m\u001b[0;34m.\u001b[0m\u001b[0mvalues\u001b[0m\u001b[0;34m)\u001b[0m\u001b[0;34m:\u001b[0m\u001b[0;34m\u001b[0m\u001b[0;34m\u001b[0m\u001b[0m\n\u001b[0;32m--> 130\u001b[0;31m             raise ValueError(\n\u001b[0m\u001b[1;32m    131\u001b[0m                 \u001b[0;34mf\"Wrong number of items passed {len(self.values)}, \"\u001b[0m\u001b[0;34m\u001b[0m\u001b[0;34m\u001b[0m\u001b[0m\n\u001b[1;32m    132\u001b[0m                 \u001b[0;34mf\"placement implies {len(self.mgr_locs)}\"\u001b[0m\u001b[0;34m\u001b[0m\u001b[0;34m\u001b[0m\u001b[0m\n",
      "\u001b[0;31mValueError\u001b[0m: Wrong number of items passed 1, placement implies 6"
     ]
    }
   ],
   "source": [
    "df.groupby('artist').min()\n"
   ]
  },
  {
   "cell_type": "code",
   "execution_count": 57,
   "metadata": {},
   "outputs": [],
   "source": [
    "grouped_titles = df.groupby('title')\n"
   ]
  },
  {
   "cell_type": "code",
   "execution_count": 58,
   "metadata": {},
   "outputs": [],
   "source": [
    "title_counts = grouped_titles.size().sort_values(ascending=False)\n"
   ]
  },
  {
   "cell_type": "code",
   "execution_count": 59,
   "metadata": {},
   "outputs": [],
   "source": [
    "condition = lambda x: len(x.index) > 1\n"
   ]
  },
  {
   "cell_type": "code",
   "execution_count": 60,
   "metadata": {},
   "outputs": [],
   "source": [
    "dup_titles_df = grouped_titles.filter(condition)\n"
   ]
  },
  {
   "cell_type": "code",
   "execution_count": 61,
   "metadata": {},
   "outputs": [],
   "source": [
    "dup_titles_df.sort_values('title', inplace=True)\n"
   ]
  },
  {
   "cell_type": "code",
   "execution_count": 62,
   "metadata": {},
   "outputs": [
    {
     "output_type": "execute_result",
     "data": {
      "text/plain": [
       "                artist                 title  \\\n",
       "id                                             \n",
       "20571     Scully, Sean                    #1   \n",
       "21345  Dunham, Carroll                    #1   \n",
       "21346  Dunham, Carroll                    #2   \n",
       "20572     Scully, Sean                    #2   \n",
       "21347  Dunham, Carroll                    #3   \n",
       "...                ...                   ...   \n",
       "97431     Warhol, Andy  “The Runaway Pigeon”   \n",
       "97408     Warhol, Andy  “The Runaway Pigeon”   \n",
       "97409     Warhol, Andy  “The Runaway Pigeon”   \n",
       "97428     Warhol, Andy  “The Summer Dancers”   \n",
       "97427     Warhol, Andy  “The Summer Dancers”   \n",
       "\n",
       "                                       medium  year  acquisitionYear width  \\\n",
       "id                                                                           \n",
       "20571                       Aquatint on paper  1992           1992.0   117   \n",
       "21345                       Drypoint on paper  1989           2002.0   392   \n",
       "21346                       Drypoint on paper  1989           2002.0   392   \n",
       "20572                       Aquatint on paper  1992           1992.0   323   \n",
       "21347                       Drypoint on paper  1989           2002.0   392   \n",
       "...                                       ...   ...              ...   ...   \n",
       "97431            Ink on paper on ink on paper  1953           2009.0   280   \n",
       "97408  Ink, watercolour and graphite on paper  1953           2009.0   269   \n",
       "97409  Ink, watercolour and graphite on paper  1953           2009.0   272   \n",
       "97428                    Ink and dye on paper  1955           2009.0   215   \n",
       "97427    Ink and dye on paper on ink on paper  1955           2009.0   226   \n",
       "\n",
       "      height units  \n",
       "id                  \n",
       "20571    174    mm  \n",
       "21345    579    mm  \n",
       "21346    579    mm  \n",
       "20572    278    mm  \n",
       "21347    579    mm  \n",
       "...      ...   ...  \n",
       "97431    205    mm  \n",
       "97408    295    mm  \n",
       "97409    237    mm  \n",
       "97428    145    mm  \n",
       "97427    319    mm  \n",
       "\n",
       "[31210 rows x 8 columns]"
      ],
      "text/html": "<div>\n<style scoped>\n    .dataframe tbody tr th:only-of-type {\n        vertical-align: middle;\n    }\n\n    .dataframe tbody tr th {\n        vertical-align: top;\n    }\n\n    .dataframe thead th {\n        text-align: right;\n    }\n</style>\n<table border=\"1\" class=\"dataframe\">\n  <thead>\n    <tr style=\"text-align: right;\">\n      <th></th>\n      <th>artist</th>\n      <th>title</th>\n      <th>medium</th>\n      <th>year</th>\n      <th>acquisitionYear</th>\n      <th>width</th>\n      <th>height</th>\n      <th>units</th>\n    </tr>\n    <tr>\n      <th>id</th>\n      <th></th>\n      <th></th>\n      <th></th>\n      <th></th>\n      <th></th>\n      <th></th>\n      <th></th>\n      <th></th>\n    </tr>\n  </thead>\n  <tbody>\n    <tr>\n      <th>20571</th>\n      <td>Scully, Sean</td>\n      <td>#1</td>\n      <td>Aquatint on paper</td>\n      <td>1992</td>\n      <td>1992.0</td>\n      <td>117</td>\n      <td>174</td>\n      <td>mm</td>\n    </tr>\n    <tr>\n      <th>21345</th>\n      <td>Dunham, Carroll</td>\n      <td>#1</td>\n      <td>Drypoint on paper</td>\n      <td>1989</td>\n      <td>2002.0</td>\n      <td>392</td>\n      <td>579</td>\n      <td>mm</td>\n    </tr>\n    <tr>\n      <th>21346</th>\n      <td>Dunham, Carroll</td>\n      <td>#2</td>\n      <td>Drypoint on paper</td>\n      <td>1989</td>\n      <td>2002.0</td>\n      <td>392</td>\n      <td>579</td>\n      <td>mm</td>\n    </tr>\n    <tr>\n      <th>20572</th>\n      <td>Scully, Sean</td>\n      <td>#2</td>\n      <td>Aquatint on paper</td>\n      <td>1992</td>\n      <td>1992.0</td>\n      <td>323</td>\n      <td>278</td>\n      <td>mm</td>\n    </tr>\n    <tr>\n      <th>21347</th>\n      <td>Dunham, Carroll</td>\n      <td>#3</td>\n      <td>Drypoint on paper</td>\n      <td>1989</td>\n      <td>2002.0</td>\n      <td>392</td>\n      <td>579</td>\n      <td>mm</td>\n    </tr>\n    <tr>\n      <th>...</th>\n      <td>...</td>\n      <td>...</td>\n      <td>...</td>\n      <td>...</td>\n      <td>...</td>\n      <td>...</td>\n      <td>...</td>\n      <td>...</td>\n    </tr>\n    <tr>\n      <th>97431</th>\n      <td>Warhol, Andy</td>\n      <td>“The Runaway Pigeon”</td>\n      <td>Ink on paper on ink on paper</td>\n      <td>1953</td>\n      <td>2009.0</td>\n      <td>280</td>\n      <td>205</td>\n      <td>mm</td>\n    </tr>\n    <tr>\n      <th>97408</th>\n      <td>Warhol, Andy</td>\n      <td>“The Runaway Pigeon”</td>\n      <td>Ink, watercolour and graphite on paper</td>\n      <td>1953</td>\n      <td>2009.0</td>\n      <td>269</td>\n      <td>295</td>\n      <td>mm</td>\n    </tr>\n    <tr>\n      <th>97409</th>\n      <td>Warhol, Andy</td>\n      <td>“The Runaway Pigeon”</td>\n      <td>Ink, watercolour and graphite on paper</td>\n      <td>1953</td>\n      <td>2009.0</td>\n      <td>272</td>\n      <td>237</td>\n      <td>mm</td>\n    </tr>\n    <tr>\n      <th>97428</th>\n      <td>Warhol, Andy</td>\n      <td>“The Summer Dancers”</td>\n      <td>Ink and dye on paper</td>\n      <td>1955</td>\n      <td>2009.0</td>\n      <td>215</td>\n      <td>145</td>\n      <td>mm</td>\n    </tr>\n    <tr>\n      <th>97427</th>\n      <td>Warhol, Andy</td>\n      <td>“The Summer Dancers”</td>\n      <td>Ink and dye on paper on ink on paper</td>\n      <td>1955</td>\n      <td>2009.0</td>\n      <td>226</td>\n      <td>319</td>\n      <td>mm</td>\n    </tr>\n  </tbody>\n</table>\n<p>31210 rows × 8 columns</p>\n</div>"
     },
     "metadata": {},
     "execution_count": 62
    }
   ],
   "source": [
    "dup_titles_df"
   ]
  },
  {
   "cell_type": "code",
   "execution_count": null,
   "metadata": {},
   "outputs": [],
   "source": [
    "# transform\n",
    "# grouped_medium = df.groupby('artist')['medium']\n",
    "# df.loc[:,'medium'] = grouped_medium.transform(fill_values)\n",
    "\n",
    "# find minimum values\n",
    "# grouped_acq_year = df.groupby('artist')['acquisitionYear']\n",
    "# min_acquisition_years = grouped_acq_year.agg(np.min)\n",
    "# min_acquisition_years = grouped_acq_year.min()\n",
    "\n",
    "#Duplicated titles\n",
    "# grouped_titles = df.groupby('titles')\n",
    "# condition = lambda x: len(x.index) > 1\n",
    "# filtered_df = grouped_titles.filter(condition)\n"
   ]
  },
  {
   "cell_type": "code",
   "execution_count": 18,
   "metadata": {},
   "outputs": [],
   "source": [
    "grouped_acq_year = df.groupby('artist')['acquisitionYear']\n"
   ]
  },
  {
   "cell_type": "code",
   "execution_count": 19,
   "metadata": {},
   "outputs": [],
   "source": [
    "min_acquisition_years = grouped_acq_year.agg(np.min)\n"
   ]
  },
  {
   "cell_type": "code",
   "execution_count": 20,
   "metadata": {},
   "outputs": [
    {
     "output_type": "execute_result",
     "data": {
      "text/plain": [
       "artist\n",
       "?British School           1927.0\n",
       "Abakanowicz, Magdalena    2009.0\n",
       "Abbey, Edwin Austin       1924.0\n",
       "Abbott, Berenice          2010.0\n",
       "Abbott, Lemuel Francis    1885.0\n",
       "                           ...  \n",
       "Zuloaga, Ignacio          1923.0\n",
       "Zyw, Aleksander           1962.0\n",
       "di Suvero, Mark           2004.0\n",
       "van Elk, Ger              1980.0\n",
       "Štyrský, Jindrich         2007.0\n",
       "Name: acquisitionYear, Length: 3336, dtype: float64"
      ]
     },
     "metadata": {},
     "execution_count": 20
    }
   ],
   "source": [
    "min_acquisition_years = grouped_acq_year.min()\n",
    "min_acquisition_years\n"
   ]
  },
  {
   "cell_type": "code",
   "execution_count": 10,
   "metadata": {},
   "outputs": [],
   "source": [
    "#TRANSFORM\n",
    "grouped_mediums = small_df.groupby('artist')['medium']"
   ]
  },
  {
   "cell_type": "code",
   "execution_count": 11,
   "metadata": {},
   "outputs": [
    {
     "output_type": "execute_result",
     "data": {
      "text/plain": [
       "<pandas.core.groupby.generic.SeriesGroupBy object at 0x7fa3e60d4df0>"
      ]
     },
     "metadata": {},
     "execution_count": 11
    }
   ],
   "source": [
    "grouped_mediums"
   ]
  },
  {
   "cell_type": "code",
   "execution_count": 14,
   "metadata": {},
   "outputs": [],
   "source": [
    "small_df.loc[:, 'medium'] = grouped_mediums.transform(fill_values)\n"
   ]
  },
  {
   "cell_type": "code",
   "execution_count": 16,
   "metadata": {},
   "outputs": [
    {
     "output_type": "execute_result",
     "data": {
      "text/plain": [
       "                    artist                                              title  \\\n",
       "id                                                                              \n",
       "1035         Blake, Robert  A Figure Bowing before a Seated Old Man with h...   \n",
       "1036         Blake, Robert  Two Drawings of Frightened Figures, Probably f...   \n",
       "1037         Blake, Robert  The Preaching of Warning. Verso: An Old Man En...   \n",
       "1038         Blake, Robert     Six Drawings of Figures with Outstretched Arms   \n",
       "1039        Blake, William  The Circle of the Lustful: Francesca da Rimini...   \n",
       "...                    ...                                                ...   \n",
       "122960  P-Orridge, Genesis                        Larvae (from Tampax Romana)   \n",
       "122961  P-Orridge, Genesis                   Living Womb (from Tampax Romana)   \n",
       "121181        Hatoum, Mona                                      Present Tense   \n",
       "112306       Creed, Martin          Work No. 227: The lights going on and off   \n",
       "127035   Brunias, Agostino                   Dancing Scene in the West Indies   \n",
       "\n",
       "                                                   medium  year  \\\n",
       "id                                                                \n",
       "1035    Watercolour, ink, chalk and graphite on paper....   NaN   \n",
       "1036                                    Graphite on paper   NaN   \n",
       "1037          Graphite on paper. Verso: graphite on paper  1785   \n",
       "1038                                    Graphite on paper   NaN   \n",
       "1039                              Line engraving on paper  1826   \n",
       "...                                                   ...   ...   \n",
       "122960   Perspex, Wood, hairpiece, tampon and human blood  1975   \n",
       "122961  Wood, Perspex, plastic, photograph on paper, t...  1976   \n",
       "121181                               Soap and glass beads  1996   \n",
       "112306                                   Gallery lighting  2000   \n",
       "127035                                Oil paint on canvas  1764   \n",
       "\n",
       "        acquisitionYear width height units  \n",
       "id                                          \n",
       "1035             1922.0   394    419    mm  \n",
       "1036             1922.0   311    213    mm  \n",
       "1037             1922.0   343    467    mm  \n",
       "1038             1922.0   318    394    mm  \n",
       "1039             1919.0   243    335    mm  \n",
       "...                 ...   ...    ...   ...  \n",
       "122960           2013.0   305    305    mm  \n",
       "122961           2013.0   305    305    mm  \n",
       "121181           2013.0    45   2410    mm  \n",
       "112306           2013.0   NaN    NaN   NaN  \n",
       "127035           2013.0   508    660    mm  \n",
       "\n",
       "[69201 rows x 8 columns]"
      ],
      "text/html": "<div>\n<style scoped>\n    .dataframe tbody tr th:only-of-type {\n        vertical-align: middle;\n    }\n\n    .dataframe tbody tr th {\n        vertical-align: top;\n    }\n\n    .dataframe thead th {\n        text-align: right;\n    }\n</style>\n<table border=\"1\" class=\"dataframe\">\n  <thead>\n    <tr style=\"text-align: right;\">\n      <th></th>\n      <th>artist</th>\n      <th>title</th>\n      <th>medium</th>\n      <th>year</th>\n      <th>acquisitionYear</th>\n      <th>width</th>\n      <th>height</th>\n      <th>units</th>\n    </tr>\n    <tr>\n      <th>id</th>\n      <th></th>\n      <th></th>\n      <th></th>\n      <th></th>\n      <th></th>\n      <th></th>\n      <th></th>\n      <th></th>\n    </tr>\n  </thead>\n  <tbody>\n    <tr>\n      <th>1035</th>\n      <td>Blake, Robert</td>\n      <td>A Figure Bowing before a Seated Old Man with h...</td>\n      <td>Watercolour, ink, chalk and graphite on paper....</td>\n      <td>NaN</td>\n      <td>1922.0</td>\n      <td>394</td>\n      <td>419</td>\n      <td>mm</td>\n    </tr>\n    <tr>\n      <th>1036</th>\n      <td>Blake, Robert</td>\n      <td>Two Drawings of Frightened Figures, Probably f...</td>\n      <td>Graphite on paper</td>\n      <td>NaN</td>\n      <td>1922.0</td>\n      <td>311</td>\n      <td>213</td>\n      <td>mm</td>\n    </tr>\n    <tr>\n      <th>1037</th>\n      <td>Blake, Robert</td>\n      <td>The Preaching of Warning. Verso: An Old Man En...</td>\n      <td>Graphite on paper. Verso: graphite on paper</td>\n      <td>1785</td>\n      <td>1922.0</td>\n      <td>343</td>\n      <td>467</td>\n      <td>mm</td>\n    </tr>\n    <tr>\n      <th>1038</th>\n      <td>Blake, Robert</td>\n      <td>Six Drawings of Figures with Outstretched Arms</td>\n      <td>Graphite on paper</td>\n      <td>NaN</td>\n      <td>1922.0</td>\n      <td>318</td>\n      <td>394</td>\n      <td>mm</td>\n    </tr>\n    <tr>\n      <th>1039</th>\n      <td>Blake, William</td>\n      <td>The Circle of the Lustful: Francesca da Rimini...</td>\n      <td>Line engraving on paper</td>\n      <td>1826</td>\n      <td>1919.0</td>\n      <td>243</td>\n      <td>335</td>\n      <td>mm</td>\n    </tr>\n    <tr>\n      <th>...</th>\n      <td>...</td>\n      <td>...</td>\n      <td>...</td>\n      <td>...</td>\n      <td>...</td>\n      <td>...</td>\n      <td>...</td>\n      <td>...</td>\n    </tr>\n    <tr>\n      <th>122960</th>\n      <td>P-Orridge, Genesis</td>\n      <td>Larvae (from Tampax Romana)</td>\n      <td>Perspex, Wood, hairpiece, tampon and human blood</td>\n      <td>1975</td>\n      <td>2013.0</td>\n      <td>305</td>\n      <td>305</td>\n      <td>mm</td>\n    </tr>\n    <tr>\n      <th>122961</th>\n      <td>P-Orridge, Genesis</td>\n      <td>Living Womb (from Tampax Romana)</td>\n      <td>Wood, Perspex, plastic, photograph on paper, t...</td>\n      <td>1976</td>\n      <td>2013.0</td>\n      <td>305</td>\n      <td>305</td>\n      <td>mm</td>\n    </tr>\n    <tr>\n      <th>121181</th>\n      <td>Hatoum, Mona</td>\n      <td>Present Tense</td>\n      <td>Soap and glass beads</td>\n      <td>1996</td>\n      <td>2013.0</td>\n      <td>45</td>\n      <td>2410</td>\n      <td>mm</td>\n    </tr>\n    <tr>\n      <th>112306</th>\n      <td>Creed, Martin</td>\n      <td>Work No. 227: The lights going on and off</td>\n      <td>Gallery lighting</td>\n      <td>2000</td>\n      <td>2013.0</td>\n      <td>NaN</td>\n      <td>NaN</td>\n      <td>NaN</td>\n    </tr>\n    <tr>\n      <th>127035</th>\n      <td>Brunias, Agostino</td>\n      <td>Dancing Scene in the West Indies</td>\n      <td>Oil paint on canvas</td>\n      <td>1764</td>\n      <td>2013.0</td>\n      <td>508</td>\n      <td>660</td>\n      <td>mm</td>\n    </tr>\n  </tbody>\n</table>\n<p>69201 rows × 8 columns</p>\n</div>"
     },
     "metadata": {},
     "execution_count": 16
    }
   ],
   "source": [
    "df"
   ]
  },
  {
   "cell_type": "code",
   "execution_count": 15,
   "metadata": {},
   "outputs": [
    {
     "output_type": "error",
     "ename": "ValueError",
     "evalue": "Wrong number of items passed 1, placement implies 6",
     "traceback": [
      "\u001b[0;31m---------------------------------------------------------------------------\u001b[0m",
      "\u001b[0;31mValueError\u001b[0m                                Traceback (most recent call last)",
      "\u001b[0;32m<ipython-input-15-d8b3ed587dde>\u001b[0m in \u001b[0;36m<module>\u001b[0;34m\u001b[0m\n\u001b[0;32m----> 1\u001b[0;31m \u001b[0mdf\u001b[0m\u001b[0;34m.\u001b[0m\u001b[0mgroupby\u001b[0m\u001b[0;34m(\u001b[0m\u001b[0;34m'artist'\u001b[0m\u001b[0;34m)\u001b[0m\u001b[0;34m.\u001b[0m\u001b[0magg\u001b[0m\u001b[0;34m(\u001b[0m\u001b[0mnp\u001b[0m\u001b[0;34m.\u001b[0m\u001b[0mmin\u001b[0m\u001b[0;34m)\u001b[0m\u001b[0;34m\u001b[0m\u001b[0;34m\u001b[0m\u001b[0m\n\u001b[0m",
      "\u001b[0;32m~/anaconda3/lib/python3.8/site-packages/pandas/core/groupby/generic.py\u001b[0m in \u001b[0;36maggregate\u001b[0;34m(self, func, engine, engine_kwargs, *args, **kwargs)\u001b[0m\n\u001b[1;32m    949\u001b[0m         \u001b[0mfunc\u001b[0m \u001b[0;34m=\u001b[0m \u001b[0mmaybe_mangle_lambdas\u001b[0m\u001b[0;34m(\u001b[0m\u001b[0mfunc\u001b[0m\u001b[0;34m)\u001b[0m\u001b[0;34m\u001b[0m\u001b[0;34m\u001b[0m\u001b[0m\n\u001b[1;32m    950\u001b[0m \u001b[0;34m\u001b[0m\u001b[0m\n\u001b[0;32m--> 951\u001b[0;31m         \u001b[0mresult\u001b[0m\u001b[0;34m,\u001b[0m \u001b[0mhow\u001b[0m \u001b[0;34m=\u001b[0m \u001b[0mself\u001b[0m\u001b[0;34m.\u001b[0m\u001b[0m_aggregate\u001b[0m\u001b[0;34m(\u001b[0m\u001b[0mfunc\u001b[0m\u001b[0;34m,\u001b[0m \u001b[0;34m*\u001b[0m\u001b[0margs\u001b[0m\u001b[0;34m,\u001b[0m \u001b[0;34m**\u001b[0m\u001b[0mkwargs\u001b[0m\u001b[0;34m)\u001b[0m\u001b[0;34m\u001b[0m\u001b[0;34m\u001b[0m\u001b[0m\n\u001b[0m\u001b[1;32m    952\u001b[0m         \u001b[0;32mif\u001b[0m \u001b[0mhow\u001b[0m \u001b[0;32mis\u001b[0m \u001b[0;32mNone\u001b[0m\u001b[0;34m:\u001b[0m\u001b[0;34m\u001b[0m\u001b[0;34m\u001b[0m\u001b[0m\n\u001b[1;32m    953\u001b[0m             \u001b[0;32mreturn\u001b[0m \u001b[0mresult\u001b[0m\u001b[0;34m\u001b[0m\u001b[0;34m\u001b[0m\u001b[0m\n",
      "\u001b[0;32m~/anaconda3/lib/python3.8/site-packages/pandas/core/base.py\u001b[0m in \u001b[0;36m_aggregate\u001b[0;34m(self, arg, *args, **kwargs)\u001b[0m\n\u001b[1;32m    484\u001b[0m         \u001b[0mf\u001b[0m \u001b[0;34m=\u001b[0m \u001b[0mself\u001b[0m\u001b[0;34m.\u001b[0m\u001b[0m_get_cython_func\u001b[0m\u001b[0;34m(\u001b[0m\u001b[0marg\u001b[0m\u001b[0;34m)\u001b[0m\u001b[0;34m\u001b[0m\u001b[0;34m\u001b[0m\u001b[0m\n\u001b[1;32m    485\u001b[0m         \u001b[0;32mif\u001b[0m \u001b[0mf\u001b[0m \u001b[0;32mand\u001b[0m \u001b[0;32mnot\u001b[0m \u001b[0margs\u001b[0m \u001b[0;32mand\u001b[0m \u001b[0;32mnot\u001b[0m \u001b[0mkwargs\u001b[0m\u001b[0;34m:\u001b[0m\u001b[0;34m\u001b[0m\u001b[0;34m\u001b[0m\u001b[0m\n\u001b[0;32m--> 486\u001b[0;31m             \u001b[0;32mreturn\u001b[0m \u001b[0mgetattr\u001b[0m\u001b[0;34m(\u001b[0m\u001b[0mself\u001b[0m\u001b[0;34m,\u001b[0m \u001b[0mf\u001b[0m\u001b[0;34m)\u001b[0m\u001b[0;34m(\u001b[0m\u001b[0;34m)\u001b[0m\u001b[0;34m,\u001b[0m \u001b[0;32mNone\u001b[0m\u001b[0;34m\u001b[0m\u001b[0;34m\u001b[0m\u001b[0m\n\u001b[0m\u001b[1;32m    487\u001b[0m \u001b[0;34m\u001b[0m\u001b[0m\n\u001b[1;32m    488\u001b[0m         \u001b[0;31m# caller can react\u001b[0m\u001b[0;34m\u001b[0m\u001b[0;34m\u001b[0m\u001b[0;34m\u001b[0m\u001b[0m\n",
      "\u001b[0;32m~/anaconda3/lib/python3.8/site-packages/pandas/core/groupby/groupby.py\u001b[0m in \u001b[0;36mmin\u001b[0;34m(self, numeric_only, min_count)\u001b[0m\n\u001b[1;32m   1549\u001b[0m     \u001b[0;34m@\u001b[0m\u001b[0mdoc\u001b[0m\u001b[0;34m(\u001b[0m\u001b[0m_groupby_agg_method_template\u001b[0m\u001b[0;34m,\u001b[0m \u001b[0mfname\u001b[0m\u001b[0;34m=\u001b[0m\u001b[0;34m\"min\"\u001b[0m\u001b[0;34m,\u001b[0m \u001b[0mno\u001b[0m\u001b[0;34m=\u001b[0m\u001b[0;32mFalse\u001b[0m\u001b[0;34m,\u001b[0m \u001b[0mmc\u001b[0m\u001b[0;34m=\u001b[0m\u001b[0;34m-\u001b[0m\u001b[0;36m1\u001b[0m\u001b[0;34m)\u001b[0m\u001b[0;34m\u001b[0m\u001b[0;34m\u001b[0m\u001b[0m\n\u001b[1;32m   1550\u001b[0m     \u001b[0;32mdef\u001b[0m \u001b[0mmin\u001b[0m\u001b[0;34m(\u001b[0m\u001b[0mself\u001b[0m\u001b[0;34m,\u001b[0m \u001b[0mnumeric_only\u001b[0m\u001b[0;34m:\u001b[0m \u001b[0mbool\u001b[0m \u001b[0;34m=\u001b[0m \u001b[0;32mFalse\u001b[0m\u001b[0;34m,\u001b[0m \u001b[0mmin_count\u001b[0m\u001b[0;34m:\u001b[0m \u001b[0mint\u001b[0m \u001b[0;34m=\u001b[0m \u001b[0;34m-\u001b[0m\u001b[0;36m1\u001b[0m\u001b[0;34m)\u001b[0m\u001b[0;34m:\u001b[0m\u001b[0;34m\u001b[0m\u001b[0;34m\u001b[0m\u001b[0m\n\u001b[0;32m-> 1551\u001b[0;31m         return self._agg_general(\n\u001b[0m\u001b[1;32m   1552\u001b[0m             \u001b[0mnumeric_only\u001b[0m\u001b[0;34m=\u001b[0m\u001b[0mnumeric_only\u001b[0m\u001b[0;34m,\u001b[0m \u001b[0mmin_count\u001b[0m\u001b[0;34m=\u001b[0m\u001b[0mmin_count\u001b[0m\u001b[0;34m,\u001b[0m \u001b[0malias\u001b[0m\u001b[0;34m=\u001b[0m\u001b[0;34m\"min\"\u001b[0m\u001b[0;34m,\u001b[0m \u001b[0mnpfunc\u001b[0m\u001b[0;34m=\u001b[0m\u001b[0mnp\u001b[0m\u001b[0;34m.\u001b[0m\u001b[0mmin\u001b[0m\u001b[0;34m\u001b[0m\u001b[0;34m\u001b[0m\u001b[0m\n\u001b[1;32m   1553\u001b[0m         )\n",
      "\u001b[0;32m~/anaconda3/lib/python3.8/site-packages/pandas/core/groupby/groupby.py\u001b[0m in \u001b[0;36m_agg_general\u001b[0;34m(self, numeric_only, min_count, alias, npfunc)\u001b[0m\n\u001b[1;32m    997\u001b[0m         \u001b[0;31m# try a cython aggregation if we can\u001b[0m\u001b[0;34m\u001b[0m\u001b[0;34m\u001b[0m\u001b[0;34m\u001b[0m\u001b[0m\n\u001b[1;32m    998\u001b[0m         \u001b[0;32mtry\u001b[0m\u001b[0;34m:\u001b[0m\u001b[0;34m\u001b[0m\u001b[0;34m\u001b[0m\u001b[0m\n\u001b[0;32m--> 999\u001b[0;31m             return self._cython_agg_general(\n\u001b[0m\u001b[1;32m   1000\u001b[0m                 \u001b[0mhow\u001b[0m\u001b[0;34m=\u001b[0m\u001b[0malias\u001b[0m\u001b[0;34m,\u001b[0m \u001b[0malt\u001b[0m\u001b[0;34m=\u001b[0m\u001b[0mnpfunc\u001b[0m\u001b[0;34m,\u001b[0m \u001b[0mnumeric_only\u001b[0m\u001b[0;34m=\u001b[0m\u001b[0mnumeric_only\u001b[0m\u001b[0;34m,\u001b[0m \u001b[0mmin_count\u001b[0m\u001b[0;34m=\u001b[0m\u001b[0mmin_count\u001b[0m\u001b[0;34m,\u001b[0m\u001b[0;34m\u001b[0m\u001b[0;34m\u001b[0m\u001b[0m\n\u001b[1;32m   1001\u001b[0m             )\n",
      "\u001b[0;32m~/anaconda3/lib/python3.8/site-packages/pandas/core/groupby/generic.py\u001b[0m in \u001b[0;36m_cython_agg_general\u001b[0;34m(self, how, alt, numeric_only, min_count)\u001b[0m\n\u001b[1;32m   1019\u001b[0m         \u001b[0mself\u001b[0m\u001b[0;34m,\u001b[0m \u001b[0mhow\u001b[0m\u001b[0;34m:\u001b[0m \u001b[0mstr\u001b[0m\u001b[0;34m,\u001b[0m \u001b[0malt\u001b[0m\u001b[0;34m=\u001b[0m\u001b[0;32mNone\u001b[0m\u001b[0;34m,\u001b[0m \u001b[0mnumeric_only\u001b[0m\u001b[0;34m:\u001b[0m \u001b[0mbool\u001b[0m \u001b[0;34m=\u001b[0m \u001b[0;32mTrue\u001b[0m\u001b[0;34m,\u001b[0m \u001b[0mmin_count\u001b[0m\u001b[0;34m:\u001b[0m \u001b[0mint\u001b[0m \u001b[0;34m=\u001b[0m \u001b[0;34m-\u001b[0m\u001b[0;36m1\u001b[0m\u001b[0;34m\u001b[0m\u001b[0;34m\u001b[0m\u001b[0m\n\u001b[1;32m   1020\u001b[0m     ) -> DataFrame:\n\u001b[0;32m-> 1021\u001b[0;31m         agg_blocks, agg_items = self._cython_agg_blocks(\n\u001b[0m\u001b[1;32m   1022\u001b[0m             \u001b[0mhow\u001b[0m\u001b[0;34m,\u001b[0m \u001b[0malt\u001b[0m\u001b[0;34m=\u001b[0m\u001b[0malt\u001b[0m\u001b[0;34m,\u001b[0m \u001b[0mnumeric_only\u001b[0m\u001b[0;34m=\u001b[0m\u001b[0mnumeric_only\u001b[0m\u001b[0;34m,\u001b[0m \u001b[0mmin_count\u001b[0m\u001b[0;34m=\u001b[0m\u001b[0mmin_count\u001b[0m\u001b[0;34m\u001b[0m\u001b[0;34m\u001b[0m\u001b[0m\n\u001b[1;32m   1023\u001b[0m         )\n",
      "\u001b[0;32m~/anaconda3/lib/python3.8/site-packages/pandas/core/groupby/generic.py\u001b[0m in \u001b[0;36m_cython_agg_blocks\u001b[0;34m(self, how, alt, numeric_only, min_count)\u001b[0m\n\u001b[1;32m   1122\u001b[0m                         \u001b[0mresult\u001b[0m \u001b[0;34m=\u001b[0m \u001b[0mresult\u001b[0m\u001b[0;34m.\u001b[0m\u001b[0mreshape\u001b[0m\u001b[0;34m(\u001b[0m\u001b[0;36m1\u001b[0m\u001b[0;34m,\u001b[0m \u001b[0;34m-\u001b[0m\u001b[0;36m1\u001b[0m\u001b[0;34m)\u001b[0m\u001b[0;34m\u001b[0m\u001b[0;34m\u001b[0m\u001b[0m\n\u001b[1;32m   1123\u001b[0m \u001b[0;34m\u001b[0m\u001b[0m\n\u001b[0;32m-> 1124\u001b[0;31m                 \u001b[0magg_block\u001b[0m\u001b[0;34m:\u001b[0m \u001b[0mBlock\u001b[0m \u001b[0;34m=\u001b[0m \u001b[0mblock\u001b[0m\u001b[0;34m.\u001b[0m\u001b[0mmake_block\u001b[0m\u001b[0;34m(\u001b[0m\u001b[0mresult\u001b[0m\u001b[0;34m)\u001b[0m\u001b[0;34m\u001b[0m\u001b[0;34m\u001b[0m\u001b[0m\n\u001b[0m\u001b[1;32m   1125\u001b[0m \u001b[0;34m\u001b[0m\u001b[0m\n\u001b[1;32m   1126\u001b[0m             \u001b[0mnew_items\u001b[0m\u001b[0;34m.\u001b[0m\u001b[0mappend\u001b[0m\u001b[0;34m(\u001b[0m\u001b[0mlocs\u001b[0m\u001b[0;34m)\u001b[0m\u001b[0;34m\u001b[0m\u001b[0;34m\u001b[0m\u001b[0m\n",
      "\u001b[0;32m~/anaconda3/lib/python3.8/site-packages/pandas/core/internals/blocks.py\u001b[0m in \u001b[0;36mmake_block\u001b[0;34m(self, values, placement)\u001b[0m\n\u001b[1;32m    252\u001b[0m             \u001b[0mvalues\u001b[0m \u001b[0;34m=\u001b[0m \u001b[0m_block_shape\u001b[0m\u001b[0;34m(\u001b[0m\u001b[0mvalues\u001b[0m\u001b[0;34m,\u001b[0m \u001b[0mndim\u001b[0m\u001b[0;34m=\u001b[0m\u001b[0mself\u001b[0m\u001b[0;34m.\u001b[0m\u001b[0mndim\u001b[0m\u001b[0;34m)\u001b[0m\u001b[0;34m\u001b[0m\u001b[0;34m\u001b[0m\u001b[0m\n\u001b[1;32m    253\u001b[0m \u001b[0;34m\u001b[0m\u001b[0m\n\u001b[0;32m--> 254\u001b[0;31m         \u001b[0;32mreturn\u001b[0m \u001b[0mmake_block\u001b[0m\u001b[0;34m(\u001b[0m\u001b[0mvalues\u001b[0m\u001b[0;34m,\u001b[0m \u001b[0mplacement\u001b[0m\u001b[0;34m=\u001b[0m\u001b[0mplacement\u001b[0m\u001b[0;34m,\u001b[0m \u001b[0mndim\u001b[0m\u001b[0;34m=\u001b[0m\u001b[0mself\u001b[0m\u001b[0;34m.\u001b[0m\u001b[0mndim\u001b[0m\u001b[0;34m)\u001b[0m\u001b[0;34m\u001b[0m\u001b[0;34m\u001b[0m\u001b[0m\n\u001b[0m\u001b[1;32m    255\u001b[0m \u001b[0;34m\u001b[0m\u001b[0m\n\u001b[1;32m    256\u001b[0m     \u001b[0;32mdef\u001b[0m \u001b[0mmake_block_same_class\u001b[0m\u001b[0;34m(\u001b[0m\u001b[0mself\u001b[0m\u001b[0;34m,\u001b[0m \u001b[0mvalues\u001b[0m\u001b[0;34m,\u001b[0m \u001b[0mplacement\u001b[0m\u001b[0;34m=\u001b[0m\u001b[0;32mNone\u001b[0m\u001b[0;34m,\u001b[0m \u001b[0mndim\u001b[0m\u001b[0;34m=\u001b[0m\u001b[0;32mNone\u001b[0m\u001b[0;34m)\u001b[0m\u001b[0;34m:\u001b[0m\u001b[0;34m\u001b[0m\u001b[0;34m\u001b[0m\u001b[0m\n",
      "\u001b[0;32m~/anaconda3/lib/python3.8/site-packages/pandas/core/internals/blocks.py\u001b[0m in \u001b[0;36mmake_block\u001b[0;34m(values, placement, klass, ndim, dtype)\u001b[0m\n\u001b[1;32m   2720\u001b[0m         \u001b[0mvalues\u001b[0m \u001b[0;34m=\u001b[0m \u001b[0mDatetimeArray\u001b[0m\u001b[0;34m.\u001b[0m\u001b[0m_simple_new\u001b[0m\u001b[0;34m(\u001b[0m\u001b[0mvalues\u001b[0m\u001b[0;34m,\u001b[0m \u001b[0mdtype\u001b[0m\u001b[0;34m=\u001b[0m\u001b[0mdtype\u001b[0m\u001b[0;34m)\u001b[0m\u001b[0;34m\u001b[0m\u001b[0;34m\u001b[0m\u001b[0m\n\u001b[1;32m   2721\u001b[0m \u001b[0;34m\u001b[0m\u001b[0m\n\u001b[0;32m-> 2722\u001b[0;31m     \u001b[0;32mreturn\u001b[0m \u001b[0mklass\u001b[0m\u001b[0;34m(\u001b[0m\u001b[0mvalues\u001b[0m\u001b[0;34m,\u001b[0m \u001b[0mndim\u001b[0m\u001b[0;34m=\u001b[0m\u001b[0mndim\u001b[0m\u001b[0;34m,\u001b[0m \u001b[0mplacement\u001b[0m\u001b[0;34m=\u001b[0m\u001b[0mplacement\u001b[0m\u001b[0;34m)\u001b[0m\u001b[0;34m\u001b[0m\u001b[0;34m\u001b[0m\u001b[0m\n\u001b[0m\u001b[1;32m   2723\u001b[0m \u001b[0;34m\u001b[0m\u001b[0m\n\u001b[1;32m   2724\u001b[0m \u001b[0;34m\u001b[0m\u001b[0m\n",
      "\u001b[0;32m~/anaconda3/lib/python3.8/site-packages/pandas/core/internals/blocks.py\u001b[0m in \u001b[0;36m__init__\u001b[0;34m(self, values, placement, ndim)\u001b[0m\n\u001b[1;32m   2376\u001b[0m             \u001b[0mvalues\u001b[0m \u001b[0;34m=\u001b[0m \u001b[0mnp\u001b[0m\u001b[0;34m.\u001b[0m\u001b[0marray\u001b[0m\u001b[0;34m(\u001b[0m\u001b[0mvalues\u001b[0m\u001b[0;34m,\u001b[0m \u001b[0mdtype\u001b[0m\u001b[0;34m=\u001b[0m\u001b[0mobject\u001b[0m\u001b[0;34m)\u001b[0m\u001b[0;34m\u001b[0m\u001b[0;34m\u001b[0m\u001b[0m\n\u001b[1;32m   2377\u001b[0m \u001b[0;34m\u001b[0m\u001b[0m\n\u001b[0;32m-> 2378\u001b[0;31m         \u001b[0msuper\u001b[0m\u001b[0;34m(\u001b[0m\u001b[0;34m)\u001b[0m\u001b[0;34m.\u001b[0m\u001b[0m__init__\u001b[0m\u001b[0;34m(\u001b[0m\u001b[0mvalues\u001b[0m\u001b[0;34m,\u001b[0m \u001b[0mndim\u001b[0m\u001b[0;34m=\u001b[0m\u001b[0mndim\u001b[0m\u001b[0;34m,\u001b[0m \u001b[0mplacement\u001b[0m\u001b[0;34m=\u001b[0m\u001b[0mplacement\u001b[0m\u001b[0;34m)\u001b[0m\u001b[0;34m\u001b[0m\u001b[0;34m\u001b[0m\u001b[0m\n\u001b[0m\u001b[1;32m   2379\u001b[0m \u001b[0;34m\u001b[0m\u001b[0m\n\u001b[1;32m   2380\u001b[0m     \u001b[0;34m@\u001b[0m\u001b[0mproperty\u001b[0m\u001b[0;34m\u001b[0m\u001b[0;34m\u001b[0m\u001b[0m\n",
      "\u001b[0;32m~/anaconda3/lib/python3.8/site-packages/pandas/core/internals/blocks.py\u001b[0m in \u001b[0;36m__init__\u001b[0;34m(self, values, placement, ndim)\u001b[0m\n\u001b[1;32m    128\u001b[0m \u001b[0;34m\u001b[0m\u001b[0m\n\u001b[1;32m    129\u001b[0m         \u001b[0;32mif\u001b[0m \u001b[0mself\u001b[0m\u001b[0;34m.\u001b[0m\u001b[0m_validate_ndim\u001b[0m \u001b[0;32mand\u001b[0m \u001b[0mself\u001b[0m\u001b[0;34m.\u001b[0m\u001b[0mndim\u001b[0m \u001b[0;32mand\u001b[0m \u001b[0mlen\u001b[0m\u001b[0;34m(\u001b[0m\u001b[0mself\u001b[0m\u001b[0;34m.\u001b[0m\u001b[0mmgr_locs\u001b[0m\u001b[0;34m)\u001b[0m \u001b[0;34m!=\u001b[0m \u001b[0mlen\u001b[0m\u001b[0;34m(\u001b[0m\u001b[0mself\u001b[0m\u001b[0;34m.\u001b[0m\u001b[0mvalues\u001b[0m\u001b[0;34m)\u001b[0m\u001b[0;34m:\u001b[0m\u001b[0;34m\u001b[0m\u001b[0;34m\u001b[0m\u001b[0m\n\u001b[0;32m--> 130\u001b[0;31m             raise ValueError(\n\u001b[0m\u001b[1;32m    131\u001b[0m                 \u001b[0;34mf\"Wrong number of items passed {len(self.values)}, \"\u001b[0m\u001b[0;34m\u001b[0m\u001b[0;34m\u001b[0m\u001b[0m\n\u001b[1;32m    132\u001b[0m                 \u001b[0;34mf\"placement implies {len(self.mgr_locs)}\"\u001b[0m\u001b[0;34m\u001b[0m\u001b[0;34m\u001b[0m\u001b[0m\n",
      "\u001b[0;31mValueError\u001b[0m: Wrong number of items passed 1, placement implies 6"
     ]
    }
   ],
   "source": [
    "#Minimum\n",
    "df.groupby('artist').agg(np.min)"
   ]
  },
  {
   "cell_type": "code",
   "execution_count": 17,
   "metadata": {},
   "outputs": [
    {
     "output_type": "error",
     "ename": "ValueError",
     "evalue": "Wrong number of items passed 1, placement implies 6",
     "traceback": [
      "\u001b[0;31m---------------------------------------------------------------------------\u001b[0m",
      "\u001b[0;31mValueError\u001b[0m                                Traceback (most recent call last)",
      "\u001b[0;32m<ipython-input-17-0f16112ddb82>\u001b[0m in \u001b[0;36m<module>\u001b[0;34m\u001b[0m\n\u001b[0;32m----> 1\u001b[0;31m \u001b[0mdf\u001b[0m\u001b[0;34m.\u001b[0m\u001b[0mgroupby\u001b[0m\u001b[0;34m(\u001b[0m\u001b[0;34m'artist'\u001b[0m\u001b[0;34m)\u001b[0m\u001b[0;34m.\u001b[0m\u001b[0mmin\u001b[0m\u001b[0;34m(\u001b[0m\u001b[0;34m)\u001b[0m\u001b[0;34m\u001b[0m\u001b[0;34m\u001b[0m\u001b[0m\n\u001b[0m",
      "\u001b[0;32m~/anaconda3/lib/python3.8/site-packages/pandas/core/groupby/groupby.py\u001b[0m in \u001b[0;36mmin\u001b[0;34m(self, numeric_only, min_count)\u001b[0m\n\u001b[1;32m   1549\u001b[0m     \u001b[0;34m@\u001b[0m\u001b[0mdoc\u001b[0m\u001b[0;34m(\u001b[0m\u001b[0m_groupby_agg_method_template\u001b[0m\u001b[0;34m,\u001b[0m \u001b[0mfname\u001b[0m\u001b[0;34m=\u001b[0m\u001b[0;34m\"min\"\u001b[0m\u001b[0;34m,\u001b[0m \u001b[0mno\u001b[0m\u001b[0;34m=\u001b[0m\u001b[0;32mFalse\u001b[0m\u001b[0;34m,\u001b[0m \u001b[0mmc\u001b[0m\u001b[0;34m=\u001b[0m\u001b[0;34m-\u001b[0m\u001b[0;36m1\u001b[0m\u001b[0;34m)\u001b[0m\u001b[0;34m\u001b[0m\u001b[0;34m\u001b[0m\u001b[0m\n\u001b[1;32m   1550\u001b[0m     \u001b[0;32mdef\u001b[0m \u001b[0mmin\u001b[0m\u001b[0;34m(\u001b[0m\u001b[0mself\u001b[0m\u001b[0;34m,\u001b[0m \u001b[0mnumeric_only\u001b[0m\u001b[0;34m:\u001b[0m \u001b[0mbool\u001b[0m \u001b[0;34m=\u001b[0m \u001b[0;32mFalse\u001b[0m\u001b[0;34m,\u001b[0m \u001b[0mmin_count\u001b[0m\u001b[0;34m:\u001b[0m \u001b[0mint\u001b[0m \u001b[0;34m=\u001b[0m \u001b[0;34m-\u001b[0m\u001b[0;36m1\u001b[0m\u001b[0;34m)\u001b[0m\u001b[0;34m:\u001b[0m\u001b[0;34m\u001b[0m\u001b[0;34m\u001b[0m\u001b[0m\n\u001b[0;32m-> 1551\u001b[0;31m         return self._agg_general(\n\u001b[0m\u001b[1;32m   1552\u001b[0m             \u001b[0mnumeric_only\u001b[0m\u001b[0;34m=\u001b[0m\u001b[0mnumeric_only\u001b[0m\u001b[0;34m,\u001b[0m \u001b[0mmin_count\u001b[0m\u001b[0;34m=\u001b[0m\u001b[0mmin_count\u001b[0m\u001b[0;34m,\u001b[0m \u001b[0malias\u001b[0m\u001b[0;34m=\u001b[0m\u001b[0;34m\"min\"\u001b[0m\u001b[0;34m,\u001b[0m \u001b[0mnpfunc\u001b[0m\u001b[0;34m=\u001b[0m\u001b[0mnp\u001b[0m\u001b[0;34m.\u001b[0m\u001b[0mmin\u001b[0m\u001b[0;34m\u001b[0m\u001b[0;34m\u001b[0m\u001b[0m\n\u001b[1;32m   1553\u001b[0m         )\n",
      "\u001b[0;32m~/anaconda3/lib/python3.8/site-packages/pandas/core/groupby/groupby.py\u001b[0m in \u001b[0;36m_agg_general\u001b[0;34m(self, numeric_only, min_count, alias, npfunc)\u001b[0m\n\u001b[1;32m    997\u001b[0m         \u001b[0;31m# try a cython aggregation if we can\u001b[0m\u001b[0;34m\u001b[0m\u001b[0;34m\u001b[0m\u001b[0;34m\u001b[0m\u001b[0m\n\u001b[1;32m    998\u001b[0m         \u001b[0;32mtry\u001b[0m\u001b[0;34m:\u001b[0m\u001b[0;34m\u001b[0m\u001b[0;34m\u001b[0m\u001b[0m\n\u001b[0;32m--> 999\u001b[0;31m             return self._cython_agg_general(\n\u001b[0m\u001b[1;32m   1000\u001b[0m                 \u001b[0mhow\u001b[0m\u001b[0;34m=\u001b[0m\u001b[0malias\u001b[0m\u001b[0;34m,\u001b[0m \u001b[0malt\u001b[0m\u001b[0;34m=\u001b[0m\u001b[0mnpfunc\u001b[0m\u001b[0;34m,\u001b[0m \u001b[0mnumeric_only\u001b[0m\u001b[0;34m=\u001b[0m\u001b[0mnumeric_only\u001b[0m\u001b[0;34m,\u001b[0m \u001b[0mmin_count\u001b[0m\u001b[0;34m=\u001b[0m\u001b[0mmin_count\u001b[0m\u001b[0;34m,\u001b[0m\u001b[0;34m\u001b[0m\u001b[0;34m\u001b[0m\u001b[0m\n\u001b[1;32m   1001\u001b[0m             )\n",
      "\u001b[0;32m~/anaconda3/lib/python3.8/site-packages/pandas/core/groupby/generic.py\u001b[0m in \u001b[0;36m_cython_agg_general\u001b[0;34m(self, how, alt, numeric_only, min_count)\u001b[0m\n\u001b[1;32m   1019\u001b[0m         \u001b[0mself\u001b[0m\u001b[0;34m,\u001b[0m \u001b[0mhow\u001b[0m\u001b[0;34m:\u001b[0m \u001b[0mstr\u001b[0m\u001b[0;34m,\u001b[0m \u001b[0malt\u001b[0m\u001b[0;34m=\u001b[0m\u001b[0;32mNone\u001b[0m\u001b[0;34m,\u001b[0m \u001b[0mnumeric_only\u001b[0m\u001b[0;34m:\u001b[0m \u001b[0mbool\u001b[0m \u001b[0;34m=\u001b[0m \u001b[0;32mTrue\u001b[0m\u001b[0;34m,\u001b[0m \u001b[0mmin_count\u001b[0m\u001b[0;34m:\u001b[0m \u001b[0mint\u001b[0m \u001b[0;34m=\u001b[0m \u001b[0;34m-\u001b[0m\u001b[0;36m1\u001b[0m\u001b[0;34m\u001b[0m\u001b[0;34m\u001b[0m\u001b[0m\n\u001b[1;32m   1020\u001b[0m     ) -> DataFrame:\n\u001b[0;32m-> 1021\u001b[0;31m         agg_blocks, agg_items = self._cython_agg_blocks(\n\u001b[0m\u001b[1;32m   1022\u001b[0m             \u001b[0mhow\u001b[0m\u001b[0;34m,\u001b[0m \u001b[0malt\u001b[0m\u001b[0;34m=\u001b[0m\u001b[0malt\u001b[0m\u001b[0;34m,\u001b[0m \u001b[0mnumeric_only\u001b[0m\u001b[0;34m=\u001b[0m\u001b[0mnumeric_only\u001b[0m\u001b[0;34m,\u001b[0m \u001b[0mmin_count\u001b[0m\u001b[0;34m=\u001b[0m\u001b[0mmin_count\u001b[0m\u001b[0;34m\u001b[0m\u001b[0;34m\u001b[0m\u001b[0m\n\u001b[1;32m   1023\u001b[0m         )\n",
      "\u001b[0;32m~/anaconda3/lib/python3.8/site-packages/pandas/core/groupby/generic.py\u001b[0m in \u001b[0;36m_cython_agg_blocks\u001b[0;34m(self, how, alt, numeric_only, min_count)\u001b[0m\n\u001b[1;32m   1122\u001b[0m                         \u001b[0mresult\u001b[0m \u001b[0;34m=\u001b[0m \u001b[0mresult\u001b[0m\u001b[0;34m.\u001b[0m\u001b[0mreshape\u001b[0m\u001b[0;34m(\u001b[0m\u001b[0;36m1\u001b[0m\u001b[0;34m,\u001b[0m \u001b[0;34m-\u001b[0m\u001b[0;36m1\u001b[0m\u001b[0;34m)\u001b[0m\u001b[0;34m\u001b[0m\u001b[0;34m\u001b[0m\u001b[0m\n\u001b[1;32m   1123\u001b[0m \u001b[0;34m\u001b[0m\u001b[0m\n\u001b[0;32m-> 1124\u001b[0;31m                 \u001b[0magg_block\u001b[0m\u001b[0;34m:\u001b[0m \u001b[0mBlock\u001b[0m \u001b[0;34m=\u001b[0m \u001b[0mblock\u001b[0m\u001b[0;34m.\u001b[0m\u001b[0mmake_block\u001b[0m\u001b[0;34m(\u001b[0m\u001b[0mresult\u001b[0m\u001b[0;34m)\u001b[0m\u001b[0;34m\u001b[0m\u001b[0;34m\u001b[0m\u001b[0m\n\u001b[0m\u001b[1;32m   1125\u001b[0m \u001b[0;34m\u001b[0m\u001b[0m\n\u001b[1;32m   1126\u001b[0m             \u001b[0mnew_items\u001b[0m\u001b[0;34m.\u001b[0m\u001b[0mappend\u001b[0m\u001b[0;34m(\u001b[0m\u001b[0mlocs\u001b[0m\u001b[0;34m)\u001b[0m\u001b[0;34m\u001b[0m\u001b[0;34m\u001b[0m\u001b[0m\n",
      "\u001b[0;32m~/anaconda3/lib/python3.8/site-packages/pandas/core/internals/blocks.py\u001b[0m in \u001b[0;36mmake_block\u001b[0;34m(self, values, placement)\u001b[0m\n\u001b[1;32m    252\u001b[0m             \u001b[0mvalues\u001b[0m \u001b[0;34m=\u001b[0m \u001b[0m_block_shape\u001b[0m\u001b[0;34m(\u001b[0m\u001b[0mvalues\u001b[0m\u001b[0;34m,\u001b[0m \u001b[0mndim\u001b[0m\u001b[0;34m=\u001b[0m\u001b[0mself\u001b[0m\u001b[0;34m.\u001b[0m\u001b[0mndim\u001b[0m\u001b[0;34m)\u001b[0m\u001b[0;34m\u001b[0m\u001b[0;34m\u001b[0m\u001b[0m\n\u001b[1;32m    253\u001b[0m \u001b[0;34m\u001b[0m\u001b[0m\n\u001b[0;32m--> 254\u001b[0;31m         \u001b[0;32mreturn\u001b[0m \u001b[0mmake_block\u001b[0m\u001b[0;34m(\u001b[0m\u001b[0mvalues\u001b[0m\u001b[0;34m,\u001b[0m \u001b[0mplacement\u001b[0m\u001b[0;34m=\u001b[0m\u001b[0mplacement\u001b[0m\u001b[0;34m,\u001b[0m \u001b[0mndim\u001b[0m\u001b[0;34m=\u001b[0m\u001b[0mself\u001b[0m\u001b[0;34m.\u001b[0m\u001b[0mndim\u001b[0m\u001b[0;34m)\u001b[0m\u001b[0;34m\u001b[0m\u001b[0;34m\u001b[0m\u001b[0m\n\u001b[0m\u001b[1;32m    255\u001b[0m \u001b[0;34m\u001b[0m\u001b[0m\n\u001b[1;32m    256\u001b[0m     \u001b[0;32mdef\u001b[0m \u001b[0mmake_block_same_class\u001b[0m\u001b[0;34m(\u001b[0m\u001b[0mself\u001b[0m\u001b[0;34m,\u001b[0m \u001b[0mvalues\u001b[0m\u001b[0;34m,\u001b[0m \u001b[0mplacement\u001b[0m\u001b[0;34m=\u001b[0m\u001b[0;32mNone\u001b[0m\u001b[0;34m,\u001b[0m \u001b[0mndim\u001b[0m\u001b[0;34m=\u001b[0m\u001b[0;32mNone\u001b[0m\u001b[0;34m)\u001b[0m\u001b[0;34m:\u001b[0m\u001b[0;34m\u001b[0m\u001b[0;34m\u001b[0m\u001b[0m\n",
      "\u001b[0;32m~/anaconda3/lib/python3.8/site-packages/pandas/core/internals/blocks.py\u001b[0m in \u001b[0;36mmake_block\u001b[0;34m(values, placement, klass, ndim, dtype)\u001b[0m\n\u001b[1;32m   2720\u001b[0m         \u001b[0mvalues\u001b[0m \u001b[0;34m=\u001b[0m \u001b[0mDatetimeArray\u001b[0m\u001b[0;34m.\u001b[0m\u001b[0m_simple_new\u001b[0m\u001b[0;34m(\u001b[0m\u001b[0mvalues\u001b[0m\u001b[0;34m,\u001b[0m \u001b[0mdtype\u001b[0m\u001b[0;34m=\u001b[0m\u001b[0mdtype\u001b[0m\u001b[0;34m)\u001b[0m\u001b[0;34m\u001b[0m\u001b[0;34m\u001b[0m\u001b[0m\n\u001b[1;32m   2721\u001b[0m \u001b[0;34m\u001b[0m\u001b[0m\n\u001b[0;32m-> 2722\u001b[0;31m     \u001b[0;32mreturn\u001b[0m \u001b[0mklass\u001b[0m\u001b[0;34m(\u001b[0m\u001b[0mvalues\u001b[0m\u001b[0;34m,\u001b[0m \u001b[0mndim\u001b[0m\u001b[0;34m=\u001b[0m\u001b[0mndim\u001b[0m\u001b[0;34m,\u001b[0m \u001b[0mplacement\u001b[0m\u001b[0;34m=\u001b[0m\u001b[0mplacement\u001b[0m\u001b[0;34m)\u001b[0m\u001b[0;34m\u001b[0m\u001b[0;34m\u001b[0m\u001b[0m\n\u001b[0m\u001b[1;32m   2723\u001b[0m \u001b[0;34m\u001b[0m\u001b[0m\n\u001b[1;32m   2724\u001b[0m \u001b[0;34m\u001b[0m\u001b[0m\n",
      "\u001b[0;32m~/anaconda3/lib/python3.8/site-packages/pandas/core/internals/blocks.py\u001b[0m in \u001b[0;36m__init__\u001b[0;34m(self, values, placement, ndim)\u001b[0m\n\u001b[1;32m   2376\u001b[0m             \u001b[0mvalues\u001b[0m \u001b[0;34m=\u001b[0m \u001b[0mnp\u001b[0m\u001b[0;34m.\u001b[0m\u001b[0marray\u001b[0m\u001b[0;34m(\u001b[0m\u001b[0mvalues\u001b[0m\u001b[0;34m,\u001b[0m \u001b[0mdtype\u001b[0m\u001b[0;34m=\u001b[0m\u001b[0mobject\u001b[0m\u001b[0;34m)\u001b[0m\u001b[0;34m\u001b[0m\u001b[0;34m\u001b[0m\u001b[0m\n\u001b[1;32m   2377\u001b[0m \u001b[0;34m\u001b[0m\u001b[0m\n\u001b[0;32m-> 2378\u001b[0;31m         \u001b[0msuper\u001b[0m\u001b[0;34m(\u001b[0m\u001b[0;34m)\u001b[0m\u001b[0;34m.\u001b[0m\u001b[0m__init__\u001b[0m\u001b[0;34m(\u001b[0m\u001b[0mvalues\u001b[0m\u001b[0;34m,\u001b[0m \u001b[0mndim\u001b[0m\u001b[0;34m=\u001b[0m\u001b[0mndim\u001b[0m\u001b[0;34m,\u001b[0m \u001b[0mplacement\u001b[0m\u001b[0;34m=\u001b[0m\u001b[0mplacement\u001b[0m\u001b[0;34m)\u001b[0m\u001b[0;34m\u001b[0m\u001b[0;34m\u001b[0m\u001b[0m\n\u001b[0m\u001b[1;32m   2379\u001b[0m \u001b[0;34m\u001b[0m\u001b[0m\n\u001b[1;32m   2380\u001b[0m     \u001b[0;34m@\u001b[0m\u001b[0mproperty\u001b[0m\u001b[0;34m\u001b[0m\u001b[0;34m\u001b[0m\u001b[0m\n",
      "\u001b[0;32m~/anaconda3/lib/python3.8/site-packages/pandas/core/internals/blocks.py\u001b[0m in \u001b[0;36m__init__\u001b[0;34m(self, values, placement, ndim)\u001b[0m\n\u001b[1;32m    128\u001b[0m \u001b[0;34m\u001b[0m\u001b[0m\n\u001b[1;32m    129\u001b[0m         \u001b[0;32mif\u001b[0m \u001b[0mself\u001b[0m\u001b[0;34m.\u001b[0m\u001b[0m_validate_ndim\u001b[0m \u001b[0;32mand\u001b[0m \u001b[0mself\u001b[0m\u001b[0;34m.\u001b[0m\u001b[0mndim\u001b[0m \u001b[0;32mand\u001b[0m \u001b[0mlen\u001b[0m\u001b[0;34m(\u001b[0m\u001b[0mself\u001b[0m\u001b[0;34m.\u001b[0m\u001b[0mmgr_locs\u001b[0m\u001b[0;34m)\u001b[0m \u001b[0;34m!=\u001b[0m \u001b[0mlen\u001b[0m\u001b[0;34m(\u001b[0m\u001b[0mself\u001b[0m\u001b[0;34m.\u001b[0m\u001b[0mvalues\u001b[0m\u001b[0;34m)\u001b[0m\u001b[0;34m:\u001b[0m\u001b[0;34m\u001b[0m\u001b[0;34m\u001b[0m\u001b[0m\n\u001b[0;32m--> 130\u001b[0;31m             raise ValueError(\n\u001b[0m\u001b[1;32m    131\u001b[0m                 \u001b[0;34mf\"Wrong number of items passed {len(self.values)}, \"\u001b[0m\u001b[0;34m\u001b[0m\u001b[0;34m\u001b[0m\u001b[0m\n\u001b[1;32m    132\u001b[0m                 \u001b[0;34mf\"placement implies {len(self.mgr_locs)}\"\u001b[0m\u001b[0;34m\u001b[0m\u001b[0;34m\u001b[0m\u001b[0m\n",
      "\u001b[0;31mValueError\u001b[0m: Wrong number of items passed 1, placement implies 6"
     ]
    }
   ],
   "source": [
    "df.groupby('artist').min()\n"
   ]
  },
  {
   "cell_type": "code",
   "execution_count": null,
   "metadata": {},
   "outputs": [],
   "source": [
    "small_df"
   ]
  },
  {
   "cell_type": "code",
   "execution_count": 3,
   "metadata": {},
   "outputs": [],
   "source": [
    "#FILTERING\n",
    "grouped_titles = df.groupby('title')\n"
   ]
  },
  {
   "cell_type": "code",
   "execution_count": 4,
   "metadata": {},
   "outputs": [],
   "source": [
    "title_counts = grouped_titles.size().sort_values(ascending=False)\n"
   ]
  },
  {
   "cell_type": "code",
   "execution_count": 5,
   "metadata": {},
   "outputs": [],
   "source": [
    "condition = lambda x: len(x.index) > 1\n"
   ]
  },
  {
   "cell_type": "code",
   "execution_count": 7,
   "metadata": {},
   "outputs": [],
   "source": [
    "dup_titles_df = grouped_titles.filter(condition)\n"
   ]
  },
  {
   "cell_type": "code",
   "execution_count": null,
   "metadata": {},
   "outputs": [],
   "source": [
    "dup_titles_df.sort_values('title', inplace=True)\n"
   ]
  }
 ]
}