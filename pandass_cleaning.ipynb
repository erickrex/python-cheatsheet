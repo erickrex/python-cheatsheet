{
 "metadata": {
  "language_info": {
   "codemirror_mode": {
    "name": "ipython",
    "version": 3
   },
   "file_extension": ".py",
   "mimetype": "text/x-python",
   "name": "python",
   "nbconvert_exporter": "python",
   "pygments_lexer": "ipython3",
   "version": "3.8.5"
  },
  "orig_nbformat": 2,
  "kernelspec": {
   "name": "python385jvsc74a57bd019ef3a6396c46c7428efca1f5cbb7ae9e01db714ef36b5b8c4522c5b6ecb4d4b",
   "display_name": "Python 3.8.5 64-bit ('base': conda)"
  }
 },
 "nbformat": 4,
 "nbformat_minor": 2,
 "cells": [
  {
   "cell_type": "code",
   "execution_count": 1,
   "metadata": {},
   "outputs": [
    {
     "output_type": "stream",
     "name": "stdout",
     "text": [
      "<class 'pandas.core.frame.DataFrame'>\nRangeIndex: 8784 entries, 0 to 8783\nData columns (total 14 columns):\n #   Column           Non-Null Count  Dtype  \n---  ------           --------------  -----  \n 0   YYYYMMDD         8784 non-null   int64  \n 1   TIME             8784 non-null   int64  \n 2   TEMP             8784 non-null   int64  \n 3   MIN_TEMP_GROUND  1464 non-null   float64\n 4   PRESSURE         8784 non-null   int64  \n 5   HUMIDITY         8784 non-null   int64  \n 6   VIEW_RANGE       8743 non-null   float64\n 7   CLOUD            8743 non-null   float64\n 8   MIST             8741 non-null   float64\n 9   RAIN             8741 non-null   float64\n 10  SNOW             8741 non-null   float64\n 11  THUNDER          8741 non-null   float64\n 12  ICE              8741 non-null   float64\n 13  WEATHER_CODE     3862 non-null   float64\ndtypes: float64(9), int64(5)\nmemory usage: 960.9 KB\n"
     ]
    }
   ],
   "source": [
    "import numpy as np\n",
    "import pandas as pd\n",
    "\n",
    "df = pd.read_csv('./pandas/weather_m4.csv')\n",
    "df.info() #there is some missing data, the min_temp_ground column has a lot less measurements"
   ]
  },
  {
   "cell_type": "code",
   "execution_count": 5,
   "metadata": {},
   "outputs": [
    {
     "output_type": "execute_result",
     "data": {
      "text/plain": [
       "    MIN_TEMP_GROUND  VIEW_RANGE  CLOUD  WEATHER_CODE\n",
       "0               NaN        56.0    4.0          10.0\n",
       "1               NaN        57.0    2.0          10.0\n",
       "2               NaN        56.0    7.0          23.0\n",
       "3               NaN        57.0    7.0          51.0\n",
       "4               NaN        56.0    7.0          22.0\n",
       "5               3.0         9.0    0.0          34.0\n",
       "6               NaN         5.0    0.0          34.0\n",
       "7               NaN         1.0    0.0          34.0\n",
       "8               NaN         2.0    0.0          32.0\n",
       "9               NaN         5.0    0.0          32.0\n",
       "10              NaN        64.0    0.0          20.0\n",
       "11            -17.0        70.0    0.0           2.0\n",
       "12              NaN        69.0    2.0           NaN\n",
       "13              NaN        67.0    8.0           NaN\n",
       "14              NaN        50.0    8.0          10.0\n",
       "15              NaN        14.0    8.0          10.0\n",
       "16              NaN        19.0    8.0          10.0\n",
       "17             47.0        17.0    8.0          10.0\n",
       "18              NaN        48.0    8.0          10.0\n",
       "19              NaN        44.0    8.0          10.0\n",
       "20              NaN        50.0    8.0          10.0\n",
       "21              NaN        57.0    8.0          10.0\n",
       "22              NaN        60.0    8.0           NaN\n",
       "23             47.0        63.0    8.0           NaN"
      ],
      "text/html": "<div>\n<style scoped>\n    .dataframe tbody tr th:only-of-type {\n        vertical-align: middle;\n    }\n\n    .dataframe tbody tr th {\n        vertical-align: top;\n    }\n\n    .dataframe thead th {\n        text-align: right;\n    }\n</style>\n<table border=\"1\" class=\"dataframe\">\n  <thead>\n    <tr style=\"text-align: right;\">\n      <th></th>\n      <th>MIN_TEMP_GROUND</th>\n      <th>VIEW_RANGE</th>\n      <th>CLOUD</th>\n      <th>WEATHER_CODE</th>\n    </tr>\n  </thead>\n  <tbody>\n    <tr>\n      <th>0</th>\n      <td>NaN</td>\n      <td>56.0</td>\n      <td>4.0</td>\n      <td>10.0</td>\n    </tr>\n    <tr>\n      <th>1</th>\n      <td>NaN</td>\n      <td>57.0</td>\n      <td>2.0</td>\n      <td>10.0</td>\n    </tr>\n    <tr>\n      <th>2</th>\n      <td>NaN</td>\n      <td>56.0</td>\n      <td>7.0</td>\n      <td>23.0</td>\n    </tr>\n    <tr>\n      <th>3</th>\n      <td>NaN</td>\n      <td>57.0</td>\n      <td>7.0</td>\n      <td>51.0</td>\n    </tr>\n    <tr>\n      <th>4</th>\n      <td>NaN</td>\n      <td>56.0</td>\n      <td>7.0</td>\n      <td>22.0</td>\n    </tr>\n    <tr>\n      <th>5</th>\n      <td>3.0</td>\n      <td>9.0</td>\n      <td>0.0</td>\n      <td>34.0</td>\n    </tr>\n    <tr>\n      <th>6</th>\n      <td>NaN</td>\n      <td>5.0</td>\n      <td>0.0</td>\n      <td>34.0</td>\n    </tr>\n    <tr>\n      <th>7</th>\n      <td>NaN</td>\n      <td>1.0</td>\n      <td>0.0</td>\n      <td>34.0</td>\n    </tr>\n    <tr>\n      <th>8</th>\n      <td>NaN</td>\n      <td>2.0</td>\n      <td>0.0</td>\n      <td>32.0</td>\n    </tr>\n    <tr>\n      <th>9</th>\n      <td>NaN</td>\n      <td>5.0</td>\n      <td>0.0</td>\n      <td>32.0</td>\n    </tr>\n    <tr>\n      <th>10</th>\n      <td>NaN</td>\n      <td>64.0</td>\n      <td>0.0</td>\n      <td>20.0</td>\n    </tr>\n    <tr>\n      <th>11</th>\n      <td>-17.0</td>\n      <td>70.0</td>\n      <td>0.0</td>\n      <td>2.0</td>\n    </tr>\n    <tr>\n      <th>12</th>\n      <td>NaN</td>\n      <td>69.0</td>\n      <td>2.0</td>\n      <td>NaN</td>\n    </tr>\n    <tr>\n      <th>13</th>\n      <td>NaN</td>\n      <td>67.0</td>\n      <td>8.0</td>\n      <td>NaN</td>\n    </tr>\n    <tr>\n      <th>14</th>\n      <td>NaN</td>\n      <td>50.0</td>\n      <td>8.0</td>\n      <td>10.0</td>\n    </tr>\n    <tr>\n      <th>15</th>\n      <td>NaN</td>\n      <td>14.0</td>\n      <td>8.0</td>\n      <td>10.0</td>\n    </tr>\n    <tr>\n      <th>16</th>\n      <td>NaN</td>\n      <td>19.0</td>\n      <td>8.0</td>\n      <td>10.0</td>\n    </tr>\n    <tr>\n      <th>17</th>\n      <td>47.0</td>\n      <td>17.0</td>\n      <td>8.0</td>\n      <td>10.0</td>\n    </tr>\n    <tr>\n      <th>18</th>\n      <td>NaN</td>\n      <td>48.0</td>\n      <td>8.0</td>\n      <td>10.0</td>\n    </tr>\n    <tr>\n      <th>19</th>\n      <td>NaN</td>\n      <td>44.0</td>\n      <td>8.0</td>\n      <td>10.0</td>\n    </tr>\n    <tr>\n      <th>20</th>\n      <td>NaN</td>\n      <td>50.0</td>\n      <td>8.0</td>\n      <td>10.0</td>\n    </tr>\n    <tr>\n      <th>21</th>\n      <td>NaN</td>\n      <td>57.0</td>\n      <td>8.0</td>\n      <td>10.0</td>\n    </tr>\n    <tr>\n      <th>22</th>\n      <td>NaN</td>\n      <td>60.0</td>\n      <td>8.0</td>\n      <td>NaN</td>\n    </tr>\n    <tr>\n      <th>23</th>\n      <td>47.0</td>\n      <td>63.0</td>\n      <td>8.0</td>\n      <td>NaN</td>\n    </tr>\n  </tbody>\n</table>\n</div>"
     },
     "metadata": {},
     "execution_count": 5
    }
   ],
   "source": [
    "df[['MIN_TEMP_GROUND', 'VIEW_RANGE', 'CLOUD', 'WEATHER_CODE']].head(24)"
   ]
  },
  {
   "cell_type": "code",
   "execution_count": 11,
   "metadata": {},
   "outputs": [
    {
     "output_type": "execute_result",
     "data": {
      "text/plain": [
       "YYYYMMDD           False\n",
       "TIME               False\n",
       "TEMP               False\n",
       "MIN_TEMP_GROUND     True\n",
       "PRESSURE           False\n",
       "HUMIDITY           False\n",
       "VIEW_RANGE          True\n",
       "CLOUD               True\n",
       "MIST                True\n",
       "RAIN                True\n",
       "SNOW                True\n",
       "THUNDER             True\n",
       "ICE                 True\n",
       "WEATHER_CODE        True\n",
       "dtype: bool"
      ]
     },
     "metadata": {},
     "execution_count": 11
    }
   ],
   "source": [
    "df.isnull().any() #you can change the axis too"
   ]
  },
  {
   "cell_type": "code",
   "execution_count": 14,
   "metadata": {},
   "outputs": [
    {
     "output_type": "execute_result",
     "data": {
      "text/plain": [
       "      YYYYMMDD  TIME  TEMP  MIN_TEMP_GROUND  PRESSURE  HUMIDITY  VIEW_RANGE  \\\n",
       "0     20160101     1    68              NaN     10207        87        56.0   \n",
       "1     20160101     2    58              NaN     10214        92        57.0   \n",
       "2     20160101     3    57              NaN     10220        92        56.0   \n",
       "3     20160101     4    60              NaN     10225        93        57.0   \n",
       "4     20160101     5    45              NaN     10230        95        56.0   \n",
       "...        ...   ...   ...              ...       ...       ...         ...   \n",
       "8778  20161231    19    35              NaN     10271        98         7.0   \n",
       "8779  20161231    20    35              NaN     10265        98        11.0   \n",
       "8780  20161231    21    34              NaN     10258        98         9.0   \n",
       "8781  20161231    22    30              NaN     10253        98         9.0   \n",
       "8782  20161231    23    28              NaN     10246        98         6.0   \n",
       "\n",
       "      CLOUD  MIST  RAIN  SNOW  THUNDER  ICE  WEATHER_CODE  \n",
       "0       4.0   0.0   0.0   0.0      0.0  0.0          10.0  \n",
       "1       2.0   0.0   0.0   0.0      0.0  0.0          10.0  \n",
       "2       7.0   0.0   1.0   0.0      0.0  0.0          23.0  \n",
       "3       7.0   0.0   1.0   0.0      0.0  0.0          51.0  \n",
       "4       7.0   0.0   1.0   0.0      0.0  0.0          22.0  \n",
       "...     ...   ...   ...   ...      ...  ...           ...  \n",
       "8778    9.0   1.0   0.0   0.0      0.0  0.0          34.0  \n",
       "8779    8.0   1.0   0.0   0.0      0.0  0.0          20.0  \n",
       "8780    9.0   1.0   0.0   0.0      0.0  0.0          34.0  \n",
       "8781    9.0   1.0   1.0   0.0      0.0  0.0          33.0  \n",
       "8782    9.0   1.0   1.0   0.0      0.0  0.0          34.0  \n",
       "\n",
       "[7953 rows x 14 columns]"
      ],
      "text/html": "<div>\n<style scoped>\n    .dataframe tbody tr th:only-of-type {\n        vertical-align: middle;\n    }\n\n    .dataframe tbody tr th {\n        vertical-align: top;\n    }\n\n    .dataframe thead th {\n        text-align: right;\n    }\n</style>\n<table border=\"1\" class=\"dataframe\">\n  <thead>\n    <tr style=\"text-align: right;\">\n      <th></th>\n      <th>YYYYMMDD</th>\n      <th>TIME</th>\n      <th>TEMP</th>\n      <th>MIN_TEMP_GROUND</th>\n      <th>PRESSURE</th>\n      <th>HUMIDITY</th>\n      <th>VIEW_RANGE</th>\n      <th>CLOUD</th>\n      <th>MIST</th>\n      <th>RAIN</th>\n      <th>SNOW</th>\n      <th>THUNDER</th>\n      <th>ICE</th>\n      <th>WEATHER_CODE</th>\n    </tr>\n  </thead>\n  <tbody>\n    <tr>\n      <th>0</th>\n      <td>20160101</td>\n      <td>1</td>\n      <td>68</td>\n      <td>NaN</td>\n      <td>10207</td>\n      <td>87</td>\n      <td>56.0</td>\n      <td>4.0</td>\n      <td>0.0</td>\n      <td>0.0</td>\n      <td>0.0</td>\n      <td>0.0</td>\n      <td>0.0</td>\n      <td>10.0</td>\n    </tr>\n    <tr>\n      <th>1</th>\n      <td>20160101</td>\n      <td>2</td>\n      <td>58</td>\n      <td>NaN</td>\n      <td>10214</td>\n      <td>92</td>\n      <td>57.0</td>\n      <td>2.0</td>\n      <td>0.0</td>\n      <td>0.0</td>\n      <td>0.0</td>\n      <td>0.0</td>\n      <td>0.0</td>\n      <td>10.0</td>\n    </tr>\n    <tr>\n      <th>2</th>\n      <td>20160101</td>\n      <td>3</td>\n      <td>57</td>\n      <td>NaN</td>\n      <td>10220</td>\n      <td>92</td>\n      <td>56.0</td>\n      <td>7.0</td>\n      <td>0.0</td>\n      <td>1.0</td>\n      <td>0.0</td>\n      <td>0.0</td>\n      <td>0.0</td>\n      <td>23.0</td>\n    </tr>\n    <tr>\n      <th>3</th>\n      <td>20160101</td>\n      <td>4</td>\n      <td>60</td>\n      <td>NaN</td>\n      <td>10225</td>\n      <td>93</td>\n      <td>57.0</td>\n      <td>7.0</td>\n      <td>0.0</td>\n      <td>1.0</td>\n      <td>0.0</td>\n      <td>0.0</td>\n      <td>0.0</td>\n      <td>51.0</td>\n    </tr>\n    <tr>\n      <th>4</th>\n      <td>20160101</td>\n      <td>5</td>\n      <td>45</td>\n      <td>NaN</td>\n      <td>10230</td>\n      <td>95</td>\n      <td>56.0</td>\n      <td>7.0</td>\n      <td>0.0</td>\n      <td>1.0</td>\n      <td>0.0</td>\n      <td>0.0</td>\n      <td>0.0</td>\n      <td>22.0</td>\n    </tr>\n    <tr>\n      <th>...</th>\n      <td>...</td>\n      <td>...</td>\n      <td>...</td>\n      <td>...</td>\n      <td>...</td>\n      <td>...</td>\n      <td>...</td>\n      <td>...</td>\n      <td>...</td>\n      <td>...</td>\n      <td>...</td>\n      <td>...</td>\n      <td>...</td>\n      <td>...</td>\n    </tr>\n    <tr>\n      <th>8778</th>\n      <td>20161231</td>\n      <td>19</td>\n      <td>35</td>\n      <td>NaN</td>\n      <td>10271</td>\n      <td>98</td>\n      <td>7.0</td>\n      <td>9.0</td>\n      <td>1.0</td>\n      <td>0.0</td>\n      <td>0.0</td>\n      <td>0.0</td>\n      <td>0.0</td>\n      <td>34.0</td>\n    </tr>\n    <tr>\n      <th>8779</th>\n      <td>20161231</td>\n      <td>20</td>\n      <td>35</td>\n      <td>NaN</td>\n      <td>10265</td>\n      <td>98</td>\n      <td>11.0</td>\n      <td>8.0</td>\n      <td>1.0</td>\n      <td>0.0</td>\n      <td>0.0</td>\n      <td>0.0</td>\n      <td>0.0</td>\n      <td>20.0</td>\n    </tr>\n    <tr>\n      <th>8780</th>\n      <td>20161231</td>\n      <td>21</td>\n      <td>34</td>\n      <td>NaN</td>\n      <td>10258</td>\n      <td>98</td>\n      <td>9.0</td>\n      <td>9.0</td>\n      <td>1.0</td>\n      <td>0.0</td>\n      <td>0.0</td>\n      <td>0.0</td>\n      <td>0.0</td>\n      <td>34.0</td>\n    </tr>\n    <tr>\n      <th>8781</th>\n      <td>20161231</td>\n      <td>22</td>\n      <td>30</td>\n      <td>NaN</td>\n      <td>10253</td>\n      <td>98</td>\n      <td>9.0</td>\n      <td>9.0</td>\n      <td>1.0</td>\n      <td>1.0</td>\n      <td>0.0</td>\n      <td>0.0</td>\n      <td>0.0</td>\n      <td>33.0</td>\n    </tr>\n    <tr>\n      <th>8782</th>\n      <td>20161231</td>\n      <td>23</td>\n      <td>28</td>\n      <td>NaN</td>\n      <td>10246</td>\n      <td>98</td>\n      <td>6.0</td>\n      <td>9.0</td>\n      <td>1.0</td>\n      <td>1.0</td>\n      <td>0.0</td>\n      <td>0.0</td>\n      <td>0.0</td>\n      <td>34.0</td>\n    </tr>\n  </tbody>\n</table>\n<p>7953 rows × 14 columns</p>\n</div>"
     },
     "metadata": {},
     "execution_count": 14
    }
   ],
   "source": [
    "df[df.isnull().any(axis=1)]"
   ]
  },
  {
   "cell_type": "code",
   "execution_count": 18,
   "metadata": {},
   "outputs": [
    {
     "output_type": "execute_result",
     "data": {
      "text/plain": [
       "YYYYMMDD           False\n",
       "TIME               False\n",
       "TEMP               False\n",
       "MIN_TEMP_GROUND    False\n",
       "PRESSURE           False\n",
       "HUMIDITY           False\n",
       "VIEW_RANGE         False\n",
       "CLOUD              False\n",
       "MIST               False\n",
       "RAIN               False\n",
       "SNOW               False\n",
       "THUNDER            False\n",
       "ICE                False\n",
       "WEATHER_CODE       False\n",
       "dtype: bool"
      ]
     },
     "metadata": {},
     "execution_count": 18
    }
   ],
   "source": [
    "df.isnull().all() #all columns contain some data"
   ]
  },
  {
   "cell_type": "code",
   "execution_count": 24,
   "metadata": {},
   "outputs": [
    {
     "output_type": "execute_result",
     "data": {
      "text/plain": [
       "False"
      ]
     },
     "metadata": {},
     "execution_count": 24
    }
   ],
   "source": [
    "df.isnull().all(axis=1).any() #No rows that are completely empty"
   ]
  },
  {
   "cell_type": "code",
   "execution_count": 27,
   "metadata": {},
   "outputs": [
    {
     "output_type": "execute_result",
     "data": {
      "text/plain": [
       "YYYYMMDD            True\n",
       "TIME                True\n",
       "TEMP                True\n",
       "MIN_TEMP_GROUND    False\n",
       "PRESSURE            True\n",
       "HUMIDITY            True\n",
       "VIEW_RANGE         False\n",
       "CLOUD              False\n",
       "MIST               False\n",
       "RAIN               False\n",
       "SNOW               False\n",
       "THUNDER            False\n",
       "ICE                False\n",
       "WEATHER_CODE       False\n",
       "dtype: bool"
      ]
     },
     "metadata": {},
     "execution_count": 27
    }
   ],
   "source": [
    "df.notnull().all() #returns true for every value that is not null, it is the opposite to isnull"
   ]
  },
  {
   "cell_type": "code",
   "execution_count": 28,
   "metadata": {},
   "outputs": [
    {
     "output_type": "execute_result",
     "data": {
      "text/plain": [
       "range(5, 8784, 6)"
      ]
     },
     "metadata": {},
     "execution_count": 28
    }
   ],
   "source": [
    "range(5,len(df), 6)"
   ]
  },
  {
   "cell_type": "code",
   "execution_count": 29,
   "metadata": {},
   "outputs": [
    {
     "output_type": "execute_result",
     "data": {
      "text/plain": [
       "0          5\n",
       "1         11\n",
       "2         17\n",
       "3         23\n",
       "4         29\n",
       "        ... \n",
       "1459    8759\n",
       "1460    8765\n",
       "1461    8771\n",
       "1462    8777\n",
       "1463    8783\n",
       "Length: 1464, dtype: int64"
      ]
     },
     "metadata": {},
     "execution_count": 29
    }
   ],
   "source": [
    "pd.Series(range(5,len(df), 6))"
   ]
  },
  {
   "cell_type": "code",
   "execution_count": 30,
   "metadata": {},
   "outputs": [],
   "source": [
    "every_6th_row = pd.Series(range(5,len(df),6))"
   ]
  },
  {
   "cell_type": "code",
   "execution_count": 31,
   "metadata": {},
   "outputs": [
    {
     "output_type": "execute_result",
     "data": {
      "text/plain": [
       "5        3.0\n",
       "11     -17.0\n",
       "17      47.0\n",
       "23      47.0\n",
       "29      48.0\n",
       "        ... \n",
       "8759    32.0\n",
       "8765    29.0\n",
       "8771    29.0\n",
       "8777    37.0\n",
       "8783    26.0\n",
       "Name: MIN_TEMP_GROUND, Length: 1464, dtype: float64"
      ]
     },
     "metadata": {},
     "execution_count": 31
    }
   ],
   "source": [
    "df['MIN_TEMP_GROUND'][every_6th_row]"
   ]
  },
  {
   "cell_type": "code",
   "execution_count": 32,
   "metadata": {},
   "outputs": [
    {
     "output_type": "execute_result",
     "data": {
      "text/plain": [
       "True"
      ]
     },
     "metadata": {},
     "execution_count": 32
    }
   ],
   "source": [
    "df['MIN_TEMP_GROUND'][every_6th_row].notnull().all() #all these rows are filled"
   ]
  },
  {
   "cell_type": "code",
   "execution_count": 33,
   "metadata": {},
   "outputs": [
    {
     "output_type": "execute_result",
     "data": {
      "text/plain": [
       "True"
      ]
     },
     "metadata": {},
     "execution_count": 33
    }
   ],
   "source": [
    "df['MIN_TEMP_GROUND'].drop(every_6th_row).isnull().all() #checking if all are nulls"
   ]
  },
  {
   "cell_type": "code",
   "execution_count": 38,
   "metadata": {},
   "outputs": [
    {
     "output_type": "execute_result",
     "data": {
      "text/plain": [
       "True"
      ]
     },
     "metadata": {},
     "execution_count": 38
    }
   ],
   "source": [
    "df.loc[:,'MIN_TEMP_GROUND'].drop(every_6th_row).isnull().all()"
   ]
  }
 ]
}