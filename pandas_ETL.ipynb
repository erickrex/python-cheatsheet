{
 "metadata": {
  "language_info": {
   "codemirror_mode": {
    "name": "ipython",
    "version": 3
   },
   "file_extension": ".py",
   "mimetype": "text/x-python",
   "name": "python",
   "nbconvert_exporter": "python",
   "pygments_lexer": "ipython3",
   "version": "3.8.5"
  },
  "orig_nbformat": 2,
  "kernelspec": {
   "name": "python385jvsc74a57bd019ef3a6396c46c7428efca1f5cbb7ae9e01db714ef36b5b8c4522c5b6ecb4d4b",
   "display_name": "Python 3.8.5 64-bit ('base': conda)"
  }
 },
 "nbformat": 4,
 "nbformat_minor": 2,
 "cells": [
  {
   "cell_type": "code",
   "execution_count": 2,
   "metadata": {},
   "outputs": [
    {
     "output_type": "stream",
     "name": "stdout",
     "text": [
      "<class 'pandas.core.frame.DataFrame'>\nRangeIndex: 11538 entries, 0 to 11537\nData columns (total 12 columns):\n #   Column         Non-Null Count  Dtype  \n---  ------         --------------  -----  \n 0   id             11538 non-null  int64  \n 1   name           11538 non-null  object \n 2   nationality    11538 non-null  object \n 3   sex            11538 non-null  object \n 4   date_of_birth  11538 non-null  object \n 5   height         11208 non-null  float64\n 6   weight         10879 non-null  float64\n 7   sport          11538 non-null  object \n 8   gold           11538 non-null  int64  \n 9   silver         11538 non-null  int64  \n 10  bronze         11538 non-null  int64  \n 11  info           131 non-null    object \ndtypes: float64(2), int64(4), object(6)\nmemory usage: 1.1+ MB\n"
     ]
    }
   ],
   "source": [
    "import pandas as pd\n",
    "athletes = pd.read_csv('./pandas/athletes_clean.csv')\n",
    "athletes.info()"
   ]
  },
  {
   "cell_type": "code",
   "execution_count": 3,
   "metadata": {},
   "outputs": [],
   "source": [
    "g = athletes.groupby('nationality')"
   ]
  },
  {
   "cell_type": "code",
   "execution_count": 4,
   "metadata": {},
   "outputs": [
    {
     "output_type": "execute_result",
     "data": {
      "text/plain": [
       "                      id  height  weight  gold  silver  bronze\n",
       "nationality                                                   \n",
       "AFG            544720346    5.21   222.0     0       0       0\n",
       "ALB           3224936557   10.57   404.0     0       0       0\n",
       "ALG          34523048655  119.43  4219.0     0       2       0\n",
       "AND           3059131853    8.56   320.0     0       0       0\n",
       "ANG          10511499494   45.82  1907.0     0       0       0\n",
       "...                  ...     ...     ...   ...     ...     ...\n",
       "VIE          10541691287   38.27  1360.0     1       1       0\n",
       "VIN           2891918513    3.51   120.0     0       0       0\n",
       "YEM           2482979326    5.09   194.0     0       0       0\n",
       "ZAM           3000084717   10.60   405.0     0       0       0\n",
       "ZIM          17589703247   58.66  2193.0     0       0       0\n",
       "\n",
       "[207 rows x 6 columns]"
      ],
      "text/html": "<div>\n<style scoped>\n    .dataframe tbody tr th:only-of-type {\n        vertical-align: middle;\n    }\n\n    .dataframe tbody tr th {\n        vertical-align: top;\n    }\n\n    .dataframe thead th {\n        text-align: right;\n    }\n</style>\n<table border=\"1\" class=\"dataframe\">\n  <thead>\n    <tr style=\"text-align: right;\">\n      <th></th>\n      <th>id</th>\n      <th>height</th>\n      <th>weight</th>\n      <th>gold</th>\n      <th>silver</th>\n      <th>bronze</th>\n    </tr>\n    <tr>\n      <th>nationality</th>\n      <th></th>\n      <th></th>\n      <th></th>\n      <th></th>\n      <th></th>\n      <th></th>\n    </tr>\n  </thead>\n  <tbody>\n    <tr>\n      <th>AFG</th>\n      <td>544720346</td>\n      <td>5.21</td>\n      <td>222.0</td>\n      <td>0</td>\n      <td>0</td>\n      <td>0</td>\n    </tr>\n    <tr>\n      <th>ALB</th>\n      <td>3224936557</td>\n      <td>10.57</td>\n      <td>404.0</td>\n      <td>0</td>\n      <td>0</td>\n      <td>0</td>\n    </tr>\n    <tr>\n      <th>ALG</th>\n      <td>34523048655</td>\n      <td>119.43</td>\n      <td>4219.0</td>\n      <td>0</td>\n      <td>2</td>\n      <td>0</td>\n    </tr>\n    <tr>\n      <th>AND</th>\n      <td>3059131853</td>\n      <td>8.56</td>\n      <td>320.0</td>\n      <td>0</td>\n      <td>0</td>\n      <td>0</td>\n    </tr>\n    <tr>\n      <th>ANG</th>\n      <td>10511499494</td>\n      <td>45.82</td>\n      <td>1907.0</td>\n      <td>0</td>\n      <td>0</td>\n      <td>0</td>\n    </tr>\n    <tr>\n      <th>...</th>\n      <td>...</td>\n      <td>...</td>\n      <td>...</td>\n      <td>...</td>\n      <td>...</td>\n      <td>...</td>\n    </tr>\n    <tr>\n      <th>VIE</th>\n      <td>10541691287</td>\n      <td>38.27</td>\n      <td>1360.0</td>\n      <td>1</td>\n      <td>1</td>\n      <td>0</td>\n    </tr>\n    <tr>\n      <th>VIN</th>\n      <td>2891918513</td>\n      <td>3.51</td>\n      <td>120.0</td>\n      <td>0</td>\n      <td>0</td>\n      <td>0</td>\n    </tr>\n    <tr>\n      <th>YEM</th>\n      <td>2482979326</td>\n      <td>5.09</td>\n      <td>194.0</td>\n      <td>0</td>\n      <td>0</td>\n      <td>0</td>\n    </tr>\n    <tr>\n      <th>ZAM</th>\n      <td>3000084717</td>\n      <td>10.60</td>\n      <td>405.0</td>\n      <td>0</td>\n      <td>0</td>\n      <td>0</td>\n    </tr>\n    <tr>\n      <th>ZIM</th>\n      <td>17589703247</td>\n      <td>58.66</td>\n      <td>2193.0</td>\n      <td>0</td>\n      <td>0</td>\n      <td>0</td>\n    </tr>\n  </tbody>\n</table>\n<p>207 rows × 6 columns</p>\n</div>"
     },
     "metadata": {},
     "execution_count": 4
    }
   ],
   "source": [
    "g.sum() #the index becomes the group by argument"
   ]
  },
  {
   "cell_type": "code",
   "execution_count": 5,
   "metadata": {},
   "outputs": [
    {
     "output_type": "execute_result",
     "data": {
      "text/plain": [
       "             gold  silver  bronze\n",
       "nationality                      \n",
       "AFG             0       0       0\n",
       "ALB             0       0       0\n",
       "ALG             0       2       0\n",
       "AND             0       0       0\n",
       "ANG             0       0       0\n",
       "...           ...     ...     ...\n",
       "VIE             1       1       0\n",
       "VIN             0       0       0\n",
       "YEM             0       0       0\n",
       "ZAM             0       0       0\n",
       "ZIM             0       0       0\n",
       "\n",
       "[207 rows x 3 columns]"
      ],
      "text/html": "<div>\n<style scoped>\n    .dataframe tbody tr th:only-of-type {\n        vertical-align: middle;\n    }\n\n    .dataframe tbody tr th {\n        vertical-align: top;\n    }\n\n    .dataframe thead th {\n        text-align: right;\n    }\n</style>\n<table border=\"1\" class=\"dataframe\">\n  <thead>\n    <tr style=\"text-align: right;\">\n      <th></th>\n      <th>gold</th>\n      <th>silver</th>\n      <th>bronze</th>\n    </tr>\n    <tr>\n      <th>nationality</th>\n      <th></th>\n      <th></th>\n      <th></th>\n    </tr>\n  </thead>\n  <tbody>\n    <tr>\n      <th>AFG</th>\n      <td>0</td>\n      <td>0</td>\n      <td>0</td>\n    </tr>\n    <tr>\n      <th>ALB</th>\n      <td>0</td>\n      <td>0</td>\n      <td>0</td>\n    </tr>\n    <tr>\n      <th>ALG</th>\n      <td>0</td>\n      <td>2</td>\n      <td>0</td>\n    </tr>\n    <tr>\n      <th>AND</th>\n      <td>0</td>\n      <td>0</td>\n      <td>0</td>\n    </tr>\n    <tr>\n      <th>ANG</th>\n      <td>0</td>\n      <td>0</td>\n      <td>0</td>\n    </tr>\n    <tr>\n      <th>...</th>\n      <td>...</td>\n      <td>...</td>\n      <td>...</td>\n    </tr>\n    <tr>\n      <th>VIE</th>\n      <td>1</td>\n      <td>1</td>\n      <td>0</td>\n    </tr>\n    <tr>\n      <th>VIN</th>\n      <td>0</td>\n      <td>0</td>\n      <td>0</td>\n    </tr>\n    <tr>\n      <th>YEM</th>\n      <td>0</td>\n      <td>0</td>\n      <td>0</td>\n    </tr>\n    <tr>\n      <th>ZAM</th>\n      <td>0</td>\n      <td>0</td>\n      <td>0</td>\n    </tr>\n    <tr>\n      <th>ZIM</th>\n      <td>0</td>\n      <td>0</td>\n      <td>0</td>\n    </tr>\n  </tbody>\n</table>\n<p>207 rows × 3 columns</p>\n</div>"
     },
     "metadata": {},
     "execution_count": 5
    }
   ],
   "source": [
    "g.sum()[['gold', 'silver', 'bronze']]"
   ]
  },
  {
   "cell_type": "code",
   "execution_count": 6,
   "metadata": {},
   "outputs": [
    {
     "output_type": "execute_result",
     "data": {
      "text/plain": [
       "             gold  silver  bronze\n",
       "nationality                      \n",
       "AFG             0       0       0\n",
       "ALB             0       0       0\n",
       "ALG             0       2       0\n",
       "AND             0       0       0\n",
       "ANG             0       0       0\n",
       "...           ...     ...     ...\n",
       "VIE             1       1       0\n",
       "VIN             0       0       0\n",
       "YEM             0       0       0\n",
       "ZAM             0       0       0\n",
       "ZIM             0       0       0\n",
       "\n",
       "[207 rows x 3 columns]"
      ],
      "text/html": "<div>\n<style scoped>\n    .dataframe tbody tr th:only-of-type {\n        vertical-align: middle;\n    }\n\n    .dataframe tbody tr th {\n        vertical-align: top;\n    }\n\n    .dataframe thead th {\n        text-align: right;\n    }\n</style>\n<table border=\"1\" class=\"dataframe\">\n  <thead>\n    <tr style=\"text-align: right;\">\n      <th></th>\n      <th>gold</th>\n      <th>silver</th>\n      <th>bronze</th>\n    </tr>\n    <tr>\n      <th>nationality</th>\n      <th></th>\n      <th></th>\n      <th></th>\n    </tr>\n  </thead>\n  <tbody>\n    <tr>\n      <th>AFG</th>\n      <td>0</td>\n      <td>0</td>\n      <td>0</td>\n    </tr>\n    <tr>\n      <th>ALB</th>\n      <td>0</td>\n      <td>0</td>\n      <td>0</td>\n    </tr>\n    <tr>\n      <th>ALG</th>\n      <td>0</td>\n      <td>2</td>\n      <td>0</td>\n    </tr>\n    <tr>\n      <th>AND</th>\n      <td>0</td>\n      <td>0</td>\n      <td>0</td>\n    </tr>\n    <tr>\n      <th>ANG</th>\n      <td>0</td>\n      <td>0</td>\n      <td>0</td>\n    </tr>\n    <tr>\n      <th>...</th>\n      <td>...</td>\n      <td>...</td>\n      <td>...</td>\n    </tr>\n    <tr>\n      <th>VIE</th>\n      <td>1</td>\n      <td>1</td>\n      <td>0</td>\n    </tr>\n    <tr>\n      <th>VIN</th>\n      <td>0</td>\n      <td>0</td>\n      <td>0</td>\n    </tr>\n    <tr>\n      <th>YEM</th>\n      <td>0</td>\n      <td>0</td>\n      <td>0</td>\n    </tr>\n    <tr>\n      <th>ZAM</th>\n      <td>0</td>\n      <td>0</td>\n      <td>0</td>\n    </tr>\n    <tr>\n      <th>ZIM</th>\n      <td>0</td>\n      <td>0</td>\n      <td>0</td>\n    </tr>\n  </tbody>\n</table>\n<p>207 rows × 3 columns</p>\n</div>"
     },
     "metadata": {},
     "execution_count": 6
    }
   ],
   "source": [
    "g= athletes.groupby('nationality')[['gold', 'silver', 'bronze']]\n",
    "g.sum()"
   ]
  },
  {
   "cell_type": "code",
   "execution_count": 7,
   "metadata": {},
   "outputs": [
    {
     "output_type": "stream",
     "name": "stderr",
     "text": [
      "<ipython-input-7-824c01e49d50>:1: FutureWarning: Indexing with multiple keys (implicitly converted to a tuple of keys) will be deprecated, use a list instead.\n  g= athletes.groupby(['sport', 'sex'])['weight', 'height']\n"
     ]
    }
   ],
   "source": [
    "g= athletes.groupby(['sport', 'sex'])['weight', 'height']"
   ]
  },
  {
   "cell_type": "code",
   "execution_count": 11,
   "metadata": {},
   "outputs": [
    {
     "output_type": "execute_result",
     "data": {
      "text/plain": [
       "                              weight    height\n",
       "sport             sex                         \n",
       "aquatics          female   62.284483  1.715712\n",
       "                  male     82.219061  1.860342\n",
       "archery           female   64.301587  1.676190\n",
       "                  male     80.079365  1.795714\n",
       "athletics         female   60.152542  1.690500\n",
       "                  male     74.777680  1.809234\n",
       "badminton         female   61.209877  1.686000\n",
       "                  male     76.156627  1.805059\n",
       "basketball        female   75.377622  1.833819\n",
       "                  male    100.297872  2.003611\n",
       "boxing            female         NaN  1.682222\n",
       "                  male           NaN  1.757615\n",
       "canoe             female   66.457944  1.700648\n",
       "                  male     82.150000  1.820455\n",
       "cycling           female   60.207254  1.673128\n",
       "                  male     72.576052  1.793074\n",
       "equestrian        female   58.634146  1.682530\n",
       "                  male     72.954887  1.790000\n",
       "fencing           female   62.733871  1.712581\n",
       "                  male     78.785124  1.833802\n",
       "football          female   61.061069  1.682710\n",
       "                  male     74.451713  1.793746\n",
       "golf              female   63.200000  1.691404\n",
       "                  male     79.000000  1.793500\n",
       "gymnastics        female   49.555024  1.616524\n",
       "                  male     63.254545  1.677105\n",
       "handball          female   70.789157  1.759722\n",
       "                  male     95.431694  1.913169\n",
       "hockey            female   60.425926  1.667870\n",
       "                  male     77.375000  1.800093\n",
       "judo              female   65.392157  1.665132\n",
       "                  male     84.616740  1.781783\n",
       "modern pentathlon female   58.000000  1.699444\n",
       "                  male     73.916667  1.825278\n",
       "rowing            female   69.776190  1.773286\n",
       "                  male     86.504615  1.898708\n",
       "rugby sevens      female   66.595890  1.678552\n",
       "                  male     90.450331  1.829145\n",
       "sailing           female   63.194969  1.692767\n",
       "                  male     77.122066  1.812770\n",
       "shooting          female   62.675676  1.648400\n",
       "                  male     81.068966  1.780343\n",
       "table tennis      female   57.530120  1.653659\n",
       "                  male     72.558140  1.786860\n",
       "taekwondo         female   61.258065  1.730159\n",
       "                  male     74.809524  1.863750\n",
       "tennis            female   64.670455  1.734205\n",
       "                  male     80.417476  1.860388\n",
       "triathlon         female   54.563636  1.676545\n",
       "                  male     66.814815  1.788704\n",
       "volleyball        female   70.684211  1.828691\n",
       "                  male     89.421875  1.964010\n",
       "weightlifting     female   68.788462  1.603558\n",
       "                  male     87.538961  1.709221\n",
       "wrestling         female   61.805310  1.651239\n",
       "                  male     85.372881  1.757215"
      ],
      "text/html": "<div>\n<style scoped>\n    .dataframe tbody tr th:only-of-type {\n        vertical-align: middle;\n    }\n\n    .dataframe tbody tr th {\n        vertical-align: top;\n    }\n\n    .dataframe thead th {\n        text-align: right;\n    }\n</style>\n<table border=\"1\" class=\"dataframe\">\n  <thead>\n    <tr style=\"text-align: right;\">\n      <th></th>\n      <th></th>\n      <th>weight</th>\n      <th>height</th>\n    </tr>\n    <tr>\n      <th>sport</th>\n      <th>sex</th>\n      <th></th>\n      <th></th>\n    </tr>\n  </thead>\n  <tbody>\n    <tr>\n      <th rowspan=\"2\" valign=\"top\">aquatics</th>\n      <th>female</th>\n      <td>62.284483</td>\n      <td>1.715712</td>\n    </tr>\n    <tr>\n      <th>male</th>\n      <td>82.219061</td>\n      <td>1.860342</td>\n    </tr>\n    <tr>\n      <th rowspan=\"2\" valign=\"top\">archery</th>\n      <th>female</th>\n      <td>64.301587</td>\n      <td>1.676190</td>\n    </tr>\n    <tr>\n      <th>male</th>\n      <td>80.079365</td>\n      <td>1.795714</td>\n    </tr>\n    <tr>\n      <th rowspan=\"2\" valign=\"top\">athletics</th>\n      <th>female</th>\n      <td>60.152542</td>\n      <td>1.690500</td>\n    </tr>\n    <tr>\n      <th>male</th>\n      <td>74.777680</td>\n      <td>1.809234</td>\n    </tr>\n    <tr>\n      <th rowspan=\"2\" valign=\"top\">badminton</th>\n      <th>female</th>\n      <td>61.209877</td>\n      <td>1.686000</td>\n    </tr>\n    <tr>\n      <th>male</th>\n      <td>76.156627</td>\n      <td>1.805059</td>\n    </tr>\n    <tr>\n      <th rowspan=\"2\" valign=\"top\">basketball</th>\n      <th>female</th>\n      <td>75.377622</td>\n      <td>1.833819</td>\n    </tr>\n    <tr>\n      <th>male</th>\n      <td>100.297872</td>\n      <td>2.003611</td>\n    </tr>\n    <tr>\n      <th rowspan=\"2\" valign=\"top\">boxing</th>\n      <th>female</th>\n      <td>NaN</td>\n      <td>1.682222</td>\n    </tr>\n    <tr>\n      <th>male</th>\n      <td>NaN</td>\n      <td>1.757615</td>\n    </tr>\n    <tr>\n      <th rowspan=\"2\" valign=\"top\">canoe</th>\n      <th>female</th>\n      <td>66.457944</td>\n      <td>1.700648</td>\n    </tr>\n    <tr>\n      <th>male</th>\n      <td>82.150000</td>\n      <td>1.820455</td>\n    </tr>\n    <tr>\n      <th rowspan=\"2\" valign=\"top\">cycling</th>\n      <th>female</th>\n      <td>60.207254</td>\n      <td>1.673128</td>\n    </tr>\n    <tr>\n      <th>male</th>\n      <td>72.576052</td>\n      <td>1.793074</td>\n    </tr>\n    <tr>\n      <th rowspan=\"2\" valign=\"top\">equestrian</th>\n      <th>female</th>\n      <td>58.634146</td>\n      <td>1.682530</td>\n    </tr>\n    <tr>\n      <th>male</th>\n      <td>72.954887</td>\n      <td>1.790000</td>\n    </tr>\n    <tr>\n      <th rowspan=\"2\" valign=\"top\">fencing</th>\n      <th>female</th>\n      <td>62.733871</td>\n      <td>1.712581</td>\n    </tr>\n    <tr>\n      <th>male</th>\n      <td>78.785124</td>\n      <td>1.833802</td>\n    </tr>\n    <tr>\n      <th rowspan=\"2\" valign=\"top\">football</th>\n      <th>female</th>\n      <td>61.061069</td>\n      <td>1.682710</td>\n    </tr>\n    <tr>\n      <th>male</th>\n      <td>74.451713</td>\n      <td>1.793746</td>\n    </tr>\n    <tr>\n      <th rowspan=\"2\" valign=\"top\">golf</th>\n      <th>female</th>\n      <td>63.200000</td>\n      <td>1.691404</td>\n    </tr>\n    <tr>\n      <th>male</th>\n      <td>79.000000</td>\n      <td>1.793500</td>\n    </tr>\n    <tr>\n      <th rowspan=\"2\" valign=\"top\">gymnastics</th>\n      <th>female</th>\n      <td>49.555024</td>\n      <td>1.616524</td>\n    </tr>\n    <tr>\n      <th>male</th>\n      <td>63.254545</td>\n      <td>1.677105</td>\n    </tr>\n    <tr>\n      <th rowspan=\"2\" valign=\"top\">handball</th>\n      <th>female</th>\n      <td>70.789157</td>\n      <td>1.759722</td>\n    </tr>\n    <tr>\n      <th>male</th>\n      <td>95.431694</td>\n      <td>1.913169</td>\n    </tr>\n    <tr>\n      <th rowspan=\"2\" valign=\"top\">hockey</th>\n      <th>female</th>\n      <td>60.425926</td>\n      <td>1.667870</td>\n    </tr>\n    <tr>\n      <th>male</th>\n      <td>77.375000</td>\n      <td>1.800093</td>\n    </tr>\n    <tr>\n      <th rowspan=\"2\" valign=\"top\">judo</th>\n      <th>female</th>\n      <td>65.392157</td>\n      <td>1.665132</td>\n    </tr>\n    <tr>\n      <th>male</th>\n      <td>84.616740</td>\n      <td>1.781783</td>\n    </tr>\n    <tr>\n      <th rowspan=\"2\" valign=\"top\">modern pentathlon</th>\n      <th>female</th>\n      <td>58.000000</td>\n      <td>1.699444</td>\n    </tr>\n    <tr>\n      <th>male</th>\n      <td>73.916667</td>\n      <td>1.825278</td>\n    </tr>\n    <tr>\n      <th rowspan=\"2\" valign=\"top\">rowing</th>\n      <th>female</th>\n      <td>69.776190</td>\n      <td>1.773286</td>\n    </tr>\n    <tr>\n      <th>male</th>\n      <td>86.504615</td>\n      <td>1.898708</td>\n    </tr>\n    <tr>\n      <th rowspan=\"2\" valign=\"top\">rugby sevens</th>\n      <th>female</th>\n      <td>66.595890</td>\n      <td>1.678552</td>\n    </tr>\n    <tr>\n      <th>male</th>\n      <td>90.450331</td>\n      <td>1.829145</td>\n    </tr>\n    <tr>\n      <th rowspan=\"2\" valign=\"top\">sailing</th>\n      <th>female</th>\n      <td>63.194969</td>\n      <td>1.692767</td>\n    </tr>\n    <tr>\n      <th>male</th>\n      <td>77.122066</td>\n      <td>1.812770</td>\n    </tr>\n    <tr>\n      <th rowspan=\"2\" valign=\"top\">shooting</th>\n      <th>female</th>\n      <td>62.675676</td>\n      <td>1.648400</td>\n    </tr>\n    <tr>\n      <th>male</th>\n      <td>81.068966</td>\n      <td>1.780343</td>\n    </tr>\n    <tr>\n      <th rowspan=\"2\" valign=\"top\">table tennis</th>\n      <th>female</th>\n      <td>57.530120</td>\n      <td>1.653659</td>\n    </tr>\n    <tr>\n      <th>male</th>\n      <td>72.558140</td>\n      <td>1.786860</td>\n    </tr>\n    <tr>\n      <th rowspan=\"2\" valign=\"top\">taekwondo</th>\n      <th>female</th>\n      <td>61.258065</td>\n      <td>1.730159</td>\n    </tr>\n    <tr>\n      <th>male</th>\n      <td>74.809524</td>\n      <td>1.863750</td>\n    </tr>\n    <tr>\n      <th rowspan=\"2\" valign=\"top\">tennis</th>\n      <th>female</th>\n      <td>64.670455</td>\n      <td>1.734205</td>\n    </tr>\n    <tr>\n      <th>male</th>\n      <td>80.417476</td>\n      <td>1.860388</td>\n    </tr>\n    <tr>\n      <th rowspan=\"2\" valign=\"top\">triathlon</th>\n      <th>female</th>\n      <td>54.563636</td>\n      <td>1.676545</td>\n    </tr>\n    <tr>\n      <th>male</th>\n      <td>66.814815</td>\n      <td>1.788704</td>\n    </tr>\n    <tr>\n      <th rowspan=\"2\" valign=\"top\">volleyball</th>\n      <th>female</th>\n      <td>70.684211</td>\n      <td>1.828691</td>\n    </tr>\n    <tr>\n      <th>male</th>\n      <td>89.421875</td>\n      <td>1.964010</td>\n    </tr>\n    <tr>\n      <th rowspan=\"2\" valign=\"top\">weightlifting</th>\n      <th>female</th>\n      <td>68.788462</td>\n      <td>1.603558</td>\n    </tr>\n    <tr>\n      <th>male</th>\n      <td>87.538961</td>\n      <td>1.709221</td>\n    </tr>\n    <tr>\n      <th rowspan=\"2\" valign=\"top\">wrestling</th>\n      <th>female</th>\n      <td>61.805310</td>\n      <td>1.651239</td>\n    </tr>\n    <tr>\n      <th>male</th>\n      <td>85.372881</td>\n      <td>1.757215</td>\n    </tr>\n  </tbody>\n</table>\n</div>"
     },
     "metadata": {},
     "execution_count": 11
    }
   ],
   "source": [
    "g.mean()"
   ]
  },
  {
   "cell_type": "code",
   "execution_count": 15,
   "metadata": {},
   "outputs": [
    {
     "output_type": "execute_result",
     "data": {
      "text/plain": [
       "sport              sex   \n",
       "handball           female    15\n",
       "                   male      14\n",
       "hockey             female    16\n",
       "                   male      18\n",
       "judo               female     7\n",
       "                   male       7\n",
       "modern pentathlon  female     1\n",
       "                   male       1\n",
       "rowing             female    20\n",
       "                   male      28\n",
       "rugby sevens       female    12\n",
       "                   male      13\n",
       "sailing            female     7\n",
       "                   male       8\n",
       "shooting           female     6\n",
       "                   male       9\n",
       "table tennis       female     4\n",
       "                   male       4\n",
       "taekwondo          female     4\n",
       "                   male       4\n",
       "tennis             female     4\n",
       "                   male       4\n",
       "triathlon          female     1\n",
       "                   male       1\n",
       "volleyball         female    14\n",
       "                   male      14\n",
       "weightlifting      female     7\n",
       "                   male       8\n",
       "wrestling          female     6\n",
       "                   male      12\n",
       "Name: gold, dtype: int64"
      ]
     },
     "metadata": {},
     "execution_count": 15
    }
   ],
   "source": [
    "athletes.groupby(['sport', 'sex'])['gold'].sum().tail(30)"
   ]
  },
  {
   "cell_type": "code",
   "execution_count": 16,
   "metadata": {},
   "outputs": [
    {
     "output_type": "execute_result",
     "data": {
      "text/plain": [
       "   YYYY    JAN    FEB    MAR    APR    MAY    JUN    JUL    AUG    SEP    OCT  \\\n",
       "0  2008  10140  10239  10050  10111  10159  10159  10141  10117  10178  10148   \n",
       "1  2009  10137  10140  10140  10141  10188  10168  10128  10165  10208  10166   \n",
       "2  2010  10151  10034  10168  10194  10158  10166  10158  10129  10147  10135   \n",
       "3  2011  10182  10161  10227  10192  10182  10154  10123  10130  10149  10182   \n",
       "4  2012  10194  10286  10271  10053  10159  10127  10139  10155  10149  10109   \n",
       "5  2013  10142  10169  10099  10155  10113  10180  10201  10176  10151  10129   \n",
       "6  2014  10055  10031  10164  10148  10154  10184  10143  10117  10189  10142   \n",
       "7  2015  10135  10164  10198  10214  10152  10195  10142  10152  10171  10186   \n",
       "8  2016  10100  10099  10144  10122  10140  10137  10168  10183  10177  10214   \n",
       "9  2017  10228  10151  10154  10211  10170  10134  10141  10162  10135  10176   \n",
       "\n",
       "     NOV    DEC   YEAR  \n",
       "0  10125  10182  10146  \n",
       "1  10041  10068  10141  \n",
       "2  10057  10133  10136  \n",
       "3  10194  10099  10165  \n",
       "4  10108  10085  10153  \n",
       "5  10155  10170  10153  \n",
       "6  10103  10172  10134  \n",
       "7  10150  10217  10173  \n",
       "8  10144  10283  10159  \n",
       "9  10141  10120  10160  "
      ],
      "text/html": "<div>\n<style scoped>\n    .dataframe tbody tr th:only-of-type {\n        vertical-align: middle;\n    }\n\n    .dataframe tbody tr th {\n        vertical-align: top;\n    }\n\n    .dataframe thead th {\n        text-align: right;\n    }\n</style>\n<table border=\"1\" class=\"dataframe\">\n  <thead>\n    <tr style=\"text-align: right;\">\n      <th></th>\n      <th>YYYY</th>\n      <th>JAN</th>\n      <th>FEB</th>\n      <th>MAR</th>\n      <th>APR</th>\n      <th>MAY</th>\n      <th>JUN</th>\n      <th>JUL</th>\n      <th>AUG</th>\n      <th>SEP</th>\n      <th>OCT</th>\n      <th>NOV</th>\n      <th>DEC</th>\n      <th>YEAR</th>\n    </tr>\n  </thead>\n  <tbody>\n    <tr>\n      <th>0</th>\n      <td>2008</td>\n      <td>10140</td>\n      <td>10239</td>\n      <td>10050</td>\n      <td>10111</td>\n      <td>10159</td>\n      <td>10159</td>\n      <td>10141</td>\n      <td>10117</td>\n      <td>10178</td>\n      <td>10148</td>\n      <td>10125</td>\n      <td>10182</td>\n      <td>10146</td>\n    </tr>\n    <tr>\n      <th>1</th>\n      <td>2009</td>\n      <td>10137</td>\n      <td>10140</td>\n      <td>10140</td>\n      <td>10141</td>\n      <td>10188</td>\n      <td>10168</td>\n      <td>10128</td>\n      <td>10165</td>\n      <td>10208</td>\n      <td>10166</td>\n      <td>10041</td>\n      <td>10068</td>\n      <td>10141</td>\n    </tr>\n    <tr>\n      <th>2</th>\n      <td>2010</td>\n      <td>10151</td>\n      <td>10034</td>\n      <td>10168</td>\n      <td>10194</td>\n      <td>10158</td>\n      <td>10166</td>\n      <td>10158</td>\n      <td>10129</td>\n      <td>10147</td>\n      <td>10135</td>\n      <td>10057</td>\n      <td>10133</td>\n      <td>10136</td>\n    </tr>\n    <tr>\n      <th>3</th>\n      <td>2011</td>\n      <td>10182</td>\n      <td>10161</td>\n      <td>10227</td>\n      <td>10192</td>\n      <td>10182</td>\n      <td>10154</td>\n      <td>10123</td>\n      <td>10130</td>\n      <td>10149</td>\n      <td>10182</td>\n      <td>10194</td>\n      <td>10099</td>\n      <td>10165</td>\n    </tr>\n    <tr>\n      <th>4</th>\n      <td>2012</td>\n      <td>10194</td>\n      <td>10286</td>\n      <td>10271</td>\n      <td>10053</td>\n      <td>10159</td>\n      <td>10127</td>\n      <td>10139</td>\n      <td>10155</td>\n      <td>10149</td>\n      <td>10109</td>\n      <td>10108</td>\n      <td>10085</td>\n      <td>10153</td>\n    </tr>\n    <tr>\n      <th>5</th>\n      <td>2013</td>\n      <td>10142</td>\n      <td>10169</td>\n      <td>10099</td>\n      <td>10155</td>\n      <td>10113</td>\n      <td>10180</td>\n      <td>10201</td>\n      <td>10176</td>\n      <td>10151</td>\n      <td>10129</td>\n      <td>10155</td>\n      <td>10170</td>\n      <td>10153</td>\n    </tr>\n    <tr>\n      <th>6</th>\n      <td>2014</td>\n      <td>10055</td>\n      <td>10031</td>\n      <td>10164</td>\n      <td>10148</td>\n      <td>10154</td>\n      <td>10184</td>\n      <td>10143</td>\n      <td>10117</td>\n      <td>10189</td>\n      <td>10142</td>\n      <td>10103</td>\n      <td>10172</td>\n      <td>10134</td>\n    </tr>\n    <tr>\n      <th>7</th>\n      <td>2015</td>\n      <td>10135</td>\n      <td>10164</td>\n      <td>10198</td>\n      <td>10214</td>\n      <td>10152</td>\n      <td>10195</td>\n      <td>10142</td>\n      <td>10152</td>\n      <td>10171</td>\n      <td>10186</td>\n      <td>10150</td>\n      <td>10217</td>\n      <td>10173</td>\n    </tr>\n    <tr>\n      <th>8</th>\n      <td>2016</td>\n      <td>10100</td>\n      <td>10099</td>\n      <td>10144</td>\n      <td>10122</td>\n      <td>10140</td>\n      <td>10137</td>\n      <td>10168</td>\n      <td>10183</td>\n      <td>10177</td>\n      <td>10214</td>\n      <td>10144</td>\n      <td>10283</td>\n      <td>10159</td>\n    </tr>\n    <tr>\n      <th>9</th>\n      <td>2017</td>\n      <td>10228</td>\n      <td>10151</td>\n      <td>10154</td>\n      <td>10211</td>\n      <td>10170</td>\n      <td>10134</td>\n      <td>10141</td>\n      <td>10162</td>\n      <td>10135</td>\n      <td>10176</td>\n      <td>10141</td>\n      <td>10120</td>\n      <td>10160</td>\n    </tr>\n  </tbody>\n</table>\n</div>"
     },
     "metadata": {},
     "execution_count": 16
    }
   ],
   "source": [
    "m = pd.read_csv('./pandas/monthly_data.csv')\n",
    "m"
   ]
  },
  {
   "cell_type": "code",
   "execution_count": 17,
   "metadata": {},
   "outputs": [
    {
     "output_type": "execute_result",
     "data": {
      "text/plain": [
       "        JAN    FEB    MAR    APR    MAY    JUN    JUL    AUG    SEP    OCT  \\\n",
       "YYYY                                                                         \n",
       "2008  10140  10239  10050  10111  10159  10159  10141  10117  10178  10148   \n",
       "2009  10137  10140  10140  10141  10188  10168  10128  10165  10208  10166   \n",
       "2010  10151  10034  10168  10194  10158  10166  10158  10129  10147  10135   \n",
       "2011  10182  10161  10227  10192  10182  10154  10123  10130  10149  10182   \n",
       "2012  10194  10286  10271  10053  10159  10127  10139  10155  10149  10109   \n",
       "2013  10142  10169  10099  10155  10113  10180  10201  10176  10151  10129   \n",
       "2014  10055  10031  10164  10148  10154  10184  10143  10117  10189  10142   \n",
       "2015  10135  10164  10198  10214  10152  10195  10142  10152  10171  10186   \n",
       "2016  10100  10099  10144  10122  10140  10137  10168  10183  10177  10214   \n",
       "2017  10228  10151  10154  10211  10170  10134  10141  10162  10135  10176   \n",
       "\n",
       "        NOV    DEC   YEAR  \n",
       "YYYY                       \n",
       "2008  10125  10182  10146  \n",
       "2009  10041  10068  10141  \n",
       "2010  10057  10133  10136  \n",
       "2011  10194  10099  10165  \n",
       "2012  10108  10085  10153  \n",
       "2013  10155  10170  10153  \n",
       "2014  10103  10172  10134  \n",
       "2015  10150  10217  10173  \n",
       "2016  10144  10283  10159  \n",
       "2017  10141  10120  10160  "
      ],
      "text/html": "<div>\n<style scoped>\n    .dataframe tbody tr th:only-of-type {\n        vertical-align: middle;\n    }\n\n    .dataframe tbody tr th {\n        vertical-align: top;\n    }\n\n    .dataframe thead th {\n        text-align: right;\n    }\n</style>\n<table border=\"1\" class=\"dataframe\">\n  <thead>\n    <tr style=\"text-align: right;\">\n      <th></th>\n      <th>JAN</th>\n      <th>FEB</th>\n      <th>MAR</th>\n      <th>APR</th>\n      <th>MAY</th>\n      <th>JUN</th>\n      <th>JUL</th>\n      <th>AUG</th>\n      <th>SEP</th>\n      <th>OCT</th>\n      <th>NOV</th>\n      <th>DEC</th>\n      <th>YEAR</th>\n    </tr>\n    <tr>\n      <th>YYYY</th>\n      <th></th>\n      <th></th>\n      <th></th>\n      <th></th>\n      <th></th>\n      <th></th>\n      <th></th>\n      <th></th>\n      <th></th>\n      <th></th>\n      <th></th>\n      <th></th>\n      <th></th>\n    </tr>\n  </thead>\n  <tbody>\n    <tr>\n      <th>2008</th>\n      <td>10140</td>\n      <td>10239</td>\n      <td>10050</td>\n      <td>10111</td>\n      <td>10159</td>\n      <td>10159</td>\n      <td>10141</td>\n      <td>10117</td>\n      <td>10178</td>\n      <td>10148</td>\n      <td>10125</td>\n      <td>10182</td>\n      <td>10146</td>\n    </tr>\n    <tr>\n      <th>2009</th>\n      <td>10137</td>\n      <td>10140</td>\n      <td>10140</td>\n      <td>10141</td>\n      <td>10188</td>\n      <td>10168</td>\n      <td>10128</td>\n      <td>10165</td>\n      <td>10208</td>\n      <td>10166</td>\n      <td>10041</td>\n      <td>10068</td>\n      <td>10141</td>\n    </tr>\n    <tr>\n      <th>2010</th>\n      <td>10151</td>\n      <td>10034</td>\n      <td>10168</td>\n      <td>10194</td>\n      <td>10158</td>\n      <td>10166</td>\n      <td>10158</td>\n      <td>10129</td>\n      <td>10147</td>\n      <td>10135</td>\n      <td>10057</td>\n      <td>10133</td>\n      <td>10136</td>\n    </tr>\n    <tr>\n      <th>2011</th>\n      <td>10182</td>\n      <td>10161</td>\n      <td>10227</td>\n      <td>10192</td>\n      <td>10182</td>\n      <td>10154</td>\n      <td>10123</td>\n      <td>10130</td>\n      <td>10149</td>\n      <td>10182</td>\n      <td>10194</td>\n      <td>10099</td>\n      <td>10165</td>\n    </tr>\n    <tr>\n      <th>2012</th>\n      <td>10194</td>\n      <td>10286</td>\n      <td>10271</td>\n      <td>10053</td>\n      <td>10159</td>\n      <td>10127</td>\n      <td>10139</td>\n      <td>10155</td>\n      <td>10149</td>\n      <td>10109</td>\n      <td>10108</td>\n      <td>10085</td>\n      <td>10153</td>\n    </tr>\n    <tr>\n      <th>2013</th>\n      <td>10142</td>\n      <td>10169</td>\n      <td>10099</td>\n      <td>10155</td>\n      <td>10113</td>\n      <td>10180</td>\n      <td>10201</td>\n      <td>10176</td>\n      <td>10151</td>\n      <td>10129</td>\n      <td>10155</td>\n      <td>10170</td>\n      <td>10153</td>\n    </tr>\n    <tr>\n      <th>2014</th>\n      <td>10055</td>\n      <td>10031</td>\n      <td>10164</td>\n      <td>10148</td>\n      <td>10154</td>\n      <td>10184</td>\n      <td>10143</td>\n      <td>10117</td>\n      <td>10189</td>\n      <td>10142</td>\n      <td>10103</td>\n      <td>10172</td>\n      <td>10134</td>\n    </tr>\n    <tr>\n      <th>2015</th>\n      <td>10135</td>\n      <td>10164</td>\n      <td>10198</td>\n      <td>10214</td>\n      <td>10152</td>\n      <td>10195</td>\n      <td>10142</td>\n      <td>10152</td>\n      <td>10171</td>\n      <td>10186</td>\n      <td>10150</td>\n      <td>10217</td>\n      <td>10173</td>\n    </tr>\n    <tr>\n      <th>2016</th>\n      <td>10100</td>\n      <td>10099</td>\n      <td>10144</td>\n      <td>10122</td>\n      <td>10140</td>\n      <td>10137</td>\n      <td>10168</td>\n      <td>10183</td>\n      <td>10177</td>\n      <td>10214</td>\n      <td>10144</td>\n      <td>10283</td>\n      <td>10159</td>\n    </tr>\n    <tr>\n      <th>2017</th>\n      <td>10228</td>\n      <td>10151</td>\n      <td>10154</td>\n      <td>10211</td>\n      <td>10170</td>\n      <td>10134</td>\n      <td>10141</td>\n      <td>10162</td>\n      <td>10135</td>\n      <td>10176</td>\n      <td>10141</td>\n      <td>10120</td>\n      <td>10160</td>\n    </tr>\n  </tbody>\n</table>\n</div>"
     },
     "metadata": {},
     "execution_count": 17
    }
   ],
   "source": [
    "m.set_index('YYYY', inplace=True)\n",
    "m"
   ]
  },
  {
   "cell_type": "code",
   "execution_count": 18,
   "metadata": {},
   "outputs": [
    {
     "output_type": "execute_result",
     "data": {
      "text/plain": [
       "YYYY      \n",
       "2008  JAN     10140\n",
       "      FEB     10239\n",
       "      MAR     10050\n",
       "      APR     10111\n",
       "      MAY     10159\n",
       "              ...  \n",
       "2017  SEP     10135\n",
       "      OCT     10176\n",
       "      NOV     10141\n",
       "      DEC     10120\n",
       "      YEAR    10160\n",
       "Length: 130, dtype: int64"
      ]
     },
     "metadata": {},
     "execution_count": 18
    }
   ],
   "source": [
    "m.stack()"
   ]
  },
  {
   "cell_type": "code",
   "execution_count": 20,
   "metadata": {},
   "outputs": [
    {
     "output_type": "execute_result",
     "data": {
      "text/plain": [
       "1319751"
      ]
     },
     "metadata": {},
     "execution_count": 20
    }
   ],
   "source": [
    "m.stack().sum()"
   ]
  },
  {
   "cell_type": "code",
   "execution_count": 21,
   "metadata": {},
   "outputs": [
    {
     "output_type": "execute_result",
     "data": {
      "text/plain": [
       "sport              sex   \n",
       "aquatics           female     62.284483\n",
       "                   male       82.219061\n",
       "archery            female     64.301587\n",
       "                   male       80.079365\n",
       "athletics          female     60.152542\n",
       "                   male       74.777680\n",
       "badminton          female     61.209877\n",
       "                   male       76.156627\n",
       "basketball         female     75.377622\n",
       "                   male      100.297872\n",
       "boxing             female           NaN\n",
       "                   male             NaN\n",
       "canoe              female     66.457944\n",
       "                   male       82.150000\n",
       "cycling            female     60.207254\n",
       "                   male       72.576052\n",
       "equestrian         female     58.634146\n",
       "                   male       72.954887\n",
       "fencing            female     62.733871\n",
       "                   male       78.785124\n",
       "football           female     61.061069\n",
       "                   male       74.451713\n",
       "golf               female     63.200000\n",
       "                   male       79.000000\n",
       "gymnastics         female     49.555024\n",
       "                   male       63.254545\n",
       "handball           female     70.789157\n",
       "                   male       95.431694\n",
       "hockey             female     60.425926\n",
       "                   male       77.375000\n",
       "judo               female     65.392157\n",
       "                   male       84.616740\n",
       "modern pentathlon  female     58.000000\n",
       "                   male       73.916667\n",
       "rowing             female     69.776190\n",
       "                   male       86.504615\n",
       "rugby sevens       female     66.595890\n",
       "                   male       90.450331\n",
       "sailing            female     63.194969\n",
       "                   male       77.122066\n",
       "shooting           female     62.675676\n",
       "                   male       81.068966\n",
       "table tennis       female     57.530120\n",
       "                   male       72.558140\n",
       "taekwondo          female     61.258065\n",
       "                   male       74.809524\n",
       "tennis             female     64.670455\n",
       "                   male       80.417476\n",
       "triathlon          female     54.563636\n",
       "                   male       66.814815\n",
       "volleyball         female     70.684211\n",
       "                   male       89.421875\n",
       "weightlifting      female     68.788462\n",
       "                   male       87.538961\n",
       "wrestling          female     61.805310\n",
       "                   male       85.372881\n",
       "Name: weight, dtype: float64"
      ]
     },
     "metadata": {},
     "execution_count": 21
    }
   ],
   "source": [
    "w = athletes.groupby(['sport', 'sex'])['weight'].mean()\n",
    "w"
   ]
  },
  {
   "cell_type": "code",
   "execution_count": 22,
   "metadata": {},
   "outputs": [
    {
     "output_type": "execute_result",
     "data": {
      "text/plain": [
       "sex                   female        male\n",
       "sport                                   \n",
       "aquatics           62.284483   82.219061\n",
       "archery            64.301587   80.079365\n",
       "athletics          60.152542   74.777680\n",
       "badminton          61.209877   76.156627\n",
       "basketball         75.377622  100.297872\n",
       "boxing                   NaN         NaN\n",
       "canoe              66.457944   82.150000\n",
       "cycling            60.207254   72.576052\n",
       "equestrian         58.634146   72.954887\n",
       "fencing            62.733871   78.785124\n",
       "football           61.061069   74.451713\n",
       "golf               63.200000   79.000000\n",
       "gymnastics         49.555024   63.254545\n",
       "handball           70.789157   95.431694\n",
       "hockey             60.425926   77.375000\n",
       "judo               65.392157   84.616740\n",
       "modern pentathlon  58.000000   73.916667\n",
       "rowing             69.776190   86.504615\n",
       "rugby sevens       66.595890   90.450331\n",
       "sailing            63.194969   77.122066\n",
       "shooting           62.675676   81.068966\n",
       "table tennis       57.530120   72.558140\n",
       "taekwondo          61.258065   74.809524\n",
       "tennis             64.670455   80.417476\n",
       "triathlon          54.563636   66.814815\n",
       "volleyball         70.684211   89.421875\n",
       "weightlifting      68.788462   87.538961\n",
       "wrestling          61.805310   85.372881"
      ],
      "text/html": "<div>\n<style scoped>\n    .dataframe tbody tr th:only-of-type {\n        vertical-align: middle;\n    }\n\n    .dataframe tbody tr th {\n        vertical-align: top;\n    }\n\n    .dataframe thead th {\n        text-align: right;\n    }\n</style>\n<table border=\"1\" class=\"dataframe\">\n  <thead>\n    <tr style=\"text-align: right;\">\n      <th>sex</th>\n      <th>female</th>\n      <th>male</th>\n    </tr>\n    <tr>\n      <th>sport</th>\n      <th></th>\n      <th></th>\n    </tr>\n  </thead>\n  <tbody>\n    <tr>\n      <th>aquatics</th>\n      <td>62.284483</td>\n      <td>82.219061</td>\n    </tr>\n    <tr>\n      <th>archery</th>\n      <td>64.301587</td>\n      <td>80.079365</td>\n    </tr>\n    <tr>\n      <th>athletics</th>\n      <td>60.152542</td>\n      <td>74.777680</td>\n    </tr>\n    <tr>\n      <th>badminton</th>\n      <td>61.209877</td>\n      <td>76.156627</td>\n    </tr>\n    <tr>\n      <th>basketball</th>\n      <td>75.377622</td>\n      <td>100.297872</td>\n    </tr>\n    <tr>\n      <th>boxing</th>\n      <td>NaN</td>\n      <td>NaN</td>\n    </tr>\n    <tr>\n      <th>canoe</th>\n      <td>66.457944</td>\n      <td>82.150000</td>\n    </tr>\n    <tr>\n      <th>cycling</th>\n      <td>60.207254</td>\n      <td>72.576052</td>\n    </tr>\n    <tr>\n      <th>equestrian</th>\n      <td>58.634146</td>\n      <td>72.954887</td>\n    </tr>\n    <tr>\n      <th>fencing</th>\n      <td>62.733871</td>\n      <td>78.785124</td>\n    </tr>\n    <tr>\n      <th>football</th>\n      <td>61.061069</td>\n      <td>74.451713</td>\n    </tr>\n    <tr>\n      <th>golf</th>\n      <td>63.200000</td>\n      <td>79.000000</td>\n    </tr>\n    <tr>\n      <th>gymnastics</th>\n      <td>49.555024</td>\n      <td>63.254545</td>\n    </tr>\n    <tr>\n      <th>handball</th>\n      <td>70.789157</td>\n      <td>95.431694</td>\n    </tr>\n    <tr>\n      <th>hockey</th>\n      <td>60.425926</td>\n      <td>77.375000</td>\n    </tr>\n    <tr>\n      <th>judo</th>\n      <td>65.392157</td>\n      <td>84.616740</td>\n    </tr>\n    <tr>\n      <th>modern pentathlon</th>\n      <td>58.000000</td>\n      <td>73.916667</td>\n    </tr>\n    <tr>\n      <th>rowing</th>\n      <td>69.776190</td>\n      <td>86.504615</td>\n    </tr>\n    <tr>\n      <th>rugby sevens</th>\n      <td>66.595890</td>\n      <td>90.450331</td>\n    </tr>\n    <tr>\n      <th>sailing</th>\n      <td>63.194969</td>\n      <td>77.122066</td>\n    </tr>\n    <tr>\n      <th>shooting</th>\n      <td>62.675676</td>\n      <td>81.068966</td>\n    </tr>\n    <tr>\n      <th>table tennis</th>\n      <td>57.530120</td>\n      <td>72.558140</td>\n    </tr>\n    <tr>\n      <th>taekwondo</th>\n      <td>61.258065</td>\n      <td>74.809524</td>\n    </tr>\n    <tr>\n      <th>tennis</th>\n      <td>64.670455</td>\n      <td>80.417476</td>\n    </tr>\n    <tr>\n      <th>triathlon</th>\n      <td>54.563636</td>\n      <td>66.814815</td>\n    </tr>\n    <tr>\n      <th>volleyball</th>\n      <td>70.684211</td>\n      <td>89.421875</td>\n    </tr>\n    <tr>\n      <th>weightlifting</th>\n      <td>68.788462</td>\n      <td>87.538961</td>\n    </tr>\n    <tr>\n      <th>wrestling</th>\n      <td>61.805310</td>\n      <td>85.372881</td>\n    </tr>\n  </tbody>\n</table>\n</div>"
     },
     "metadata": {},
     "execution_count": 22
    }
   ],
   "source": [
    "w.unstack() #by default it will take the inner index"
   ]
  },
  {
   "cell_type": "code",
   "execution_count": 26,
   "metadata": {},
   "outputs": [
    {
     "output_type": "execute_result",
     "data": {
      "text/plain": [
       "       id   item  value\n",
       "0  823905  prize   3.49\n",
       "1  823905   unit     kg\n",
       "2  235897  prize  12.89\n",
       "3  235897   unit      l\n",
       "4  235897  stock     50\n",
       "5  983422  prize   0.49\n",
       "6  983422  stock      4"
      ],
      "text/html": "<div>\n<style scoped>\n    .dataframe tbody tr th:only-of-type {\n        vertical-align: middle;\n    }\n\n    .dataframe tbody tr th {\n        vertical-align: top;\n    }\n\n    .dataframe thead th {\n        text-align: right;\n    }\n</style>\n<table border=\"1\" class=\"dataframe\">\n  <thead>\n    <tr style=\"text-align: right;\">\n      <th></th>\n      <th>id</th>\n      <th>item</th>\n      <th>value</th>\n    </tr>\n  </thead>\n  <tbody>\n    <tr>\n      <th>0</th>\n      <td>823905</td>\n      <td>prize</td>\n      <td>3.49</td>\n    </tr>\n    <tr>\n      <th>1</th>\n      <td>823905</td>\n      <td>unit</td>\n      <td>kg</td>\n    </tr>\n    <tr>\n      <th>2</th>\n      <td>235897</td>\n      <td>prize</td>\n      <td>12.89</td>\n    </tr>\n    <tr>\n      <th>3</th>\n      <td>235897</td>\n      <td>unit</td>\n      <td>l</td>\n    </tr>\n    <tr>\n      <th>4</th>\n      <td>235897</td>\n      <td>stock</td>\n      <td>50</td>\n    </tr>\n    <tr>\n      <th>5</th>\n      <td>983422</td>\n      <td>prize</td>\n      <td>0.49</td>\n    </tr>\n    <tr>\n      <th>6</th>\n      <td>983422</td>\n      <td>stock</td>\n      <td>4</td>\n    </tr>\n  </tbody>\n</table>\n</div>"
     },
     "metadata": {},
     "execution_count": 26
    }
   ],
   "source": [
    "p = pd.DataFrame({'id':[823905, 823905, \n",
    "                    235897, 235897, 235897, \n",
    "                    983422, 983422],\n",
    "                'item': ['prize', 'unit', 'prize', 'unit', 'stock', 'prize', 'stock'],\n",
    "                'value':[3.49, 'kg', 12.89, 'l', 50, 0.49, 4]})\n",
    "p"
   ]
  },
  {
   "cell_type": "code",
   "execution_count": 28,
   "metadata": {},
   "outputs": [
    {
     "output_type": "execute_result",
     "data": {
      "text/plain": [
       "item    prize stock unit\n",
       "id                      \n",
       "235897  12.89    50    l\n",
       "823905   3.49   NaN   kg\n",
       "983422   0.49     4  NaN"
      ],
      "text/html": "<div>\n<style scoped>\n    .dataframe tbody tr th:only-of-type {\n        vertical-align: middle;\n    }\n\n    .dataframe tbody tr th {\n        vertical-align: top;\n    }\n\n    .dataframe thead th {\n        text-align: right;\n    }\n</style>\n<table border=\"1\" class=\"dataframe\">\n  <thead>\n    <tr style=\"text-align: right;\">\n      <th>item</th>\n      <th>prize</th>\n      <th>stock</th>\n      <th>unit</th>\n    </tr>\n    <tr>\n      <th>id</th>\n      <th></th>\n      <th></th>\n      <th></th>\n    </tr>\n  </thead>\n  <tbody>\n    <tr>\n      <th>235897</th>\n      <td>12.89</td>\n      <td>50</td>\n      <td>l</td>\n    </tr>\n    <tr>\n      <th>823905</th>\n      <td>3.49</td>\n      <td>NaN</td>\n      <td>kg</td>\n    </tr>\n    <tr>\n      <th>983422</th>\n      <td>0.49</td>\n      <td>4</td>\n      <td>NaN</td>\n    </tr>\n  </tbody>\n</table>\n</div>"
     },
     "metadata": {},
     "execution_count": 28
    }
   ],
   "source": [
    "p.pivot('id', 'item', 'value') #first argument is the row indices, second argument is where to get the column names, third argument is where to get the values"
   ]
  },
  {
   "cell_type": "code",
   "execution_count": 30,
   "metadata": {},
   "outputs": [
    {
     "output_type": "execute_result",
     "data": {
      "text/plain": [
       "       test_1  test_2  test_3\n",
       "Mary        6       4       5\n",
       "John        7       8       7\n",
       "Ann         6       7       9\n",
       "Pete        6       5       5\n",
       "Laura       5       2       7"
      ],
      "text/html": "<div>\n<style scoped>\n    .dataframe tbody tr th:only-of-type {\n        vertical-align: middle;\n    }\n\n    .dataframe tbody tr th {\n        vertical-align: top;\n    }\n\n    .dataframe thead th {\n        text-align: right;\n    }\n</style>\n<table border=\"1\" class=\"dataframe\">\n  <thead>\n    <tr style=\"text-align: right;\">\n      <th></th>\n      <th>test_1</th>\n      <th>test_2</th>\n      <th>test_3</th>\n    </tr>\n  </thead>\n  <tbody>\n    <tr>\n      <th>Mary</th>\n      <td>6</td>\n      <td>4</td>\n      <td>5</td>\n    </tr>\n    <tr>\n      <th>John</th>\n      <td>7</td>\n      <td>8</td>\n      <td>7</td>\n    </tr>\n    <tr>\n      <th>Ann</th>\n      <td>6</td>\n      <td>7</td>\n      <td>9</td>\n    </tr>\n    <tr>\n      <th>Pete</th>\n      <td>6</td>\n      <td>5</td>\n      <td>5</td>\n    </tr>\n    <tr>\n      <th>Laura</th>\n      <td>5</td>\n      <td>2</td>\n      <td>7</td>\n    </tr>\n  </tbody>\n</table>\n</div>"
     },
     "metadata": {},
     "execution_count": 30
    }
   ],
   "source": [
    "grades = pd.DataFrame([[6,4,5], [7,8,7], [6,7,9], [6,5,5], [5,2,7]],\n",
    "                        index = ['Mary', 'John','Ann', 'Pete', 'Laura'],\n",
    "                        columns = ['test_1', 'test_2', 'test_3'])\n",
    "grades"
   ]
  },
  {
   "cell_type": "code",
   "execution_count": 31,
   "metadata": {},
   "outputs": [
    {
     "output_type": "execute_result",
     "data": {
      "text/plain": [
       "   variable  value\n",
       "0    test_1      6\n",
       "1    test_1      7\n",
       "2    test_1      6\n",
       "3    test_1      6\n",
       "4    test_1      5\n",
       "5    test_2      4\n",
       "6    test_2      8\n",
       "7    test_2      7\n",
       "8    test_2      5\n",
       "9    test_2      2\n",
       "10   test_3      5\n",
       "11   test_3      7\n",
       "12   test_3      9\n",
       "13   test_3      5\n",
       "14   test_3      7"
      ],
      "text/html": "<div>\n<style scoped>\n    .dataframe tbody tr th:only-of-type {\n        vertical-align: middle;\n    }\n\n    .dataframe tbody tr th {\n        vertical-align: top;\n    }\n\n    .dataframe thead th {\n        text-align: right;\n    }\n</style>\n<table border=\"1\" class=\"dataframe\">\n  <thead>\n    <tr style=\"text-align: right;\">\n      <th></th>\n      <th>variable</th>\n      <th>value</th>\n    </tr>\n  </thead>\n  <tbody>\n    <tr>\n      <th>0</th>\n      <td>test_1</td>\n      <td>6</td>\n    </tr>\n    <tr>\n      <th>1</th>\n      <td>test_1</td>\n      <td>7</td>\n    </tr>\n    <tr>\n      <th>2</th>\n      <td>test_1</td>\n      <td>6</td>\n    </tr>\n    <tr>\n      <th>3</th>\n      <td>test_1</td>\n      <td>6</td>\n    </tr>\n    <tr>\n      <th>4</th>\n      <td>test_1</td>\n      <td>5</td>\n    </tr>\n    <tr>\n      <th>5</th>\n      <td>test_2</td>\n      <td>4</td>\n    </tr>\n    <tr>\n      <th>6</th>\n      <td>test_2</td>\n      <td>8</td>\n    </tr>\n    <tr>\n      <th>7</th>\n      <td>test_2</td>\n      <td>7</td>\n    </tr>\n    <tr>\n      <th>8</th>\n      <td>test_2</td>\n      <td>5</td>\n    </tr>\n    <tr>\n      <th>9</th>\n      <td>test_2</td>\n      <td>2</td>\n    </tr>\n    <tr>\n      <th>10</th>\n      <td>test_3</td>\n      <td>5</td>\n    </tr>\n    <tr>\n      <th>11</th>\n      <td>test_3</td>\n      <td>7</td>\n    </tr>\n    <tr>\n      <th>12</th>\n      <td>test_3</td>\n      <td>9</td>\n    </tr>\n    <tr>\n      <th>13</th>\n      <td>test_3</td>\n      <td>5</td>\n    </tr>\n    <tr>\n      <th>14</th>\n      <td>test_3</td>\n      <td>7</td>\n    </tr>\n  </tbody>\n</table>\n</div>"
     },
     "metadata": {},
     "execution_count": 31
    }
   ],
   "source": [
    "grades.melt() #we lost the information about the students because it was in the index column"
   ]
  },
  {
   "cell_type": "code",
   "execution_count": 36,
   "metadata": {},
   "outputs": [],
   "source": [
    "grades.reset_index(inplace=True)"
   ]
  },
  {
   "cell_type": "code",
   "execution_count": 38,
   "metadata": {},
   "outputs": [
    {
     "output_type": "execute_result",
     "data": {
      "text/plain": [
       "    index variable  value\n",
       "0    Mary   test_1      6\n",
       "1    John   test_1      7\n",
       "2     Ann   test_1      6\n",
       "3    Pete   test_1      6\n",
       "4   Laura   test_1      5\n",
       "5    Mary   test_2      4\n",
       "6    John   test_2      8\n",
       "7     Ann   test_2      7\n",
       "8    Pete   test_2      5\n",
       "9   Laura   test_2      2\n",
       "10   Mary   test_3      5\n",
       "11   John   test_3      7\n",
       "12    Ann   test_3      9\n",
       "13   Pete   test_3      5\n",
       "14  Laura   test_3      7"
      ],
      "text/html": "<div>\n<style scoped>\n    .dataframe tbody tr th:only-of-type {\n        vertical-align: middle;\n    }\n\n    .dataframe tbody tr th {\n        vertical-align: top;\n    }\n\n    .dataframe thead th {\n        text-align: right;\n    }\n</style>\n<table border=\"1\" class=\"dataframe\">\n  <thead>\n    <tr style=\"text-align: right;\">\n      <th></th>\n      <th>index</th>\n      <th>variable</th>\n      <th>value</th>\n    </tr>\n  </thead>\n  <tbody>\n    <tr>\n      <th>0</th>\n      <td>Mary</td>\n      <td>test_1</td>\n      <td>6</td>\n    </tr>\n    <tr>\n      <th>1</th>\n      <td>John</td>\n      <td>test_1</td>\n      <td>7</td>\n    </tr>\n    <tr>\n      <th>2</th>\n      <td>Ann</td>\n      <td>test_1</td>\n      <td>6</td>\n    </tr>\n    <tr>\n      <th>3</th>\n      <td>Pete</td>\n      <td>test_1</td>\n      <td>6</td>\n    </tr>\n    <tr>\n      <th>4</th>\n      <td>Laura</td>\n      <td>test_1</td>\n      <td>5</td>\n    </tr>\n    <tr>\n      <th>5</th>\n      <td>Mary</td>\n      <td>test_2</td>\n      <td>4</td>\n    </tr>\n    <tr>\n      <th>6</th>\n      <td>John</td>\n      <td>test_2</td>\n      <td>8</td>\n    </tr>\n    <tr>\n      <th>7</th>\n      <td>Ann</td>\n      <td>test_2</td>\n      <td>7</td>\n    </tr>\n    <tr>\n      <th>8</th>\n      <td>Pete</td>\n      <td>test_2</td>\n      <td>5</td>\n    </tr>\n    <tr>\n      <th>9</th>\n      <td>Laura</td>\n      <td>test_2</td>\n      <td>2</td>\n    </tr>\n    <tr>\n      <th>10</th>\n      <td>Mary</td>\n      <td>test_3</td>\n      <td>5</td>\n    </tr>\n    <tr>\n      <th>11</th>\n      <td>John</td>\n      <td>test_3</td>\n      <td>7</td>\n    </tr>\n    <tr>\n      <th>12</th>\n      <td>Ann</td>\n      <td>test_3</td>\n      <td>9</td>\n    </tr>\n    <tr>\n      <th>13</th>\n      <td>Pete</td>\n      <td>test_3</td>\n      <td>5</td>\n    </tr>\n    <tr>\n      <th>14</th>\n      <td>Laura</td>\n      <td>test_3</td>\n      <td>7</td>\n    </tr>\n  </tbody>\n</table>\n</div>"
     },
     "metadata": {},
     "execution_count": 38
    }
   ],
   "source": [
    "grades.melt(id_vars=['index'])"
   ]
  },
  {
   "cell_type": "code",
   "execution_count": null,
   "metadata": {},
   "outputs": [],
   "source": [
    "grades['test_4'] = pd.Series({'John': 5, 'Ann': 8, 'Pete', 'Mary':7, 'Laura':10})"
   ]
  }
 ]
}