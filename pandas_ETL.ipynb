{
 "metadata": {
  "language_info": {
   "codemirror_mode": {
    "name": "ipython",
    "version": 3
   },
   "file_extension": ".py",
   "mimetype": "text/x-python",
   "name": "python",
   "nbconvert_exporter": "python",
   "pygments_lexer": "ipython3",
   "version": "3.8.5"
  },
  "orig_nbformat": 2,
  "kernelspec": {
   "name": "python385jvsc74a57bd019ef3a6396c46c7428efca1f5cbb7ae9e01db714ef36b5b8c4522c5b6ecb4d4b",
   "display_name": "Python 3.8.5 64-bit ('base': conda)"
  }
 },
 "nbformat": 4,
 "nbformat_minor": 2,
 "cells": [
  {
   "cell_type": "code",
   "execution_count": 5,
   "metadata": {},
   "outputs": [
    {
     "output_type": "stream",
     "name": "stdout",
     "text": [
      "<class 'pandas.core.frame.DataFrame'>\nRangeIndex: 11538 entries, 0 to 11537\nData columns (total 12 columns):\n #   Column         Non-Null Count  Dtype  \n---  ------         --------------  -----  \n 0   id             11538 non-null  int64  \n 1   name           11538 non-null  object \n 2   nationality    11538 non-null  object \n 3   sex            11538 non-null  object \n 4   date_of_birth  11538 non-null  object \n 5   height         11208 non-null  float64\n 6   weight         10879 non-null  float64\n 7   sport          11538 non-null  object \n 8   gold           11538 non-null  int64  \n 9   silver         11538 non-null  int64  \n 10  bronze         11538 non-null  int64  \n 11  info           131 non-null    object \ndtypes: float64(2), int64(4), object(6)\nmemory usage: 1.1+ MB\n"
     ]
    }
   ],
   "source": [
    "import pandas as pd\n",
    "athletes = pd.read_csv('./pandas/athletes_clean.csv')\n",
    "athletes.info()"
   ]
  },
  {
   "cell_type": "code",
   "execution_count": 7,
   "metadata": {},
   "outputs": [],
   "source": [
    "g = athletes.groupby('nationality')"
   ]
  },
  {
   "cell_type": "code",
   "execution_count": 8,
   "metadata": {},
   "outputs": [
    {
     "output_type": "execute_result",
     "data": {
      "text/plain": [
       "                      id  height  weight  gold  silver  bronze\n",
       "nationality                                                   \n",
       "AFG            544720346    5.21   222.0     0       0       0\n",
       "ALB           3224936557   10.57   404.0     0       0       0\n",
       "ALG          34523048655  119.43  4219.0     0       2       0\n",
       "AND           3059131853    8.56   320.0     0       0       0\n",
       "ANG          10511499494   45.82  1907.0     0       0       0\n",
       "...                  ...     ...     ...   ...     ...     ...\n",
       "VIE          10541691287   38.27  1360.0     1       1       0\n",
       "VIN           2891918513    3.51   120.0     0       0       0\n",
       "YEM           2482979326    5.09   194.0     0       0       0\n",
       "ZAM           3000084717   10.60   405.0     0       0       0\n",
       "ZIM          17589703247   58.66  2193.0     0       0       0\n",
       "\n",
       "[207 rows x 6 columns]"
      ],
      "text/html": "<div>\n<style scoped>\n    .dataframe tbody tr th:only-of-type {\n        vertical-align: middle;\n    }\n\n    .dataframe tbody tr th {\n        vertical-align: top;\n    }\n\n    .dataframe thead th {\n        text-align: right;\n    }\n</style>\n<table border=\"1\" class=\"dataframe\">\n  <thead>\n    <tr style=\"text-align: right;\">\n      <th></th>\n      <th>id</th>\n      <th>height</th>\n      <th>weight</th>\n      <th>gold</th>\n      <th>silver</th>\n      <th>bronze</th>\n    </tr>\n    <tr>\n      <th>nationality</th>\n      <th></th>\n      <th></th>\n      <th></th>\n      <th></th>\n      <th></th>\n      <th></th>\n    </tr>\n  </thead>\n  <tbody>\n    <tr>\n      <th>AFG</th>\n      <td>544720346</td>\n      <td>5.21</td>\n      <td>222.0</td>\n      <td>0</td>\n      <td>0</td>\n      <td>0</td>\n    </tr>\n    <tr>\n      <th>ALB</th>\n      <td>3224936557</td>\n      <td>10.57</td>\n      <td>404.0</td>\n      <td>0</td>\n      <td>0</td>\n      <td>0</td>\n    </tr>\n    <tr>\n      <th>ALG</th>\n      <td>34523048655</td>\n      <td>119.43</td>\n      <td>4219.0</td>\n      <td>0</td>\n      <td>2</td>\n      <td>0</td>\n    </tr>\n    <tr>\n      <th>AND</th>\n      <td>3059131853</td>\n      <td>8.56</td>\n      <td>320.0</td>\n      <td>0</td>\n      <td>0</td>\n      <td>0</td>\n    </tr>\n    <tr>\n      <th>ANG</th>\n      <td>10511499494</td>\n      <td>45.82</td>\n      <td>1907.0</td>\n      <td>0</td>\n      <td>0</td>\n      <td>0</td>\n    </tr>\n    <tr>\n      <th>...</th>\n      <td>...</td>\n      <td>...</td>\n      <td>...</td>\n      <td>...</td>\n      <td>...</td>\n      <td>...</td>\n    </tr>\n    <tr>\n      <th>VIE</th>\n      <td>10541691287</td>\n      <td>38.27</td>\n      <td>1360.0</td>\n      <td>1</td>\n      <td>1</td>\n      <td>0</td>\n    </tr>\n    <tr>\n      <th>VIN</th>\n      <td>2891918513</td>\n      <td>3.51</td>\n      <td>120.0</td>\n      <td>0</td>\n      <td>0</td>\n      <td>0</td>\n    </tr>\n    <tr>\n      <th>YEM</th>\n      <td>2482979326</td>\n      <td>5.09</td>\n      <td>194.0</td>\n      <td>0</td>\n      <td>0</td>\n      <td>0</td>\n    </tr>\n    <tr>\n      <th>ZAM</th>\n      <td>3000084717</td>\n      <td>10.60</td>\n      <td>405.0</td>\n      <td>0</td>\n      <td>0</td>\n      <td>0</td>\n    </tr>\n    <tr>\n      <th>ZIM</th>\n      <td>17589703247</td>\n      <td>58.66</td>\n      <td>2193.0</td>\n      <td>0</td>\n      <td>0</td>\n      <td>0</td>\n    </tr>\n  </tbody>\n</table>\n<p>207 rows × 6 columns</p>\n</div>"
     },
     "metadata": {},
     "execution_count": 8
    }
   ],
   "source": [
    "g.sum() #the index becomes the group by argument"
   ]
  },
  {
   "cell_type": "code",
   "execution_count": 9,
   "metadata": {},
   "outputs": [
    {
     "output_type": "execute_result",
     "data": {
      "text/plain": [
       "             gold  silver  bronze\n",
       "nationality                      \n",
       "AFG             0       0       0\n",
       "ALB             0       0       0\n",
       "ALG             0       2       0\n",
       "AND             0       0       0\n",
       "ANG             0       0       0\n",
       "...           ...     ...     ...\n",
       "VIE             1       1       0\n",
       "VIN             0       0       0\n",
       "YEM             0       0       0\n",
       "ZAM             0       0       0\n",
       "ZIM             0       0       0\n",
       "\n",
       "[207 rows x 3 columns]"
      ],
      "text/html": "<div>\n<style scoped>\n    .dataframe tbody tr th:only-of-type {\n        vertical-align: middle;\n    }\n\n    .dataframe tbody tr th {\n        vertical-align: top;\n    }\n\n    .dataframe thead th {\n        text-align: right;\n    }\n</style>\n<table border=\"1\" class=\"dataframe\">\n  <thead>\n    <tr style=\"text-align: right;\">\n      <th></th>\n      <th>gold</th>\n      <th>silver</th>\n      <th>bronze</th>\n    </tr>\n    <tr>\n      <th>nationality</th>\n      <th></th>\n      <th></th>\n      <th></th>\n    </tr>\n  </thead>\n  <tbody>\n    <tr>\n      <th>AFG</th>\n      <td>0</td>\n      <td>0</td>\n      <td>0</td>\n    </tr>\n    <tr>\n      <th>ALB</th>\n      <td>0</td>\n      <td>0</td>\n      <td>0</td>\n    </tr>\n    <tr>\n      <th>ALG</th>\n      <td>0</td>\n      <td>2</td>\n      <td>0</td>\n    </tr>\n    <tr>\n      <th>AND</th>\n      <td>0</td>\n      <td>0</td>\n      <td>0</td>\n    </tr>\n    <tr>\n      <th>ANG</th>\n      <td>0</td>\n      <td>0</td>\n      <td>0</td>\n    </tr>\n    <tr>\n      <th>...</th>\n      <td>...</td>\n      <td>...</td>\n      <td>...</td>\n    </tr>\n    <tr>\n      <th>VIE</th>\n      <td>1</td>\n      <td>1</td>\n      <td>0</td>\n    </tr>\n    <tr>\n      <th>VIN</th>\n      <td>0</td>\n      <td>0</td>\n      <td>0</td>\n    </tr>\n    <tr>\n      <th>YEM</th>\n      <td>0</td>\n      <td>0</td>\n      <td>0</td>\n    </tr>\n    <tr>\n      <th>ZAM</th>\n      <td>0</td>\n      <td>0</td>\n      <td>0</td>\n    </tr>\n    <tr>\n      <th>ZIM</th>\n      <td>0</td>\n      <td>0</td>\n      <td>0</td>\n    </tr>\n  </tbody>\n</table>\n<p>207 rows × 3 columns</p>\n</div>"
     },
     "metadata": {},
     "execution_count": 9
    }
   ],
   "source": [
    "g.sum()[['gold', 'silver', 'bronze']]"
   ]
  },
  {
   "cell_type": "code",
   "execution_count": 10,
   "metadata": {},
   "outputs": [
    {
     "output_type": "execute_result",
     "data": {
      "text/plain": [
       "             gold  silver  bronze\n",
       "nationality                      \n",
       "AFG             0       0       0\n",
       "ALB             0       0       0\n",
       "ALG             0       2       0\n",
       "AND             0       0       0\n",
       "ANG             0       0       0\n",
       "...           ...     ...     ...\n",
       "VIE             1       1       0\n",
       "VIN             0       0       0\n",
       "YEM             0       0       0\n",
       "ZAM             0       0       0\n",
       "ZIM             0       0       0\n",
       "\n",
       "[207 rows x 3 columns]"
      ],
      "text/html": "<div>\n<style scoped>\n    .dataframe tbody tr th:only-of-type {\n        vertical-align: middle;\n    }\n\n    .dataframe tbody tr th {\n        vertical-align: top;\n    }\n\n    .dataframe thead th {\n        text-align: right;\n    }\n</style>\n<table border=\"1\" class=\"dataframe\">\n  <thead>\n    <tr style=\"text-align: right;\">\n      <th></th>\n      <th>gold</th>\n      <th>silver</th>\n      <th>bronze</th>\n    </tr>\n    <tr>\n      <th>nationality</th>\n      <th></th>\n      <th></th>\n      <th></th>\n    </tr>\n  </thead>\n  <tbody>\n    <tr>\n      <th>AFG</th>\n      <td>0</td>\n      <td>0</td>\n      <td>0</td>\n    </tr>\n    <tr>\n      <th>ALB</th>\n      <td>0</td>\n      <td>0</td>\n      <td>0</td>\n    </tr>\n    <tr>\n      <th>ALG</th>\n      <td>0</td>\n      <td>2</td>\n      <td>0</td>\n    </tr>\n    <tr>\n      <th>AND</th>\n      <td>0</td>\n      <td>0</td>\n      <td>0</td>\n    </tr>\n    <tr>\n      <th>ANG</th>\n      <td>0</td>\n      <td>0</td>\n      <td>0</td>\n    </tr>\n    <tr>\n      <th>...</th>\n      <td>...</td>\n      <td>...</td>\n      <td>...</td>\n    </tr>\n    <tr>\n      <th>VIE</th>\n      <td>1</td>\n      <td>1</td>\n      <td>0</td>\n    </tr>\n    <tr>\n      <th>VIN</th>\n      <td>0</td>\n      <td>0</td>\n      <td>0</td>\n    </tr>\n    <tr>\n      <th>YEM</th>\n      <td>0</td>\n      <td>0</td>\n      <td>0</td>\n    </tr>\n    <tr>\n      <th>ZAM</th>\n      <td>0</td>\n      <td>0</td>\n      <td>0</td>\n    </tr>\n    <tr>\n      <th>ZIM</th>\n      <td>0</td>\n      <td>0</td>\n      <td>0</td>\n    </tr>\n  </tbody>\n</table>\n<p>207 rows × 3 columns</p>\n</div>"
     },
     "metadata": {},
     "execution_count": 10
    }
   ],
   "source": [
    "g= athletes.groupby('nationality')[['gold', 'silver', 'bronze']]\n",
    "g.sum()"
   ]
  },
  {
   "cell_type": "code",
   "execution_count": 16,
   "metadata": {},
   "outputs": [
    {
     "output_type": "stream",
     "name": "stderr",
     "text": [
      "<ipython-input-16-824c01e49d50>:1: FutureWarning: Indexing with multiple keys (implicitly converted to a tuple of keys) will be deprecated, use a list instead.\n  g= athletes.groupby(['sport', 'sex'])['weight', 'height']\n"
     ]
    }
   ],
   "source": [
    "g= athletes.groupby(['sport', 'sex'])['weight', 'height']"
   ]
  },
  {
   "cell_type": "code",
   "execution_count": 17,
   "metadata": {},
   "outputs": [
    {
     "output_type": "execute_result",
     "data": {
      "text/plain": [
       "                              weight    height\n",
       "sport             sex                         \n",
       "aquatics          female   62.284483  1.715712\n",
       "                  male     82.219061  1.860342\n",
       "archery           female   64.301587  1.676190\n",
       "                  male     80.079365  1.795714\n",
       "athletics         female   60.152542  1.690500\n",
       "                  male     74.777680  1.809234\n",
       "badminton         female   61.209877  1.686000\n",
       "                  male     76.156627  1.805059\n",
       "basketball        female   75.377622  1.833819\n",
       "                  male    100.297872  2.003611\n",
       "boxing            female         NaN  1.682222\n",
       "                  male           NaN  1.757615\n",
       "canoe             female   66.457944  1.700648\n",
       "                  male     82.150000  1.820455\n",
       "cycling           female   60.207254  1.673128\n",
       "                  male     72.576052  1.793074\n",
       "equestrian        female   58.634146  1.682530\n",
       "                  male     72.954887  1.790000\n",
       "fencing           female   62.733871  1.712581\n",
       "                  male     78.785124  1.833802\n",
       "football          female   61.061069  1.682710\n",
       "                  male     74.451713  1.793746\n",
       "golf              female   63.200000  1.691404\n",
       "                  male     79.000000  1.793500\n",
       "gymnastics        female   49.555024  1.616524\n",
       "                  male     63.254545  1.677105\n",
       "handball          female   70.789157  1.759722\n",
       "                  male     95.431694  1.913169\n",
       "hockey            female   60.425926  1.667870\n",
       "                  male     77.375000  1.800093\n",
       "judo              female   65.392157  1.665132\n",
       "                  male     84.616740  1.781783\n",
       "modern pentathlon female   58.000000  1.699444\n",
       "                  male     73.916667  1.825278\n",
       "rowing            female   69.776190  1.773286\n",
       "                  male     86.504615  1.898708\n",
       "rugby sevens      female   66.595890  1.678552\n",
       "                  male     90.450331  1.829145\n",
       "sailing           female   63.194969  1.692767\n",
       "                  male     77.122066  1.812770\n",
       "shooting          female   62.675676  1.648400\n",
       "                  male     81.068966  1.780343\n",
       "table tennis      female   57.530120  1.653659\n",
       "                  male     72.558140  1.786860\n",
       "taekwondo         female   61.258065  1.730159\n",
       "                  male     74.809524  1.863750\n",
       "tennis            female   64.670455  1.734205\n",
       "                  male     80.417476  1.860388\n",
       "triathlon         female   54.563636  1.676545\n",
       "                  male     66.814815  1.788704\n",
       "volleyball        female   70.684211  1.828691\n",
       "                  male     89.421875  1.964010\n",
       "weightlifting     female   68.788462  1.603558\n",
       "                  male     87.538961  1.709221\n",
       "wrestling         female   61.805310  1.651239\n",
       "                  male     85.372881  1.757215"
      ],
      "text/html": "<div>\n<style scoped>\n    .dataframe tbody tr th:only-of-type {\n        vertical-align: middle;\n    }\n\n    .dataframe tbody tr th {\n        vertical-align: top;\n    }\n\n    .dataframe thead th {\n        text-align: right;\n    }\n</style>\n<table border=\"1\" class=\"dataframe\">\n  <thead>\n    <tr style=\"text-align: right;\">\n      <th></th>\n      <th></th>\n      <th>weight</th>\n      <th>height</th>\n    </tr>\n    <tr>\n      <th>sport</th>\n      <th>sex</th>\n      <th></th>\n      <th></th>\n    </tr>\n  </thead>\n  <tbody>\n    <tr>\n      <th rowspan=\"2\" valign=\"top\">aquatics</th>\n      <th>female</th>\n      <td>62.284483</td>\n      <td>1.715712</td>\n    </tr>\n    <tr>\n      <th>male</th>\n      <td>82.219061</td>\n      <td>1.860342</td>\n    </tr>\n    <tr>\n      <th rowspan=\"2\" valign=\"top\">archery</th>\n      <th>female</th>\n      <td>64.301587</td>\n      <td>1.676190</td>\n    </tr>\n    <tr>\n      <th>male</th>\n      <td>80.079365</td>\n      <td>1.795714</td>\n    </tr>\n    <tr>\n      <th rowspan=\"2\" valign=\"top\">athletics</th>\n      <th>female</th>\n      <td>60.152542</td>\n      <td>1.690500</td>\n    </tr>\n    <tr>\n      <th>male</th>\n      <td>74.777680</td>\n      <td>1.809234</td>\n    </tr>\n    <tr>\n      <th rowspan=\"2\" valign=\"top\">badminton</th>\n      <th>female</th>\n      <td>61.209877</td>\n      <td>1.686000</td>\n    </tr>\n    <tr>\n      <th>male</th>\n      <td>76.156627</td>\n      <td>1.805059</td>\n    </tr>\n    <tr>\n      <th rowspan=\"2\" valign=\"top\">basketball</th>\n      <th>female</th>\n      <td>75.377622</td>\n      <td>1.833819</td>\n    </tr>\n    <tr>\n      <th>male</th>\n      <td>100.297872</td>\n      <td>2.003611</td>\n    </tr>\n    <tr>\n      <th rowspan=\"2\" valign=\"top\">boxing</th>\n      <th>female</th>\n      <td>NaN</td>\n      <td>1.682222</td>\n    </tr>\n    <tr>\n      <th>male</th>\n      <td>NaN</td>\n      <td>1.757615</td>\n    </tr>\n    <tr>\n      <th rowspan=\"2\" valign=\"top\">canoe</th>\n      <th>female</th>\n      <td>66.457944</td>\n      <td>1.700648</td>\n    </tr>\n    <tr>\n      <th>male</th>\n      <td>82.150000</td>\n      <td>1.820455</td>\n    </tr>\n    <tr>\n      <th rowspan=\"2\" valign=\"top\">cycling</th>\n      <th>female</th>\n      <td>60.207254</td>\n      <td>1.673128</td>\n    </tr>\n    <tr>\n      <th>male</th>\n      <td>72.576052</td>\n      <td>1.793074</td>\n    </tr>\n    <tr>\n      <th rowspan=\"2\" valign=\"top\">equestrian</th>\n      <th>female</th>\n      <td>58.634146</td>\n      <td>1.682530</td>\n    </tr>\n    <tr>\n      <th>male</th>\n      <td>72.954887</td>\n      <td>1.790000</td>\n    </tr>\n    <tr>\n      <th rowspan=\"2\" valign=\"top\">fencing</th>\n      <th>female</th>\n      <td>62.733871</td>\n      <td>1.712581</td>\n    </tr>\n    <tr>\n      <th>male</th>\n      <td>78.785124</td>\n      <td>1.833802</td>\n    </tr>\n    <tr>\n      <th rowspan=\"2\" valign=\"top\">football</th>\n      <th>female</th>\n      <td>61.061069</td>\n      <td>1.682710</td>\n    </tr>\n    <tr>\n      <th>male</th>\n      <td>74.451713</td>\n      <td>1.793746</td>\n    </tr>\n    <tr>\n      <th rowspan=\"2\" valign=\"top\">golf</th>\n      <th>female</th>\n      <td>63.200000</td>\n      <td>1.691404</td>\n    </tr>\n    <tr>\n      <th>male</th>\n      <td>79.000000</td>\n      <td>1.793500</td>\n    </tr>\n    <tr>\n      <th rowspan=\"2\" valign=\"top\">gymnastics</th>\n      <th>female</th>\n      <td>49.555024</td>\n      <td>1.616524</td>\n    </tr>\n    <tr>\n      <th>male</th>\n      <td>63.254545</td>\n      <td>1.677105</td>\n    </tr>\n    <tr>\n      <th rowspan=\"2\" valign=\"top\">handball</th>\n      <th>female</th>\n      <td>70.789157</td>\n      <td>1.759722</td>\n    </tr>\n    <tr>\n      <th>male</th>\n      <td>95.431694</td>\n      <td>1.913169</td>\n    </tr>\n    <tr>\n      <th rowspan=\"2\" valign=\"top\">hockey</th>\n      <th>female</th>\n      <td>60.425926</td>\n      <td>1.667870</td>\n    </tr>\n    <tr>\n      <th>male</th>\n      <td>77.375000</td>\n      <td>1.800093</td>\n    </tr>\n    <tr>\n      <th rowspan=\"2\" valign=\"top\">judo</th>\n      <th>female</th>\n      <td>65.392157</td>\n      <td>1.665132</td>\n    </tr>\n    <tr>\n      <th>male</th>\n      <td>84.616740</td>\n      <td>1.781783</td>\n    </tr>\n    <tr>\n      <th rowspan=\"2\" valign=\"top\">modern pentathlon</th>\n      <th>female</th>\n      <td>58.000000</td>\n      <td>1.699444</td>\n    </tr>\n    <tr>\n      <th>male</th>\n      <td>73.916667</td>\n      <td>1.825278</td>\n    </tr>\n    <tr>\n      <th rowspan=\"2\" valign=\"top\">rowing</th>\n      <th>female</th>\n      <td>69.776190</td>\n      <td>1.773286</td>\n    </tr>\n    <tr>\n      <th>male</th>\n      <td>86.504615</td>\n      <td>1.898708</td>\n    </tr>\n    <tr>\n      <th rowspan=\"2\" valign=\"top\">rugby sevens</th>\n      <th>female</th>\n      <td>66.595890</td>\n      <td>1.678552</td>\n    </tr>\n    <tr>\n      <th>male</th>\n      <td>90.450331</td>\n      <td>1.829145</td>\n    </tr>\n    <tr>\n      <th rowspan=\"2\" valign=\"top\">sailing</th>\n      <th>female</th>\n      <td>63.194969</td>\n      <td>1.692767</td>\n    </tr>\n    <tr>\n      <th>male</th>\n      <td>77.122066</td>\n      <td>1.812770</td>\n    </tr>\n    <tr>\n      <th rowspan=\"2\" valign=\"top\">shooting</th>\n      <th>female</th>\n      <td>62.675676</td>\n      <td>1.648400</td>\n    </tr>\n    <tr>\n      <th>male</th>\n      <td>81.068966</td>\n      <td>1.780343</td>\n    </tr>\n    <tr>\n      <th rowspan=\"2\" valign=\"top\">table tennis</th>\n      <th>female</th>\n      <td>57.530120</td>\n      <td>1.653659</td>\n    </tr>\n    <tr>\n      <th>male</th>\n      <td>72.558140</td>\n      <td>1.786860</td>\n    </tr>\n    <tr>\n      <th rowspan=\"2\" valign=\"top\">taekwondo</th>\n      <th>female</th>\n      <td>61.258065</td>\n      <td>1.730159</td>\n    </tr>\n    <tr>\n      <th>male</th>\n      <td>74.809524</td>\n      <td>1.863750</td>\n    </tr>\n    <tr>\n      <th rowspan=\"2\" valign=\"top\">tennis</th>\n      <th>female</th>\n      <td>64.670455</td>\n      <td>1.734205</td>\n    </tr>\n    <tr>\n      <th>male</th>\n      <td>80.417476</td>\n      <td>1.860388</td>\n    </tr>\n    <tr>\n      <th rowspan=\"2\" valign=\"top\">triathlon</th>\n      <th>female</th>\n      <td>54.563636</td>\n      <td>1.676545</td>\n    </tr>\n    <tr>\n      <th>male</th>\n      <td>66.814815</td>\n      <td>1.788704</td>\n    </tr>\n    <tr>\n      <th rowspan=\"2\" valign=\"top\">volleyball</th>\n      <th>female</th>\n      <td>70.684211</td>\n      <td>1.828691</td>\n    </tr>\n    <tr>\n      <th>male</th>\n      <td>89.421875</td>\n      <td>1.964010</td>\n    </tr>\n    <tr>\n      <th rowspan=\"2\" valign=\"top\">weightlifting</th>\n      <th>female</th>\n      <td>68.788462</td>\n      <td>1.603558</td>\n    </tr>\n    <tr>\n      <th>male</th>\n      <td>87.538961</td>\n      <td>1.709221</td>\n    </tr>\n    <tr>\n      <th rowspan=\"2\" valign=\"top\">wrestling</th>\n      <th>female</th>\n      <td>61.805310</td>\n      <td>1.651239</td>\n    </tr>\n    <tr>\n      <th>male</th>\n      <td>85.372881</td>\n      <td>1.757215</td>\n    </tr>\n  </tbody>\n</table>\n</div>"
     },
     "metadata": {},
     "execution_count": 17
    }
   ],
   "source": [
    "g.mean()"
   ]
  },
  {
   "cell_type": "code",
   "execution_count": null,
   "metadata": {},
   "outputs": [],
   "source": []
  }
 ]
}