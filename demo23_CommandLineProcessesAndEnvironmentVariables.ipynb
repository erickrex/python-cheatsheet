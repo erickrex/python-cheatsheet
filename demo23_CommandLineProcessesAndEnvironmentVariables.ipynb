{
 "cells": [
  {
   "cell_type": "code",
   "execution_count": 3,
   "metadata": {},
   "outputs": [],
   "source": [
    "import os"
   ]
  },
  {
   "cell_type": "code",
   "execution_count": 4,
   "metadata": {},
   "outputs": [
    {
     "output_type": "execute_result",
     "data": {
      "text/plain": [
       "environ{'CONDA_SHLVL': '1',\n",
       "        'PYTHONUNBUFFERED': '1',\n",
       "        'NVM_DIR': '/home/rexbox/.nvm',\n",
       "        'LS_COLORS': 'rs=0:di=01;34:ln=01;36:mh=00:pi=40;33:so=01;35:do=01;35:bd=40;33;01:cd=40;33;01:or=40;31;01:mi=00:su=37;41:sg=30;43:ca=30;41:tw=30;42:ow=34;42:st=37;44:ex=01;32:*.tar=01;31:*.tgz=01;31:*.arc=01;31:*.arj=01;31:*.taz=01;31:*.lha=01;31:*.lz4=01;31:*.lzh=01;31:*.lzma=01;31:*.tlz=01;31:*.txz=01;31:*.tzo=01;31:*.t7z=01;31:*.zip=01;31:*.z=01;31:*.Z=01;31:*.dz=01;31:*.gz=01;31:*.lrz=01;31:*.lz=01;31:*.lzo=01;31:*.xz=01;31:*.zst=01;31:*.tzst=01;31:*.bz2=01;31:*.bz=01;31:*.tbz=01;31:*.tbz2=01;31:*.tz=01;31:*.deb=01;31:*.rpm=01;31:*.jar=01;31:*.war=01;31:*.ear=01;31:*.sar=01;31:*.rar=01;31:*.alz=01;31:*.ace=01;31:*.zoo=01;31:*.cpio=01;31:*.7z=01;31:*.rz=01;31:*.cab=01;31:*.wim=01;31:*.swm=01;31:*.dwm=01;31:*.esd=01;31:*.jpg=01;35:*.jpeg=01;35:*.mjpg=01;35:*.mjpeg=01;35:*.gif=01;35:*.bmp=01;35:*.pbm=01;35:*.pgm=01;35:*.ppm=01;35:*.tga=01;35:*.xbm=01;35:*.xpm=01;35:*.tif=01;35:*.tiff=01;35:*.png=01;35:*.svg=01;35:*.svgz=01;35:*.mng=01;35:*.pcx=01;35:*.mov=01;35:*.mpg=01;35:*.mpeg=01;35:*.m2v=01;35:*.mkv=01;35:*.webm=01;35:*.ogm=01;35:*.mp4=01;35:*.m4v=01;35:*.mp4v=01;35:*.vob=01;35:*.qt=01;35:*.nuv=01;35:*.wmv=01;35:*.asf=01;35:*.rm=01;35:*.rmvb=01;35:*.flc=01;35:*.avi=01;35:*.fli=01;35:*.flv=01;35:*.gl=01;35:*.dl=01;35:*.xcf=01;35:*.xwd=01;35:*.yuv=01;35:*.cgm=01;35:*.emf=01;35:*.ogv=01;35:*.ogx=01;35:*.aac=00;36:*.au=00;36:*.flac=00;36:*.m4a=00;36:*.mid=00;36:*.midi=00;36:*.mka=00;36:*.mp3=00;36:*.mpc=00;36:*.ogg=00;36:*.ra=00;36:*.wav=00;36:*.oga=00;36:*.opus=00;36:*.spx=00;36:*.xspf=00;36:',\n",
       "        'CONDA_EXE': '/home/rexbox/anaconda3/bin/conda',\n",
       "        'HOSTTYPE': 'x86_64',\n",
       "        'VSCODE_NLS_CONFIG': '{\"locale\":\"en\",\"availableLanguages\":{}}',\n",
       "        'LESSCLOSE': '/usr/bin/lesspipe %s %s',\n",
       "        'LANG': 'C.UTF-8',\n",
       "        'VSCODE_LOG_STACK': 'false',\n",
       "        'NVM_CD_FLAGS': '',\n",
       "        'VSCODE_EXTHOST_WILL_SEND_SOCKET': 'true',\n",
       "        'WSL_DISTRO_NAME': 'Ubuntu-18.04',\n",
       "        'CONDA_PREFIX': '/home/rexbox/anaconda3',\n",
       "        'PYTHONIOENCODING': 'utf-8',\n",
       "        '_CE_M': '',\n",
       "        'APPLICATION_INSIGHTS_NO_DIAGNOSTIC_CHANNEL': 'true',\n",
       "        'USER': 'rexbox',\n",
       "        'PWD': '/mnt/c/Users/Rex/AppData/Local/Programs/Microsoft VS Code',\n",
       "        'HOME': '/home/rexbox',\n",
       "        'CONDA_PYTHON_EXE': '/home/rexbox/anaconda3/bin/python',\n",
       "        'NAME': 'Rex',\n",
       "        'VSCODE_VERBOSE_LOGGING': 'true',\n",
       "        'VSCODE_LOG_NATIVE': 'false',\n",
       "        'XDG_DATA_DIRS': '/usr/local/share:/usr/share:/var/lib/snapd/desktop',\n",
       "        'VSCODE_CWD': '/mnt/c/Users/Rex/AppData/Local/Programs/Microsoft VS Code',\n",
       "        'VSCODE_AMD_ENTRYPOINT': 'vs/server/remoteExtensionHostProcess',\n",
       "        '_CE_CONDA': '',\n",
       "        'VSCODE_IPC_HOOK_CLI': '/tmp/vscode-ipc-faef7fe6-eb46-447f-8465-c38e9c2256c7.sock',\n",
       "        'VSCODE_WSL_EXT_LOCATION': '/mnt/c/Users/Rex/.vscode/extensions/ms-vscode-remote.remote-wsl-0.56.1',\n",
       "        'CONDA_PROMPT_MODIFIER': '(base) ',\n",
       "        'SHELL': '/bin/bash',\n",
       "        'TERM': 'xterm-color',\n",
       "        'VSCODE_HANDLES_UNCAUGHT_ERRORS': 'true',\n",
       "        'NVM_BIN': '/home/rexbox/.nvm/versions/node/v15.4.0/bin',\n",
       "        'VSCODE_PIPE_LOGGING': 'true',\n",
       "        'SHLVL': '3',\n",
       "        'VSCODE_INJECT_NODE_MODULE_LOOKUP_PATH': '/home/rexbox/.vscode-server/bin/cfa2e218100323074ac1948c885448fdf4de2a7f/remote/node_modules',\n",
       "        'VSCODE_AGENT_FOLDER': '/home/rexbox/.vscode-server',\n",
       "        'LOGNAME': 'rexbox',\n",
       "        'PATH': '/home/rexbox/.vscode-server/bin/cfa2e218100323074ac1948c885448fdf4de2a7f/bin:/home/rexbox/anaconda3/bin:/home/rexbox/anaconda3/condabin:/home/rexbox/.nvm/versions/node/v15.4.0/bin:/usr/local/sbin:/usr/local/bin:/usr/sbin:/usr/bin:/sbin:/bin:/usr/games:/usr/local/games:/mnt/c/Program Files/Oculus/Support/oculus-runtime:/mnt/c/Windows/system32:/mnt/c/Windows:/mnt/c/Windows/System32/Wbem:/mnt/c/Windows/System32/WindowsPowerShell/v1.0:/mnt/c/Windows/System32/OpenSSH:/mnt/c/Program Files/PuTTY:/mnt/c/Program Files/dotnet:/mnt/c/Program Files/Microsoft SQL Server/130/Tools/Binn:/mnt/c/Program Files/Microsoft SQL Server/Client SDK/ODBC/170/Tools/Binn:/mnt/c/Program Files/Git/cmd:/mnt/c/Users/Rex/AppData/Local/Microsoft/WindowsApps:/mnt/c/Users/Rex/AppData/Local/Programs/Microsoft VS Code/bin:/mnt/c/Users/Rex/AppData/Roaming/nvm:/mnt/c/Program Files/nodejs:/mnt/c/Users/Rex/AppData/Local/GitHubDesktop/bin:/mnt/c/Users/Rex/AppData/Local/gitkraken/bin:/snap/bin',\n",
       "        'CONDA_DEFAULT_ENV': 'base',\n",
       "        'NVM_INC': '/home/rexbox/.nvm/versions/node/v15.4.0/include/node',\n",
       "        'WSLENV': 'VSCODE_WSL_EXT_LOCATION/up',\n",
       "        'LESSOPEN': '| /usr/bin/lesspipe %s',\n",
       "        '_': '/home/rexbox/anaconda3/bin/python',\n",
       "        'PYTHONPATH': '/home/rexbox/.vscode-server/extensions/ms-toolsai.jupyter-2021.6.811652604/pythonFiles:/home/rexbox/.vscode-server/extensions/ms-toolsai.jupyter-2021.6.811652604/pythonFiles/lib/python',\n",
       "        'JPY_PARENT_PID': '8710',\n",
       "        'CLICOLOR': '1',\n",
       "        'PAGER': 'cat',\n",
       "        'GIT_PAGER': 'cat',\n",
       "        'MPLBACKEND': 'module://ipykernel.pylab.backend_inline'}"
      ]
     },
     "metadata": {},
     "execution_count": 4
    }
   ],
   "source": [
    "os.environ"
   ]
  },
  {
   "cell_type": "code",
   "execution_count": 1,
   "metadata": {},
   "outputs": [
    {
     "output_type": "execute_result",
     "data": {
      "text/plain": [
       "'rexbox'"
      ]
     },
     "metadata": {},
     "execution_count": 1
    }
   ],
   "source": [
    "os.environ['USER']"
   ]
  },
  {
   "cell_type": "code",
   "execution_count": 6,
   "metadata": {},
   "outputs": [],
   "source": [
    "os.environ['DATASETS'] = os.getcwd() + \"/datasets\""
   ]
  },
  {
   "cell_type": "code",
   "execution_count": 7,
   "metadata": {},
   "outputs": [
    {
     "output_type": "execute_result",
     "data": {
      "text/plain": [
       "'/mnt/c/Users/Rex/Documents/AAProjects/cheatsheet-ps/datasets'"
      ]
     },
     "metadata": {},
     "execution_count": 7
    }
   ],
   "source": [
    "os.environ['DATASETS']"
   ]
  },
  {
   "cell_type": "code",
   "execution_count": 8,
   "metadata": {},
   "outputs": [
    {
     "output_type": "execute_result",
     "data": {
      "text/plain": [
       "environ{'CONDA_SHLVL': '1',\n",
       "        'PYTHONUNBUFFERED': '1',\n",
       "        'NVM_DIR': '/home/rexbox/.nvm',\n",
       "        'LS_COLORS': 'rs=0:di=01;34:ln=01;36:mh=00:pi=40;33:so=01;35:do=01;35:bd=40;33;01:cd=40;33;01:or=40;31;01:mi=00:su=37;41:sg=30;43:ca=30;41:tw=30;42:ow=34;42:st=37;44:ex=01;32:*.tar=01;31:*.tgz=01;31:*.arc=01;31:*.arj=01;31:*.taz=01;31:*.lha=01;31:*.lz4=01;31:*.lzh=01;31:*.lzma=01;31:*.tlz=01;31:*.txz=01;31:*.tzo=01;31:*.t7z=01;31:*.zip=01;31:*.z=01;31:*.Z=01;31:*.dz=01;31:*.gz=01;31:*.lrz=01;31:*.lz=01;31:*.lzo=01;31:*.xz=01;31:*.zst=01;31:*.tzst=01;31:*.bz2=01;31:*.bz=01;31:*.tbz=01;31:*.tbz2=01;31:*.tz=01;31:*.deb=01;31:*.rpm=01;31:*.jar=01;31:*.war=01;31:*.ear=01;31:*.sar=01;31:*.rar=01;31:*.alz=01;31:*.ace=01;31:*.zoo=01;31:*.cpio=01;31:*.7z=01;31:*.rz=01;31:*.cab=01;31:*.wim=01;31:*.swm=01;31:*.dwm=01;31:*.esd=01;31:*.jpg=01;35:*.jpeg=01;35:*.mjpg=01;35:*.mjpeg=01;35:*.gif=01;35:*.bmp=01;35:*.pbm=01;35:*.pgm=01;35:*.ppm=01;35:*.tga=01;35:*.xbm=01;35:*.xpm=01;35:*.tif=01;35:*.tiff=01;35:*.png=01;35:*.svg=01;35:*.svgz=01;35:*.mng=01;35:*.pcx=01;35:*.mov=01;35:*.mpg=01;35:*.mpeg=01;35:*.m2v=01;35:*.mkv=01;35:*.webm=01;35:*.ogm=01;35:*.mp4=01;35:*.m4v=01;35:*.mp4v=01;35:*.vob=01;35:*.qt=01;35:*.nuv=01;35:*.wmv=01;35:*.asf=01;35:*.rm=01;35:*.rmvb=01;35:*.flc=01;35:*.avi=01;35:*.fli=01;35:*.flv=01;35:*.gl=01;35:*.dl=01;35:*.xcf=01;35:*.xwd=01;35:*.yuv=01;35:*.cgm=01;35:*.emf=01;35:*.ogv=01;35:*.ogx=01;35:*.aac=00;36:*.au=00;36:*.flac=00;36:*.m4a=00;36:*.mid=00;36:*.midi=00;36:*.mka=00;36:*.mp3=00;36:*.mpc=00;36:*.ogg=00;36:*.ra=00;36:*.wav=00;36:*.oga=00;36:*.opus=00;36:*.spx=00;36:*.xspf=00;36:',\n",
       "        'CONDA_EXE': '/home/rexbox/anaconda3/bin/conda',\n",
       "        'HOSTTYPE': 'x86_64',\n",
       "        'VSCODE_NLS_CONFIG': '{\"locale\":\"en\",\"availableLanguages\":{}}',\n",
       "        'LESSCLOSE': '/usr/bin/lesspipe %s %s',\n",
       "        'LANG': 'C.UTF-8',\n",
       "        'VSCODE_LOG_STACK': 'false',\n",
       "        'NVM_CD_FLAGS': '',\n",
       "        'VSCODE_EXTHOST_WILL_SEND_SOCKET': 'true',\n",
       "        'WSL_DISTRO_NAME': 'Ubuntu-18.04',\n",
       "        'CONDA_PREFIX': '/home/rexbox/anaconda3',\n",
       "        'PYTHONIOENCODING': 'utf-8',\n",
       "        '_CE_M': '',\n",
       "        'APPLICATION_INSIGHTS_NO_DIAGNOSTIC_CHANNEL': 'true',\n",
       "        'USER': 'rexbox',\n",
       "        'PWD': '/mnt/c/Users/Rex/AppData/Local/Programs/Microsoft VS Code',\n",
       "        'HOME': '/home/rexbox',\n",
       "        'CONDA_PYTHON_EXE': '/home/rexbox/anaconda3/bin/python',\n",
       "        'NAME': 'Rex',\n",
       "        'VSCODE_VERBOSE_LOGGING': 'true',\n",
       "        'VSCODE_LOG_NATIVE': 'false',\n",
       "        'XDG_DATA_DIRS': '/usr/local/share:/usr/share:/var/lib/snapd/desktop',\n",
       "        'VSCODE_CWD': '/mnt/c/Users/Rex/AppData/Local/Programs/Microsoft VS Code',\n",
       "        'VSCODE_AMD_ENTRYPOINT': 'vs/server/remoteExtensionHostProcess',\n",
       "        '_CE_CONDA': '',\n",
       "        'VSCODE_IPC_HOOK_CLI': '/tmp/vscode-ipc-faef7fe6-eb46-447f-8465-c38e9c2256c7.sock',\n",
       "        'VSCODE_WSL_EXT_LOCATION': '/mnt/c/Users/Rex/.vscode/extensions/ms-vscode-remote.remote-wsl-0.56.1',\n",
       "        'CONDA_PROMPT_MODIFIER': '(base) ',\n",
       "        'SHELL': '/bin/bash',\n",
       "        'TERM': 'xterm-color',\n",
       "        'VSCODE_HANDLES_UNCAUGHT_ERRORS': 'true',\n",
       "        'NVM_BIN': '/home/rexbox/.nvm/versions/node/v15.4.0/bin',\n",
       "        'VSCODE_PIPE_LOGGING': 'true',\n",
       "        'SHLVL': '3',\n",
       "        'VSCODE_INJECT_NODE_MODULE_LOOKUP_PATH': '/home/rexbox/.vscode-server/bin/cfa2e218100323074ac1948c885448fdf4de2a7f/remote/node_modules',\n",
       "        'VSCODE_AGENT_FOLDER': '/home/rexbox/.vscode-server',\n",
       "        'LOGNAME': 'rexbox',\n",
       "        'PATH': '/home/rexbox/.vscode-server/bin/cfa2e218100323074ac1948c885448fdf4de2a7f/bin:/home/rexbox/anaconda3/bin:/home/rexbox/anaconda3/condabin:/home/rexbox/.nvm/versions/node/v15.4.0/bin:/usr/local/sbin:/usr/local/bin:/usr/sbin:/usr/bin:/sbin:/bin:/usr/games:/usr/local/games:/mnt/c/Program Files/Oculus/Support/oculus-runtime:/mnt/c/Windows/system32:/mnt/c/Windows:/mnt/c/Windows/System32/Wbem:/mnt/c/Windows/System32/WindowsPowerShell/v1.0:/mnt/c/Windows/System32/OpenSSH:/mnt/c/Program Files/PuTTY:/mnt/c/Program Files/dotnet:/mnt/c/Program Files/Microsoft SQL Server/130/Tools/Binn:/mnt/c/Program Files/Microsoft SQL Server/Client SDK/ODBC/170/Tools/Binn:/mnt/c/Program Files/Git/cmd:/mnt/c/Users/Rex/AppData/Local/Microsoft/WindowsApps:/mnt/c/Users/Rex/AppData/Local/Programs/Microsoft VS Code/bin:/mnt/c/Users/Rex/AppData/Roaming/nvm:/mnt/c/Program Files/nodejs:/mnt/c/Users/Rex/AppData/Local/GitHubDesktop/bin:/mnt/c/Users/Rex/AppData/Local/gitkraken/bin:/snap/bin',\n",
       "        'CONDA_DEFAULT_ENV': 'base',\n",
       "        'NVM_INC': '/home/rexbox/.nvm/versions/node/v15.4.0/include/node',\n",
       "        'WSLENV': 'VSCODE_WSL_EXT_LOCATION/up',\n",
       "        'LESSOPEN': '| /usr/bin/lesspipe %s',\n",
       "        '_': '/home/rexbox/anaconda3/bin/python',\n",
       "        'PYTHONPATH': '/home/rexbox/.vscode-server/extensions/ms-toolsai.jupyter-2021.6.811652604/pythonFiles:/home/rexbox/.vscode-server/extensions/ms-toolsai.jupyter-2021.6.811652604/pythonFiles/lib/python',\n",
       "        'JPY_PARENT_PID': '8710',\n",
       "        'CLICOLOR': '1',\n",
       "        'PAGER': 'cat',\n",
       "        'GIT_PAGER': 'cat',\n",
       "        'MPLBACKEND': 'module://ipykernel.pylab.backend_inline',\n",
       "        'DATASETS': '/mnt/c/Users/Rex/Documents/AAProjects/cheatsheet-ps/datasets'}"
      ]
     },
     "metadata": {},
     "execution_count": 8
    }
   ],
   "source": [
    "os.environ"
   ]
  },
  {
   "cell_type": "code",
   "execution_count": 9,
   "metadata": {},
   "outputs": [
    {
     "output_type": "stream",
     "name": "stdout",
     "text": [
      "basic_analysis.ipynb\ndemo06_BuiltInFunctions.ipynb\ndemo07_Lists.ipynb\ndemo08_Tuples.ipynb\ndemo09_Dictionaries.ipynb\ndemo10_Sets.ipynb\ndemo11_IfElseAndElifStatements.ipynb\ndemo12_ForLoops.ipynb\ndemo14_BreakContinueAndPass.ipynb\ndemo15_ListComprehension.ipynb\ndemo16_FunctionsInputArgumentsAndReturnValues.ipynb\ndemo17_GlobalVariablesLocalVariables.ipynb\ndemo18_ArgumentReassignmentVsModification.ipynb\ndemo19_KeywordArgumentsDefaultValues.ipynb\ndemo20_FirstClassFunctions.ipynb\ndemo21_Lambdas.ipynb\ndemo22_ImportingModules.ipynb\ndemo23_CommandLineProcessesAndEnvironmentVariables.ipynb\nimport_propietary_formats.py\nimport_using_csv.py\nimport_using_json.py\nimport_using_numpy.py\nimport_using_xml.py\nimport_xls.py\njoin_set_union.py\nloans.py\nmultidimensional_lists.py\npandas_basic.py\nread_file.py\nvenv\nvirtual_env.py\n"
     ]
    }
   ],
   "source": [
    "!ls"
   ]
  },
  {
   "cell_type": "code",
   "execution_count": 13,
   "metadata": {},
   "outputs": [
    {
     "name": "stdout",
     "output_type": "stream",
     "text": [
      "total 7200\r\n",
      "-rw-r--r--@ 1 jananiravi  staff    21230 Sep 16 14:27 *Demo10_CompareValuesWithComparisonOperatorsAndAnalyzingDataWithLogicalOperators.ipynb\r\n",
      "-rw-r--r--  1 jananiravi  staff  1659048 Sep 16 16:32 *demo15_WhileLoops-Copy1.ipynb\r\n",
      "-rw-r--r--@ 1 jananiravi  staff    24947 Sep 16 21:18 Demo22_Files.ipynb\r\n",
      "-rw-r--r--@ 1 jananiravi  staff    15329 Sep 16 10:15 demo01_SimpleExpressions.ipynb\r\n",
      "-rw-r--r--  1 jananiravi  staff     9669 Sep 16 10:25 demo02_LogicalOperations.ipynb\r\n",
      "-rw-r--r--@ 1 jananiravi  staff    10554 Sep 16 10:54 demo03_Variables.ipynb\r\n",
      "-rw-r--r--@ 1 jananiravi  staff     9021 Sep 16 11:13 demo04_BasicTypesInPython.ipynb\r\n",
      "-rw-r--r--@ 1 jananiravi  staff     6637 Sep 16 11:42 demo05_Strings.ipynb\r\n",
      "-rw-r--r--@ 1 jananiravi  staff    17115 Sep 16 11:59 demo06_BuiltInFunctions.ipynb\r\n",
      "-rw-r--r--@ 1 jananiravi  staff    17672 Sep 16 12:52 demo07_Lists.ipynb\r\n",
      "-rw-r--r--@ 1 jananiravi  staff     7482 Sep 16 12:41 demo08_Tuples.ipynb\r\n",
      "-rw-r--r--@ 1 jananiravi  staff     9108 Sep 16 12:50 demo09_Dictionaries.ipynb\r\n",
      "-rw-r--r--@ 1 jananiravi  staff     7431 Sep 16 13:02 demo10_Sets.ipynb\r\n",
      "-rw-r--r--@ 1 jananiravi  staff    17128 Sep 16 15:01 demo11_IfElseAndElifStatements.ipynb\r\n",
      "-rw-r--r--@ 1 jananiravi  staff    17598 Sep 16 16:08 demo12_ForLoops.ipynb\r\n",
      "-rw-r--r--@ 1 jananiravi  staff  1656913 Sep 16 16:46 demo13_WhileLoops.ipynb\r\n",
      "-rw-r--r--  1 jananiravi  staff     8773 Sep 16 17:10 demo14_BreakContinueAndPass.ipynb\r\n",
      "-rw-r--r--  1 jananiravi  staff     3767 Sep 16 17:14 demo15_ListComprehension.ipynb\r\n",
      "-rw-r--r--@ 1 jananiravi  staff    19870 Sep 16 19:30 demo16_FunctionsInputArgumentsAndReturnValues.ipynb\r\n",
      "-rw-r--r--@ 1 jananiravi  staff    12010 Sep 16 20:13 demo17_GlobalVariablesLocalVariables.ipynb\r\n",
      "-rw-r--r--  1 jananiravi  staff     7147 Sep 16 20:33 demo18_ArgumentReassignmentVsModification.ipynb\r\n",
      "-rw-r--r--@ 1 jananiravi  staff    13001 Sep 16 20:58 demo19_KeywordArgumentsDefaultValues.ipynb\r\n",
      "-rw-r--r--@ 1 jananiravi  staff     9778 Sep 16 21:13 demo20_FirstClassFunctions.ipynb\r\n",
      "-rw-r--r--  1 jananiravi  staff     3813 Sep 16 21:16 demo21_Lambdas.ipynb\r\n",
      "-rw-r--r--  1 jananiravi  staff    18493 Sep 17 10:08 demo22_ImportingModules.ipynb\r\n",
      "-rw-r--r--  1 jananiravi  staff    24769 Sep 17 10:15 demo23_CommandLineProcessesAndEnvironmentVariables.ipynb\r\n"
     ]
    }
   ],
   "source": [
    "!ls -l"
   ]
  },
  {
   "cell_type": "code",
   "execution_count": 10,
   "metadata": {},
   "outputs": [
    {
     "output_type": "execute_result",
     "data": {
      "text/plain": [
       "['.git',\n",
       " 'basic_analysis.ipynb',\n",
       " 'demo06_BuiltInFunctions.ipynb',\n",
       " 'demo07_Lists.ipynb',\n",
       " 'demo08_Tuples.ipynb',\n",
       " 'demo09_Dictionaries.ipynb',\n",
       " 'demo10_Sets.ipynb',\n",
       " 'demo11_IfElseAndElifStatements.ipynb',\n",
       " 'demo12_ForLoops.ipynb',\n",
       " 'demo14_BreakContinueAndPass.ipynb',\n",
       " 'demo15_ListComprehension.ipynb',\n",
       " 'demo16_FunctionsInputArgumentsAndReturnValues.ipynb',\n",
       " 'demo17_GlobalVariablesLocalVariables.ipynb',\n",
       " 'demo18_ArgumentReassignmentVsModification.ipynb',\n",
       " 'demo19_KeywordArgumentsDefaultValues.ipynb',\n",
       " 'demo20_FirstClassFunctions.ipynb',\n",
       " 'demo21_Lambdas.ipynb',\n",
       " 'demo22_ImportingModules.ipynb',\n",
       " 'demo23_CommandLineProcessesAndEnvironmentVariables.ipynb',\n",
       " 'import_propietary_formats.py',\n",
       " 'import_using_csv.py',\n",
       " 'import_using_json.py',\n",
       " 'import_using_numpy.py',\n",
       " 'import_using_xml.py',\n",
       " 'import_xls.py',\n",
       " 'join_set_union.py',\n",
       " 'loans.py',\n",
       " 'multidimensional_lists.py',\n",
       " 'pandas_basic.py',\n",
       " 'read_file.py',\n",
       " 'venv',\n",
       " 'virtual_env.py']"
      ]
     },
     "metadata": {},
     "execution_count": 10
    }
   ],
   "source": [
    "os.listdir()"
   ]
  },
  {
   "cell_type": "code",
   "execution_count": 11,
   "metadata": {},
   "outputs": [
    {
     "output_type": "stream",
     "name": "stdout",
     "text": [
      "Usage: grep [OPTION]... PATTERN [FILE]...\nTry 'grep --help' for more information.\n"
     ]
    }
   ],
   "source": [
    "!grep"
   ]
  },
  {
   "cell_type": "code",
   "execution_count": 12,
   "metadata": {},
   "outputs": [
    {
     "output_type": "stream",
     "name": "stdout",
     "text": [
      "demo23_CommandLineProcessesAndEnvironmentVariables.ipynb:      \"demo22_ImportingModules.ipynb\\r\\n\",\n",
      "demo23_CommandLineProcessesAndEnvironmentVariables.ipynb:      \"-rw-r--r--  1 jananiravi  staff    18493 Sep 17 10:08 demo22_ImportingModules.ipynb\\r\\n\",\n",
      "demo23_CommandLineProcessesAndEnvironmentVariables.ipynb:       \" 'demo22_ImportingModules.ipynb',\\n\",\n",
      "demo23_CommandLineProcessesAndEnvironmentVariables.ipynb:      \"demo23_CommandLineProcessesAndEnvironmentVariables.ipynb:      \\\"demo22_ImportingModules.ipynb\\\\r\\\\n\\\",\\r\\n\",\n",
      "demo23_CommandLineProcessesAndEnvironmentVariables.ipynb:      \"demo23_CommandLineProcessesAndEnvironmentVariables.ipynb:      \\\"-rw-r--r--  1 jananiravi  staff    18493 Sep 17 10:08 demo22_ImportingModules.ipynb\\\\r\\\\n\\\",\\r\\n\",\n",
      "demo23_CommandLineProcessesAndEnvironmentVariables.ipynb:      \"demo23_CommandLineProcessesAndEnvironmentVariables.ipynb:       \\\" 'demo22_ImportingModules.ipynb',\\\\n\\\",\\r\\n\"\n",
      "demo23_CommandLineProcessesAndEnvironmentVariables.ipynb:    \"!grep -e \\\"Modules\\\" *\"\n",
      "demo23_CommandLineProcessesAndEnvironmentVariables.ipynb:    \"!grep -e \\\"Modules\\\" * > modules.txt\"\n",
      "demo23_CommandLineProcessesAndEnvironmentVariables.ipynb:      \"demo22_ImportingModules.ipynb\\r\\n\",\n",
      "demo23_CommandLineProcessesAndEnvironmentVariables.ipynb:      \"demo23_CommandLineProcessesAndEnvironmentVariables.ipynb:      \\\"demo22_ImportingModules.ipynb\\\\r\\\\n\\\",\\r\\n\",\n",
      "demo23_CommandLineProcessesAndEnvironmentVariables.ipynb:      \"demo23_CommandLineProcessesAndEnvironmentVariables.ipynb:      \\\"-rw-r--r--  1 jananiravi  staff    18493 Sep 17 10:08 demo22_ImportingModules.ipynb\\\\r\\\\n\\\",\\r\\n\",\n",
      "demo23_CommandLineProcessesAndEnvironmentVariables.ipynb:      \"demo23_CommandLineProcessesAndEnvironmentVariables.ipynb:       \\\" 'demo22_ImportingModules.ipynb',\\\\n\\\",\\r\\n\"\n",
      "demo23_CommandLineProcessesAndEnvironmentVariables.ipynb:      \"b'*Demo10_CompareValuesWithComparisonOperatorsAndAnalyzingDataWithLogicalOperators.ipynb\\\\n*demo15_WhileLoops-Copy1.ipynb\\\\nDemo22_Files.ipynb\\\\ndemo01_SimpleExpressions.ipynb\\\\ndemo02_LogicalOperations.ipynb\\\\ndemo03_Variables.ipynb\\\\ndemo04_BasicTypesInPython.ipynb\\\\ndemo05_Strings.ipynb\\\\ndemo06_BuiltInFunctions.ipynb\\\\ndemo07_Lists.ipynb\\\\ndemo08_Tuples.ipynb\\\\ndemo09_Dictionaries.ipynb\\\\ndemo10_Sets.ipynb\\\\ndemo11_IfElseAndElifStatements.ipynb\\\\ndemo12_ForLoops.ipynb\\\\ndemo13_WhileLoops.ipynb\\\\ndemo14_BreakContinueAndPass.ipynb\\\\ndemo15_ListComprehension.ipynb\\\\ndemo16_FunctionsInputArgumentsAndReturnValues.ipynb\\\\ndemo17_GlobalVariablesLocalVariables.ipynb\\\\ndemo18_ArgumentReassignmentVsModification.ipynb\\\\ndemo19_KeywordArgumentsDefaultValues.ipynb\\\\ndemo20_FirstClassFunctions.ipynb\\\\ndemo21_Lambdas.ipynb\\\\ndemo22_ImportingModules.ipynb\\\\ndemo23_CommandLineProcessesAndEnvironmentVariables.ipynb\\\\nmodules.txt\\\\n'\\n\"\n",
      "demo23_CommandLineProcessesAndEnvironmentVariables.ipynb:       \"b'demo23_CommandLineProcessesAndEnvironmentVariables.ipynb:      \\\"demo22_ImportingModules.ipynb\\\\\\\\r\\\\\\\\n\\\",\\\\ndemo23_CommandLineProcessesAndEnvironmentVariables.ipynb:      \\\"-rw-r--r--  1 jananiravi  staff    18493 Sep 17 10:08 demo22_ImportingModules.ipynb\\\\\\\\r\\\\\\\\n\\\",\\\\ndemo23_CommandLineProcessesAndEnvironmentVariables.ipynb:       \\\" \\\\'demo22_ImportingModules.ipynb\\\\',\\\\\\\\n\\\",\\\\n'\"\n",
      "grep: venv: Is a directory\n"
     ]
    }
   ],
   "source": [
    "!grep -e \"Modules\" *"
   ]
  },
  {
   "cell_type": "code",
   "execution_count": 13,
   "metadata": {},
   "outputs": [
    {
     "output_type": "stream",
     "name": "stdout",
     "text": [
      "grep: venv: Is a directory\n"
     ]
    }
   ],
   "source": [
    "!grep -e \"Modules\" * > modules.txt"
   ]
  },
  {
   "cell_type": "code",
   "execution_count": 14,
   "metadata": {},
   "outputs": [
    {
     "output_type": "stream",
     "name": "stdout",
     "text": [
      "basic_analysis.ipynb\ndemo06_BuiltInFunctions.ipynb\ndemo07_Lists.ipynb\ndemo08_Tuples.ipynb\ndemo09_Dictionaries.ipynb\ndemo10_Sets.ipynb\ndemo11_IfElseAndElifStatements.ipynb\ndemo12_ForLoops.ipynb\ndemo14_BreakContinueAndPass.ipynb\ndemo15_ListComprehension.ipynb\ndemo16_FunctionsInputArgumentsAndReturnValues.ipynb\ndemo17_GlobalVariablesLocalVariables.ipynb\ndemo18_ArgumentReassignmentVsModification.ipynb\ndemo19_KeywordArgumentsDefaultValues.ipynb\ndemo20_FirstClassFunctions.ipynb\ndemo21_Lambdas.ipynb\ndemo22_ImportingModules.ipynb\ndemo23_CommandLineProcessesAndEnvironmentVariables.ipynb\nimport_propietary_formats.py\nimport_using_csv.py\nimport_using_json.py\nimport_using_numpy.py\nimport_using_xml.py\nimport_xls.py\njoin_set_union.py\nloans.py\nmodules.txt\nmultidimensional_lists.py\npandas_basic.py\nread_file.py\nvenv\nvirtual_env.py\n"
     ]
    }
   ],
   "source": [
    "!ls"
   ]
  },
  {
   "cell_type": "code",
   "execution_count": 15,
   "metadata": {},
   "outputs": [
    {
     "output_type": "stream",
     "name": "stdout",
     "text": [
      "demo23_CommandLineProcessesAndEnvironmentVariables.ipynb:      \"demo22_ImportingModules.ipynb\\r\\n\",\ndemo23_CommandLineProcessesAndEnvironmentVariables.ipynb:      \"-rw-r--r--  1 jananiravi  staff    18493 Sep 17 10:08 demo22_ImportingModules.ipynb\\r\\n\",\ndemo23_CommandLineProcessesAndEnvironmentVariables.ipynb:       \" 'demo22_ImportingModules.ipynb',\\n\",\ndemo23_CommandLineProcessesAndEnvironmentVariables.ipynb:      \"demo23_CommandLineProcessesAndEnvironmentVariables.ipynb:      \\\"demo22_ImportingModules.ipynb\\\\r\\\\n\\\",\\r\\n\",\ndemo23_CommandLineProcessesAndEnvironmentVariables.ipynb:      \"demo23_CommandLineProcessesAndEnvironmentVariables.ipynb:      \\\"-rw-r--r--  1 jananiravi  staff    18493 Sep 17 10:08 demo22_ImportingModules.ipynb\\\\r\\\\n\\\",\\r\\n\",\ndemo23_CommandLineProcessesAndEnvironmentVariables.ipynb:      \"demo23_CommandLineProcessesAndEnvironmentVariables.ipynb:       \\\" 'demo22_ImportingModules.ipynb',\\\\n\\\",\\r\\n\"\ndemo23_CommandLineProcessesAndEnvironmentVariables.ipynb:    \"!grep -e \\\"Modules\\\" *\"\ndemo23_CommandLineProcessesAndEnvironmentVariables.ipynb:    \"!grep -e \\\"Modules\\\" * > modules.txt\"\ndemo23_CommandLineProcessesAndEnvironmentVariables.ipynb:      \"demo22_ImportingModules.ipynb\\r\\n\",\ndemo23_CommandLineProcessesAndEnvironmentVariables.ipynb:      \"demo23_CommandLineProcessesAndEnvironmentVariables.ipynb:      \\\"demo22_ImportingModules.ipynb\\\\r\\\\n\\\",\\r\\n\",\ndemo23_CommandLineProcessesAndEnvironmentVariables.ipynb:      \"demo23_CommandLineProcessesAndEnvironmentVariables.ipynb:      \\\"-rw-r--r--  1 jananiravi  staff    18493 Sep 17 10:08 demo22_ImportingModules.ipynb\\\\r\\\\n\\\",\\r\\n\",\ndemo23_CommandLineProcessesAndEnvironmentVariables.ipynb:      \"demo23_CommandLineProcessesAndEnvironmentVariables.ipynb:       \\\" 'demo22_ImportingModules.ipynb',\\\\n\\\",\\r\\n\"\ndemo23_CommandLineProcessesAndEnvironmentVariables.ipynb:      \"b'*Demo10_CompareValuesWithComparisonOperatorsAndAnalyzingDataWithLogicalOperators.ipynb\\\\n*demo15_WhileLoops-Copy1.ipynb\\\\nDemo22_Files.ipynb\\\\ndemo01_SimpleExpressions.ipynb\\\\ndemo02_LogicalOperations.ipynb\\\\ndemo03_Variables.ipynb\\\\ndemo04_BasicTypesInPython.ipynb\\\\ndemo05_Strings.ipynb\\\\ndemo06_BuiltInFunctions.ipynb\\\\ndemo07_Lists.ipynb\\\\ndemo08_Tuples.ipynb\\\\ndemo09_Dictionaries.ipynb\\\\ndemo10_Sets.ipynb\\\\ndemo11_IfElseAndElifStatements.ipynb\\\\ndemo12_ForLoops.ipynb\\\\ndemo13_WhileLoops.ipynb\\\\ndemo14_BreakContinueAndPass.ipynb\\\\ndemo15_ListComprehension.ipynb\\\\ndemo16_FunctionsInputArgumentsAndReturnValues.ipynb\\\\ndemo17_GlobalVariablesLocalVariables.ipynb\\\\ndemo18_ArgumentReassignmentVsModification.ipynb\\\\ndemo19_KeywordArgumentsDefaultValues.ipynb\\\\ndemo20_FirstClassFunctions.ipynb\\\\ndemo21_Lambdas.ipynb\\\\ndemo22_ImportingModules.ipynb\\\\ndemo23_CommandLineProcessesAndEnvironmentVariables.ipynb\\\\nmodules.txt\\\\n'\\n\"\ndemo23_CommandLineProcessesAndEnvironmentVariables.ipynb:       \"b'demo23_CommandLineProcessesAndEnvironmentVariables.ipynb:      \\\"demo22_ImportingModules.ipynb\\\\\\\\r\\\\\\\\n\\\",\\\\ndemo23_CommandLineProcessesAndEnvironmentVariables.ipynb:      \\\"-rw-r--r--  1 jananiravi  staff    18493 Sep 17 10:08 demo22_ImportingModules.ipynb\\\\\\\\r\\\\\\\\n\\\",\\\\ndemo23_CommandLineProcessesAndEnvironmentVariables.ipynb:       \\\" \\\\'demo22_ImportingModules.ipynb\\\\',\\\\\\\\n\\\",\\\\n'\"\n"
     ]
    }
   ],
   "source": [
    "!cat modules.txt"
   ]
  },
  {
   "cell_type": "code",
   "execution_count": 16,
   "metadata": {},
   "outputs": [],
   "source": [
    "import subprocess"
   ]
  },
  {
   "cell_type": "code",
   "execution_count": 17,
   "metadata": {},
   "outputs": [
    {
     "output_type": "execute_result",
     "data": {
      "text/plain": [
       "0"
      ]
     },
     "metadata": {},
     "execution_count": 17
    }
   ],
   "source": [
    "subprocess.call([\"ls\", \"-l\"])"
   ]
  },
  {
   "cell_type": "code",
   "execution_count": 18,
   "metadata": {},
   "outputs": [
    {
     "output_type": "stream",
     "name": "stdout",
     "text": [
      "b'basic_analysis.ipynb\\ndemo06_BuiltInFunctions.ipynb\\ndemo07_Lists.ipynb\\ndemo08_Tuples.ipynb\\ndemo09_Dictionaries.ipynb\\ndemo10_Sets.ipynb\\ndemo11_IfElseAndElifStatements.ipynb\\ndemo12_ForLoops.ipynb\\ndemo14_BreakContinueAndPass.ipynb\\ndemo15_ListComprehension.ipynb\\ndemo16_FunctionsInputArgumentsAndReturnValues.ipynb\\ndemo17_GlobalVariablesLocalVariables.ipynb\\ndemo18_ArgumentReassignmentVsModification.ipynb\\ndemo19_KeywordArgumentsDefaultValues.ipynb\\ndemo20_FirstClassFunctions.ipynb\\ndemo21_Lambdas.ipynb\\ndemo22_ImportingModules.ipynb\\ndemo23_CommandLineProcessesAndEnvironmentVariables.ipynb\\nimport_propietary_formats.py\\nimport_using_csv.py\\nimport_using_json.py\\nimport_using_numpy.py\\nimport_using_xml.py\\nimport_xls.py\\njoin_set_union.py\\nloans.py\\nmodules.txt\\nmultidimensional_lists.py\\npandas_basic.py\\nread_file.py\\nvenv\\nvirtual_env.py\\n'\n"
     ]
    }
   ],
   "source": [
    "output = subprocess.check_output(['ls', '-1'])\n",
    "\n",
    "print(output)"
   ]
  },
  {
   "cell_type": "code",
   "execution_count": 19,
   "metadata": {},
   "outputs": [],
   "source": [
    "from subprocess import Popen, PIPE"
   ]
  },
  {
   "cell_type": "code",
   "execution_count": 20,
   "metadata": {},
   "outputs": [],
   "source": [
    "process = Popen(['cat', 'modules.txt'], stdout=PIPE, stderr=PIPE)"
   ]
  },
  {
   "cell_type": "code",
   "execution_count": 21,
   "metadata": {},
   "outputs": [],
   "source": [
    "stdout, stderr = process.communicate()"
   ]
  },
  {
   "cell_type": "code",
   "execution_count": 22,
   "metadata": {},
   "outputs": [
    {
     "output_type": "execute_result",
     "data": {
      "text/plain": [
       "b'demo23_CommandLineProcessesAndEnvironmentVariables.ipynb:      \"demo22_ImportingModules.ipynb\\\\r\\\\n\",\\ndemo23_CommandLineProcessesAndEnvironmentVariables.ipynb:      \"-rw-r--r--  1 jananiravi  staff    18493 Sep 17 10:08 demo22_ImportingModules.ipynb\\\\r\\\\n\",\\ndemo23_CommandLineProcessesAndEnvironmentVariables.ipynb:       \" \\'demo22_ImportingModules.ipynb\\',\\\\n\",\\ndemo23_CommandLineProcessesAndEnvironmentVariables.ipynb:      \"demo23_CommandLineProcessesAndEnvironmentVariables.ipynb:      \\\\\"demo22_ImportingModules.ipynb\\\\\\\\r\\\\\\\\n\\\\\",\\\\r\\\\n\",\\ndemo23_CommandLineProcessesAndEnvironmentVariables.ipynb:      \"demo23_CommandLineProcessesAndEnvironmentVariables.ipynb:      \\\\\"-rw-r--r--  1 jananiravi  staff    18493 Sep 17 10:08 demo22_ImportingModules.ipynb\\\\\\\\r\\\\\\\\n\\\\\",\\\\r\\\\n\",\\ndemo23_CommandLineProcessesAndEnvironmentVariables.ipynb:      \"demo23_CommandLineProcessesAndEnvironmentVariables.ipynb:       \\\\\" \\'demo22_ImportingModules.ipynb\\',\\\\\\\\n\\\\\",\\\\r\\\\n\"\\ndemo23_CommandLineProcessesAndEnvironmentVariables.ipynb:    \"!grep -e \\\\\"Modules\\\\\" *\"\\ndemo23_CommandLineProcessesAndEnvironmentVariables.ipynb:    \"!grep -e \\\\\"Modules\\\\\" * > modules.txt\"\\ndemo23_CommandLineProcessesAndEnvironmentVariables.ipynb:      \"demo22_ImportingModules.ipynb\\\\r\\\\n\",\\ndemo23_CommandLineProcessesAndEnvironmentVariables.ipynb:      \"demo23_CommandLineProcessesAndEnvironmentVariables.ipynb:      \\\\\"demo22_ImportingModules.ipynb\\\\\\\\r\\\\\\\\n\\\\\",\\\\r\\\\n\",\\ndemo23_CommandLineProcessesAndEnvironmentVariables.ipynb:      \"demo23_CommandLineProcessesAndEnvironmentVariables.ipynb:      \\\\\"-rw-r--r--  1 jananiravi  staff    18493 Sep 17 10:08 demo22_ImportingModules.ipynb\\\\\\\\r\\\\\\\\n\\\\\",\\\\r\\\\n\",\\ndemo23_CommandLineProcessesAndEnvironmentVariables.ipynb:      \"demo23_CommandLineProcessesAndEnvironmentVariables.ipynb:       \\\\\" \\'demo22_ImportingModules.ipynb\\',\\\\\\\\n\\\\\",\\\\r\\\\n\"\\ndemo23_CommandLineProcessesAndEnvironmentVariables.ipynb:      \"b\\'*Demo10_CompareValuesWithComparisonOperatorsAndAnalyzingDataWithLogicalOperators.ipynb\\\\\\\\n*demo15_WhileLoops-Copy1.ipynb\\\\\\\\nDemo22_Files.ipynb\\\\\\\\ndemo01_SimpleExpressions.ipynb\\\\\\\\ndemo02_LogicalOperations.ipynb\\\\\\\\ndemo03_Variables.ipynb\\\\\\\\ndemo04_BasicTypesInPython.ipynb\\\\\\\\ndemo05_Strings.ipynb\\\\\\\\ndemo06_BuiltInFunctions.ipynb\\\\\\\\ndemo07_Lists.ipynb\\\\\\\\ndemo08_Tuples.ipynb\\\\\\\\ndemo09_Dictionaries.ipynb\\\\\\\\ndemo10_Sets.ipynb\\\\\\\\ndemo11_IfElseAndElifStatements.ipynb\\\\\\\\ndemo12_ForLoops.ipynb\\\\\\\\ndemo13_WhileLoops.ipynb\\\\\\\\ndemo14_BreakContinueAndPass.ipynb\\\\\\\\ndemo15_ListComprehension.ipynb\\\\\\\\ndemo16_FunctionsInputArgumentsAndReturnValues.ipynb\\\\\\\\ndemo17_GlobalVariablesLocalVariables.ipynb\\\\\\\\ndemo18_ArgumentReassignmentVsModification.ipynb\\\\\\\\ndemo19_KeywordArgumentsDefaultValues.ipynb\\\\\\\\ndemo20_FirstClassFunctions.ipynb\\\\\\\\ndemo21_Lambdas.ipynb\\\\\\\\ndemo22_ImportingModules.ipynb\\\\\\\\ndemo23_CommandLineProcessesAndEnvironmentVariables.ipynb\\\\\\\\nmodules.txt\\\\\\\\n\\'\\\\n\"\\ndemo23_CommandLineProcessesAndEnvironmentVariables.ipynb:       \"b\\'demo23_CommandLineProcessesAndEnvironmentVariables.ipynb:      \\\\\"demo22_ImportingModules.ipynb\\\\\\\\\\\\\\\\r\\\\\\\\\\\\\\\\n\\\\\",\\\\\\\\ndemo23_CommandLineProcessesAndEnvironmentVariables.ipynb:      \\\\\"-rw-r--r--  1 jananiravi  staff    18493 Sep 17 10:08 demo22_ImportingModules.ipynb\\\\\\\\\\\\\\\\r\\\\\\\\\\\\\\\\n\\\\\",\\\\\\\\ndemo23_CommandLineProcessesAndEnvironmentVariables.ipynb:       \\\\\" \\\\\\\\\\'demo22_ImportingModules.ipynb\\\\\\\\\\',\\\\\\\\\\\\\\\\n\\\\\",\\\\\\\\n\\'\"\\n'"
      ]
     },
     "metadata": {},
     "execution_count": 22
    }
   ],
   "source": [
    "stdout"
   ]
  },
  {
   "cell_type": "code",
   "execution_count": 23,
   "metadata": {},
   "outputs": [
    {
     "output_type": "execute_result",
     "data": {
      "text/plain": [
       "b''"
      ]
     },
     "metadata": {},
     "execution_count": 23
    }
   ],
   "source": [
    "stderr"
   ]
  },
  {
   "cell_type": "code",
   "execution_count": 24,
   "metadata": {},
   "outputs": [],
   "source": [
    "process = Popen(['cat', 'notpresent.txt'], stdout=PIPE, stderr=PIPE)\n",
    "\n",
    "stdout, stderr = process.communicate()"
   ]
  },
  {
   "cell_type": "code",
   "execution_count": 25,
   "metadata": {},
   "outputs": [
    {
     "output_type": "execute_result",
     "data": {
      "text/plain": [
       "b''"
      ]
     },
     "metadata": {},
     "execution_count": 25
    }
   ],
   "source": [
    "stdout"
   ]
  },
  {
   "cell_type": "code",
   "execution_count": 26,
   "metadata": {},
   "outputs": [
    {
     "output_type": "execute_result",
     "data": {
      "text/plain": [
       "b'cat: notpresent.txt: No such file or directory\\n'"
      ]
     },
     "metadata": {},
     "execution_count": 26
    }
   ],
   "source": [
    "stderr"
   ]
  },
  {
   "cell_type": "code",
   "execution_count": null,
   "metadata": {},
   "outputs": [],
   "source": []
  },
  {
   "cell_type": "code",
   "execution_count": null,
   "metadata": {},
   "outputs": [],
   "source": []
  }
 ],
 "metadata": {
  "kernelspec": {
   "name": "python385jvsc74a57bd019ef3a6396c46c7428efca1f5cbb7ae9e01db714ef36b5b8c4522c5b6ecb4d4b",
   "display_name": "Python 3.8.5 64-bit ('base': conda)"
  },
  "language_info": {
   "codemirror_mode": {
    "name": "ipython",
    "version": 3
   },
   "file_extension": ".py",
   "mimetype": "text/x-python",
   "name": "python",
   "nbconvert_exporter": "python",
   "pygments_lexer": "ipython3",
   "version": "3.8.5"
  }
 },
 "nbformat": 4,
 "nbformat_minor": 2
}