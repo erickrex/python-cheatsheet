{
 "metadata": {
  "language_info": {
   "codemirror_mode": {
    "name": "ipython",
    "version": 3
   },
   "file_extension": ".py",
   "mimetype": "text/x-python",
   "name": "python",
   "nbconvert_exporter": "python",
   "pygments_lexer": "ipython3",
   "version": "3.8.5"
  },
  "orig_nbformat": 2,
  "kernelspec": {
   "name": "python385jvsc74a57bd019ef3a6396c46c7428efca1f5cbb7ae9e01db714ef36b5b8c4522c5b6ecb4d4b",
   "display_name": "Python 3.8.5 64-bit ('base': conda)"
  }
 },
 "nbformat": 4,
 "nbformat_minor": 2,
 "cells": [
  {
   "cell_type": "code",
   "execution_count": 1,
   "metadata": {},
   "outputs": [],
   "source": [
    "import pandas as pd\r\n",
    "import os"
   ]
  },
  {
   "cell_type": "code",
   "execution_count": 2,
   "metadata": {},
   "outputs": [],
   "source": [
    "# Let's load the data for the first time\n",
    "df = pd.read_pickle(os.path.join('..', 'data_frame.pickle'))"
   ]
  },
  {
   "cell_type": "code",
   "execution_count": 3,
   "metadata": {},
   "outputs": [
    {
     "output_type": "execute_result",
     "data": {
      "text/plain": [
       "                    artist                                              title  \\\n",
       "id                                                                              \n",
       "1035         Blake, Robert  A Figure Bowing before a Seated Old Man with h...   \n",
       "1036         Blake, Robert  Two Drawings of Frightened Figures, Probably f...   \n",
       "1037         Blake, Robert  The Preaching of Warning. Verso: An Old Man En...   \n",
       "1038         Blake, Robert     Six Drawings of Figures with Outstretched Arms   \n",
       "1039        Blake, William  The Circle of the Lustful: Francesca da Rimini...   \n",
       "...                    ...                                                ...   \n",
       "122960  P-Orridge, Genesis                        Larvae (from Tampax Romana)   \n",
       "122961  P-Orridge, Genesis                   Living Womb (from Tampax Romana)   \n",
       "121181        Hatoum, Mona                                      Present Tense   \n",
       "112306       Creed, Martin          Work No. 227: The lights going on and off   \n",
       "127035   Brunias, Agostino                   Dancing Scene in the West Indies   \n",
       "\n",
       "                                                   medium  year  \\\n",
       "id                                                                \n",
       "1035    Watercolour, ink, chalk and graphite on paper....   NaN   \n",
       "1036                                    Graphite on paper   NaN   \n",
       "1037          Graphite on paper. Verso: graphite on paper  1785   \n",
       "1038                                    Graphite on paper   NaN   \n",
       "1039                              Line engraving on paper  1826   \n",
       "...                                                   ...   ...   \n",
       "122960   Perspex, Wood, hairpiece, tampon and human blood  1975   \n",
       "122961  Wood, Perspex, plastic, photograph on paper, t...  1976   \n",
       "121181                               Soap and glass beads  1996   \n",
       "112306                                   Gallery lighting  2000   \n",
       "127035                                Oil paint on canvas  1764   \n",
       "\n",
       "        acquisitionYear width height units  \n",
       "id                                          \n",
       "1035             1922.0   394    419    mm  \n",
       "1036             1922.0   311    213    mm  \n",
       "1037             1922.0   343    467    mm  \n",
       "1038             1922.0   318    394    mm  \n",
       "1039             1919.0   243    335    mm  \n",
       "...                 ...   ...    ...   ...  \n",
       "122960           2013.0   305    305    mm  \n",
       "122961           2013.0   305    305    mm  \n",
       "121181           2013.0    45   2410    mm  \n",
       "112306           2013.0   NaN    NaN   NaN  \n",
       "127035           2013.0   508    660    mm  \n",
       "\n",
       "[69201 rows x 8 columns]"
      ],
      "text/html": "<div>\n<style scoped>\n    .dataframe tbody tr th:only-of-type {\n        vertical-align: middle;\n    }\n\n    .dataframe tbody tr th {\n        vertical-align: top;\n    }\n\n    .dataframe thead th {\n        text-align: right;\n    }\n</style>\n<table border=\"1\" class=\"dataframe\">\n  <thead>\n    <tr style=\"text-align: right;\">\n      <th></th>\n      <th>artist</th>\n      <th>title</th>\n      <th>medium</th>\n      <th>year</th>\n      <th>acquisitionYear</th>\n      <th>width</th>\n      <th>height</th>\n      <th>units</th>\n    </tr>\n    <tr>\n      <th>id</th>\n      <th></th>\n      <th></th>\n      <th></th>\n      <th></th>\n      <th></th>\n      <th></th>\n      <th></th>\n      <th></th>\n    </tr>\n  </thead>\n  <tbody>\n    <tr>\n      <th>1035</th>\n      <td>Blake, Robert</td>\n      <td>A Figure Bowing before a Seated Old Man with h...</td>\n      <td>Watercolour, ink, chalk and graphite on paper....</td>\n      <td>NaN</td>\n      <td>1922.0</td>\n      <td>394</td>\n      <td>419</td>\n      <td>mm</td>\n    </tr>\n    <tr>\n      <th>1036</th>\n      <td>Blake, Robert</td>\n      <td>Two Drawings of Frightened Figures, Probably f...</td>\n      <td>Graphite on paper</td>\n      <td>NaN</td>\n      <td>1922.0</td>\n      <td>311</td>\n      <td>213</td>\n      <td>mm</td>\n    </tr>\n    <tr>\n      <th>1037</th>\n      <td>Blake, Robert</td>\n      <td>The Preaching of Warning. Verso: An Old Man En...</td>\n      <td>Graphite on paper. Verso: graphite on paper</td>\n      <td>1785</td>\n      <td>1922.0</td>\n      <td>343</td>\n      <td>467</td>\n      <td>mm</td>\n    </tr>\n    <tr>\n      <th>1038</th>\n      <td>Blake, Robert</td>\n      <td>Six Drawings of Figures with Outstretched Arms</td>\n      <td>Graphite on paper</td>\n      <td>NaN</td>\n      <td>1922.0</td>\n      <td>318</td>\n      <td>394</td>\n      <td>mm</td>\n    </tr>\n    <tr>\n      <th>1039</th>\n      <td>Blake, William</td>\n      <td>The Circle of the Lustful: Francesca da Rimini...</td>\n      <td>Line engraving on paper</td>\n      <td>1826</td>\n      <td>1919.0</td>\n      <td>243</td>\n      <td>335</td>\n      <td>mm</td>\n    </tr>\n    <tr>\n      <th>...</th>\n      <td>...</td>\n      <td>...</td>\n      <td>...</td>\n      <td>...</td>\n      <td>...</td>\n      <td>...</td>\n      <td>...</td>\n      <td>...</td>\n    </tr>\n    <tr>\n      <th>122960</th>\n      <td>P-Orridge, Genesis</td>\n      <td>Larvae (from Tampax Romana)</td>\n      <td>Perspex, Wood, hairpiece, tampon and human blood</td>\n      <td>1975</td>\n      <td>2013.0</td>\n      <td>305</td>\n      <td>305</td>\n      <td>mm</td>\n    </tr>\n    <tr>\n      <th>122961</th>\n      <td>P-Orridge, Genesis</td>\n      <td>Living Womb (from Tampax Romana)</td>\n      <td>Wood, Perspex, plastic, photograph on paper, t...</td>\n      <td>1976</td>\n      <td>2013.0</td>\n      <td>305</td>\n      <td>305</td>\n      <td>mm</td>\n    </tr>\n    <tr>\n      <th>121181</th>\n      <td>Hatoum, Mona</td>\n      <td>Present Tense</td>\n      <td>Soap and glass beads</td>\n      <td>1996</td>\n      <td>2013.0</td>\n      <td>45</td>\n      <td>2410</td>\n      <td>mm</td>\n    </tr>\n    <tr>\n      <th>112306</th>\n      <td>Creed, Martin</td>\n      <td>Work No. 227: The lights going on and off</td>\n      <td>Gallery lighting</td>\n      <td>2000</td>\n      <td>2013.0</td>\n      <td>NaN</td>\n      <td>NaN</td>\n      <td>NaN</td>\n    </tr>\n    <tr>\n      <th>127035</th>\n      <td>Brunias, Agostino</td>\n      <td>Dancing Scene in the West Indies</td>\n      <td>Oil paint on canvas</td>\n      <td>1764</td>\n      <td>2013.0</td>\n      <td>508</td>\n      <td>660</td>\n      <td>mm</td>\n    </tr>\n  </tbody>\n</table>\n<p>69201 rows × 8 columns</p>\n</div>"
     },
     "metadata": {},
     "execution_count": 3
    }
   ],
   "source": [
    "df"
   ]
  },
  {
   "cell_type": "code",
   "execution_count": 5,
   "metadata": {},
   "outputs": [
    {
     "output_type": "execute_result",
     "data": {
      "text/plain": [
       "3336"
      ]
     },
     "metadata": {},
     "execution_count": 5
    }
   ],
   "source": [
    "artists = df['artist']\n",
    "pd.unique(artists)\n",
    "len(pd.unique(artists))"
   ]
  },
  {
   "cell_type": "code",
   "execution_count": 8,
   "metadata": {},
   "outputs": [
    {
     "output_type": "execute_result",
     "data": {
      "text/plain": [
       "False    69151\n",
       "True        50\n",
       "Name: artist, dtype: int64"
      ]
     },
     "metadata": {},
     "execution_count": 8
    }
   ],
   "source": [
    "#one approach to filtering\n",
    "s = df['artist'] == 'Bacon, Francis'\n",
    "s.value_counts()\n"
   ]
  },
  {
   "cell_type": "code",
   "execution_count": 12,
   "metadata": {},
   "outputs": [
    {
     "output_type": "execute_result",
     "data": {
      "text/plain": [
       "50"
      ]
     },
     "metadata": {},
     "execution_count": 12
    }
   ],
   "source": [
    "#another approach to filtering\n",
    "artist_counts = df['artist'].value_counts()\n",
    "artist_counts['Bacon, Francis']"
   ]
  },
  {
   "cell_type": "code",
   "execution_count": 14,
   "metadata": {},
   "outputs": [
    {
     "output_type": "execute_result",
     "data": {
      "text/plain": [
       "'Blake, Robert'"
      ]
     },
     "metadata": {},
     "execution_count": 14
    }
   ],
   "source": [
    "df.loc[1035, 'artist']\n"
   ]
  },
  {
   "cell_type": "code",
   "execution_count": 15,
   "metadata": {},
   "outputs": [
    {
     "output_type": "execute_result",
     "data": {
      "text/plain": [
       "               artist                                              title  \\\n",
       "id                                                                         \n",
       "672    Bacon, Francis                              Figure in a Landscape   \n",
       "673    Bacon, Francis                                     Study of a Dog   \n",
       "674    Bacon, Francis  Three Studies for Figures at the Base of a Cru...   \n",
       "677    Bacon, Francis                Study for a Portrait of Van Gogh IV   \n",
       "678    Bacon, Francis                                    Reclining Woman   \n",
       "679    Bacon, Francis                                      Seated Figure   \n",
       "680    Bacon, Francis                  Study for Portrait on Folding Bed   \n",
       "681    Bacon, Francis                      Portrait of Isabel Rawsthorne   \n",
       "682    Bacon, Francis                         Three Figures and Portrait   \n",
       "683    Bacon, Francis  Study for Portrait II (after the Life Mask of ...   \n",
       "684    Bacon, Francis                             Triptych - August 1972   \n",
       "19509  Bacon, Francis                    Second Version of Triptych 1944   \n",
       "26004  Bacon, Francis                              Figure in a Landscape   \n",
       "26003  Bacon, Francis                                     Turning Figure   \n",
       "26001  Bacon, Francis                            Reclining Figure, No. 1   \n",
       "26002  Bacon, Francis                            Reclining Figure, No. 2   \n",
       "26025  Bacon, Francis                                    Two Owls, No. 1   \n",
       "26060  Bacon, Francis                              Figure in a Framework   \n",
       "26059  Bacon, Francis                                   Collapsed Figure   \n",
       "26026  Bacon, Francis                            Figure Bending Forwards   \n",
       "26058  Bacon, Francis                                    Two Owls, No. 2   \n",
       "26057  Bacon, Francis                                     Falling Figure   \n",
       "26055  Bacon, Francis                 Figure with Left Arm Raised, No. 1   \n",
       "26056  Bacon, Francis                 Figure with Left Arm Raised, No. 2   \n",
       "26054  Bacon, Francis                         Figure with Arms Swung Out   \n",
       "26053  Bacon, Francis                                      Seated Figure   \n",
       "26052  Bacon, Francis                                  Figure Lying Flat   \n",
       "26051  Bacon, Francis                            Figure in Grey Interior   \n",
       "26050  Bacon, Francis                                    Standing Figure   \n",
       "26049  Bacon, Francis                           Figure with Foot in Hand   \n",
       "26048  Bacon, Francis                                      Fallen Figure   \n",
       "26047  Bacon, Francis                         Fallen Figure with Arms Up   \n",
       "26046  Bacon, Francis                              Bending Figure, No. 1   \n",
       "26045  Bacon, Francis                                    Figure Crawling   \n",
       "26044  Bacon, Francis                                               Head   \n",
       "26043  Bacon, Francis                                Figure Lying, No. 1   \n",
       "26042  Bacon, Francis                                Figure Lying, No. 2   \n",
       "26041  Bacon, Francis                        Blue Crawling Figure, No. 1   \n",
       "26040  Bacon, Francis                        Blue Crawling Figure, No. 2   \n",
       "26039  Bacon, Francis                               Pink Crawling Figure   \n",
       "26038  Bacon, Francis                              Bending Figure, No. 2   \n",
       "26037  Bacon, Francis                                        Composition   \n",
       "26036  Bacon, Francis                                       Man on a Bed   \n",
       "26035  Bacon, Francis                                      Man on a Sofa   \n",
       "26034  Bacon, Francis                                       Nude Reading   \n",
       "26033  Bacon, Francis        Cross-legged Figure with Arms Raised, No. 1   \n",
       "26032  Bacon, Francis        Cross-legged Figure with Arms Raised, No. 2   \n",
       "26031  Bacon, Francis                                       Seated Woman   \n",
       "21897  Bacon, Francis                                Figures in a Garden   \n",
       "111    Bacon, Francis                               Study for a Portrait   \n",
       "\n",
       "                                          medium  year  acquisitionYear width  \\\n",
       "id                                                                              \n",
       "672                          Oil paint on canvas  1945           1950.0  1448   \n",
       "673                          Oil paint on canvas  1952           1952.0  1981   \n",
       "674                        Oil paint on 3 boards  1944           1953.0   NaN   \n",
       "677                          Oil paint on canvas  1957           1958.0  1524   \n",
       "678                          Oil paint on canvas  1961           1961.0  1988   \n",
       "679                          Oil paint on canvas  1961           1961.0  1651   \n",
       "680                          Oil paint on canvas  1963           1963.0  1981   \n",
       "681                          Oil paint on canvas  1966           1966.0   813   \n",
       "682               Oil paint and pastel on canvas  1975           1977.0  1981   \n",
       "683                          Oil paint on canvas  1955           1979.0   610   \n",
       "684                      Oil paint on 3 canvases  1972           1980.0   NaN   \n",
       "19509  Oil paint and acrylic paint on 3 canvases  1988           1991.0   NaN   \n",
       "26004                         Oil paint on paper  1952           1998.0   339   \n",
       "26003            Graphite and oil paint on paper  1959           1998.0   339   \n",
       "26001                 Oil paint and ink on paper  1961           1998.0   238   \n",
       "26002                 Oil paint and ink on paper  1961           1998.0   222   \n",
       "26025            Graphite and oil paint on paper  1957           1998.0   270   \n",
       "26060            Graphite and oil paint on paper  1957           1998.0   340   \n",
       "26059                         Oil paint on paper  1957           1998.0   340   \n",
       "26026                         Oil paint on paper  1957           1998.0   340   \n",
       "26058                         Oil paint on paper  1957           1998.0   340   \n",
       "26057            Graphite and oil paint on paper  1957           1998.0   340   \n",
       "26055                         Oil paint on paper  1957           1998.0   340   \n",
       "26056                         Oil paint on paper  1957           1998.0   340   \n",
       "26054                         Oil paint on paper  1957           1998.0   340   \n",
       "26053                          Graphite on paper  1957           1998.0   340   \n",
       "26052            Graphite and oil paint on paper  1957           1998.0   340   \n",
       "26051            Graphite and oil paint on paper  1957           1998.0   340   \n",
       "26050                               Ink on paper  1957           1998.0   340   \n",
       "26049                 Oil paint and ink on paper  1957           1998.0   270   \n",
       "26048                         Oil paint on paper  1957           1998.0   340   \n",
       "26047                         Oil paint on paper  1957           1998.0   340   \n",
       "26046                         Oil paint on paper  1957           1998.0   340   \n",
       "26045                         Oil paint on paper  1957           1998.0   340   \n",
       "26044                         Oil paint on paper  1957           1998.0   340   \n",
       "26043                         Oil paint on paper  1957           1998.0   340   \n",
       "26042                         Oil paint on paper  1957           1998.0   340   \n",
       "26041                         Oil paint on paper  1957           1998.0   340   \n",
       "26040                         Oil paint on paper  1957           1998.0   340   \n",
       "26039                 Oil paint and ink on paper  1957           1998.0   340   \n",
       "26038                 Ink and oil paint on paper  1957           1998.0   340   \n",
       "26037                         Oil paint on paper  1957           1998.0   340   \n",
       "26036                          Graphite on paper  1957           1998.0   254   \n",
       "26035                         Oil paint on paper  1957           1998.0   254   \n",
       "26034            Graphite and oil paint on paper  1957           1998.0   254   \n",
       "26033                          Graphite on paper  1957           1998.0   254   \n",
       "26032                         Oil paint on paper  1957           1998.0   254   \n",
       "26031                          Graphite on paper  1957           1998.0   254   \n",
       "21897                        Oil paint on canvas  1936           2008.0   740   \n",
       "111                 Oil paint and sand on canvas  1952           2008.0   661   \n",
       "\n",
       "      height units  \n",
       "id                  \n",
       "672     1283    mm  \n",
       "673     1372    mm  \n",
       "674      NaN   NaN  \n",
       "677     1168    mm  \n",
       "678     1416    mm  \n",
       "679     1422    mm  \n",
       "680     1473    mm  \n",
       "681      686    mm  \n",
       "682     1473    mm  \n",
       "683      508    mm  \n",
       "684      NaN   NaN  \n",
       "19509    NaN   NaN  \n",
       "26004    263    mm  \n",
       "26003    263    mm  \n",
       "26001    156    mm  \n",
       "26002    150    mm  \n",
       "26025    340    mm  \n",
       "26060    270    mm  \n",
       "26059    270    mm  \n",
       "26026    270    mm  \n",
       "26058    270    mm  \n",
       "26057    270    mm  \n",
       "26055    270    mm  \n",
       "26056    270    mm  \n",
       "26054    265    mm  \n",
       "26053    270    mm  \n",
       "26052    270    mm  \n",
       "26051    270    mm  \n",
       "26050    270    mm  \n",
       "26049    340    mm  \n",
       "26048    270    mm  \n",
       "26047    270    mm  \n",
       "26046    270    mm  \n",
       "26045    270    mm  \n",
       "26044    270    mm  \n",
       "26043    270    mm  \n",
       "26042    270    mm  \n",
       "26041    270    mm  \n",
       "26040    270    mm  \n",
       "26039    270    mm  \n",
       "26038    270    mm  \n",
       "26037    270    mm  \n",
       "26036    190    mm  \n",
       "26035    190    mm  \n",
       "26034    190    mm  \n",
       "26033    190    mm  \n",
       "26032    190    mm  \n",
       "26031    190    mm  \n",
       "21897    940    mm  \n",
       "111      561    mm  "
      ],
      "text/html": "<div>\n<style scoped>\n    .dataframe tbody tr th:only-of-type {\n        vertical-align: middle;\n    }\n\n    .dataframe tbody tr th {\n        vertical-align: top;\n    }\n\n    .dataframe thead th {\n        text-align: right;\n    }\n</style>\n<table border=\"1\" class=\"dataframe\">\n  <thead>\n    <tr style=\"text-align: right;\">\n      <th></th>\n      <th>artist</th>\n      <th>title</th>\n      <th>medium</th>\n      <th>year</th>\n      <th>acquisitionYear</th>\n      <th>width</th>\n      <th>height</th>\n      <th>units</th>\n    </tr>\n    <tr>\n      <th>id</th>\n      <th></th>\n      <th></th>\n      <th></th>\n      <th></th>\n      <th></th>\n      <th></th>\n      <th></th>\n      <th></th>\n    </tr>\n  </thead>\n  <tbody>\n    <tr>\n      <th>672</th>\n      <td>Bacon, Francis</td>\n      <td>Figure in a Landscape</td>\n      <td>Oil paint on canvas</td>\n      <td>1945</td>\n      <td>1950.0</td>\n      <td>1448</td>\n      <td>1283</td>\n      <td>mm</td>\n    </tr>\n    <tr>\n      <th>673</th>\n      <td>Bacon, Francis</td>\n      <td>Study of a Dog</td>\n      <td>Oil paint on canvas</td>\n      <td>1952</td>\n      <td>1952.0</td>\n      <td>1981</td>\n      <td>1372</td>\n      <td>mm</td>\n    </tr>\n    <tr>\n      <th>674</th>\n      <td>Bacon, Francis</td>\n      <td>Three Studies for Figures at the Base of a Cru...</td>\n      <td>Oil paint on 3 boards</td>\n      <td>1944</td>\n      <td>1953.0</td>\n      <td>NaN</td>\n      <td>NaN</td>\n      <td>NaN</td>\n    </tr>\n    <tr>\n      <th>677</th>\n      <td>Bacon, Francis</td>\n      <td>Study for a Portrait of Van Gogh IV</td>\n      <td>Oil paint on canvas</td>\n      <td>1957</td>\n      <td>1958.0</td>\n      <td>1524</td>\n      <td>1168</td>\n      <td>mm</td>\n    </tr>\n    <tr>\n      <th>678</th>\n      <td>Bacon, Francis</td>\n      <td>Reclining Woman</td>\n      <td>Oil paint on canvas</td>\n      <td>1961</td>\n      <td>1961.0</td>\n      <td>1988</td>\n      <td>1416</td>\n      <td>mm</td>\n    </tr>\n    <tr>\n      <th>679</th>\n      <td>Bacon, Francis</td>\n      <td>Seated Figure</td>\n      <td>Oil paint on canvas</td>\n      <td>1961</td>\n      <td>1961.0</td>\n      <td>1651</td>\n      <td>1422</td>\n      <td>mm</td>\n    </tr>\n    <tr>\n      <th>680</th>\n      <td>Bacon, Francis</td>\n      <td>Study for Portrait on Folding Bed</td>\n      <td>Oil paint on canvas</td>\n      <td>1963</td>\n      <td>1963.0</td>\n      <td>1981</td>\n      <td>1473</td>\n      <td>mm</td>\n    </tr>\n    <tr>\n      <th>681</th>\n      <td>Bacon, Francis</td>\n      <td>Portrait of Isabel Rawsthorne</td>\n      <td>Oil paint on canvas</td>\n      <td>1966</td>\n      <td>1966.0</td>\n      <td>813</td>\n      <td>686</td>\n      <td>mm</td>\n    </tr>\n    <tr>\n      <th>682</th>\n      <td>Bacon, Francis</td>\n      <td>Three Figures and Portrait</td>\n      <td>Oil paint and pastel on canvas</td>\n      <td>1975</td>\n      <td>1977.0</td>\n      <td>1981</td>\n      <td>1473</td>\n      <td>mm</td>\n    </tr>\n    <tr>\n      <th>683</th>\n      <td>Bacon, Francis</td>\n      <td>Study for Portrait II (after the Life Mask of ...</td>\n      <td>Oil paint on canvas</td>\n      <td>1955</td>\n      <td>1979.0</td>\n      <td>610</td>\n      <td>508</td>\n      <td>mm</td>\n    </tr>\n    <tr>\n      <th>684</th>\n      <td>Bacon, Francis</td>\n      <td>Triptych - August 1972</td>\n      <td>Oil paint on 3 canvases</td>\n      <td>1972</td>\n      <td>1980.0</td>\n      <td>NaN</td>\n      <td>NaN</td>\n      <td>NaN</td>\n    </tr>\n    <tr>\n      <th>19509</th>\n      <td>Bacon, Francis</td>\n      <td>Second Version of Triptych 1944</td>\n      <td>Oil paint and acrylic paint on 3 canvases</td>\n      <td>1988</td>\n      <td>1991.0</td>\n      <td>NaN</td>\n      <td>NaN</td>\n      <td>NaN</td>\n    </tr>\n    <tr>\n      <th>26004</th>\n      <td>Bacon, Francis</td>\n      <td>Figure in a Landscape</td>\n      <td>Oil paint on paper</td>\n      <td>1952</td>\n      <td>1998.0</td>\n      <td>339</td>\n      <td>263</td>\n      <td>mm</td>\n    </tr>\n    <tr>\n      <th>26003</th>\n      <td>Bacon, Francis</td>\n      <td>Turning Figure</td>\n      <td>Graphite and oil paint on paper</td>\n      <td>1959</td>\n      <td>1998.0</td>\n      <td>339</td>\n      <td>263</td>\n      <td>mm</td>\n    </tr>\n    <tr>\n      <th>26001</th>\n      <td>Bacon, Francis</td>\n      <td>Reclining Figure, No. 1</td>\n      <td>Oil paint and ink on paper</td>\n      <td>1961</td>\n      <td>1998.0</td>\n      <td>238</td>\n      <td>156</td>\n      <td>mm</td>\n    </tr>\n    <tr>\n      <th>26002</th>\n      <td>Bacon, Francis</td>\n      <td>Reclining Figure, No. 2</td>\n      <td>Oil paint and ink on paper</td>\n      <td>1961</td>\n      <td>1998.0</td>\n      <td>222</td>\n      <td>150</td>\n      <td>mm</td>\n    </tr>\n    <tr>\n      <th>26025</th>\n      <td>Bacon, Francis</td>\n      <td>Two Owls, No. 1</td>\n      <td>Graphite and oil paint on paper</td>\n      <td>1957</td>\n      <td>1998.0</td>\n      <td>270</td>\n      <td>340</td>\n      <td>mm</td>\n    </tr>\n    <tr>\n      <th>26060</th>\n      <td>Bacon, Francis</td>\n      <td>Figure in a Framework</td>\n      <td>Graphite and oil paint on paper</td>\n      <td>1957</td>\n      <td>1998.0</td>\n      <td>340</td>\n      <td>270</td>\n      <td>mm</td>\n    </tr>\n    <tr>\n      <th>26059</th>\n      <td>Bacon, Francis</td>\n      <td>Collapsed Figure</td>\n      <td>Oil paint on paper</td>\n      <td>1957</td>\n      <td>1998.0</td>\n      <td>340</td>\n      <td>270</td>\n      <td>mm</td>\n    </tr>\n    <tr>\n      <th>26026</th>\n      <td>Bacon, Francis</td>\n      <td>Figure Bending Forwards</td>\n      <td>Oil paint on paper</td>\n      <td>1957</td>\n      <td>1998.0</td>\n      <td>340</td>\n      <td>270</td>\n      <td>mm</td>\n    </tr>\n    <tr>\n      <th>26058</th>\n      <td>Bacon, Francis</td>\n      <td>Two Owls, No. 2</td>\n      <td>Oil paint on paper</td>\n      <td>1957</td>\n      <td>1998.0</td>\n      <td>340</td>\n      <td>270</td>\n      <td>mm</td>\n    </tr>\n    <tr>\n      <th>26057</th>\n      <td>Bacon, Francis</td>\n      <td>Falling Figure</td>\n      <td>Graphite and oil paint on paper</td>\n      <td>1957</td>\n      <td>1998.0</td>\n      <td>340</td>\n      <td>270</td>\n      <td>mm</td>\n    </tr>\n    <tr>\n      <th>26055</th>\n      <td>Bacon, Francis</td>\n      <td>Figure with Left Arm Raised, No. 1</td>\n      <td>Oil paint on paper</td>\n      <td>1957</td>\n      <td>1998.0</td>\n      <td>340</td>\n      <td>270</td>\n      <td>mm</td>\n    </tr>\n    <tr>\n      <th>26056</th>\n      <td>Bacon, Francis</td>\n      <td>Figure with Left Arm Raised, No. 2</td>\n      <td>Oil paint on paper</td>\n      <td>1957</td>\n      <td>1998.0</td>\n      <td>340</td>\n      <td>270</td>\n      <td>mm</td>\n    </tr>\n    <tr>\n      <th>26054</th>\n      <td>Bacon, Francis</td>\n      <td>Figure with Arms Swung Out</td>\n      <td>Oil paint on paper</td>\n      <td>1957</td>\n      <td>1998.0</td>\n      <td>340</td>\n      <td>265</td>\n      <td>mm</td>\n    </tr>\n    <tr>\n      <th>26053</th>\n      <td>Bacon, Francis</td>\n      <td>Seated Figure</td>\n      <td>Graphite on paper</td>\n      <td>1957</td>\n      <td>1998.0</td>\n      <td>340</td>\n      <td>270</td>\n      <td>mm</td>\n    </tr>\n    <tr>\n      <th>26052</th>\n      <td>Bacon, Francis</td>\n      <td>Figure Lying Flat</td>\n      <td>Graphite and oil paint on paper</td>\n      <td>1957</td>\n      <td>1998.0</td>\n      <td>340</td>\n      <td>270</td>\n      <td>mm</td>\n    </tr>\n    <tr>\n      <th>26051</th>\n      <td>Bacon, Francis</td>\n      <td>Figure in Grey Interior</td>\n      <td>Graphite and oil paint on paper</td>\n      <td>1957</td>\n      <td>1998.0</td>\n      <td>340</td>\n      <td>270</td>\n      <td>mm</td>\n    </tr>\n    <tr>\n      <th>26050</th>\n      <td>Bacon, Francis</td>\n      <td>Standing Figure</td>\n      <td>Ink on paper</td>\n      <td>1957</td>\n      <td>1998.0</td>\n      <td>340</td>\n      <td>270</td>\n      <td>mm</td>\n    </tr>\n    <tr>\n      <th>26049</th>\n      <td>Bacon, Francis</td>\n      <td>Figure with Foot in Hand</td>\n      <td>Oil paint and ink on paper</td>\n      <td>1957</td>\n      <td>1998.0</td>\n      <td>270</td>\n      <td>340</td>\n      <td>mm</td>\n    </tr>\n    <tr>\n      <th>26048</th>\n      <td>Bacon, Francis</td>\n      <td>Fallen Figure</td>\n      <td>Oil paint on paper</td>\n      <td>1957</td>\n      <td>1998.0</td>\n      <td>340</td>\n      <td>270</td>\n      <td>mm</td>\n    </tr>\n    <tr>\n      <th>26047</th>\n      <td>Bacon, Francis</td>\n      <td>Fallen Figure with Arms Up</td>\n      <td>Oil paint on paper</td>\n      <td>1957</td>\n      <td>1998.0</td>\n      <td>340</td>\n      <td>270</td>\n      <td>mm</td>\n    </tr>\n    <tr>\n      <th>26046</th>\n      <td>Bacon, Francis</td>\n      <td>Bending Figure, No. 1</td>\n      <td>Oil paint on paper</td>\n      <td>1957</td>\n      <td>1998.0</td>\n      <td>340</td>\n      <td>270</td>\n      <td>mm</td>\n    </tr>\n    <tr>\n      <th>26045</th>\n      <td>Bacon, Francis</td>\n      <td>Figure Crawling</td>\n      <td>Oil paint on paper</td>\n      <td>1957</td>\n      <td>1998.0</td>\n      <td>340</td>\n      <td>270</td>\n      <td>mm</td>\n    </tr>\n    <tr>\n      <th>26044</th>\n      <td>Bacon, Francis</td>\n      <td>Head</td>\n      <td>Oil paint on paper</td>\n      <td>1957</td>\n      <td>1998.0</td>\n      <td>340</td>\n      <td>270</td>\n      <td>mm</td>\n    </tr>\n    <tr>\n      <th>26043</th>\n      <td>Bacon, Francis</td>\n      <td>Figure Lying, No. 1</td>\n      <td>Oil paint on paper</td>\n      <td>1957</td>\n      <td>1998.0</td>\n      <td>340</td>\n      <td>270</td>\n      <td>mm</td>\n    </tr>\n    <tr>\n      <th>26042</th>\n      <td>Bacon, Francis</td>\n      <td>Figure Lying, No. 2</td>\n      <td>Oil paint on paper</td>\n      <td>1957</td>\n      <td>1998.0</td>\n      <td>340</td>\n      <td>270</td>\n      <td>mm</td>\n    </tr>\n    <tr>\n      <th>26041</th>\n      <td>Bacon, Francis</td>\n      <td>Blue Crawling Figure, No. 1</td>\n      <td>Oil paint on paper</td>\n      <td>1957</td>\n      <td>1998.0</td>\n      <td>340</td>\n      <td>270</td>\n      <td>mm</td>\n    </tr>\n    <tr>\n      <th>26040</th>\n      <td>Bacon, Francis</td>\n      <td>Blue Crawling Figure, No. 2</td>\n      <td>Oil paint on paper</td>\n      <td>1957</td>\n      <td>1998.0</td>\n      <td>340</td>\n      <td>270</td>\n      <td>mm</td>\n    </tr>\n    <tr>\n      <th>26039</th>\n      <td>Bacon, Francis</td>\n      <td>Pink Crawling Figure</td>\n      <td>Oil paint and ink on paper</td>\n      <td>1957</td>\n      <td>1998.0</td>\n      <td>340</td>\n      <td>270</td>\n      <td>mm</td>\n    </tr>\n    <tr>\n      <th>26038</th>\n      <td>Bacon, Francis</td>\n      <td>Bending Figure, No. 2</td>\n      <td>Ink and oil paint on paper</td>\n      <td>1957</td>\n      <td>1998.0</td>\n      <td>340</td>\n      <td>270</td>\n      <td>mm</td>\n    </tr>\n    <tr>\n      <th>26037</th>\n      <td>Bacon, Francis</td>\n      <td>Composition</td>\n      <td>Oil paint on paper</td>\n      <td>1957</td>\n      <td>1998.0</td>\n      <td>340</td>\n      <td>270</td>\n      <td>mm</td>\n    </tr>\n    <tr>\n      <th>26036</th>\n      <td>Bacon, Francis</td>\n      <td>Man on a Bed</td>\n      <td>Graphite on paper</td>\n      <td>1957</td>\n      <td>1998.0</td>\n      <td>254</td>\n      <td>190</td>\n      <td>mm</td>\n    </tr>\n    <tr>\n      <th>26035</th>\n      <td>Bacon, Francis</td>\n      <td>Man on a Sofa</td>\n      <td>Oil paint on paper</td>\n      <td>1957</td>\n      <td>1998.0</td>\n      <td>254</td>\n      <td>190</td>\n      <td>mm</td>\n    </tr>\n    <tr>\n      <th>26034</th>\n      <td>Bacon, Francis</td>\n      <td>Nude Reading</td>\n      <td>Graphite and oil paint on paper</td>\n      <td>1957</td>\n      <td>1998.0</td>\n      <td>254</td>\n      <td>190</td>\n      <td>mm</td>\n    </tr>\n    <tr>\n      <th>26033</th>\n      <td>Bacon, Francis</td>\n      <td>Cross-legged Figure with Arms Raised, No. 1</td>\n      <td>Graphite on paper</td>\n      <td>1957</td>\n      <td>1998.0</td>\n      <td>254</td>\n      <td>190</td>\n      <td>mm</td>\n    </tr>\n    <tr>\n      <th>26032</th>\n      <td>Bacon, Francis</td>\n      <td>Cross-legged Figure with Arms Raised, No. 2</td>\n      <td>Oil paint on paper</td>\n      <td>1957</td>\n      <td>1998.0</td>\n      <td>254</td>\n      <td>190</td>\n      <td>mm</td>\n    </tr>\n    <tr>\n      <th>26031</th>\n      <td>Bacon, Francis</td>\n      <td>Seated Woman</td>\n      <td>Graphite on paper</td>\n      <td>1957</td>\n      <td>1998.0</td>\n      <td>254</td>\n      <td>190</td>\n      <td>mm</td>\n    </tr>\n    <tr>\n      <th>21897</th>\n      <td>Bacon, Francis</td>\n      <td>Figures in a Garden</td>\n      <td>Oil paint on canvas</td>\n      <td>1936</td>\n      <td>2008.0</td>\n      <td>740</td>\n      <td>940</td>\n      <td>mm</td>\n    </tr>\n    <tr>\n      <th>111</th>\n      <td>Bacon, Francis</td>\n      <td>Study for a Portrait</td>\n      <td>Oil paint and sand on canvas</td>\n      <td>1952</td>\n      <td>2008.0</td>\n      <td>661</td>\n      <td>561</td>\n      <td>mm</td>\n    </tr>\n  </tbody>\n</table>\n</div>"
     },
     "metadata": {},
     "execution_count": 15
    }
   ],
   "source": [
    "df.loc[df['artist']=='Bacon, Francis', :]"
   ]
  },
  {
   "cell_type": "code",
   "execution_count": 16,
   "metadata": {},
   "outputs": [
    {
     "output_type": "execute_result",
     "data": {
      "text/plain": [
       "'Blake, Robert'"
      ]
     },
     "metadata": {},
     "execution_count": 16
    }
   ],
   "source": [
    "df.iloc[0, 0]\n"
   ]
  },
  {
   "cell_type": "code",
   "execution_count": 18,
   "metadata": {},
   "outputs": [
    {
     "output_type": "execute_result",
     "data": {
      "text/plain": [
       "artist                                                 Blake, Robert\n",
       "title              A Figure Bowing before a Seated Old Man with h...\n",
       "medium             Watercolour, ink, chalk and graphite on paper....\n",
       "year                                                             NaN\n",
       "acquisitionYear                                                 1922\n",
       "width                                                            394\n",
       "height                                                           419\n",
       "units                                                             mm\n",
       "Name: 1035, dtype: object"
      ]
     },
     "metadata": {},
     "execution_count": 18
    }
   ],
   "source": [
    "df.iloc[0, :]\n"
   ]
  },
  {
   "cell_type": "code",
   "execution_count": 19,
   "metadata": {},
   "outputs": [
    {
     "output_type": "execute_result",
     "data": {
      "text/plain": [
       "             artist                                              title\n",
       "id                                                                    \n",
       "1035  Blake, Robert  A Figure Bowing before a Seated Old Man with h...\n",
       "1036  Blake, Robert  Two Drawings of Frightened Figures, Probably f..."
      ],
      "text/html": "<div>\n<style scoped>\n    .dataframe tbody tr th:only-of-type {\n        vertical-align: middle;\n    }\n\n    .dataframe tbody tr th {\n        vertical-align: top;\n    }\n\n    .dataframe thead th {\n        text-align: right;\n    }\n</style>\n<table border=\"1\" class=\"dataframe\">\n  <thead>\n    <tr style=\"text-align: right;\">\n      <th></th>\n      <th>artist</th>\n      <th>title</th>\n    </tr>\n    <tr>\n      <th>id</th>\n      <th></th>\n      <th></th>\n    </tr>\n  </thead>\n  <tbody>\n    <tr>\n      <th>1035</th>\n      <td>Blake, Robert</td>\n      <td>A Figure Bowing before a Seated Old Man with h...</td>\n    </tr>\n    <tr>\n      <th>1036</th>\n      <td>Blake, Robert</td>\n      <td>Two Drawings of Frightened Figures, Probably f...</td>\n    </tr>\n  </tbody>\n</table>\n</div>"
     },
     "metadata": {},
     "execution_count": 19
    }
   ],
   "source": [
    "df.iloc[0:2, 0:2]\n"
   ]
  },
  {
   "cell_type": "code",
   "execution_count": 20,
   "metadata": {},
   "outputs": [
    {
     "output_type": "execute_result",
     "data": {
      "text/plain": [
       "                                  artist  \\\n",
       "id                                         \n",
       "1737   Burne-Jones, Sir Edward Coley, Bt   \n",
       "1738   Burne-Jones, Sir Edward Coley, Bt   \n",
       "1739   Burne-Jones, Sir Edward Coley, Bt   \n",
       "20231  Burne-Jones, Sir Edward Coley, Bt   \n",
       "1740   Burne-Jones, Sir Edward Coley, Bt   \n",
       "...                                  ...   \n",
       "7329                       Jones, George   \n",
       "7330                       Jones, George   \n",
       "7331                       Jones, George   \n",
       "7332                       Jones, George   \n",
       "7333                       Jones, George   \n",
       "\n",
       "                                                   title  acquisitionYear  \n",
       "id                                                                         \n",
       "1737                                      Head of a Girl           1927.0  \n",
       "1738                                        Figure Study           1927.0  \n",
       "1739   Study of the Head of a Female Attendant for ‘T...           1927.0  \n",
       "20231  Study of Iseult for ‘The Marriage of Sir Trist...           1927.0  \n",
       "1740              Composition Study for ‘Clerk Saunders’           1927.0  \n",
       "...                                                  ...              ...  \n",
       "7329                                   [title not known]           1888.0  \n",
       "7330                                   [title not known]           1888.0  \n",
       "7331                                   [title not known]           1888.0  \n",
       "7332                                   [title not known]           1888.0  \n",
       "7333                                   [title not known]           1888.0  \n",
       "\n",
       "[200 rows x 3 columns]"
      ],
      "text/html": "<div>\n<style scoped>\n    .dataframe tbody tr th:only-of-type {\n        vertical-align: middle;\n    }\n\n    .dataframe tbody tr th {\n        vertical-align: top;\n    }\n\n    .dataframe thead th {\n        text-align: right;\n    }\n</style>\n<table border=\"1\" class=\"dataframe\">\n  <thead>\n    <tr style=\"text-align: right;\">\n      <th></th>\n      <th>artist</th>\n      <th>title</th>\n      <th>acquisitionYear</th>\n    </tr>\n    <tr>\n      <th>id</th>\n      <th></th>\n      <th></th>\n      <th></th>\n    </tr>\n  </thead>\n  <tbody>\n    <tr>\n      <th>1737</th>\n      <td>Burne-Jones, Sir Edward Coley, Bt</td>\n      <td>Head of a Girl</td>\n      <td>1927.0</td>\n    </tr>\n    <tr>\n      <th>1738</th>\n      <td>Burne-Jones, Sir Edward Coley, Bt</td>\n      <td>Figure Study</td>\n      <td>1927.0</td>\n    </tr>\n    <tr>\n      <th>1739</th>\n      <td>Burne-Jones, Sir Edward Coley, Bt</td>\n      <td>Study of the Head of a Female Attendant for ‘T...</td>\n      <td>1927.0</td>\n    </tr>\n    <tr>\n      <th>20231</th>\n      <td>Burne-Jones, Sir Edward Coley, Bt</td>\n      <td>Study of Iseult for ‘The Marriage of Sir Trist...</td>\n      <td>1927.0</td>\n    </tr>\n    <tr>\n      <th>1740</th>\n      <td>Burne-Jones, Sir Edward Coley, Bt</td>\n      <td>Composition Study for ‘Clerk Saunders’</td>\n      <td>1927.0</td>\n    </tr>\n    <tr>\n      <th>...</th>\n      <td>...</td>\n      <td>...</td>\n      <td>...</td>\n    </tr>\n    <tr>\n      <th>7329</th>\n      <td>Jones, George</td>\n      <td>[title not known]</td>\n      <td>1888.0</td>\n    </tr>\n    <tr>\n      <th>7330</th>\n      <td>Jones, George</td>\n      <td>[title not known]</td>\n      <td>1888.0</td>\n    </tr>\n    <tr>\n      <th>7331</th>\n      <td>Jones, George</td>\n      <td>[title not known]</td>\n      <td>1888.0</td>\n    </tr>\n    <tr>\n      <th>7332</th>\n      <td>Jones, George</td>\n      <td>[title not known]</td>\n      <td>1888.0</td>\n    </tr>\n    <tr>\n      <th>7333</th>\n      <td>Jones, George</td>\n      <td>[title not known]</td>\n      <td>1888.0</td>\n    </tr>\n  </tbody>\n</table>\n<p>200 rows × 3 columns</p>\n</div>"
     },
     "metadata": {},
     "execution_count": 20
    }
   ],
   "source": [
    "df.iloc[100:300, [0,1,4]]"
   ]
  },
  {
   "cell_type": "code",
   "execution_count": 22,
   "metadata": {},
   "outputs": [
    {
     "output_type": "error",
     "ename": "TypeError",
     "evalue": "can't multiply sequence by non-int of type 'float'",
     "traceback": [
      "\u001b[0;31m---------------------------------------------------------------------------\u001b[0m",
      "\u001b[0;31mTypeError\u001b[0m                                 Traceback (most recent call last)",
      "\u001b[0;32m~/anaconda3/lib/python3.8/site-packages/pandas/core/ops/array_ops.py\u001b[0m in \u001b[0;36mna_arithmetic_op\u001b[0;34m(left, right, op, is_cmp)\u001b[0m\n\u001b[1;32m    142\u001b[0m     \u001b[0;32mtry\u001b[0m\u001b[0;34m:\u001b[0m\u001b[0;34m\u001b[0m\u001b[0;34m\u001b[0m\u001b[0m\n\u001b[0;32m--> 143\u001b[0;31m         \u001b[0mresult\u001b[0m \u001b[0;34m=\u001b[0m \u001b[0mexpressions\u001b[0m\u001b[0;34m.\u001b[0m\u001b[0mevaluate\u001b[0m\u001b[0;34m(\u001b[0m\u001b[0mop\u001b[0m\u001b[0;34m,\u001b[0m \u001b[0mleft\u001b[0m\u001b[0;34m,\u001b[0m \u001b[0mright\u001b[0m\u001b[0;34m)\u001b[0m\u001b[0;34m\u001b[0m\u001b[0;34m\u001b[0m\u001b[0m\n\u001b[0m\u001b[1;32m    144\u001b[0m     \u001b[0;32mexcept\u001b[0m \u001b[0mTypeError\u001b[0m\u001b[0;34m:\u001b[0m\u001b[0;34m\u001b[0m\u001b[0;34m\u001b[0m\u001b[0m\n",
      "\u001b[0;32m~/anaconda3/lib/python3.8/site-packages/pandas/core/computation/expressions.py\u001b[0m in \u001b[0;36mevaluate\u001b[0;34m(op, a, b, use_numexpr)\u001b[0m\n\u001b[1;32m    232\u001b[0m         \u001b[0;32mif\u001b[0m \u001b[0muse_numexpr\u001b[0m\u001b[0;34m:\u001b[0m\u001b[0;34m\u001b[0m\u001b[0;34m\u001b[0m\u001b[0m\n\u001b[0;32m--> 233\u001b[0;31m             \u001b[0;32mreturn\u001b[0m \u001b[0m_evaluate\u001b[0m\u001b[0;34m(\u001b[0m\u001b[0mop\u001b[0m\u001b[0;34m,\u001b[0m \u001b[0mop_str\u001b[0m\u001b[0;34m,\u001b[0m \u001b[0ma\u001b[0m\u001b[0;34m,\u001b[0m \u001b[0mb\u001b[0m\u001b[0;34m)\u001b[0m  \u001b[0;31m# type: ignore\u001b[0m\u001b[0;34m\u001b[0m\u001b[0;34m\u001b[0m\u001b[0m\n\u001b[0m\u001b[1;32m    234\u001b[0m     \u001b[0;32mreturn\u001b[0m \u001b[0m_evaluate_standard\u001b[0m\u001b[0;34m(\u001b[0m\u001b[0mop\u001b[0m\u001b[0;34m,\u001b[0m \u001b[0mop_str\u001b[0m\u001b[0;34m,\u001b[0m \u001b[0ma\u001b[0m\u001b[0;34m,\u001b[0m \u001b[0mb\u001b[0m\u001b[0;34m)\u001b[0m\u001b[0;34m\u001b[0m\u001b[0;34m\u001b[0m\u001b[0m\n",
      "\u001b[0;32m~/anaconda3/lib/python3.8/site-packages/pandas/core/computation/expressions.py\u001b[0m in \u001b[0;36m_evaluate_numexpr\u001b[0;34m(op, op_str, a, b)\u001b[0m\n\u001b[1;32m    118\u001b[0m     \u001b[0;32mif\u001b[0m \u001b[0mresult\u001b[0m \u001b[0;32mis\u001b[0m \u001b[0;32mNone\u001b[0m\u001b[0;34m:\u001b[0m\u001b[0;34m\u001b[0m\u001b[0;34m\u001b[0m\u001b[0m\n\u001b[0;32m--> 119\u001b[0;31m         \u001b[0mresult\u001b[0m \u001b[0;34m=\u001b[0m \u001b[0m_evaluate_standard\u001b[0m\u001b[0;34m(\u001b[0m\u001b[0mop\u001b[0m\u001b[0;34m,\u001b[0m \u001b[0mop_str\u001b[0m\u001b[0;34m,\u001b[0m \u001b[0ma\u001b[0m\u001b[0;34m,\u001b[0m \u001b[0mb\u001b[0m\u001b[0;34m)\u001b[0m\u001b[0;34m\u001b[0m\u001b[0;34m\u001b[0m\u001b[0m\n\u001b[0m\u001b[1;32m    120\u001b[0m \u001b[0;34m\u001b[0m\u001b[0m\n",
      "\u001b[0;32m~/anaconda3/lib/python3.8/site-packages/pandas/core/computation/expressions.py\u001b[0m in \u001b[0;36m_evaluate_standard\u001b[0;34m(op, op_str, a, b)\u001b[0m\n\u001b[1;32m     67\u001b[0m     \u001b[0;32mwith\u001b[0m \u001b[0mnp\u001b[0m\u001b[0;34m.\u001b[0m\u001b[0merrstate\u001b[0m\u001b[0;34m(\u001b[0m\u001b[0mall\u001b[0m\u001b[0;34m=\u001b[0m\u001b[0;34m\"ignore\"\u001b[0m\u001b[0;34m)\u001b[0m\u001b[0;34m:\u001b[0m\u001b[0;34m\u001b[0m\u001b[0;34m\u001b[0m\u001b[0m\n\u001b[0;32m---> 68\u001b[0;31m         \u001b[0;32mreturn\u001b[0m \u001b[0mop\u001b[0m\u001b[0;34m(\u001b[0m\u001b[0ma\u001b[0m\u001b[0;34m,\u001b[0m \u001b[0mb\u001b[0m\u001b[0;34m)\u001b[0m\u001b[0;34m\u001b[0m\u001b[0;34m\u001b[0m\u001b[0m\n\u001b[0m\u001b[1;32m     69\u001b[0m \u001b[0;34m\u001b[0m\u001b[0m\n",
      "\u001b[0;31mTypeError\u001b[0m: can't multiply sequence by non-int of type 'float'",
      "\nDuring handling of the above exception, another exception occurred:\n",
      "\u001b[0;31mTypeError\u001b[0m                                 Traceback (most recent call last)",
      "\u001b[0;32m<ipython-input-22-e311d7f055fc>\u001b[0m in \u001b[0;36m<module>\u001b[0;34m\u001b[0m\n\u001b[1;32m      1\u001b[0m \u001b[0;31m#Find the artwork with the biggest area in the dataset??!!\u001b[0m\u001b[0;34m\u001b[0m\u001b[0;34m\u001b[0m\u001b[0;34m\u001b[0m\u001b[0m\n\u001b[0;32m----> 2\u001b[0;31m \u001b[0mdf\u001b[0m\u001b[0;34m[\u001b[0m\u001b[0;34m'height'\u001b[0m\u001b[0;34m]\u001b[0m \u001b[0;34m*\u001b[0m \u001b[0mdf\u001b[0m\u001b[0;34m[\u001b[0m\u001b[0;34m'width'\u001b[0m\u001b[0;34m]\u001b[0m\u001b[0;34m\u001b[0m\u001b[0;34m\u001b[0m\u001b[0m\n\u001b[0m",
      "\u001b[0;32m~/anaconda3/lib/python3.8/site-packages/pandas/core/ops/common.py\u001b[0m in \u001b[0;36mnew_method\u001b[0;34m(self, other)\u001b[0m\n\u001b[1;32m     63\u001b[0m         \u001b[0mother\u001b[0m \u001b[0;34m=\u001b[0m \u001b[0mitem_from_zerodim\u001b[0m\u001b[0;34m(\u001b[0m\u001b[0mother\u001b[0m\u001b[0;34m)\u001b[0m\u001b[0;34m\u001b[0m\u001b[0;34m\u001b[0m\u001b[0m\n\u001b[1;32m     64\u001b[0m \u001b[0;34m\u001b[0m\u001b[0m\n\u001b[0;32m---> 65\u001b[0;31m         \u001b[0;32mreturn\u001b[0m \u001b[0mmethod\u001b[0m\u001b[0;34m(\u001b[0m\u001b[0mself\u001b[0m\u001b[0;34m,\u001b[0m \u001b[0mother\u001b[0m\u001b[0;34m)\u001b[0m\u001b[0;34m\u001b[0m\u001b[0;34m\u001b[0m\u001b[0m\n\u001b[0m\u001b[1;32m     66\u001b[0m \u001b[0;34m\u001b[0m\u001b[0m\n\u001b[1;32m     67\u001b[0m     \u001b[0;32mreturn\u001b[0m \u001b[0mnew_method\u001b[0m\u001b[0;34m\u001b[0m\u001b[0;34m\u001b[0m\u001b[0m\n",
      "\u001b[0;32m~/anaconda3/lib/python3.8/site-packages/pandas/core/ops/__init__.py\u001b[0m in \u001b[0;36mwrapper\u001b[0;34m(left, right)\u001b[0m\n\u001b[1;32m    341\u001b[0m         \u001b[0mlvalues\u001b[0m \u001b[0;34m=\u001b[0m \u001b[0mextract_array\u001b[0m\u001b[0;34m(\u001b[0m\u001b[0mleft\u001b[0m\u001b[0;34m,\u001b[0m \u001b[0mextract_numpy\u001b[0m\u001b[0;34m=\u001b[0m\u001b[0;32mTrue\u001b[0m\u001b[0;34m)\u001b[0m\u001b[0;34m\u001b[0m\u001b[0;34m\u001b[0m\u001b[0m\n\u001b[1;32m    342\u001b[0m         \u001b[0mrvalues\u001b[0m \u001b[0;34m=\u001b[0m \u001b[0mextract_array\u001b[0m\u001b[0;34m(\u001b[0m\u001b[0mright\u001b[0m\u001b[0;34m,\u001b[0m \u001b[0mextract_numpy\u001b[0m\u001b[0;34m=\u001b[0m\u001b[0;32mTrue\u001b[0m\u001b[0;34m)\u001b[0m\u001b[0;34m\u001b[0m\u001b[0;34m\u001b[0m\u001b[0m\n\u001b[0;32m--> 343\u001b[0;31m         \u001b[0mresult\u001b[0m \u001b[0;34m=\u001b[0m \u001b[0marithmetic_op\u001b[0m\u001b[0;34m(\u001b[0m\u001b[0mlvalues\u001b[0m\u001b[0;34m,\u001b[0m \u001b[0mrvalues\u001b[0m\u001b[0;34m,\u001b[0m \u001b[0mop\u001b[0m\u001b[0;34m)\u001b[0m\u001b[0;34m\u001b[0m\u001b[0;34m\u001b[0m\u001b[0m\n\u001b[0m\u001b[1;32m    344\u001b[0m \u001b[0;34m\u001b[0m\u001b[0m\n\u001b[1;32m    345\u001b[0m         \u001b[0;32mreturn\u001b[0m \u001b[0mleft\u001b[0m\u001b[0;34m.\u001b[0m\u001b[0m_construct_result\u001b[0m\u001b[0;34m(\u001b[0m\u001b[0mresult\u001b[0m\u001b[0;34m,\u001b[0m \u001b[0mname\u001b[0m\u001b[0;34m=\u001b[0m\u001b[0mres_name\u001b[0m\u001b[0;34m)\u001b[0m\u001b[0;34m\u001b[0m\u001b[0;34m\u001b[0m\u001b[0m\n",
      "\u001b[0;32m~/anaconda3/lib/python3.8/site-packages/pandas/core/ops/array_ops.py\u001b[0m in \u001b[0;36marithmetic_op\u001b[0;34m(left, right, op)\u001b[0m\n\u001b[1;32m    188\u001b[0m     \u001b[0;32melse\u001b[0m\u001b[0;34m:\u001b[0m\u001b[0;34m\u001b[0m\u001b[0;34m\u001b[0m\u001b[0m\n\u001b[1;32m    189\u001b[0m         \u001b[0;32mwith\u001b[0m \u001b[0mnp\u001b[0m\u001b[0;34m.\u001b[0m\u001b[0merrstate\u001b[0m\u001b[0;34m(\u001b[0m\u001b[0mall\u001b[0m\u001b[0;34m=\u001b[0m\u001b[0;34m\"ignore\"\u001b[0m\u001b[0;34m)\u001b[0m\u001b[0;34m:\u001b[0m\u001b[0;34m\u001b[0m\u001b[0;34m\u001b[0m\u001b[0m\n\u001b[0;32m--> 190\u001b[0;31m             \u001b[0mres_values\u001b[0m \u001b[0;34m=\u001b[0m \u001b[0mna_arithmetic_op\u001b[0m\u001b[0;34m(\u001b[0m\u001b[0mlvalues\u001b[0m\u001b[0;34m,\u001b[0m \u001b[0mrvalues\u001b[0m\u001b[0;34m,\u001b[0m \u001b[0mop\u001b[0m\u001b[0;34m)\u001b[0m\u001b[0;34m\u001b[0m\u001b[0;34m\u001b[0m\u001b[0m\n\u001b[0m\u001b[1;32m    191\u001b[0m \u001b[0;34m\u001b[0m\u001b[0m\n\u001b[1;32m    192\u001b[0m     \u001b[0;32mreturn\u001b[0m \u001b[0mres_values\u001b[0m\u001b[0;34m\u001b[0m\u001b[0;34m\u001b[0m\u001b[0m\n",
      "\u001b[0;32m~/anaconda3/lib/python3.8/site-packages/pandas/core/ops/array_ops.py\u001b[0m in \u001b[0;36mna_arithmetic_op\u001b[0;34m(left, right, op, is_cmp)\u001b[0m\n\u001b[1;32m    148\u001b[0m             \u001b[0;31m#  will handle complex numbers incorrectly, see GH#32047\u001b[0m\u001b[0;34m\u001b[0m\u001b[0;34m\u001b[0m\u001b[0;34m\u001b[0m\u001b[0m\n\u001b[1;32m    149\u001b[0m             \u001b[0;32mraise\u001b[0m\u001b[0;34m\u001b[0m\u001b[0;34m\u001b[0m\u001b[0m\n\u001b[0;32m--> 150\u001b[0;31m         \u001b[0mresult\u001b[0m \u001b[0;34m=\u001b[0m \u001b[0mmasked_arith_op\u001b[0m\u001b[0;34m(\u001b[0m\u001b[0mleft\u001b[0m\u001b[0;34m,\u001b[0m \u001b[0mright\u001b[0m\u001b[0;34m,\u001b[0m \u001b[0mop\u001b[0m\u001b[0;34m)\u001b[0m\u001b[0;34m\u001b[0m\u001b[0;34m\u001b[0m\u001b[0m\n\u001b[0m\u001b[1;32m    151\u001b[0m \u001b[0;34m\u001b[0m\u001b[0m\n\u001b[1;32m    152\u001b[0m     \u001b[0;32mif\u001b[0m \u001b[0mis_cmp\u001b[0m \u001b[0;32mand\u001b[0m \u001b[0;34m(\u001b[0m\u001b[0mis_scalar\u001b[0m\u001b[0;34m(\u001b[0m\u001b[0mresult\u001b[0m\u001b[0;34m)\u001b[0m \u001b[0;32mor\u001b[0m \u001b[0mresult\u001b[0m \u001b[0;32mis\u001b[0m \u001b[0mNotImplemented\u001b[0m\u001b[0;34m)\u001b[0m\u001b[0;34m:\u001b[0m\u001b[0;34m\u001b[0m\u001b[0;34m\u001b[0m\u001b[0m\n",
      "\u001b[0;32m~/anaconda3/lib/python3.8/site-packages/pandas/core/ops/array_ops.py\u001b[0m in \u001b[0;36mmasked_arith_op\u001b[0;34m(x, y, op)\u001b[0m\n\u001b[1;32m     90\u001b[0m         \u001b[0;32mif\u001b[0m \u001b[0mmask\u001b[0m\u001b[0;34m.\u001b[0m\u001b[0many\u001b[0m\u001b[0;34m(\u001b[0m\u001b[0;34m)\u001b[0m\u001b[0;34m:\u001b[0m\u001b[0;34m\u001b[0m\u001b[0;34m\u001b[0m\u001b[0m\n\u001b[1;32m     91\u001b[0m             \u001b[0;32mwith\u001b[0m \u001b[0mnp\u001b[0m\u001b[0;34m.\u001b[0m\u001b[0merrstate\u001b[0m\u001b[0;34m(\u001b[0m\u001b[0mall\u001b[0m\u001b[0;34m=\u001b[0m\u001b[0;34m\"ignore\"\u001b[0m\u001b[0;34m)\u001b[0m\u001b[0;34m:\u001b[0m\u001b[0;34m\u001b[0m\u001b[0;34m\u001b[0m\u001b[0m\n\u001b[0;32m---> 92\u001b[0;31m                 \u001b[0mresult\u001b[0m\u001b[0;34m[\u001b[0m\u001b[0mmask\u001b[0m\u001b[0;34m]\u001b[0m \u001b[0;34m=\u001b[0m \u001b[0mop\u001b[0m\u001b[0;34m(\u001b[0m\u001b[0mxrav\u001b[0m\u001b[0;34m[\u001b[0m\u001b[0mmask\u001b[0m\u001b[0;34m]\u001b[0m\u001b[0;34m,\u001b[0m \u001b[0myrav\u001b[0m\u001b[0;34m[\u001b[0m\u001b[0mmask\u001b[0m\u001b[0;34m]\u001b[0m\u001b[0;34m)\u001b[0m\u001b[0;34m\u001b[0m\u001b[0;34m\u001b[0m\u001b[0m\n\u001b[0m\u001b[1;32m     93\u001b[0m \u001b[0;34m\u001b[0m\u001b[0m\n\u001b[1;32m     94\u001b[0m     \u001b[0;32melse\u001b[0m\u001b[0;34m:\u001b[0m\u001b[0;34m\u001b[0m\u001b[0;34m\u001b[0m\u001b[0m\n",
      "\u001b[0;31mTypeError\u001b[0m: can't multiply sequence by non-int of type 'float'"
     ]
    }
   ],
   "source": [
    "#Find the artwork with the biggest area in the dataset??!!\n",
    "df['height'] * df['width']\n"
   ]
  },
  {
   "cell_type": "code",
   "execution_count": 24,
   "metadata": {},
   "outputs": [
    {
     "output_type": "execute_result",
     "data": {
      "text/plain": [
       "id\n",
       "1035       419\n",
       "1036       213\n",
       "1037       467\n",
       "1038       394\n",
       "1039       335\n",
       "          ... \n",
       "122960     305\n",
       "122961     305\n",
       "121181    2410\n",
       "112306     NaN\n",
       "127035     660\n",
       "Name: height, Length: 69201, dtype: object"
      ]
     },
     "metadata": {},
     "execution_count": 24
    }
   ],
   "source": [
    "#check the type of the column\n",
    "(df['height'])\n",
    "#there is numbers in the column, the issue is that it is dirty"
   ]
  },
  {
   "cell_type": "code",
   "execution_count": 26,
   "metadata": {},
   "outputs": [
    {
     "output_type": "execute_result",
     "data": {
      "text/plain": [
       "id\n",
       "20822            (1):\n",
       "105337    (diameter):\n",
       "98671         (each):\n",
       "76420         (each):\n",
       "91391        (image):\n",
       "Name: width, dtype: object"
      ]
     },
     "metadata": {},
     "execution_count": 26
    }
   ],
   "source": [
    "df['width'].sort_values().head()\n"
   ]
  },
  {
   "cell_type": "code",
   "execution_count": 27,
   "metadata": {},
   "outputs": [
    {
     "output_type": "execute_result",
     "data": {
      "text/plain": [
       "id\n",
       "121283    NaN\n",
       "117863    NaN\n",
       "120549    NaN\n",
       "122900    NaN\n",
       "112306    NaN\n",
       "Name: width, dtype: object"
      ]
     },
     "metadata": {},
     "execution_count": 27
    }
   ],
   "source": [
    "df['width'].sort_values().tail()"
   ]
  },
  {
   "cell_type": "code",
   "execution_count": 28,
   "metadata": {},
   "outputs": [
    {
     "output_type": "execute_result",
     "data": {
      "text/plain": [
       "id\n",
       "121283    NaN\n",
       "117863    NaN\n",
       "120549    NaN\n",
       "122900    NaN\n",
       "112306    NaN\n",
       "Name: width, dtype: object"
      ]
     },
     "metadata": {},
     "execution_count": 28
    }
   ],
   "source": [
    "df['width'].sort_values().tail()"
   ]
  },
  {
   "cell_type": "code",
   "execution_count": 29,
   "metadata": {},
   "outputs": [
    {
     "output_type": "error",
     "ename": "ValueError",
     "evalue": "Unable to parse string \"(upper):\" at position 1839",
     "traceback": [
      "\u001b[0;31m---------------------------------------------------------------------------\u001b[0m",
      "\u001b[0;31mValueError\u001b[0m                                Traceback (most recent call last)",
      "\u001b[0;32mpandas/_libs/lib.pyx\u001b[0m in \u001b[0;36mpandas._libs.lib.maybe_convert_numeric\u001b[0;34m()\u001b[0m\n",
      "\u001b[0;31mValueError\u001b[0m: Unable to parse string \"(upper):\"",
      "\nDuring handling of the above exception, another exception occurred:\n",
      "\u001b[0;31mValueError\u001b[0m                                Traceback (most recent call last)",
      "\u001b[0;32m<ipython-input-29-e30ffeb00890>\u001b[0m in \u001b[0;36m<module>\u001b[0;34m\u001b[0m\n\u001b[1;32m      1\u001b[0m \u001b[0;31m# Try to convert\u001b[0m\u001b[0;34m\u001b[0m\u001b[0;34m\u001b[0m\u001b[0;34m\u001b[0m\u001b[0m\n\u001b[0;32m----> 2\u001b[0;31m \u001b[0mpd\u001b[0m\u001b[0;34m.\u001b[0m\u001b[0mto_numeric\u001b[0m\u001b[0;34m(\u001b[0m\u001b[0mdf\u001b[0m\u001b[0;34m[\u001b[0m\u001b[0;34m'width'\u001b[0m\u001b[0;34m]\u001b[0m\u001b[0;34m)\u001b[0m\u001b[0;34m\u001b[0m\u001b[0;34m\u001b[0m\u001b[0m\n\u001b[0m",
      "\u001b[0;32m~/anaconda3/lib/python3.8/site-packages/pandas/core/tools/numeric.py\u001b[0m in \u001b[0;36mto_numeric\u001b[0;34m(arg, errors, downcast)\u001b[0m\n\u001b[1;32m    150\u001b[0m         \u001b[0mcoerce_numeric\u001b[0m \u001b[0;34m=\u001b[0m \u001b[0merrors\u001b[0m \u001b[0;32mnot\u001b[0m \u001b[0;32min\u001b[0m \u001b[0;34m(\u001b[0m\u001b[0;34m\"ignore\"\u001b[0m\u001b[0;34m,\u001b[0m \u001b[0;34m\"raise\"\u001b[0m\u001b[0;34m)\u001b[0m\u001b[0;34m\u001b[0m\u001b[0;34m\u001b[0m\u001b[0m\n\u001b[1;32m    151\u001b[0m         \u001b[0;32mtry\u001b[0m\u001b[0;34m:\u001b[0m\u001b[0;34m\u001b[0m\u001b[0;34m\u001b[0m\u001b[0m\n\u001b[0;32m--> 152\u001b[0;31m             values = lib.maybe_convert_numeric(\n\u001b[0m\u001b[1;32m    153\u001b[0m                 \u001b[0mvalues\u001b[0m\u001b[0;34m,\u001b[0m \u001b[0mset\u001b[0m\u001b[0;34m(\u001b[0m\u001b[0;34m)\u001b[0m\u001b[0;34m,\u001b[0m \u001b[0mcoerce_numeric\u001b[0m\u001b[0;34m=\u001b[0m\u001b[0mcoerce_numeric\u001b[0m\u001b[0;34m\u001b[0m\u001b[0;34m\u001b[0m\u001b[0m\n\u001b[1;32m    154\u001b[0m             )\n",
      "\u001b[0;32mpandas/_libs/lib.pyx\u001b[0m in \u001b[0;36mpandas._libs.lib.maybe_convert_numeric\u001b[0;34m()\u001b[0m\n",
      "\u001b[0;31mValueError\u001b[0m: Unable to parse string \"(upper):\" at position 1839"
     ]
    }
   ],
   "source": [
    "# Try to convert\n",
    "pd.to_numeric(df['width'])"
   ]
  },
  {
   "cell_type": "code",
   "execution_count": 30,
   "metadata": {},
   "outputs": [
    {
     "output_type": "execute_result",
     "data": {
      "text/plain": [
       "id\n",
       "1035      394.0\n",
       "1036      311.0\n",
       "1037      343.0\n",
       "1038      318.0\n",
       "1039      243.0\n",
       "          ...  \n",
       "122960    305.0\n",
       "122961    305.0\n",
       "121181     45.0\n",
       "112306      NaN\n",
       "127035    508.0\n",
       "Name: width, Length: 69201, dtype: float64"
      ]
     },
     "metadata": {},
     "execution_count": 30
    }
   ],
   "source": [
    "pd.to_numeric(df['width'], errors='coerce')\n"
   ]
  },
  {
   "cell_type": "code",
   "execution_count": 31,
   "metadata": {},
   "outputs": [],
   "source": [
    "df.loc[:, 'width'] = pd.to_numeric(df['width'], errors='coerce')"
   ]
  },
  {
   "cell_type": "code",
   "execution_count": 32,
   "metadata": {},
   "outputs": [
    {
     "output_type": "execute_result",
     "data": {
      "text/plain": [
       "id\n",
       "1035       419.0\n",
       "1036       213.0\n",
       "1037       467.0\n",
       "1038       394.0\n",
       "1039       335.0\n",
       "           ...  \n",
       "122960     305.0\n",
       "122961     305.0\n",
       "121181    2410.0\n",
       "112306       NaN\n",
       "127035     660.0\n",
       "Name: height, Length: 69201, dtype: float64"
      ]
     },
     "metadata": {},
     "execution_count": 32
    }
   ],
   "source": [
    "#doing the same for the height column\n",
    "pd.to_numeric(df['height'], errors='coerce')\n"
   ]
  },
  {
   "cell_type": "code",
   "execution_count": 34,
   "metadata": {},
   "outputs": [],
   "source": [
    "df.loc[:, 'height'] = pd.to_numeric(df['height'],errors='coerce')"
   ]
  },
  {
   "cell_type": "code",
   "execution_count": 35,
   "metadata": {},
   "outputs": [
    {
     "output_type": "execute_result",
     "data": {
      "text/plain": [
       "id\n",
       "1035      165086.0\n",
       "1036       66243.0\n",
       "1037      160181.0\n",
       "1038      125292.0\n",
       "1039       81405.0\n",
       "            ...   \n",
       "122960     93025.0\n",
       "122961     93025.0\n",
       "121181    108450.0\n",
       "112306         NaN\n",
       "127035    335280.0\n",
       "Length: 69201, dtype: float64"
      ]
     },
     "metadata": {},
     "execution_count": 35
    }
   ],
   "source": [
    "df['height'] * df['width']\n"
   ]
  },
  {
   "cell_type": "code",
   "execution_count": 36,
   "metadata": {},
   "outputs": [
    {
     "output_type": "execute_result",
     "data": {
      "text/plain": [
       "mm    65860\n",
       "Name: units, dtype: int64"
      ]
     },
     "metadata": {},
     "execution_count": 36
    }
   ],
   "source": [
    "df['units'].value_counts()\n"
   ]
  },
  {
   "cell_type": "code",
   "execution_count": null,
   "metadata": {},
   "outputs": [],
   "source": []
  }
 ]
}