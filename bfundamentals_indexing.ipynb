{
 "metadata": {
  "language_info": {
   "codemirror_mode": {
    "name": "ipython",
    "version": 3
   },
   "file_extension": ".py",
   "mimetype": "text/x-python",
   "name": "python",
   "nbconvert_exporter": "python",
   "pygments_lexer": "ipython3",
   "version": "3.8.5"
  },
  "orig_nbformat": 2,
  "kernelspec": {
   "name": "python385jvsc74a57bd019ef3a6396c46c7428efca1f5cbb7ae9e01db714ef36b5b8c4522c5b6ecb4d4b",
   "display_name": "Python 3.8.5 64-bit ('base': conda)"
  }
 },
 "nbformat": 4,
 "nbformat_minor": 2,
 "cells": [
  {
   "cell_type": "code",
   "execution_count": 1,
   "metadata": {},
   "outputs": [],
   "source": [
    "import pandas as pd\r\n",
    "import os"
   ]
  },
  {
   "cell_type": "code",
   "execution_count": 2,
   "metadata": {},
   "outputs": [],
   "source": [
    "# Let's load the data for the first time\n",
    "df = pd.read_pickle(os.path.join('..', 'data_frame.pickle'))"
   ]
  },
  {
   "cell_type": "code",
   "execution_count": 3,
   "metadata": {},
   "outputs": [
    {
     "output_type": "execute_result",
     "data": {
      "text/plain": [
       "                    artist                                              title  \\\n",
       "id                                                                              \n",
       "1035         Blake, Robert  A Figure Bowing before a Seated Old Man with h...   \n",
       "1036         Blake, Robert  Two Drawings of Frightened Figures, Probably f...   \n",
       "1037         Blake, Robert  The Preaching of Warning. Verso: An Old Man En...   \n",
       "1038         Blake, Robert     Six Drawings of Figures with Outstretched Arms   \n",
       "1039        Blake, William  The Circle of the Lustful: Francesca da Rimini...   \n",
       "...                    ...                                                ...   \n",
       "122960  P-Orridge, Genesis                        Larvae (from Tampax Romana)   \n",
       "122961  P-Orridge, Genesis                   Living Womb (from Tampax Romana)   \n",
       "121181        Hatoum, Mona                                      Present Tense   \n",
       "112306       Creed, Martin          Work No. 227: The lights going on and off   \n",
       "127035   Brunias, Agostino                   Dancing Scene in the West Indies   \n",
       "\n",
       "                                                   medium  year  \\\n",
       "id                                                                \n",
       "1035    Watercolour, ink, chalk and graphite on paper....   NaN   \n",
       "1036                                    Graphite on paper   NaN   \n",
       "1037          Graphite on paper. Verso: graphite on paper  1785   \n",
       "1038                                    Graphite on paper   NaN   \n",
       "1039                              Line engraving on paper  1826   \n",
       "...                                                   ...   ...   \n",
       "122960   Perspex, Wood, hairpiece, tampon and human blood  1975   \n",
       "122961  Wood, Perspex, plastic, photograph on paper, t...  1976   \n",
       "121181                               Soap and glass beads  1996   \n",
       "112306                                   Gallery lighting  2000   \n",
       "127035                                Oil paint on canvas  1764   \n",
       "\n",
       "        acquisitionYear width height units  \n",
       "id                                          \n",
       "1035             1922.0   394    419    mm  \n",
       "1036             1922.0   311    213    mm  \n",
       "1037             1922.0   343    467    mm  \n",
       "1038             1922.0   318    394    mm  \n",
       "1039             1919.0   243    335    mm  \n",
       "...                 ...   ...    ...   ...  \n",
       "122960           2013.0   305    305    mm  \n",
       "122961           2013.0   305    305    mm  \n",
       "121181           2013.0    45   2410    mm  \n",
       "112306           2013.0   NaN    NaN   NaN  \n",
       "127035           2013.0   508    660    mm  \n",
       "\n",
       "[69201 rows x 8 columns]"
      ],
      "text/html": "<div>\n<style scoped>\n    .dataframe tbody tr th:only-of-type {\n        vertical-align: middle;\n    }\n\n    .dataframe tbody tr th {\n        vertical-align: top;\n    }\n\n    .dataframe thead th {\n        text-align: right;\n    }\n</style>\n<table border=\"1\" class=\"dataframe\">\n  <thead>\n    <tr style=\"text-align: right;\">\n      <th></th>\n      <th>artist</th>\n      <th>title</th>\n      <th>medium</th>\n      <th>year</th>\n      <th>acquisitionYear</th>\n      <th>width</th>\n      <th>height</th>\n      <th>units</th>\n    </tr>\n    <tr>\n      <th>id</th>\n      <th></th>\n      <th></th>\n      <th></th>\n      <th></th>\n      <th></th>\n      <th></th>\n      <th></th>\n      <th></th>\n    </tr>\n  </thead>\n  <tbody>\n    <tr>\n      <th>1035</th>\n      <td>Blake, Robert</td>\n      <td>A Figure Bowing before a Seated Old Man with h...</td>\n      <td>Watercolour, ink, chalk and graphite on paper....</td>\n      <td>NaN</td>\n      <td>1922.0</td>\n      <td>394</td>\n      <td>419</td>\n      <td>mm</td>\n    </tr>\n    <tr>\n      <th>1036</th>\n      <td>Blake, Robert</td>\n      <td>Two Drawings of Frightened Figures, Probably f...</td>\n      <td>Graphite on paper</td>\n      <td>NaN</td>\n      <td>1922.0</td>\n      <td>311</td>\n      <td>213</td>\n      <td>mm</td>\n    </tr>\n    <tr>\n      <th>1037</th>\n      <td>Blake, Robert</td>\n      <td>The Preaching of Warning. Verso: An Old Man En...</td>\n      <td>Graphite on paper. Verso: graphite on paper</td>\n      <td>1785</td>\n      <td>1922.0</td>\n      <td>343</td>\n      <td>467</td>\n      <td>mm</td>\n    </tr>\n    <tr>\n      <th>1038</th>\n      <td>Blake, Robert</td>\n      <td>Six Drawings of Figures with Outstretched Arms</td>\n      <td>Graphite on paper</td>\n      <td>NaN</td>\n      <td>1922.0</td>\n      <td>318</td>\n      <td>394</td>\n      <td>mm</td>\n    </tr>\n    <tr>\n      <th>1039</th>\n      <td>Blake, William</td>\n      <td>The Circle of the Lustful: Francesca da Rimini...</td>\n      <td>Line engraving on paper</td>\n      <td>1826</td>\n      <td>1919.0</td>\n      <td>243</td>\n      <td>335</td>\n      <td>mm</td>\n    </tr>\n    <tr>\n      <th>...</th>\n      <td>...</td>\n      <td>...</td>\n      <td>...</td>\n      <td>...</td>\n      <td>...</td>\n      <td>...</td>\n      <td>...</td>\n      <td>...</td>\n    </tr>\n    <tr>\n      <th>122960</th>\n      <td>P-Orridge, Genesis</td>\n      <td>Larvae (from Tampax Romana)</td>\n      <td>Perspex, Wood, hairpiece, tampon and human blood</td>\n      <td>1975</td>\n      <td>2013.0</td>\n      <td>305</td>\n      <td>305</td>\n      <td>mm</td>\n    </tr>\n    <tr>\n      <th>122961</th>\n      <td>P-Orridge, Genesis</td>\n      <td>Living Womb (from Tampax Romana)</td>\n      <td>Wood, Perspex, plastic, photograph on paper, t...</td>\n      <td>1976</td>\n      <td>2013.0</td>\n      <td>305</td>\n      <td>305</td>\n      <td>mm</td>\n    </tr>\n    <tr>\n      <th>121181</th>\n      <td>Hatoum, Mona</td>\n      <td>Present Tense</td>\n      <td>Soap and glass beads</td>\n      <td>1996</td>\n      <td>2013.0</td>\n      <td>45</td>\n      <td>2410</td>\n      <td>mm</td>\n    </tr>\n    <tr>\n      <th>112306</th>\n      <td>Creed, Martin</td>\n      <td>Work No. 227: The lights going on and off</td>\n      <td>Gallery lighting</td>\n      <td>2000</td>\n      <td>2013.0</td>\n      <td>NaN</td>\n      <td>NaN</td>\n      <td>NaN</td>\n    </tr>\n    <tr>\n      <th>127035</th>\n      <td>Brunias, Agostino</td>\n      <td>Dancing Scene in the West Indies</td>\n      <td>Oil paint on canvas</td>\n      <td>1764</td>\n      <td>2013.0</td>\n      <td>508</td>\n      <td>660</td>\n      <td>mm</td>\n    </tr>\n  </tbody>\n</table>\n<p>69201 rows × 8 columns</p>\n</div>"
     },
     "metadata": {},
     "execution_count": 3
    }
   ],
   "source": [
    "df"
   ]
  },
  {
   "cell_type": "code",
   "execution_count": 5,
   "metadata": {},
   "outputs": [
    {
     "output_type": "execute_result",
     "data": {
      "text/plain": [
       "3336"
      ]
     },
     "metadata": {},
     "execution_count": 5
    }
   ],
   "source": [
    "artists = df['artist']\n",
    "pd.unique(artists)\n",
    "len(pd.unique(artists))"
   ]
  },
  {
   "cell_type": "code",
   "execution_count": 8,
   "metadata": {},
   "outputs": [
    {
     "output_type": "execute_result",
     "data": {
      "text/plain": [
       "False    69151\n",
       "True        50\n",
       "Name: artist, dtype: int64"
      ]
     },
     "metadata": {},
     "execution_count": 8
    }
   ],
   "source": [
    "#one approach to filtering\n",
    "s = df['artist'] == 'Bacon, Francis'\n",
    "s.value_counts()\n"
   ]
  },
  {
   "cell_type": "code",
   "execution_count": 12,
   "metadata": {},
   "outputs": [
    {
     "output_type": "execute_result",
     "data": {
      "text/plain": [
       "50"
      ]
     },
     "metadata": {},
     "execution_count": 12
    }
   ],
   "source": [
    "#another approach to filtering\n",
    "artist_counts = df['artist'].value_counts()\n",
    "artist_counts['Bacon, Francis']"
   ]
  },
  {
   "cell_type": "code",
   "execution_count": null,
   "metadata": {},
   "outputs": [],
   "source": []
  }
 ]
}