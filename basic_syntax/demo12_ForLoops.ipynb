{
 "cells": [
  {
   "cell_type": "code",
   "execution_count": 27,
   "metadata": {
    "scrolled": true
   },
   "outputs": [
    {
     "data": {
      "text/plain": [
       "[-4, -3, -2, -1, 0, 1, 2, 3, 4, 5, 6, 7]"
      ]
     },
     "execution_count": 27,
     "metadata": {},
     "output_type": "execute_result"
    }
   ],
   "source": [
    "list(range(-4, 8))"
   ]
  },
  {
   "cell_type": "code",
   "execution_count": 30,
   "metadata": {},
   "outputs": [
    {
     "name": "stdout",
     "output_type": "stream",
     "text": [
      "2\n",
      "4\n",
      "6\n",
      "8\n",
      "10\n"
     ]
    }
   ],
   "source": [
    "for i in range(2, 11, 2):\n",
    "    print(i)"
   ]
  },
  {
   "cell_type": "code",
   "execution_count": 35,
   "metadata": {},
   "outputs": [],
   "source": [
    "names_and_ages = {\"John\" : 53,\n",
    "                  \"Alice\" : 57,\n",
    "                  \"Bill\" : 14,\n",
    "                  \"Dave\" : 25}"
   ]
  },
  {
   "cell_type": "code",
   "execution_count": 39,
   "metadata": {},
   "outputs": [
    {
     "name": "stdout",
     "output_type": "stream",
     "text": [
      "Name:  John Age:  53\n",
      "Name:  Alice Age:  57\n",
      "Name:  Bill Age:  14\n",
      "Name:  Dave Age:  25\n"
     ]
    }
   ],
   "source": [
    "for key in names_and_ages:\n",
    "    print(\"Name: \", key, \"Age: \", names_and_ages[key])"
   ]
  },
  {
   "cell_type": "code",
   "execution_count": 46,
   "metadata": {},
   "outputs": [],
   "source": [
    "materials = {\"Leather\", \"Polyester\", \"Nylon\", \"Cotton\", \"Silk\"}"
   ]
  },
  {
   "cell_type": "code",
   "execution_count": 47,
   "metadata": {},
   "outputs": [
    {
     "name": "stdout",
     "output_type": "stream",
     "text": [
      "Silk\n",
      "Cotton\n",
      "Polyester\n",
      "Nylon\n",
      "Leather\n",
      "We've run out of material\n"
     ]
    }
   ],
   "source": [
    "for m in materials:\n",
    "    print(m)\n",
    "else:\n",
    "    print(\"We've run out of material\")"
   ]
  },
  {
   "cell_type": "code",
   "execution_count": 48,
   "metadata": {},
   "outputs": [
    {
     "name": "stdout",
     "output_type": "stream",
     "text": [
      "2  *  1  =  2\n",
      "2  *  2  =  4\n",
      "2  *  3  =  6\n",
      "2  *  4  =  8\n",
      "2  *  5  =  10\n",
      "2  *  6  =  12\n",
      "2  *  7  =  14\n",
      "2  *  8  =  16\n",
      "2  *  9  =  18\n",
      "2  *  10  =  20\n"
     ]
    }
   ],
   "source": [
    "num = 2\n",
    "\n",
    "for multiplier in range(1, 11):\n",
    "    print(num , \" * \", multiplier, \" = \", num * multiplier)"
   ]
  },
  {
   "cell_type": "code",
   "execution_count": 49,
   "metadata": {},
   "outputs": [],
   "source": [
    "mixed_list = [5544,\n",
    "              \"Hello\",\n",
    "              3j,\n",
    "              [\"Hello\",\"Python\",\"World\"],\n",
    "              {545, 4542}]"
   ]
  },
  {
   "cell_type": "code",
   "execution_count": 50,
   "metadata": {},
   "outputs": [
    {
     "name": "stdout",
     "output_type": "stream",
     "text": [
      "This is a mixed list,so we can expect multiple datatypes, one of them is :  <class 'int'>\n",
      "This is a mixed list,so we can expect multiple datatypes, one of them is :  <class 'str'>\n",
      "This is a mixed list,so we can expect multiple datatypes, one of them is :  <class 'complex'>\n",
      "This is a mixed list,so we can expect multiple datatypes, one of them is :  <class 'list'>\n",
      "This is a mixed list,so we can expect multiple datatypes, one of them is :  <class 'set'>\n"
     ]
    }
   ],
   "source": [
    "for i in mixed_list:\n",
    "    print(\"This is a mixed list,so we can expect multiple datatypes, one of them is : \",type(i))"
   ]
  },
  {
   "cell_type": "code",
   "execution_count": 51,
   "metadata": {},
   "outputs": [
    {
     "data": {
      "text/plain": [
       "{'Cotton', 'Leather', 'Nylon', 'Polyester', 'Silk'}"
      ]
     },
     "execution_count": 51,
     "metadata": {},
     "output_type": "execute_result"
    }
   ],
   "source": [
    "materials"
   ]
  },
  {
   "cell_type": "code",
   "execution_count": 54,
   "metadata": {},
   "outputs": [],
   "source": [
    "colors = [\"Red\", \"Yellow\", \"Blue\"]"
   ]
  },
  {
   "cell_type": "code",
   "execution_count": 58,
   "metadata": {},
   "outputs": [
    {
     "name": "stdout",
     "output_type": "stream",
     "text": [
      "Red <--> Silk\n",
      "Red <--> Cotton\n",
      "Red <--> Polyester\n",
      "Red <--> Nylon\n",
      "Red <--> Leather\n",
      "Yellow <--> Silk\n",
      "Yellow <--> Cotton\n",
      "Yellow <--> Polyester\n",
      "Yellow <--> Nylon\n",
      "Yellow <--> Leather\n",
      "Blue <--> Silk\n",
      "Blue <--> Cotton\n",
      "Blue <--> Polyester\n",
      "Blue <--> Nylon\n",
      "Blue <--> Leather\n"
     ]
    }
   ],
   "source": [
    "for c in colors:\n",
    "\n",
    "    for m in materials:\n",
    "    \n",
    "        print(c, \"<-->\", m)"
   ]
  },
  {
   "cell_type": "code",
   "execution_count": 59,
   "metadata": {},
   "outputs": [
    {
     "name": "stdout",
     "output_type": "stream",
     "text": [
      "n\n",
      "o\n",
      "h\n",
      "t\n",
      "y\n",
      "p\n"
     ]
    }
   ],
   "source": [
    "for i in reversed(\"python\"):\n",
    "    print(i)"
   ]
  },
  {
   "cell_type": "code",
   "execution_count": null,
   "metadata": {},
   "outputs": [],
   "source": []
  }
 ],
 "metadata": {
  "kernelspec": {
   "display_name": "Python 3",
   "language": "python",
   "name": "python3"
  },
  "language_info": {
   "codemirror_mode": {
    "name": "ipython",
    "version": 3
   },
   "file_extension": ".py",
   "mimetype": "text/x-python",
   "name": "python",
   "nbconvert_exporter": "python",
   "pygments_lexer": "ipython3",
   "version": "3.6.9"
  }
 },
 "nbformat": 4,
 "nbformat_minor": 2
}