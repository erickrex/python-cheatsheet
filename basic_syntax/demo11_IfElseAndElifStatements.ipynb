{
 "cells": [
  {
   "cell_type": "code",
   "execution_count": 43,
   "metadata": {},
   "outputs": [
    {
     "name": "stdout",
     "output_type": "stream",
     "text": [
      "This is printed because 2 is definitely less than 5\n"
     ]
    }
   ],
   "source": [
    "if 2 <= 5 or 7 >= 8:\n",
    "    print(\"This is printed because 2 is definitely less than 5\")"
   ]
  },
  {
   "cell_type": "code",
   "execution_count": 44,
   "metadata": {},
   "outputs": [
    {
     "name": "stdout",
     "output_type": "stream",
     "text": [
      "Savings for the month:  230\n"
     ]
    }
   ],
   "source": [
    "salary = 1000\n",
    "expenses = 770\n",
    "\n",
    "savings = 0\n",
    "\n",
    "if salary > expenses:\n",
    "    savings = salary - expenses\n",
    "    print(\"Savings for the month: \", savings)"
   ]
  },
  {
   "cell_type": "code",
   "execution_count": 67,
   "metadata": {},
   "outputs": [
    {
     "name": "stdout",
     "output_type": "stream",
     "text": [
      "Your type of transportation is a sports car\n"
     ]
    }
   ],
   "source": [
    "## TODO: Rerun this with each kind of input, a classic car, a sports car and a plane.\n",
    "## Then finally run it with a car not on the list e.g. \"Tata Nano\"\n",
    "\n",
    "transportation = \"Chiron\"\n",
    "\n",
    "if transportation in classic_cars:\n",
    "    print(\"Your type of transportation is a classic car\")\n",
    "    \n",
    "if transportation in sports_cars:\n",
    "    print(\"Your type of transportation is a sports car\")\n",
    "    \n",
    "if transportation in planes:\n",
    "    print(\"Your type of trasportation is a plane\")"
   ]
  },
  {
   "cell_type": "code",
   "execution_count": 68,
   "metadata": {},
   "outputs": [],
   "source": [
    "luxury_cars_and_their_horsepowers = {\"Phantom\" : 414,\n",
    "                                     \"Cullinan\" : 420,\n",
    "                                     \"Wraith\" : 465,\n",
    "                                     \"Ghost\" : 420,\n",
    "                                     \"Dawn\" : 420}"
   ]
  },
  {
   "cell_type": "code",
   "execution_count": 69,
   "metadata": {},
   "outputs": [
    {
     "name": "stdout",
     "output_type": "stream",
     "text": [
      "The Phantom is in the luxury_cars_and_their_horsepowers\n"
     ]
    }
   ],
   "source": [
    "if \"Phantom\" in luxury_cars_and_their_horsepowers:\n",
    "    print(\"The Phantom is in the luxury_cars_and_their_horsepowers\")"
   ]
  },
  {
   "cell_type": "code",
   "execution_count": 70,
   "metadata": {},
   "outputs": [
    {
     "name": "stdout",
     "output_type": "stream",
     "text": [
      "The Maybach is not in luxury_cars_and_their_horsepowers\n"
     ]
    }
   ],
   "source": [
    "if \"Maybach\" not in luxury_cars_and_their_horsepowers:\n",
    "    print(\"The Maybach is not in luxury_cars_and_their_horsepowers\")"
   ]
  },
  {
   "cell_type": "code",
   "execution_count": 77,
   "metadata": {},
   "outputs": [],
   "source": [
    "camera_brands = {\"Canon\",\n",
    "                 \"Nikon\",\n",
    "                 \"Sony\",\n",
    "                 \"Panasonic\",\n",
    "                 \"Pentax\",\n",
    "                 \"Olympus\"}"
   ]
  },
  {
   "cell_type": "code",
   "execution_count": 78,
   "metadata": {},
   "outputs": [
    {
     "data": {
      "text/plain": [
       "{'Canon', 'Nikon', 'Olympus', 'Panasonic', 'Pentax', 'Sony'}"
      ]
     },
     "execution_count": 78,
     "metadata": {},
     "output_type": "execute_result"
    }
   ],
   "source": [
    "camera_brands"
   ]
  },
  {
   "cell_type": "code",
   "execution_count": 81,
   "metadata": {},
   "outputs": [
    {
     "name": "stdout",
     "output_type": "stream",
     "text": [
      "What camera brand do you like? \n",
      "Leica\n",
      "Great, That camera brand is in the set already\n",
      "Camera brands:  {'Sony', 'Panasonic', 'Leica', 'Nikon', 'Pentax', 'Canon', 'Olympus'}\n"
     ]
    }
   ],
   "source": [
    "## TODO: Run with \"Leica\" and then \"Sony\"\n",
    "\n",
    "camera_input = input(\"What camera brand do you like? \\n\")\n",
    "\n",
    "if camera_input in camera_brands:\n",
    "    print(\"Great, That camera brand is in the set already\")\n",
    "else:\n",
    "    print(\"Uh... Just wait, I'll add that to my set\")\n",
    "    camera_brands.add(camera_input)\n",
    "\n",
    "print(\"Camera brands: \", camera_brands)"
   ]
  },
  {
   "cell_type": "code",
   "execution_count": 86,
   "metadata": {},
   "outputs": [
    {
     "name": "stdout",
     "output_type": "stream",
     "text": [
      "You did great at math! 90\n"
     ]
    }
   ],
   "source": [
    "## TODO: Run with 20, 40, 60, 90\n",
    "\n",
    "math_score = 90\n",
    "\n",
    "if math_score < 20:\n",
    "    print(\"I'm afraid that is not a great score\", math_score)\n",
    "\n",
    "elif math_score < 50:\n",
    "    print(\"Oh you can definitely do better than this\", math_score)\n",
    "\n",
    "elif math_score < 80:\n",
    "    print(\"Ahh you're close to the highest grade you can get\", math_score)\n",
    "\n",
    "elif math_score < 100:\n",
    "    print(\"You did great at math!\", math_score)    "
   ]
  },
  {
   "cell_type": "code",
   "execution_count": 89,
   "metadata": {},
   "outputs": [
    {
     "name": "stdout",
     "output_type": "stream",
     "text": [
      "You did great at math! 90\n"
     ]
    }
   ],
   "source": [
    "## TODO: Run with 90, 20\n",
    "\n",
    "math_score = 90\n",
    "\n",
    "if math_score < 100:\n",
    "    print(\"You did great at math!\", math_score)   \n",
    "\n",
    "elif math_score < 80:\n",
    "    print(\"Ahh you're close to the highest grade you can get\", math_score)\n",
    "\n",
    "elif math_score < 50:\n",
    "    print(\"Oh you can definitely do better than this\", math_score)\n",
    "\n",
    "elif math_score < 20:\n",
    "    print(\"I'm afraid that is not a great score\", math_score)"
   ]
  },
  {
   "cell_type": "code",
   "execution_count": 90,
   "metadata": {},
   "outputs": [
    {
     "name": "stdout",
     "output_type": "stream",
     "text": [
      "Which book do you like ? \n",
      "Geronimo Stilton\n",
      "I like it too!\n"
     ]
    }
   ],
   "source": [
    "## TODO: Run with \"Geronimo Stilton\", \"Harry Potter\" and \"Timmy Failure\"\n",
    "\n",
    "book_input = input(\"Which book do you like ? \\n\")\n",
    "\n",
    "if book_input == \"Geronimo Stilton\":\n",
    "    print(\"I like it too!\")\n",
    "    \n",
    "elif book_input == \"Dairy of a Wimpy Kid\":\n",
    "    print(\"It's one of my favorites!\")\n",
    "    \n",
    "elif book_input == \"Harry Potter\":\n",
    "    print(\"I love it!\")\n",
    "    \n",
    "else:\n",
    "    print(\"I guess that isn't too bad either\")"
   ]
  }
 ],
 "metadata": {
  "kernelspec": {
   "display_name": "Python 3",
   "language": "python",
   "name": "python3"
  },
  "language_info": {
   "codemirror_mode": {
    "name": "ipython",
    "version": 3
   },
   "file_extension": ".py",
   "mimetype": "text/x-python",
   "name": "python",
   "nbconvert_exporter": "python",
   "pygments_lexer": "ipython3",
   "version": "3.6.9"
  }
 },
 "nbformat": 4,
 "nbformat_minor": 2
}