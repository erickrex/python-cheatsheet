{
 "cells": [
  {
   "cell_type": "code",
   "execution_count": 13,
   "metadata": {},
   "outputs": [
    {
     "name": "stdout",
     "output_type": "stream",
     "text": [
      "What day is it? Wednesday\n",
      "Checking:  Sunday\n",
      "Checking:  Monday\n",
      "Checking:  Tuesday\n",
      "Checking:  Wednesday\n",
      "This is a valid day of the week!\n"
     ]
    }
   ],
   "source": [
    "## TODO: Run with \"Booday\" and \"Wednesday\"\n",
    "\n",
    "days = [\"Sunday\", \"Monday\", \"Tuesday\", \"Wednesday\", \"Thursday\", \"Friday\", \"Saturday\"]\n",
    "\n",
    "day_input = input(\"What day is it? \")\n",
    "\n",
    "for day in days:\n",
    "    print(\"Checking: \", day)\n",
    "    \n",
    "    if day == day_input:\n",
    "        print(\"This is a valid day of the week!\")\n",
    "        break\n",
    "        \n",
    "else:\n",
    "    print(\"This is not a valid day of the week\")"
   ]
  },
  {
   "cell_type": "code",
   "execution_count": 17,
   "metadata": {},
   "outputs": [
    {
     "name": "stdout",
     "output_type": "stream",
     "text": [
      "Checking... 100\n",
      "Not a multiple of 3:-(\n",
      "Checking... 34\n",
      "Not a multiple of 3:-(\n",
      "Checking... 67\n",
      "Not a multiple of 3:-(\n",
      "Checking... 89\n",
      "Not a multiple of 3:-(\n",
      "Checking... 78\n",
      "Multiple of 3 - yipee!\n"
     ]
    }
   ],
   "source": [
    "numbers_list = [100, 34, 67, 89, 78, 21, 36]\n",
    "\n",
    "for num in numbers_list:\n",
    "    \n",
    "    print(\"Checking...\", num)\n",
    "    \n",
    "    if num % 3 == 0:\n",
    "        print(\"Multiple of 3 - yipee!\")\n",
    "        break\n",
    "    \n",
    "    print(\"Not a multiple of 3:-(\")"
   ]
  },
  {
   "cell_type": "code",
   "execution_count": 30,
   "metadata": {},
   "outputs": [],
   "source": [
    "for i in range(10, 21):\n",
    "    pass"
   ]
  },
  {
   "cell_type": "code",
   "execution_count": 32,
   "metadata": {},
   "outputs": [],
   "source": [
    "for i in range(10, 21):\n",
    "    break\n",
    "\n",
    "    print(i)"
   ]
  },
  {
   "cell_type": "code",
   "execution_count": 33,
   "metadata": {},
   "outputs": [],
   "source": [
    "for i in range(10, 21):\n",
    "    continue\n",
    "\n",
    "    print(i)"
   ]
  },
  {
   "cell_type": "code",
   "execution_count": 31,
   "metadata": {},
   "outputs": [
    {
     "name": "stdout",
     "output_type": "stream",
     "text": [
      "10\n",
      "11\n",
      "12\n",
      "13\n",
      "14\n",
      "15\n",
      "16\n",
      "17\n",
      "18\n",
      "19\n",
      "20\n"
     ]
    }
   ],
   "source": [
    "for i in range(10, 21):\n",
    "    pass\n",
    "\n",
    "    print(i)"
   ]
  },
  {
   "cell_type": "code",
   "execution_count": 35,
   "metadata": {},
   "outputs": [
    {
     "name": "stdout",
     "output_type": "stream",
     "text": [
      "10\n",
      "11\n",
      "12\n",
      "17\n",
      "18\n",
      "19\n",
      "20\n"
     ]
    }
   ],
   "source": [
    "for i in range(10, 21):\n",
    "    if i >= 13 and i <= 16:\n",
    "        pass\n",
    "    else:\n",
    "        print(i)"
   ]
  },
  {
   "cell_type": "code",
   "execution_count": 37,
   "metadata": {},
   "outputs": [],
   "source": [
    "colors = [\"Red\", \"Green\", \"Blue\", \"Yellow\", \"Purple\", \"Orange\"]"
   ]
  },
  {
   "cell_type": "code",
   "execution_count": 38,
   "metadata": {},
   "outputs": [
    {
     "name": "stdout",
     "output_type": "stream",
     "text": [
      "Red\n",
      "Green\n",
      "Blue\n",
      "Do nothing\n",
      "Yellow\n",
      "About to break!\n"
     ]
    }
   ],
   "source": [
    "for color in colors:\n",
    "    print(color)\n",
    "\n",
    "    if color == \"Blue\":\n",
    "        print(\"Do nothing\")\n",
    "        pass\n",
    " \n",
    "    if color == \"Red\":\n",
    "        continue\n",
    "        \n",
    "    if color == \"Yellow\":\n",
    "        print(\"About to break!\")\n",
    "        break"
   ]
  },
  {
   "cell_type": "code",
   "execution_count": null,
   "metadata": {},
   "outputs": [],
   "source": []
  }
 ],
 "metadata": {
  "kernelspec": {
   "display_name": "Python 3",
   "language": "python",
   "name": "python3"
  },
  "language_info": {
   "codemirror_mode": {
    "name": "ipython",
    "version": 3
   },
   "file_extension": ".py",
   "mimetype": "text/x-python",
   "name": "python",
   "nbconvert_exporter": "python",
   "pygments_lexer": "ipython3",
   "version": "3.6.9"
  }
 },
 "nbformat": 4,
 "nbformat_minor": 2
}